{
 "cells": [
  {
   "cell_type": "code",
   "execution_count": 1,
   "id": "badff6b3",
   "metadata": {},
   "outputs": [],
   "source": [
    "from os.path import join\n",
    "import pandas as pd\n",
    "import xlsxwriter\n",
    "import openpyxl\n",
    "import os\n",
    "import numpy as np\n",
    "import itertools\n",
    "import itertools as it\n",
    "from pandas import Series, ExcelWriter\n",
    "import plotly.express as px\n",
    "import csv"
   ]
  },
  {
   "cell_type": "code",
   "execution_count": 30,
   "id": "d9c30dbb",
   "metadata": {},
   "outputs": [],
   "source": [
    "import sys  \n",
    "sys.path.insert(0, 'C:/Users/morts/Documents/TAU/PyCode/my_packages')\n",
    "import paga_res\n",
    "import sliding_window"
   ]
  },
  {
   "cell_type": "markdown",
   "id": "74d11ab0",
   "metadata": {},
   "source": [
    "#### Variables"
   ]
  },
  {
   "cell_type": "code",
   "execution_count": 4,
   "id": "66dc806f",
   "metadata": {},
   "outputs": [],
   "source": [
    "top_path = 'C:/Users/morts/Documents/TAU/Manifold_Project/Data/SPECIFIC_PAPERS/'\n",
    "\n",
    "db_path1 = top_path + 'Ravel_et_al.2013/Hiseq_sequencing/Ravel2013_hiseq_MT_16052023.xlsx'\n",
    "db_path2 = top_path + 'Ravel_et_al.2013/454_Sequencing/Ravel2013_pyro_MT_16052023'\n",
    "\n",
    "rav_path = 'C:/Users/morts/Documents/TAU/Manifold_Project/Data/SPECIFIC_PAPERS/Ravel_et_al.2013/454_Sequencing/ORIG_paper/'\n",
    "rav_file = rav_path + 'abundance_table_Ravel2013_ORIG.xlsx'\n",
    "\n",
    "date = '16052023'"
   ]
  },
  {
   "cell_type": "markdown",
   "id": "9fbbeb51",
   "metadata": {},
   "source": [
    "#### Load data"
   ]
  },
  {
   "cell_type": "code",
   "execution_count": 46,
   "id": "5e6a6f46",
   "metadata": {},
   "outputs": [
    {
     "name": "stdout",
     "output_type": "stream",
     "text": [
      "(3330, 11)\n",
      "(1573, 17)\n",
      "(1756, 11)\n"
     ]
    }
   ],
   "source": [
    "hiseq = pd.read_excel(db_path1, sheet_name = 'meta', index_col = 0)\n",
    "pyro = pd.read_excel(db_path2, sheet_name = 'meta', index_col = 0)\n",
    "rav_meta = pd.read_excel(rav_file, sheet_name = 'meta', index_col = 0)\n",
    "print(hiseq.shape)\n",
    "print(pyro.shape)\n",
    "print(orig.shape)"
   ]
  },
  {
   "cell_type": "markdown",
   "id": "d8d19240",
   "metadata": {},
   "source": [
    "#### Order orig meta"
   ]
  },
  {
   "cell_type": "code",
   "execution_count": 47,
   "id": "c0f5e269",
   "metadata": {},
   "outputs": [],
   "source": [
    "def get_sub(row):\n",
    "    if len(str(row)) == 1:\n",
    "        return 'UAB00' + str(row)\n",
    "    elif len(str(row)) == 2:\n",
    "        return 'UAB0' + str(row)\n",
    "    elif len(str(row)) == 3:\n",
    "        return 'UAB' + str(row)"
   ]
  },
  {
   "cell_type": "code",
   "execution_count": 48,
   "id": "701e17d5",
   "metadata": {},
   "outputs": [],
   "source": [
    "rav_meta['subjectID'] = rav_meta['subjectID'].apply(lambda row: get_sub(row))\n",
    "rav_meta['DIA_WEEK'] = rav_meta['DIA_WEEK'].apply(str)\n",
    "rav_meta['DIA_DAY'] = rav_meta['DIA_DAY'].apply(str)\n",
    "rav_meta['sampleID'] = rav_meta.apply(lambda x: '_'.join(x[['subjectID', 'DIA_WEEK', 'DIA_DAY']]),axis = 1)\n",
    "rav_meta1 = rav_meta.set_index('sampleID', inplace = False)"
   ]
  },
  {
   "cell_type": "code",
   "execution_count": 49,
   "id": "f32b12cb",
   "metadata": {},
   "outputs": [
    {
     "name": "stdout",
     "output_type": "stream",
     "text": [
      "(1573, 20)\n"
     ]
    }
   ],
   "source": [
    "pyro = pyro.rename(columns = {'SampleID': 'sampleID'})\n",
    "pyro = pd.merge(pyro, rav_meta1[['ABV', 'SBV', 'BV_medication']], left_on = 'sampleID', right_index = True)\n",
    "print(pyro.shape)"
   ]
  },
  {
   "cell_type": "markdown",
   "id": "a5929797",
   "metadata": {},
   "source": [
    "#### Filter hiseq df's"
   ]
  },
  {
   "cell_type": "code",
   "execution_count": 51,
   "id": "ae6c662a",
   "metadata": {},
   "outputs": [
    {
     "name": "stdout",
     "output_type": "stream",
     "text": [
      "(2024, 11)\n"
     ]
    }
   ],
   "source": [
    "diff_subjects = set(hiseq.subjectID.unique()) - set(pyro.subjectID.unique())\n",
    "filt_hiseq = hiseq[hiseq['subjectID'].isin(diff_subjects)]\n",
    "print(filt_hiseq.shape)"
   ]
  },
  {
   "cell_type": "code",
   "execution_count": 52,
   "id": "b75d33e6",
   "metadata": {},
   "outputs": [
    {
     "name": "stdout",
     "output_type": "stream",
     "text": [
      "(3412, 278)\n",
      "(1573, 82)\n"
     ]
    }
   ],
   "source": [
    "hiseq_df = pd.read_excel(db_path1, sheet_name = 'abundance', index_col = 0)\n",
    "pyro_df = pd.read_excel(db_path2, sheet_name = 'abundance', index_col = 0)\n",
    "print(hiseq_df.shape)\n",
    "print(pyro_df.shape)"
   ]
  },
  {
   "cell_type": "code",
   "execution_count": 53,
   "id": "cfd0de56",
   "metadata": {},
   "outputs": [
    {
     "name": "stdout",
     "output_type": "stream",
     "text": [
      "(2024, 278)\n"
     ]
    }
   ],
   "source": [
    "filt_hiseq_df = hiseq_df.loc[filt_hiseq.index]\n",
    "print(filt_hiseq_df.shape)"
   ]
  },
  {
   "cell_type": "code",
   "execution_count": 54,
   "id": "b3ae1b18",
   "metadata": {},
   "outputs": [
    {
     "name": "stderr",
     "output_type": "stream",
     "text": [
      "C:\\Users\\morts\\miniconda3\\envs\\py37\\lib\\site-packages\\ipykernel_launcher.py:1: SettingWithCopyWarning: \n",
      "A value is trying to be set on a copy of a slice from a DataFrame.\n",
      "Try using .loc[row_indexer,col_indexer] = value instead\n",
      "\n",
      "See the caveats in the documentation: https://pandas.pydata.org/pandas-docs/stable/user_guide/indexing.html#returning-a-view-versus-a-copy\n",
      "  \"\"\"Entry point for launching an IPython kernel.\n"
     ]
    }
   ],
   "source": [
    "filt_hiseq['db'] = 'temp_hiseq'\n",
    "pyro['db'] = 'temp_pyro'"
   ]
  },
  {
   "cell_type": "markdown",
   "id": "64a64d6c",
   "metadata": {},
   "source": [
    "#### Merge"
   ]
  },
  {
   "cell_type": "code",
   "execution_count": 55,
   "id": "e75310c6",
   "metadata": {},
   "outputs": [
    {
     "name": "stdout",
     "output_type": "stream",
     "text": [
      "(3597, 296)\n"
     ]
    }
   ],
   "source": [
    "both_df = pd.concat([filt_hiseq_df, pyro_df])\n",
    "both_df.fillna(0, inplace = True)\n",
    "print(both_df.shape)"
   ]
  },
  {
   "cell_type": "code",
   "execution_count": 56,
   "id": "60294f9f",
   "metadata": {},
   "outputs": [
    {
     "name": "stdout",
     "output_type": "stream",
     "text": [
      "(3597, 22)\n"
     ]
    }
   ],
   "source": [
    "both_meta = pd.concat([filt_hiseq, pyro])\n",
    "print(both_meta.shape)"
   ]
  },
  {
   "cell_type": "code",
   "execution_count": 57,
   "id": "153a1203",
   "metadata": {},
   "outputs": [
    {
     "name": "stderr",
     "output_type": "stream",
     "text": [
      "C:\\Users\\morts\\miniconda3\\envs\\py37\\lib\\site-packages\\xlsxwriter\\workbook.py:338: UserWarning: Calling close() on already closed file.\n",
      "  warn(\"Calling close() on already closed file.\")\n"
     ]
    }
   ],
   "source": [
    "dict_res = {'abundance': both_df, 'meta': both_meta}\n",
    "save_path = top_path + 'Ravel_et_al.2013/' + 'Ravel2013_MT_16052023.xlsx'\n",
    "paga_res.save_excel(save_path, dict_res)"
   ]
  }
 ],
 "metadata": {
  "kernelspec": {
   "display_name": "Python 3",
   "language": "python",
   "name": "python3"
  },
  "language_info": {
   "codemirror_mode": {
    "name": "ipython",
    "version": 3
   },
   "file_extension": ".py",
   "mimetype": "text/x-python",
   "name": "python",
   "nbconvert_exporter": "python",
   "pygments_lexer": "ipython3",
   "version": "3.7.10"
  }
 },
 "nbformat": 4,
 "nbformat_minor": 5
}
