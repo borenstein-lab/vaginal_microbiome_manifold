{
 "cells": [
  {
   "cell_type": "code",
   "execution_count": 23,
   "id": "9f4650ab",
   "metadata": {},
   "outputs": [],
   "source": [
    "from os.path import join\n",
    "import pandas as pd\n",
    "import xlsxwriter\n",
    "import openpyxl\n",
    "import os\n",
    "import numpy as np\n",
    "import itertools\n",
    "import itertools as it\n",
    "from pandas import Series, ExcelWriter\n",
    "import csv\n",
    "from skbio.stats.composition import clr\n",
    "import plotly.express as px\n",
    "import matplotlib.pyplot as plt"
   ]
  },
  {
   "cell_type": "code",
   "execution_count": 24,
   "id": "f5392f90",
   "metadata": {},
   "outputs": [],
   "source": [
    "import sys  \n",
    "sys.path.insert(0, '../my_packages')\n",
    "import paga_res\n",
    "import sliding_window"
   ]
  },
  {
   "cell_type": "markdown",
   "id": "71424929",
   "metadata": {},
   "source": [
    "#### Variables"
   ]
  },
  {
   "cell_type": "code",
   "execution_count": 25,
   "id": "ee7d5a22",
   "metadata": {},
   "outputs": [],
   "source": [
    "top_path = '../SPECIFIC_PAPERS/'\n",
    "\n",
    "db_path1 = top_path + 'Ravel_et_al.2013/Hiseq_sequencing/'\n",
    "db_path2 = top_path + 'Ravel_et_al.2013/454_Sequencing/'\n",
    "db_path3 = top_path + 'Carter_et_al.2022/'\n",
    "db_path4 = top_path + 'Ravel_et_al.2011/'\n",
    "db_path5 = top_path + 'Serrano_et_al.2019/noDuplicatedID/'\n",
    "db_path6 = top_path + 'Srinivasan_et_al.2012/Srinivasan2012_MT_25012023_BVstatus.xlsx'\n",
    "\n",
    "db_lst = [db_path1, db_path2, db_path3, db_path4, db_path5, db_path6]\n",
    "\n",
    "date = '16052023'"
   ]
  },
  {
   "cell_type": "code",
   "execution_count": 26,
   "id": "9aadcfd2",
   "metadata": {},
   "outputs": [],
   "source": [
    "valencia_cols = ['read_count', 'I-A_sim', 'I-B_sim', 'II_sim', 'III-A_sim', 'III-B_sim', 'IV-A_sim', 'IV-B_sim', 'IV-C0_sim', \n",
    "                     'IV-C1_sim', 'IV-C2_sim', 'IV-C3_sim', 'IV-C4_sim', 'V_sim', 'subCST', 'score', 'CST']"
   ]
  },
  {
   "cell_type": "markdown",
   "id": "6dc24977",
   "metadata": {},
   "source": [
    "#### Functions"
   ]
  },
  {
   "cell_type": "code",
   "execution_count": 27,
   "id": "50e82e5e",
   "metadata": {},
   "outputs": [],
   "source": [
    "def get_valencia_res(path): \n",
    "    out_file = path + 'DADA2_results/valencia_df_' + date + '_res.csv'\n",
    "    valencia_df = pd.read_csv(out_file, index_col = 0)\n",
    "    \n",
    "    return valencia_df\n",
    "\n",
    "def get_meta(path):\n",
    "    meta = pd.read_excel(path + 'meta_MT.xlsx', index_col = 0)\n",
    "    \n",
    "    return meta\n",
    "\n",
    "def all_func(path, sra, save_filename):\n",
    "    ## Load data\n",
    "    valencia_df = get_valencia_res(path)\n",
    "    meta = pd.read_excel(path + 'meta_MT.xlsx', index_col = 0)\n",
    "    ord_meta = meta.copy()\n",
    "    \n",
    "    ## Merge VALENCIA results\n",
    "    ord_meta = ord_meta.join(valencia_df[['subCST', 'CST', 'score']])\n",
    "    \n",
    "    ## Order abun df\n",
    "    df = valencia_df.drop(valencia_cols, axis = 1)\n",
    "    abun_df = df.apply(lambda x: (x / x.sum()) * 100 , axis = 1)\n",
    "   \n",
    "    ## Save\n",
    "    dict_res = {'abundance': abun_df, 'meta': ord_meta}\n",
    "    save_path = path + save_filename\n",
    "    paga_res.save_excel(save_path, dict_res)\n",
    "    \n",
    "    return dict_res\n",
    "    "
   ]
  },
  {
   "cell_type": "markdown",
   "id": "58c8c5c4",
   "metadata": {},
   "source": [
    "#### Run"
   ]
  },
  {
   "cell_type": "code",
   "execution_count": 10,
   "id": "04d689f4",
   "metadata": {},
   "outputs": [],
   "source": [
    "save_lst = []"
   ]
  },
  {
   "cell_type": "code",
   "execution_count": null,
   "id": "83abd0c0",
   "metadata": {},
   "outputs": [],
   "source": [
    "dict_lst = []\n",
    "for i, path in enumerate(db_lst):\n",
    "    dict_res = all_func(db_lst[i], sra_lst[i], save_lst[i])\n",
    "    dict_lst.append(dict_res)\n",
    "    print('***')"
   ]
  }
 ],
 "metadata": {
  "kernelspec": {
   "display_name": "Python 3",
   "language": "python",
   "name": "python3"
  },
  "language_info": {
   "codemirror_mode": {
    "name": "ipython",
    "version": 3
   },
   "file_extension": ".py",
   "mimetype": "text/x-python",
   "name": "python",
   "nbconvert_exporter": "python",
   "pygments_lexer": "ipython3",
   "version": "3.7.10"
  }
 },
 "nbformat": 4,
 "nbformat_minor": 5
}
