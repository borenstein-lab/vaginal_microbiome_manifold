{
 "cells": [
  {
   "cell_type": "code",
   "execution_count": 1,
   "id": "a513ed02",
   "metadata": {},
   "outputs": [],
   "source": [
    "from sklearn.preprocessing import StandardScaler\n",
    "from sklearn.decomposition import PCA\n",
    "from sklearn.manifold import MDS\n",
    "from sklearn.manifold import TSNE\n",
    "from skbio.diversity import beta_diversity\n",
    "from skbio.stats.ordination import pcoa\n",
    "import umap\n",
    "from umap.umap_ import nearest_neighbors\n",
    "from os.path import join\n",
    "import pandas as pd\n",
    "import xlsxwriter\n",
    "import openpyxl\n",
    "import os\n",
    "import numpy as np\n",
    "import itertools\n",
    "import itertools as it\n",
    "import kaleido\n",
    "from pandas import Series, ExcelWriter\n",
    "import scipy.io as sio\n",
    "import scipy\n",
    "import plotly.graph_objects as go\n",
    "import plotly.io as pio\n",
    "import plotly.express as px\n",
    "from IPython.display import display, HTML\n",
    "from fpdf import FPDF\n",
    "import scanpy as sc \n",
    "from anndata import AnnData\n",
    "# from types import MappingProxyType\n",
    "# from typing import mapping"
   ]
  },
  {
   "cell_type": "markdown",
   "id": "73eb1bc6",
   "metadata": {},
   "source": [
    "#### Variables"
   ]
  },
  {
   "cell_type": "code",
   "execution_count": 4,
   "id": "3ea93ba8",
   "metadata": {},
   "outputs": [],
   "source": [
    "place = \"home\""
   ]
  },
  {
   "cell_type": "code",
   "execution_count": 5,
   "id": "496b70bd",
   "metadata": {},
   "outputs": [],
   "source": [
    "if place == \"lab\":\n",
    "    cros_file_path = \"D:/user/OneDrive/Mor_TAU/BV_project/Data/abundance_tables/\"\n",
    "elif place == \"home\":\n",
    "    cros_file_path = \"C:/Users/morts/Documents/TAU/BV_Project/Pseudo_time_analysis/Ravel11/PCA_noTransitions_10012022/\"\n",
    "\n",
    "cros_file_name = \"ps_results_10012022\"\n",
    "cros_sheet_name_data = 'abundance_pseudo'\n",
    "cros_sheet_name_meta = 'metadata_pseudo'\n",
    "cros_sheet_name_plot = 'graph_pseudo'\n",
    "\n",
    "if place == \"lab\":\n",
    "    all_file_path = \"D:/user/OneDrive/Mor_TAU/BV_project/Data/abundance_tables/\"\n",
    "elif place == \"home\":\n",
    "    all_file_path = \"C:/Users/morts/Documents/TAU/BV_Project/Data/abundance_tables/\"\n",
    "\n",
    "temp_file_name = \"abundance_table_Gajer2012\"\n",
    "temp_sheet_name_data = 'for_PCA1'\n",
    "temp_sheet_name_meta = 'for_PCA_metadata'\n",
    "\n",
    "pca_file = 'temp_projected_04042022'\n",
    "temp_pca_sheet_name = 'pca_cross_projected'\n",
    "cros_pca_sheet_name = 'pca_cross_orig'\n",
    "\n",
    "##\n",
    "pca_cols = ['PCA' + str(i) for i in range(1, 51)] #['PCA1', 'PCA2', 'PCA3']"
   ]
  },
  {
   "cell_type": "code",
   "execution_count": 6,
   "id": "1f3443b5",
   "metadata": {},
   "outputs": [],
   "source": [
    "n_pcs = 20\n",
    "n_neighbors = 8"
   ]
  },
  {
   "cell_type": "markdown",
   "id": "c5fad25d",
   "metadata": {},
   "source": [
    "#### Load data"
   ]
  },
  {
   "cell_type": "code",
   "execution_count": 7,
   "id": "8b133397",
   "metadata": {},
   "outputs": [],
   "source": [
    "def get_data(all_file_path, file_name, sheet_name):\n",
    "    file_full_name = all_file_path + file_name + '.xlsx'        \n",
    "    df = pd.read_excel(file_full_name, sheet_name = sheet_name, index_col = 0)\n",
    "    \n",
    "    if \"subjectID\" in df.columns:\n",
    "        df[\"subjectID\"] = df[\"subjectID\"].astype(object)\n",
    "        \n",
    "    return df"
   ]
  },
  {
   "cell_type": "code",
   "execution_count": 8,
   "id": "4218f958",
   "metadata": {},
   "outputs": [
    {
     "name": "stderr",
     "output_type": "stream",
     "text": [
      "C:\\Users\\morts\\miniconda3\\envs\\py37\\lib\\site-packages\\openpyxl\\worksheet\\_reader.py:312: UserWarning: Unknown extension is not supported and will be removed\n",
      "  warn(msg)\n"
     ]
    },
    {
     "ename": "FileNotFoundError",
     "evalue": "[Errno 2] No such file or directory: 'C:/Users/morts/Documents/TAU/BV_Project/Pseudo_time_analysis/Ravel11/PCA_noTransitions_10012022/temp_projected_04042022.xlsx'",
     "output_type": "error",
     "traceback": [
      "\u001b[1;31m---------------------------------------------------------------------------\u001b[0m",
      "\u001b[1;31mFileNotFoundError\u001b[0m                         Traceback (most recent call last)",
      "\u001b[1;32m<ipython-input-8-5b83b621773e>\u001b[0m in \u001b[0;36m<module>\u001b[1;34m\u001b[0m\n\u001b[0;32m     15\u001b[0m \u001b[1;33m\u001b[0m\u001b[0m\n\u001b[0;32m     16\u001b[0m \u001b[1;31m## PCA DF\u001b[0m\u001b[1;33m\u001b[0m\u001b[1;33m\u001b[0m\u001b[1;33m\u001b[0m\u001b[0m\n\u001b[1;32m---> 17\u001b[1;33m \u001b[0mcros_pca\u001b[0m \u001b[1;33m=\u001b[0m \u001b[0mget_data\u001b[0m\u001b[1;33m(\u001b[0m\u001b[0mcros_file_path\u001b[0m\u001b[1;33m,\u001b[0m \u001b[0mpca_file\u001b[0m\u001b[1;33m,\u001b[0m \u001b[0mcros_pca_sheet_name\u001b[0m\u001b[1;33m)\u001b[0m\u001b[1;33m\u001b[0m\u001b[1;33m\u001b[0m\u001b[0m\n\u001b[0m\u001b[0;32m     18\u001b[0m \u001b[0mtemp_pca\u001b[0m \u001b[1;33m=\u001b[0m \u001b[0mget_data\u001b[0m\u001b[1;33m(\u001b[0m\u001b[0mcros_file_path\u001b[0m\u001b[1;33m,\u001b[0m \u001b[0mpca_file\u001b[0m\u001b[1;33m,\u001b[0m \u001b[0mtemp_pca_sheet_name\u001b[0m\u001b[1;33m)\u001b[0m\u001b[1;33m\u001b[0m\u001b[1;33m\u001b[0m\u001b[0m\n",
      "\u001b[1;32m<ipython-input-7-d3d227d756e8>\u001b[0m in \u001b[0;36mget_data\u001b[1;34m(all_file_path, file_name, sheet_name)\u001b[0m\n\u001b[0;32m      1\u001b[0m \u001b[1;32mdef\u001b[0m \u001b[0mget_data\u001b[0m\u001b[1;33m(\u001b[0m\u001b[0mall_file_path\u001b[0m\u001b[1;33m,\u001b[0m \u001b[0mfile_name\u001b[0m\u001b[1;33m,\u001b[0m \u001b[0msheet_name\u001b[0m\u001b[1;33m)\u001b[0m\u001b[1;33m:\u001b[0m\u001b[1;33m\u001b[0m\u001b[1;33m\u001b[0m\u001b[0m\n\u001b[0;32m      2\u001b[0m     \u001b[0mfile_full_name\u001b[0m \u001b[1;33m=\u001b[0m \u001b[0mall_file_path\u001b[0m \u001b[1;33m+\u001b[0m \u001b[0mfile_name\u001b[0m \u001b[1;33m+\u001b[0m \u001b[1;34m'.xlsx'\u001b[0m\u001b[1;33m\u001b[0m\u001b[1;33m\u001b[0m\u001b[0m\n\u001b[1;32m----> 3\u001b[1;33m     \u001b[0mdf\u001b[0m \u001b[1;33m=\u001b[0m \u001b[0mpd\u001b[0m\u001b[1;33m.\u001b[0m\u001b[0mread_excel\u001b[0m\u001b[1;33m(\u001b[0m\u001b[0mfile_full_name\u001b[0m\u001b[1;33m,\u001b[0m \u001b[0msheet_name\u001b[0m \u001b[1;33m=\u001b[0m \u001b[0msheet_name\u001b[0m\u001b[1;33m,\u001b[0m \u001b[0mindex_col\u001b[0m \u001b[1;33m=\u001b[0m \u001b[1;36m0\u001b[0m\u001b[1;33m)\u001b[0m\u001b[1;33m\u001b[0m\u001b[1;33m\u001b[0m\u001b[0m\n\u001b[0m\u001b[0;32m      4\u001b[0m \u001b[1;33m\u001b[0m\u001b[0m\n\u001b[0;32m      5\u001b[0m     \u001b[1;32mif\u001b[0m \u001b[1;34m\"subjectID\"\u001b[0m \u001b[1;32min\u001b[0m \u001b[0mdf\u001b[0m\u001b[1;33m.\u001b[0m\u001b[0mcolumns\u001b[0m\u001b[1;33m:\u001b[0m\u001b[1;33m\u001b[0m\u001b[1;33m\u001b[0m\u001b[0m\n",
      "\u001b[1;32m~\\miniconda3\\envs\\py37\\lib\\site-packages\\pandas\\util\\_decorators.py\u001b[0m in \u001b[0;36mwrapper\u001b[1;34m(*args, **kwargs)\u001b[0m\n\u001b[0;32m    297\u001b[0m                 )\n\u001b[0;32m    298\u001b[0m                 \u001b[0mwarnings\u001b[0m\u001b[1;33m.\u001b[0m\u001b[0mwarn\u001b[0m\u001b[1;33m(\u001b[0m\u001b[0mmsg\u001b[0m\u001b[1;33m,\u001b[0m \u001b[0mFutureWarning\u001b[0m\u001b[1;33m,\u001b[0m \u001b[0mstacklevel\u001b[0m\u001b[1;33m=\u001b[0m\u001b[0mstacklevel\u001b[0m\u001b[1;33m)\u001b[0m\u001b[1;33m\u001b[0m\u001b[1;33m\u001b[0m\u001b[0m\n\u001b[1;32m--> 299\u001b[1;33m             \u001b[1;32mreturn\u001b[0m \u001b[0mfunc\u001b[0m\u001b[1;33m(\u001b[0m\u001b[1;33m*\u001b[0m\u001b[0margs\u001b[0m\u001b[1;33m,\u001b[0m \u001b[1;33m**\u001b[0m\u001b[0mkwargs\u001b[0m\u001b[1;33m)\u001b[0m\u001b[1;33m\u001b[0m\u001b[1;33m\u001b[0m\u001b[0m\n\u001b[0m\u001b[0;32m    300\u001b[0m \u001b[1;33m\u001b[0m\u001b[0m\n\u001b[0;32m    301\u001b[0m         \u001b[1;32mreturn\u001b[0m \u001b[0mwrapper\u001b[0m\u001b[1;33m\u001b[0m\u001b[1;33m\u001b[0m\u001b[0m\n",
      "\u001b[1;32m~\\miniconda3\\envs\\py37\\lib\\site-packages\\pandas\\io\\excel\\_base.py\u001b[0m in \u001b[0;36mread_excel\u001b[1;34m(io, sheet_name, header, names, index_col, usecols, squeeze, dtype, engine, converters, true_values, false_values, skiprows, nrows, na_values, keep_default_na, na_filter, verbose, parse_dates, date_parser, thousands, comment, skipfooter, convert_float, mangle_dupe_cols, storage_options)\u001b[0m\n\u001b[0;32m    334\u001b[0m     \u001b[1;32mif\u001b[0m \u001b[1;32mnot\u001b[0m \u001b[0misinstance\u001b[0m\u001b[1;33m(\u001b[0m\u001b[0mio\u001b[0m\u001b[1;33m,\u001b[0m \u001b[0mExcelFile\u001b[0m\u001b[1;33m)\u001b[0m\u001b[1;33m:\u001b[0m\u001b[1;33m\u001b[0m\u001b[1;33m\u001b[0m\u001b[0m\n\u001b[0;32m    335\u001b[0m         \u001b[0mshould_close\u001b[0m \u001b[1;33m=\u001b[0m \u001b[1;32mTrue\u001b[0m\u001b[1;33m\u001b[0m\u001b[1;33m\u001b[0m\u001b[0m\n\u001b[1;32m--> 336\u001b[1;33m         \u001b[0mio\u001b[0m \u001b[1;33m=\u001b[0m \u001b[0mExcelFile\u001b[0m\u001b[1;33m(\u001b[0m\u001b[0mio\u001b[0m\u001b[1;33m,\u001b[0m \u001b[0mstorage_options\u001b[0m\u001b[1;33m=\u001b[0m\u001b[0mstorage_options\u001b[0m\u001b[1;33m,\u001b[0m \u001b[0mengine\u001b[0m\u001b[1;33m=\u001b[0m\u001b[0mengine\u001b[0m\u001b[1;33m)\u001b[0m\u001b[1;33m\u001b[0m\u001b[1;33m\u001b[0m\u001b[0m\n\u001b[0m\u001b[0;32m    337\u001b[0m     \u001b[1;32melif\u001b[0m \u001b[0mengine\u001b[0m \u001b[1;32mand\u001b[0m \u001b[0mengine\u001b[0m \u001b[1;33m!=\u001b[0m \u001b[0mio\u001b[0m\u001b[1;33m.\u001b[0m\u001b[0mengine\u001b[0m\u001b[1;33m:\u001b[0m\u001b[1;33m\u001b[0m\u001b[1;33m\u001b[0m\u001b[0m\n\u001b[0;32m    338\u001b[0m         raise ValueError(\n",
      "\u001b[1;32m~\\miniconda3\\envs\\py37\\lib\\site-packages\\pandas\\io\\excel\\_base.py\u001b[0m in \u001b[0;36m__init__\u001b[1;34m(self, path_or_buffer, engine, storage_options)\u001b[0m\n\u001b[0;32m   1070\u001b[0m             \u001b[1;32melse\u001b[0m\u001b[1;33m:\u001b[0m\u001b[1;33m\u001b[0m\u001b[1;33m\u001b[0m\u001b[0m\n\u001b[0;32m   1071\u001b[0m                 ext = inspect_excel_format(\n\u001b[1;32m-> 1072\u001b[1;33m                     \u001b[0mcontent\u001b[0m\u001b[1;33m=\u001b[0m\u001b[0mpath_or_buffer\u001b[0m\u001b[1;33m,\u001b[0m \u001b[0mstorage_options\u001b[0m\u001b[1;33m=\u001b[0m\u001b[0mstorage_options\u001b[0m\u001b[1;33m\u001b[0m\u001b[1;33m\u001b[0m\u001b[0m\n\u001b[0m\u001b[0;32m   1073\u001b[0m                 )\n\u001b[0;32m   1074\u001b[0m \u001b[1;33m\u001b[0m\u001b[0m\n",
      "\u001b[1;32m~\\miniconda3\\envs\\py37\\lib\\site-packages\\pandas\\io\\excel\\_base.py\u001b[0m in \u001b[0;36minspect_excel_format\u001b[1;34m(path, content, storage_options)\u001b[0m\n\u001b[0;32m    948\u001b[0m \u001b[1;33m\u001b[0m\u001b[0m\n\u001b[0;32m    949\u001b[0m     with get_handle(\n\u001b[1;32m--> 950\u001b[1;33m         \u001b[0mcontent_or_path\u001b[0m\u001b[1;33m,\u001b[0m \u001b[1;34m\"rb\"\u001b[0m\u001b[1;33m,\u001b[0m \u001b[0mstorage_options\u001b[0m\u001b[1;33m=\u001b[0m\u001b[0mstorage_options\u001b[0m\u001b[1;33m,\u001b[0m \u001b[0mis_text\u001b[0m\u001b[1;33m=\u001b[0m\u001b[1;32mFalse\u001b[0m\u001b[1;33m\u001b[0m\u001b[1;33m\u001b[0m\u001b[0m\n\u001b[0m\u001b[0;32m    951\u001b[0m     ) as handle:\n\u001b[0;32m    952\u001b[0m         \u001b[0mstream\u001b[0m \u001b[1;33m=\u001b[0m \u001b[0mhandle\u001b[0m\u001b[1;33m.\u001b[0m\u001b[0mhandle\u001b[0m\u001b[1;33m\u001b[0m\u001b[1;33m\u001b[0m\u001b[0m\n",
      "\u001b[1;32m~\\miniconda3\\envs\\py37\\lib\\site-packages\\pandas\\io\\common.py\u001b[0m in \u001b[0;36mget_handle\u001b[1;34m(path_or_buf, mode, encoding, compression, memory_map, is_text, errors, storage_options)\u001b[0m\n\u001b[0;32m    649\u001b[0m         \u001b[1;32melse\u001b[0m\u001b[1;33m:\u001b[0m\u001b[1;33m\u001b[0m\u001b[1;33m\u001b[0m\u001b[0m\n\u001b[0;32m    650\u001b[0m             \u001b[1;31m# Binary mode\u001b[0m\u001b[1;33m\u001b[0m\u001b[1;33m\u001b[0m\u001b[1;33m\u001b[0m\u001b[0m\n\u001b[1;32m--> 651\u001b[1;33m             \u001b[0mhandle\u001b[0m \u001b[1;33m=\u001b[0m \u001b[0mopen\u001b[0m\u001b[1;33m(\u001b[0m\u001b[0mhandle\u001b[0m\u001b[1;33m,\u001b[0m \u001b[0mioargs\u001b[0m\u001b[1;33m.\u001b[0m\u001b[0mmode\u001b[0m\u001b[1;33m)\u001b[0m\u001b[1;33m\u001b[0m\u001b[1;33m\u001b[0m\u001b[0m\n\u001b[0m\u001b[0;32m    652\u001b[0m         \u001b[0mhandles\u001b[0m\u001b[1;33m.\u001b[0m\u001b[0mappend\u001b[0m\u001b[1;33m(\u001b[0m\u001b[0mhandle\u001b[0m\u001b[1;33m)\u001b[0m\u001b[1;33m\u001b[0m\u001b[1;33m\u001b[0m\u001b[0m\n\u001b[0;32m    653\u001b[0m \u001b[1;33m\u001b[0m\u001b[0m\n",
      "\u001b[1;31mFileNotFoundError\u001b[0m: [Errno 2] No such file or directory: 'C:/Users/morts/Documents/TAU/BV_Project/Pseudo_time_analysis/Ravel11/PCA_noTransitions_10012022/temp_projected_04042022.xlsx'"
     ]
    }
   ],
   "source": [
    "## Pseudotime DF\n",
    "cros_df = get_data(cros_file_path, cros_file_name, cros_sheet_name_data)\n",
    "\n",
    "cros_meta_df = get_data(cros_file_path, cros_file_name, cros_sheet_name_meta)\n",
    "cros_meta_df = cros_meta_df.loc[:, ~ cros_meta_df.columns.str.startswith('branch_')]\n",
    "\n",
    "cros_fa_df = get_data(cros_file_path, cros_file_name, cros_sheet_name_plot)\n",
    "\n",
    "## Temp DF\n",
    "temp_df = get_data(all_file_path, temp_file_name, temp_sheet_name_data)\n",
    "\n",
    "temp_meta_df = get_data(all_file_path, temp_file_name, temp_sheet_name_meta)\n",
    "temp_meta_df['DB_type'] = 'temp'\n",
    "temp_meta_df.drop('age', inplace = True, axis = 1)\n",
    "\n",
    "## PCA DF\n",
    "cros_pca = get_data(cros_file_path, pca_file, cros_pca_sheet_name)\n",
    "temp_pca = get_data(cros_file_path, pca_file, temp_pca_sheet_name)"
   ]
  },
  {
   "cell_type": "markdown",
   "id": "f3e9c891",
   "metadata": {},
   "source": [
    "#### Find nearest neighbors with UMAP"
   ]
  },
  {
   "cell_type": "code",
   "execution_count": null,
   "id": "53667c9b",
   "metadata": {},
   "outputs": [],
   "source": [
    "display(temp_pca)"
   ]
  },
  {
   "cell_type": "code",
   "execution_count": null,
   "id": "c4284e95",
   "metadata": {},
   "outputs": [],
   "source": [
    "knn_indices, knn_dists, forest = nearest_neighbors(\n",
    "        cros_pca.iloc[:, :n_pcs],\n",
    "        n_neighbors = n_neighbors,\n",
    "        random_state = 0,\n",
    "        metric = 'euclidean',\n",
    "        metric_kwds = {},\n",
    "        angular = False)\n"
   ]
  },
  {
   "cell_type": "code",
   "execution_count": null,
   "id": "d5b23cbc",
   "metadata": {},
   "outputs": [],
   "source": [
    "print(knn_indices.shape)\n",
    "print(knn_dists.shape)\n",
    "print(np.amax(knn_indices), np.amin(knn_indices))\n",
    "print(np.amax(knn_dists), np.amin(knn_dists))"
   ]
  },
  {
   "cell_type": "code",
   "execution_count": null,
   "id": "4a4fea9b",
   "metadata": {},
   "outputs": [],
   "source": [
    "knn_indices_df = pd.DataFrame(knn_indices, index = cros_df.index, columns = [num for num in range(1, n_neighbors + 1)])\n",
    "knn_dists_df = pd.DataFrame(knn_dists, index = cros_df.index, columns = [num for num in range(1, n_neighbors + 1)])\n",
    "display(knn_dists_df)"
   ]
  },
  {
   "cell_type": "code",
   "execution_count": 40,
   "id": "4b57838d",
   "metadata": {},
   "outputs": [
    {
     "name": "stderr",
     "output_type": "stream",
     "text": [
      "C:\\Users\\morts\\miniconda3\\envs\\py37\\lib\\site-packages\\xlsxwriter\\workbook.py:338: UserWarning: Calling close() on already closed file.\n",
      "  warn(\"Calling close() on already closed file.\")\n"
     ]
    }
   ],
   "source": [
    "path = cros_file_path + 'UMAP_projection_dfs' + '.xlsx' \n",
    "writer = pd.ExcelWriter(path, engine = 'xlsxwriter')\n",
    "knn_indices_df.to_excel(writer, sheet_name = 'knn_indices')\n",
    "knn_dists_df.to_excel(writer, sheet_name = 'knn_dists')\n",
    "writer.save()\n",
    "writer.close()"
   ]
  }
 ],
 "metadata": {
  "kernelspec": {
   "display_name": "Python 3",
   "language": "python",
   "name": "python3"
  },
  "language_info": {
   "codemirror_mode": {
    "name": "ipython",
    "version": 3
   },
   "file_extension": ".py",
   "mimetype": "text/x-python",
   "name": "python",
   "nbconvert_exporter": "python",
   "pygments_lexer": "ipython3",
   "version": "3.7.10"
  }
 },
 "nbformat": 4,
 "nbformat_minor": 5
}
