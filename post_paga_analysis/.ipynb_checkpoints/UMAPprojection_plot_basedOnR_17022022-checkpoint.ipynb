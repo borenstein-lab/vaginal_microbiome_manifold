{
 "cells": [
  {
   "cell_type": "code",
   "execution_count": 8,
   "id": "a513ed02",
   "metadata": {},
   "outputs": [],
   "source": [
    "from sklearn.preprocessing import StandardScaler\n",
    "from sklearn.decomposition import PCA\n",
    "from sklearn.manifold import MDS\n",
    "from sklearn.manifold import TSNE\n",
    "from skbio.diversity import beta_diversity\n",
    "from skbio.stats.ordination import pcoa\n",
    "import umap\n",
    "from umap.umap_ import nearest_neighbors\n",
    "from os.path import join\n",
    "import pandas as pd\n",
    "import xlsxwriter\n",
    "import openpyxl\n",
    "import os\n",
    "import numpy as np\n",
    "import itertools\n",
    "import itertools as it\n",
    "import kaleido\n",
    "from pandas import Series, ExcelWriter\n",
    "import scipy.io as sio\n",
    "import scipy\n",
    "import plotly.graph_objects as go\n",
    "import plotly.io as pio\n",
    "import plotly.express as px\n",
    "from IPython.display import display, HTML\n",
    "from fpdf import FPDF\n",
    "import scanpy as sc \n",
    "from anndata import AnnData\n",
    "# from types import MappingProxyType\n",
    "# from typing import mapping"
   ]
  },
  {
   "cell_type": "markdown",
   "id": "73eb1bc6",
   "metadata": {},
   "source": [
    "#### Variables"
   ]
  },
  {
   "cell_type": "code",
   "execution_count": 9,
   "id": "3ea93ba8",
   "metadata": {},
   "outputs": [],
   "source": [
    "place = \"home\""
   ]
  },
  {
   "cell_type": "code",
   "execution_count": 10,
   "id": "496b70bd",
   "metadata": {},
   "outputs": [],
   "source": [
    "## Cros data\n",
    "if place == \"lab\":\n",
    "    cros_file_path = \"D:/user/OneDrive/Mor_TAU/BV_project/Data/abundance_tables/\"\n",
    "elif place == \"home\":\n",
    "    cros_file_path = \"C:/Users/morts/Documents/TAU/BV_Project/Pseudo_time_analysis/Ravel11/PCA_noTransitions_10012022/\"\n",
    "\n",
    "cros_file_name = \"ps_results_10012022\"\n",
    "cros_sheet_name_data = 'abundance_pseudo'\n",
    "cros_sheet_name_meta = 'metadata_pseudo'\n",
    "cros_sheet_name_plot = 'graph_pseudo'\n",
    "\n",
    "## Temp data\n",
    "if place == \"lab\":\n",
    "    all_file_path = \"D:/user/OneDrive/Mor_TAU/BV_project/Data/abundance_tables/\"\n",
    "elif place == \"home\":\n",
    "    all_file_path = \"C:/Users/morts/Documents/TAU/BV_Project/Data/abundance_tables/\"\n",
    "\n",
    "temp_file_name = \"abundance_table_Gajer2012\"\n",
    "temp_sheet_name_data = 'for_PCA1'\n",
    "temp_sheet_name_meta = 'for_PCA_metadata'\n",
    "\n",
    "## UMAP projection data\n",
    "pca_file = 'temp_projected'\n",
    "temp_pca_sheet_name = 'pca_cross_projected'\n",
    "cros_pca_sheet_name = 'pca_cross_orig'\n",
    "temp_sheet_name_plot = 'temp_umap_projected'\n",
    "\n",
    "## KNN tables\n",
    "knn_file_name = 'knn_tables'\n",
    "euc_sheet_name = 'euc_knn_res_df'\n",
    "bc_sheet_name = 'bc_knn_res_df'\n",
    "\n",
    "##\n",
    "pca_cols = ['PCA' + str(i) for i in range(1, 51)] #['PCA1', 'PCA2', 'PCA3']"
   ]
  },
  {
   "cell_type": "code",
   "execution_count": 11,
   "id": "d626a085",
   "metadata": {},
   "outputs": [],
   "source": [
    "n_pcs = 20\n",
    "n_neighbors = 8\n",
    "pio.templates.default = 'seaborn'"
   ]
  },
  {
   "cell_type": "markdown",
   "id": "c5fad25d",
   "metadata": {},
   "source": [
    "#### Load data"
   ]
  },
  {
   "cell_type": "code",
   "execution_count": 12,
   "id": "8b133397",
   "metadata": {},
   "outputs": [],
   "source": [
    "def get_data(all_file_path, file_name, sheet_name):\n",
    "    file_full_name = all_file_path + file_name + '.xlsx'        \n",
    "    df = pd.read_excel(file_full_name, sheet_name = sheet_name, index_col = 0)\n",
    "    \n",
    "    if \"subjectID\" in df.columns:\n",
    "        df[\"subjectID\"] = df[\"subjectID\"].astype(object)\n",
    "        \n",
    "    return df"
   ]
  },
  {
   "cell_type": "code",
   "execution_count": 13,
   "id": "4218f958",
   "metadata": {},
   "outputs": [
    {
     "ename": "ValueError",
     "evalue": "File is not a recognized excel file",
     "output_type": "error",
     "traceback": [
      "\u001b[1;31m---------------------------------------------------------------------------\u001b[0m",
      "\u001b[1;31mValueError\u001b[0m                                Traceback (most recent call last)",
      "\u001b[1;32m<ipython-input-13-0761ce6db7a0>\u001b[0m in \u001b[0;36m<module>\u001b[1;34m\u001b[0m\n\u001b[0;32m     14\u001b[0m \u001b[0mtemp_meta_df\u001b[0m\u001b[1;33m.\u001b[0m\u001b[0mdrop\u001b[0m\u001b[1;33m(\u001b[0m\u001b[1;34m'age'\u001b[0m\u001b[1;33m,\u001b[0m \u001b[0minplace\u001b[0m \u001b[1;33m=\u001b[0m \u001b[1;32mTrue\u001b[0m\u001b[1;33m,\u001b[0m \u001b[0maxis\u001b[0m \u001b[1;33m=\u001b[0m \u001b[1;36m1\u001b[0m\u001b[1;33m)\u001b[0m\u001b[1;33m\u001b[0m\u001b[1;33m\u001b[0m\u001b[0m\n\u001b[0;32m     15\u001b[0m \u001b[1;33m\u001b[0m\u001b[0m\n\u001b[1;32m---> 16\u001b[1;33m \u001b[0mtemp_fa_df\u001b[0m \u001b[1;33m=\u001b[0m \u001b[0mget_data\u001b[0m\u001b[1;33m(\u001b[0m\u001b[0mcros_file_path\u001b[0m\u001b[1;33m,\u001b[0m \u001b[0mpca_file\u001b[0m\u001b[1;33m,\u001b[0m \u001b[0mtemp_sheet_name_plot\u001b[0m\u001b[1;33m)\u001b[0m\u001b[1;33m\u001b[0m\u001b[1;33m\u001b[0m\u001b[0m\n\u001b[0m\u001b[0;32m     17\u001b[0m \u001b[1;33m\u001b[0m\u001b[0m\n\u001b[0;32m     18\u001b[0m \u001b[1;31m## PCA DF\u001b[0m\u001b[1;33m\u001b[0m\u001b[1;33m\u001b[0m\u001b[1;33m\u001b[0m\u001b[0m\n",
      "\u001b[1;32m<ipython-input-12-d3d227d756e8>\u001b[0m in \u001b[0;36mget_data\u001b[1;34m(all_file_path, file_name, sheet_name)\u001b[0m\n\u001b[0;32m      1\u001b[0m \u001b[1;32mdef\u001b[0m \u001b[0mget_data\u001b[0m\u001b[1;33m(\u001b[0m\u001b[0mall_file_path\u001b[0m\u001b[1;33m,\u001b[0m \u001b[0mfile_name\u001b[0m\u001b[1;33m,\u001b[0m \u001b[0msheet_name\u001b[0m\u001b[1;33m)\u001b[0m\u001b[1;33m:\u001b[0m\u001b[1;33m\u001b[0m\u001b[1;33m\u001b[0m\u001b[0m\n\u001b[0;32m      2\u001b[0m     \u001b[0mfile_full_name\u001b[0m \u001b[1;33m=\u001b[0m \u001b[0mall_file_path\u001b[0m \u001b[1;33m+\u001b[0m \u001b[0mfile_name\u001b[0m \u001b[1;33m+\u001b[0m \u001b[1;34m'.xlsx'\u001b[0m\u001b[1;33m\u001b[0m\u001b[1;33m\u001b[0m\u001b[0m\n\u001b[1;32m----> 3\u001b[1;33m     \u001b[0mdf\u001b[0m \u001b[1;33m=\u001b[0m \u001b[0mpd\u001b[0m\u001b[1;33m.\u001b[0m\u001b[0mread_excel\u001b[0m\u001b[1;33m(\u001b[0m\u001b[0mfile_full_name\u001b[0m\u001b[1;33m,\u001b[0m \u001b[0msheet_name\u001b[0m \u001b[1;33m=\u001b[0m \u001b[0msheet_name\u001b[0m\u001b[1;33m,\u001b[0m \u001b[0mindex_col\u001b[0m \u001b[1;33m=\u001b[0m \u001b[1;36m0\u001b[0m\u001b[1;33m)\u001b[0m\u001b[1;33m\u001b[0m\u001b[1;33m\u001b[0m\u001b[0m\n\u001b[0m\u001b[0;32m      4\u001b[0m \u001b[1;33m\u001b[0m\u001b[0m\n\u001b[0;32m      5\u001b[0m     \u001b[1;32mif\u001b[0m \u001b[1;34m\"subjectID\"\u001b[0m \u001b[1;32min\u001b[0m \u001b[0mdf\u001b[0m\u001b[1;33m.\u001b[0m\u001b[0mcolumns\u001b[0m\u001b[1;33m:\u001b[0m\u001b[1;33m\u001b[0m\u001b[1;33m\u001b[0m\u001b[0m\n",
      "\u001b[1;32m~\\miniconda3\\envs\\py37\\lib\\site-packages\\pandas\\util\\_decorators.py\u001b[0m in \u001b[0;36mwrapper\u001b[1;34m(*args, **kwargs)\u001b[0m\n\u001b[0;32m    297\u001b[0m                 )\n\u001b[0;32m    298\u001b[0m                 \u001b[0mwarnings\u001b[0m\u001b[1;33m.\u001b[0m\u001b[0mwarn\u001b[0m\u001b[1;33m(\u001b[0m\u001b[0mmsg\u001b[0m\u001b[1;33m,\u001b[0m \u001b[0mFutureWarning\u001b[0m\u001b[1;33m,\u001b[0m \u001b[0mstacklevel\u001b[0m\u001b[1;33m=\u001b[0m\u001b[0mstacklevel\u001b[0m\u001b[1;33m)\u001b[0m\u001b[1;33m\u001b[0m\u001b[1;33m\u001b[0m\u001b[0m\n\u001b[1;32m--> 299\u001b[1;33m             \u001b[1;32mreturn\u001b[0m \u001b[0mfunc\u001b[0m\u001b[1;33m(\u001b[0m\u001b[1;33m*\u001b[0m\u001b[0margs\u001b[0m\u001b[1;33m,\u001b[0m \u001b[1;33m**\u001b[0m\u001b[0mkwargs\u001b[0m\u001b[1;33m)\u001b[0m\u001b[1;33m\u001b[0m\u001b[1;33m\u001b[0m\u001b[0m\n\u001b[0m\u001b[0;32m    300\u001b[0m \u001b[1;33m\u001b[0m\u001b[0m\n\u001b[0;32m    301\u001b[0m         \u001b[1;32mreturn\u001b[0m \u001b[0mwrapper\u001b[0m\u001b[1;33m\u001b[0m\u001b[1;33m\u001b[0m\u001b[0m\n",
      "\u001b[1;32m~\\miniconda3\\envs\\py37\\lib\\site-packages\\pandas\\io\\excel\\_base.py\u001b[0m in \u001b[0;36mread_excel\u001b[1;34m(io, sheet_name, header, names, index_col, usecols, squeeze, dtype, engine, converters, true_values, false_values, skiprows, nrows, na_values, keep_default_na, na_filter, verbose, parse_dates, date_parser, thousands, comment, skipfooter, convert_float, mangle_dupe_cols, storage_options)\u001b[0m\n\u001b[0;32m    334\u001b[0m     \u001b[1;32mif\u001b[0m \u001b[1;32mnot\u001b[0m \u001b[0misinstance\u001b[0m\u001b[1;33m(\u001b[0m\u001b[0mio\u001b[0m\u001b[1;33m,\u001b[0m \u001b[0mExcelFile\u001b[0m\u001b[1;33m)\u001b[0m\u001b[1;33m:\u001b[0m\u001b[1;33m\u001b[0m\u001b[1;33m\u001b[0m\u001b[0m\n\u001b[0;32m    335\u001b[0m         \u001b[0mshould_close\u001b[0m \u001b[1;33m=\u001b[0m \u001b[1;32mTrue\u001b[0m\u001b[1;33m\u001b[0m\u001b[1;33m\u001b[0m\u001b[0m\n\u001b[1;32m--> 336\u001b[1;33m         \u001b[0mio\u001b[0m \u001b[1;33m=\u001b[0m \u001b[0mExcelFile\u001b[0m\u001b[1;33m(\u001b[0m\u001b[0mio\u001b[0m\u001b[1;33m,\u001b[0m \u001b[0mstorage_options\u001b[0m\u001b[1;33m=\u001b[0m\u001b[0mstorage_options\u001b[0m\u001b[1;33m,\u001b[0m \u001b[0mengine\u001b[0m\u001b[1;33m=\u001b[0m\u001b[0mengine\u001b[0m\u001b[1;33m)\u001b[0m\u001b[1;33m\u001b[0m\u001b[1;33m\u001b[0m\u001b[0m\n\u001b[0m\u001b[0;32m    337\u001b[0m     \u001b[1;32melif\u001b[0m \u001b[0mengine\u001b[0m \u001b[1;32mand\u001b[0m \u001b[0mengine\u001b[0m \u001b[1;33m!=\u001b[0m \u001b[0mio\u001b[0m\u001b[1;33m.\u001b[0m\u001b[0mengine\u001b[0m\u001b[1;33m:\u001b[0m\u001b[1;33m\u001b[0m\u001b[1;33m\u001b[0m\u001b[0m\n\u001b[0;32m    338\u001b[0m         raise ValueError(\n",
      "\u001b[1;32m~\\miniconda3\\envs\\py37\\lib\\site-packages\\pandas\\io\\excel\\_base.py\u001b[0m in \u001b[0;36m__init__\u001b[1;34m(self, path_or_buffer, engine, storage_options)\u001b[0m\n\u001b[0;32m   1070\u001b[0m             \u001b[1;32melse\u001b[0m\u001b[1;33m:\u001b[0m\u001b[1;33m\u001b[0m\u001b[1;33m\u001b[0m\u001b[0m\n\u001b[0;32m   1071\u001b[0m                 ext = inspect_excel_format(\n\u001b[1;32m-> 1072\u001b[1;33m                     \u001b[0mcontent\u001b[0m\u001b[1;33m=\u001b[0m\u001b[0mpath_or_buffer\u001b[0m\u001b[1;33m,\u001b[0m \u001b[0mstorage_options\u001b[0m\u001b[1;33m=\u001b[0m\u001b[0mstorage_options\u001b[0m\u001b[1;33m\u001b[0m\u001b[1;33m\u001b[0m\u001b[0m\n\u001b[0m\u001b[0;32m   1073\u001b[0m                 )\n\u001b[0;32m   1074\u001b[0m \u001b[1;33m\u001b[0m\u001b[0m\n",
      "\u001b[1;32m~\\miniconda3\\envs\\py37\\lib\\site-packages\\pandas\\io\\excel\\_base.py\u001b[0m in \u001b[0;36minspect_excel_format\u001b[1;34m(path, content, storage_options)\u001b[0m\n\u001b[0;32m    963\u001b[0m             \u001b[1;32mreturn\u001b[0m \u001b[1;34m\"xls\"\u001b[0m\u001b[1;33m\u001b[0m\u001b[1;33m\u001b[0m\u001b[0m\n\u001b[0;32m    964\u001b[0m         \u001b[1;32melif\u001b[0m \u001b[1;32mnot\u001b[0m \u001b[0mpeek\u001b[0m\u001b[1;33m.\u001b[0m\u001b[0mstartswith\u001b[0m\u001b[1;33m(\u001b[0m\u001b[0mZIP_SIGNATURE\u001b[0m\u001b[1;33m)\u001b[0m\u001b[1;33m:\u001b[0m\u001b[1;33m\u001b[0m\u001b[1;33m\u001b[0m\u001b[0m\n\u001b[1;32m--> 965\u001b[1;33m             \u001b[1;32mraise\u001b[0m \u001b[0mValueError\u001b[0m\u001b[1;33m(\u001b[0m\u001b[1;34m\"File is not a recognized excel file\"\u001b[0m\u001b[1;33m)\u001b[0m\u001b[1;33m\u001b[0m\u001b[1;33m\u001b[0m\u001b[0m\n\u001b[0m\u001b[0;32m    966\u001b[0m \u001b[1;33m\u001b[0m\u001b[0m\n\u001b[0;32m    967\u001b[0m         \u001b[1;31m# ZipFile typing is overly-strict\u001b[0m\u001b[1;33m\u001b[0m\u001b[1;33m\u001b[0m\u001b[1;33m\u001b[0m\u001b[0m\n",
      "\u001b[1;31mValueError\u001b[0m: File is not a recognized excel file"
     ]
    }
   ],
   "source": [
    "## Pseudotime DF\n",
    "cros_df = get_data(cros_file_path, cros_file_name, cros_sheet_name_data)\n",
    "\n",
    "cros_meta_df = get_data(cros_file_path, cros_file_name, cros_sheet_name_meta)\n",
    "cros_meta_df = cros_meta_df.loc[:, ~ cros_meta_df.columns.str.startswith('branch_')]\n",
    "\n",
    "cros_fa_df = get_data(cros_file_path, cros_file_name, cros_sheet_name_plot)\n",
    "\n",
    "## Temp DF\n",
    "temp_df = get_data(all_file_path, temp_file_name, temp_sheet_name_data)\n",
    "\n",
    "temp_meta_df = get_data(all_file_path, temp_file_name, temp_sheet_name_meta)\n",
    "temp_meta_df['DB_type'] = 'temp'\n",
    "temp_meta_df.drop('age', inplace = True, axis = 1)\n",
    "\n",
    "temp_fa_df = get_data(cros_file_path, pca_file, temp_sheet_name_plot)\n",
    "\n",
    "## PCA DF\n",
    "cros_pca = get_data(cros_file_path, pca_file, cros_pca_sheet_name)\n",
    "temp_pca = get_data(cros_file_path, pca_file, temp_pca_sheet_name)\n",
    "\n",
    "## KNN tables\n",
    "euc_knn_res_df = get_data(cros_file_path, knn_file_name, euc_sheet_name)\n",
    "bc_knn_res_df = get_data(cros_file_path, knn_file_name, bc_sheet_name)"
   ]
  },
  {
   "cell_type": "code",
   "execution_count": null,
   "id": "20f4ca7d",
   "metadata": {},
   "outputs": [],
   "source": [
    "def get_meta_cols(df, meta_df, col):\n",
    "    if not set(col).issubset(set(df.columns)):\n",
    "        merged = df.merge(meta_df[col], left_index = True, right_index = True, how = 'inner')\n",
    "        return merged\n",
    "    else:\n",
    "        return df"
   ]
  },
  {
   "cell_type": "code",
   "execution_count": null,
   "id": "c83b9e3c",
   "metadata": {},
   "outputs": [],
   "source": [
    "both_df = pd.concat([cros_df, temp_df], join = 'inner')\n",
    "both_df = both_df.fillna(0)\n",
    "\n",
    "both_meta_df = pd.concat([cros_meta_df, temp_meta_df])\n",
    "\n",
    "both_fa_df = pd.concat([cros_fa_df, temp_fa_df])\n",
    "both_fa_df = get_meta_cols(both_fa_df, both_meta_df, ['mt_pseudotime', 'community', 'DB_type', 'subjectID', 'time'])"
   ]
  },
  {
   "cell_type": "markdown",
   "id": "36bd0531",
   "metadata": {},
   "source": [
    "#### Create plot for each subject"
   ]
  },
  {
   "cell_type": "code",
   "execution_count": null,
   "id": "048335a3",
   "metadata": {},
   "outputs": [],
   "source": [
    "def order_index(knn_res_df, both_fa_df):\n",
    "    cros_index = [i for i in range(1, len(knn_res_df) * 2, 2)]\n",
    "    temp_index =  [i for i in range(0, len(knn_res_df) * 2, 2)]\n",
    "    \n",
    "    knn_cros_df = knn_res_df[['closest_sample']].reset_index(level = 0, inplace = False).drop('sampleID', 1)\n",
    "    knn_cros_df.index = cros_index\n",
    "    knn_cros_df.rename(columns = {'closest_sample': 'sampleID'}, inplace = True)\n",
    "\n",
    "    knn_temp_df = knn_res_df.reset_index(level = 0, inplace = False).drop(['closest_sample', 'distance'], 1)\n",
    "    knn_temp_df.index = temp_index\n",
    "\n",
    "    conc_knn = pd.concat([knn_temp_df, knn_cros_df], axis = 0, ignore_index = False)\n",
    "    conc_knn.sort_index(axis = 0, inplace = True)\n",
    "    conc_knn['sort_index'] = conc_knn.index\n",
    "    conc_knn.index = conc_knn['sampleID']\n",
    "    \n",
    "    ord_fa_df = both_fa_df.reindex(conc_knn.index)\n",
    "    \n",
    "    return ord_fa_df\n",
    "\n",
    "\n",
    "def get_df_for_subject_plot(knn_res_df, both_fa_df, curr_id, temp_meta_df, cros_meta_df, both_meta_df, cros_fa_df):\n",
    "    ## fa df for curr_id subject\n",
    "    subject_knn_df = knn_res_df[temp_meta_df['subjectID'] == curr_id]\n",
    "    subject_fa_df = both_fa_df[both_fa_df.index.isin(subject_knn_df.closest_sample) | both_fa_df.index.isin(subject_knn_df.index)]\n",
    "    ord_subject_df = order_index(subject_knn_df, subject_fa_df)\n",
    "    ord_subject_df = get_meta_cols(ord_subject_df, both_meta_df, ['mt_pseudotime', 'community', 'DB_type', 'subjectID', 'time'])\n",
    "    \n",
    "    # Add np.nan row every two rows\n",
    "    s = pd.Series(np.nan, ord_subject_df.columns)\n",
    "    f = lambda d: d.append(s, ignore_index = True)\n",
    "    grp = np.arange(len(ord_subject_df)) // 2\n",
    "    ord_subject_df = ord_subject_df.groupby(grp, group_keys = False).apply(f).reset_index(drop = True)\n",
    "\n",
    "    ## fa df for all cros samples that are not knn\n",
    "    ord_cros_fa_df = pd.merge(cros_fa_df[['fa1', 'fa2']], cros_meta_df[['mt_pseudotime', 'community']], how = 'left', on = 'sampleID')\n",
    "    subject_cros_lst = subject_knn_df['closest_sample'].tolist()\n",
    "    all_cros_lst = ord_cros_fa_df.index.tolist()\n",
    "    not_subject_cros_lst = list(set(all_cros_lst) - set(subject_cros_lst))\n",
    "    ord_cros_fa_df = ord_cros_fa_df.loc[not_subject_cros_lst, :]\n",
    "\n",
    "    return ord_subject_df, ord_cros_fa_df\n",
    "\n",
    "\n",
    "def get_subject_plotly(ord_cros_fa_df, ord_subject_df, curr_id):\n",
    "    ## Arrange df\n",
    "    ord_cros_df_null = ord_cros_fa_df.loc[ord_cros_fa_df['mt_pseudotime'].isnull()]\n",
    "    ord_cros_df_notnull = ord_cros_fa_df.loc[ord_cros_fa_df['mt_pseudotime'].notnull()]\n",
    "    ord_subject_df['DB_type'] = ord_subject_df['DB_type'].replace({'cros':'circle', 'temp':'square', np.nan: '0'})\n",
    "    \n",
    "    ## 2d figure with plotly\n",
    "    fig = go.Figure()\n",
    "    \n",
    "    ## Cros without nan\n",
    "    fig.add_trace(go.Scatter(x = ord_cros_df_notnull['fa1'],\n",
    "                             y = ord_cros_df_notnull['fa2'],\n",
    "                             mode = 'markers', opacity = 0.7, name = 'Cross-sectional- no neighbors', \n",
    "                                     showlegend = False, \n",
    "                             marker = dict(color = ord_cros_df_notnull['mt_pseudotime'], \n",
    "                                           size = 8, colorscale = 'Viridis', showscale = True,\n",
    "                                           line = dict(width = 0.4,  color = 'Black'))))\n",
    "    \n",
    "    ## Cros nan only\n",
    "    fig.add_trace(go.Scatter(x = ord_cros_df_null['fa1'],\n",
    "                         y = ord_cros_df_null['fa2'],\n",
    "                         mode = 'markers', opacity = 0.7, name = 'Cross-sectional- no neighbors', \n",
    "                                 showlegend = False, \n",
    "                         marker = dict(color = 'lightslategrey', \n",
    "                                       size = 8, \n",
    "                                       line = dict(width = 0.4,  color = 'Black'))))\n",
    "    \n",
    "    ## Neighbors cros & temp\n",
    "    for i in range(len(ord_subject_df)):\n",
    "        fig.add_traces(go.Scatter(x = ord_subject_df['fa1'],\n",
    "                                  y = ord_subject_df['fa2'],\n",
    "                                  name = '', showlegend = False, opacity = 0.8,\n",
    "                                  mode = 'lines + markers', line = dict(width = 0.6, color = 'Black'),\n",
    "                                  marker = dict(color = ord_subject_df['mt_pseudotime'], symbol = ord_subject_df['DB_type'],\n",
    "                                                size = 8, colorscale = 'Viridis', showscale = False,\n",
    "                                                line = dict(width = 0.4,  color = 'Black'))))\n",
    "    ## Updates\n",
    "    fig.update_traces(connectgaps = False)\n",
    "    fig.update_layout(autosize=False, width = 700, height = 500)\n",
    "    fig.update_xaxes(title_text = 'fa1')\n",
    "    fig.update_yaxes(title_text = 'fa2')\n",
    "    fig.update_layout(title_text = 'Subject number ' + str(curr_id))\n",
    "\n",
    "    fig.show()\n",
    "    \n",
    "    return fig"
   ]
  },
  {
   "cell_type": "code",
   "execution_count": 14,
   "id": "e6dfbb52",
   "metadata": {},
   "outputs": [],
   "source": [
    "def get_all_for_plot(knn_res_df, both_fa_df, curr_id, temp_meta_df, cros_meta_df, cros_fa_df, path):\n",
    "    ord_subject_df, ord_cros_fa_df = get_df_for_subject_plot(knn_res_df, both_fa_df, curr_id, \n",
    "                                                             temp_meta_df, cros_meta_df, both_meta_df, cros_fa_df)\n",
    "    fig = get_subject_plotly(ord_cros_fa_df, ord_subject_df, curr_id)\n",
    "    \n",
    "#     fig.write_image(path + 'Subject_' + str(curr_id) + '.png')\n",
    "    \n",
    "    return "
   ]
  },
  {
   "cell_type": "code",
   "execution_count": 15,
   "id": "c6b91753",
   "metadata": {},
   "outputs": [
    {
     "ename": "NameError",
     "evalue": "name 'euc_knn_res_df' is not defined",
     "output_type": "error",
     "traceback": [
      "\u001b[1;31m---------------------------------------------------------------------------\u001b[0m",
      "\u001b[1;31mNameError\u001b[0m                                 Traceback (most recent call last)",
      "\u001b[1;32m<ipython-input-15-3adac39b4994>\u001b[0m in \u001b[0;36m<module>\u001b[1;34m\u001b[0m\n\u001b[0;32m      5\u001b[0m \u001b[0mid_lst\u001b[0m \u001b[1;33m=\u001b[0m \u001b[1;33m[\u001b[0m\u001b[0mcurr_id\u001b[0m \u001b[1;32mfor\u001b[0m \u001b[0mcurr_id\u001b[0m \u001b[1;32min\u001b[0m \u001b[0msubject_id_arr\u001b[0m \u001b[1;32mif\u001b[0m \u001b[0mcurr_id\u001b[0m \u001b[1;32mis\u001b[0m \u001b[1;32mnot\u001b[0m \u001b[0mnp\u001b[0m\u001b[1;33m.\u001b[0m\u001b[0mnan\u001b[0m\u001b[1;33m]\u001b[0m\u001b[1;33m\u001b[0m\u001b[1;33m\u001b[0m\u001b[0m\n\u001b[0;32m      6\u001b[0m \u001b[1;32mfor\u001b[0m \u001b[0mcurr_id\u001b[0m \u001b[1;32min\u001b[0m \u001b[0mid_lst\u001b[0m\u001b[1;33m:\u001b[0m\u001b[1;33m\u001b[0m\u001b[1;33m\u001b[0m\u001b[0m\n\u001b[1;32m----> 7\u001b[1;33m     \u001b[0mfig_euc\u001b[0m \u001b[1;33m=\u001b[0m \u001b[0mget_all_for_plot\u001b[0m\u001b[1;33m(\u001b[0m\u001b[0meuc_knn_res_df\u001b[0m\u001b[1;33m,\u001b[0m \u001b[0mboth_fa_df\u001b[0m\u001b[1;33m,\u001b[0m \u001b[0mcurr_id\u001b[0m\u001b[1;33m,\u001b[0m \u001b[0mtemp_meta_df\u001b[0m\u001b[1;33m,\u001b[0m \u001b[0mcros_meta_df\u001b[0m\u001b[1;33m,\u001b[0m \u001b[0mcros_fa_df\u001b[0m\u001b[1;33m,\u001b[0m \u001b[0mpng_path_euc\u001b[0m\u001b[1;33m)\u001b[0m\u001b[1;33m\u001b[0m\u001b[1;33m\u001b[0m\u001b[0m\n\u001b[0m\u001b[0;32m      8\u001b[0m     \u001b[0mfig_bc\u001b[0m \u001b[1;33m=\u001b[0m \u001b[0mget_all_for_plot\u001b[0m\u001b[1;33m(\u001b[0m\u001b[0mbc_knn_res_df\u001b[0m\u001b[1;33m,\u001b[0m \u001b[0mboth_fa_df\u001b[0m\u001b[1;33m,\u001b[0m \u001b[0mcurr_id\u001b[0m\u001b[1;33m,\u001b[0m \u001b[0mtemp_meta_df\u001b[0m\u001b[1;33m,\u001b[0m \u001b[0mcros_meta_df\u001b[0m\u001b[1;33m,\u001b[0m \u001b[0mcros_fa_df\u001b[0m\u001b[1;33m,\u001b[0m \u001b[0mpng_path_bc\u001b[0m\u001b[1;33m)\u001b[0m\u001b[1;33m\u001b[0m\u001b[1;33m\u001b[0m\u001b[0m\n",
      "\u001b[1;31mNameError\u001b[0m: name 'euc_knn_res_df' is not defined"
     ]
    }
   ],
   "source": [
    "png_path_euc = 'C:/Users/morts/Documents/TAU/BV_Project/Pseudo_time_analysis/Ravel11/PCA_noTransitions_10012022/subject_UMAP_plots/euc/'\n",
    "png_path_bc = 'C:/Users/morts/Documents/TAU/BV_Project/Pseudo_time_analysis/Ravel11/PCA_noTransitions_10012022/subject_UMAP_plots/bc/'\n",
    "\n",
    "subject_id_arr = temp_meta_df['subjectID'].unique()\n",
    "id_lst = [curr_id for curr_id in subject_id_arr if curr_id is not np.nan]\n",
    "for curr_id in id_lst:\n",
    "    fig_euc = get_all_for_plot(euc_knn_res_df, both_fa_df, curr_id, temp_meta_df, cros_meta_df, cros_fa_df, png_path_euc)\n",
    "    fig_bc = get_all_for_plot(bc_knn_res_df, both_fa_df, curr_id, temp_meta_df, cros_meta_df, cros_fa_df, png_path_bc)"
   ]
  }
 ],
 "metadata": {
  "kernelspec": {
   "display_name": "Python 3",
   "language": "python",
   "name": "python3"
  },
  "language_info": {
   "codemirror_mode": {
    "name": "ipython",
    "version": 3
   },
   "file_extension": ".py",
   "mimetype": "text/x-python",
   "name": "python",
   "nbconvert_exporter": "python",
   "pygments_lexer": "ipython3",
   "version": "3.7.10"
  }
 },
 "nbformat": 4,
 "nbformat_minor": 5
}
