{
 "cells": [
  {
   "cell_type": "code",
   "execution_count": 1,
   "id": "8d4db5df",
   "metadata": {},
   "outputs": [],
   "source": [
    "from sklearn.preprocessing import StandardScaler\n",
    "from sklearn.metrics.pairwise import euclidean_distances\n",
    "from sklearn.decomposition import PCA\n",
    "from sklearn.manifold import MDS\n",
    "from sklearn.manifold import TSNE\n",
    "from sklearn.linear_model import LinearRegression\n",
    "from skbio.diversity import beta_diversity, alpha_diversity\n",
    "from skbio.stats.ordination import pcoa, pcoa_biplot\n",
    "from skbio import DistanceMatrix\n",
    "from scipy.stats import spearmanr, pearsonr\n",
    "import statsmodels.api as sm \n",
    "import umap\n",
    "from io import StringIO\n",
    "from os.path import join\n",
    "import pandas as pd\n",
    "import xlsxwriter\n",
    "import openpyxl\n",
    "import os\n",
    "import numpy as np\n",
    "import itertools\n",
    "import itertools as it\n",
    "import kaleido\n",
    "from pandas import Series, ExcelWriter\n",
    "import scipy.io as sio\n",
    "import plotly.graph_objects as go\n",
    "import plotly.io as pio\n",
    "import plotly.express as px\n",
    "import seaborn as sns\n",
    "from IPython.display import display, HTML\n",
    "from fpdf import FPDF\n",
    "import scanpy as sc \n",
    "from anndata import AnnData\n",
    "import csv\n",
    "import matplotlib.pyplot as plt\n",
    "from mpl_toolkits.mplot3d import Axes3D\n",
    "from matplotlib.lines import Line2D  # for legend handle\n"
   ]
  },
  {
   "cell_type": "markdown",
   "id": "e0fbc9b0",
   "metadata": {},
   "source": [
    "#### Variables"
   ]
  },
  {
   "cell_type": "code",
   "execution_count": 2,
   "id": "3d97f760",
   "metadata": {},
   "outputs": [],
   "source": [
    "place = \"home\""
   ]
  },
  {
   "cell_type": "code",
   "execution_count": 3,
   "id": "eeb3ab5b",
   "metadata": {},
   "outputs": [],
   "source": [
    "## Cros data\n",
    "if place == \"lab\":\n",
    "    cros_file_path = \"D:/user/OneDrive/Mor_TAU/BV_project/Data/abundance_tables/\"\n",
    "elif place == \"home\":\n",
    "    cros_file_path = \"C:/Users/morts/Documents/TAU/BV_Project/Pseudo_time_analysis/Ravel11/PCA_noTransitions_10012022/\"\n",
    "\n",
    "cros_file_name = \"ps_results_10012022\"\n",
    "cros_sheet_name_data = 'abundance_pseudo'\n",
    "cros_sheet_name_meta = 'metadata_pseudo'\n",
    "cros_sheet_name_plot = 'graph_pseudo'\n",
    "\n",
    "## Temp data\n",
    "temp_file_name = \"abundance_table_Gajer2012\"\n",
    "temp_sheet_name_data = 'abundance'\n",
    "temp_sheet_name_meta = 'metadata'\n",
    "temp_sheet_name_plot = 'temp_UMAP_projection'\n",
    "\n",
    "## PCA projected data\n",
    "pca_file = 'pca_projection_dfs_04042022'\n",
    "cros_pca_sheet_name = 'cros_pca_df'\n",
    "temp_pca_sheet_name = 'temp_pca_df'\n",
    "\n",
    "## KNN tables\n",
    "knn_file_name = 'knn_dfs'\n",
    "euc_sheet_name = 'euc_knn_res_df'\n",
    "bc_sheet_name = 'bc_knn_res_df'"
   ]
  },
  {
   "cell_type": "markdown",
   "id": "0fd343aa",
   "metadata": {},
   "source": [
    "#### Load data"
   ]
  },
  {
   "cell_type": "code",
   "execution_count": 4,
   "id": "e375e56f",
   "metadata": {},
   "outputs": [],
   "source": [
    "def get_data(all_file_path, file_name, sheet_name):\n",
    "    file_full_name = all_file_path + file_name + '.xlsx'        \n",
    "    df = pd.read_excel(file_full_name, sheet_name = sheet_name, index_col = 0)\n",
    "    \n",
    "    if \"subjectID\" in df.columns:\n",
    "        df[\"subjectID\"] = df[\"subjectID\"].astype(object)\n",
    "        \n",
    "    return df"
   ]
  },
  {
   "cell_type": "code",
   "execution_count": 9,
   "id": "ac5658d5",
   "metadata": {},
   "outputs": [
    {
     "name": "stderr",
     "output_type": "stream",
     "text": [
      "C:\\Users\\morts\\miniconda3\\envs\\py37\\lib\\site-packages\\openpyxl\\worksheet\\_reader.py:312: UserWarning: Unknown extension is not supported and will be removed\n",
      "  warn(msg)\n"
     ]
    }
   ],
   "source": [
    "## Pseudotime DF\n",
    "cros_df = get_data(cros_file_path, cros_file_name, cros_sheet_name_data)\n",
    "\n",
    "cros_meta_df = get_data(cros_file_path, cros_file_name, cros_sheet_name_meta)\n",
    "branch_df = cros_meta_df.loc[:, cros_meta_df.columns.str.startswith('branch_')]\n",
    "cros_meta_df = cros_meta_df.loc[:, ~ cros_meta_df.columns.str.startswith('branch_')]\n",
    "\n",
    "cros_fa_df = get_data(cros_file_path, cros_file_name, cros_sheet_name_plot)\n",
    "\n",
    "## Temp DF\n",
    "temp_df = get_data(cros_file_path, temp_file_name, temp_sheet_name_data)\n",
    "\n",
    "temp_meta_df = get_data(cros_file_path, temp_file_name, temp_sheet_name_meta)\n",
    "temp_meta_df['DB_type'] = 'temp'\n",
    "temp_meta_df.drop('age', inplace = True, axis = 1)\n",
    "\n",
    "temp_fa_df = get_data(cros_file_path, temp_file_name, temp_sheet_name_plot)\n",
    "\n",
    "## PCA DF\n",
    "cros_pca = get_data(cros_file_path, pca_file, cros_pca_sheet_name)\n",
    "temp_pca = get_data(cros_file_path, pca_file, temp_pca_sheet_name)\n",
    "\n",
    "## KNN DF\n",
    "euc_knn_res_df = get_data(cros_file_path, knn_file_name, euc_sheet_name)\n",
    "bc_knn_res_df = get_data(cros_file_path, knn_file_name, bc_sheet_name)"
   ]
  },
  {
   "cell_type": "code",
   "execution_count": 32,
   "id": "3734d769",
   "metadata": {},
   "outputs": [],
   "source": [
    "branch_cols = [col for col in branch_df.columns if col.startswith('mt_branch_')]\n",
    "markers_lst = ['o', '^', 's', 'D', '*', 'P', 'X']\n",
    "\n",
    "branch_markers = dict(zip(branch_cols, markers_lst))\n",
    "\n",
    "community_colors = {'I':'darkred', 'II':'orange', 'III':'chocolate', 'V':'yellow', \n",
    "          'IV':'mediumturquoise', 'IV-A':'mediumpurple', 'IV-B':'royalblue'}\n",
    "\n",
    "pio.templates.default = 'seaborn'"
   ]
  },
  {
   "cell_type": "markdown",
   "id": "5b5c84c6",
   "metadata": {},
   "source": [
    "#### Add nearest neighbor pseudotime"
   ]
  },
  {
   "cell_type": "code",
   "execution_count": 25,
   "id": "123d64e4",
   "metadata": {},
   "outputs": [],
   "source": [
    "cros_meta_df['closest_sample'] = cros_meta_df.index"
   ]
  },
  {
   "cell_type": "code",
   "execution_count": 50,
   "id": "b5b2845e",
   "metadata": {},
   "outputs": [],
   "source": [
    "ord_temp_meta_df = pd.concat([temp_meta_df, bc_knn_res_df[['closest_sample']]], axis = 1)\n",
    "ord_temp_meta_df = pd.merge(ord_temp_meta_df, cros_meta_df[['mt_pseudotime', 'closest_sample']], on = 'closest_sample')\n",
    "ord_temp_meta_df.set_index(temp_meta_df.index, inplace = True)"
   ]
  },
  {
   "cell_type": "code",
   "execution_count": 52,
   "id": "3ca37b5c",
   "metadata": {},
   "outputs": [
    {
     "data": {
      "text/plain": [
       "['I', 'II', 'III', 'V', 'IV', 'IV-A', 'IV-B']"
      ]
     },
     "execution_count": 52,
     "metadata": {},
     "output_type": "execute_result"
    }
   ],
   "source": [
    "list(community_colors.keys())"
   ]
  },
  {
   "cell_type": "code",
   "execution_count": 56,
   "id": "c6d94b04",
   "metadata": {},
   "outputs": [
    {
     "data": {
      "text/html": [
       "<div>\n",
       "<style scoped>\n",
       "    .dataframe tbody tr th:only-of-type {\n",
       "        vertical-align: middle;\n",
       "    }\n",
       "\n",
       "    .dataframe tbody tr th {\n",
       "        vertical-align: top;\n",
       "    }\n",
       "\n",
       "    .dataframe thead th {\n",
       "        text-align: right;\n",
       "    }\n",
       "</style>\n",
       "<table border=\"1\" class=\"dataframe\">\n",
       "  <thead>\n",
       "    <tr style=\"text-align: right;\">\n",
       "      <th></th>\n",
       "      <th>time</th>\n",
       "      <th>subjectID</th>\n",
       "      <th>ethnicity</th>\n",
       "      <th>nugent</th>\n",
       "      <th>nugent_score</th>\n",
       "      <th>community</th>\n",
       "      <th>DB_type</th>\n",
       "      <th>closest_sample</th>\n",
       "      <th>mt_pseudotime</th>\n",
       "      <th>community_cat</th>\n",
       "    </tr>\n",
       "    <tr>\n",
       "      <th>sampleID</th>\n",
       "      <th></th>\n",
       "      <th></th>\n",
       "      <th></th>\n",
       "      <th></th>\n",
       "      <th></th>\n",
       "      <th></th>\n",
       "      <th></th>\n",
       "      <th></th>\n",
       "      <th></th>\n",
       "      <th></th>\n",
       "    </tr>\n",
       "  </thead>\n",
       "  <tbody>\n",
       "    <tr>\n",
       "      <th>416_042606</th>\n",
       "      <td>43</td>\n",
       "      <td>24</td>\n",
       "      <td>White</td>\n",
       "      <td>0.0</td>\n",
       "      <td>Low</td>\n",
       "      <td>I</td>\n",
       "      <td>temp</td>\n",
       "      <td>S352</td>\n",
       "      <td>0.628217</td>\n",
       "      <td>I</td>\n",
       "    </tr>\n",
       "    <tr>\n",
       "      <th>414_060906</th>\n",
       "      <td>29</td>\n",
       "      <td>28</td>\n",
       "      <td>White</td>\n",
       "      <td>0.0</td>\n",
       "      <td>Low</td>\n",
       "      <td>I</td>\n",
       "      <td>temp</td>\n",
       "      <td>S001</td>\n",
       "      <td>0.528216</td>\n",
       "      <td>I</td>\n",
       "    </tr>\n",
       "    <tr>\n",
       "      <th>414_061206</th>\n",
       "      <td>89</td>\n",
       "      <td>28</td>\n",
       "      <td>White</td>\n",
       "      <td>0.0</td>\n",
       "      <td>Low</td>\n",
       "      <td>I</td>\n",
       "      <td>temp</td>\n",
       "      <td>S001</td>\n",
       "      <td>0.528216</td>\n",
       "      <td>I</td>\n",
       "    </tr>\n",
       "    <tr>\n",
       "      <th>418_061006</th>\n",
       "      <td>110</td>\n",
       "      <td>24</td>\n",
       "      <td>White</td>\n",
       "      <td>1.0</td>\n",
       "      <td>Low</td>\n",
       "      <td>I</td>\n",
       "      <td>temp</td>\n",
       "      <td>S212</td>\n",
       "      <td>0.478722</td>\n",
       "      <td>I</td>\n",
       "    </tr>\n",
       "    <tr>\n",
       "      <th>418_060706</th>\n",
       "      <td>106</td>\n",
       "      <td>24</td>\n",
       "      <td>White</td>\n",
       "      <td>0.0</td>\n",
       "      <td>Low</td>\n",
       "      <td>I</td>\n",
       "      <td>temp</td>\n",
       "      <td>S212</td>\n",
       "      <td>0.478722</td>\n",
       "      <td>I</td>\n",
       "    </tr>\n",
       "    <tr>\n",
       "      <th>...</th>\n",
       "      <td>...</td>\n",
       "      <td>...</td>\n",
       "      <td>...</td>\n",
       "      <td>...</td>\n",
       "      <td>...</td>\n",
       "      <td>...</td>\n",
       "      <td>...</td>\n",
       "      <td>...</td>\n",
       "      <td>...</td>\n",
       "      <td>...</td>\n",
       "    </tr>\n",
       "    <tr>\n",
       "      <th>410_051206</th>\n",
       "      <td>110</td>\n",
       "      <td>3</td>\n",
       "      <td>White</td>\n",
       "      <td>7.0</td>\n",
       "      <td>High</td>\n",
       "      <td>IV-B</td>\n",
       "      <td>temp</td>\n",
       "      <td>S344</td>\n",
       "      <td>0.984778</td>\n",
       "      <td>IV-B</td>\n",
       "    </tr>\n",
       "    <tr>\n",
       "      <th>410_050806</th>\n",
       "      <td>106</td>\n",
       "      <td>3</td>\n",
       "      <td>White</td>\n",
       "      <td>7.0</td>\n",
       "      <td>High</td>\n",
       "      <td>IV-B</td>\n",
       "      <td>temp</td>\n",
       "      <td>S344</td>\n",
       "      <td>0.984778</td>\n",
       "      <td>IV-B</td>\n",
       "    </tr>\n",
       "    <tr>\n",
       "      <th>410_050506</th>\n",
       "      <td>99</td>\n",
       "      <td>3</td>\n",
       "      <td>White</td>\n",
       "      <td>4.0</td>\n",
       "      <td>Int</td>\n",
       "      <td>IV-B</td>\n",
       "      <td>temp</td>\n",
       "      <td>S344</td>\n",
       "      <td>0.984778</td>\n",
       "      <td>IV-B</td>\n",
       "    </tr>\n",
       "    <tr>\n",
       "      <th>411_032406</th>\n",
       "      <td>5</td>\n",
       "      <td>2</td>\n",
       "      <td>Black</td>\n",
       "      <td>8.0</td>\n",
       "      <td>High</td>\n",
       "      <td>IV-B</td>\n",
       "      <td>temp</td>\n",
       "      <td>S344</td>\n",
       "      <td>0.984778</td>\n",
       "      <td>IV-B</td>\n",
       "    </tr>\n",
       "    <tr>\n",
       "      <th>410_032706</th>\n",
       "      <td>61</td>\n",
       "      <td>3</td>\n",
       "      <td>White</td>\n",
       "      <td>5.0</td>\n",
       "      <td>Int</td>\n",
       "      <td>IV-B</td>\n",
       "      <td>temp</td>\n",
       "      <td>S344</td>\n",
       "      <td>0.984778</td>\n",
       "      <td>IV-B</td>\n",
       "    </tr>\n",
       "  </tbody>\n",
       "</table>\n",
       "<p>937 rows × 10 columns</p>\n",
       "</div>"
      ],
      "text/plain": [
       "            time subjectID ethnicity  nugent nugent_score community DB_type  \\\n",
       "sampleID                                                                      \n",
       "416_042606    43        24     White     0.0          Low         I    temp   \n",
       "414_060906    29        28     White     0.0          Low         I    temp   \n",
       "414_061206    89        28     White     0.0          Low         I    temp   \n",
       "418_061006   110        24     White     1.0          Low         I    temp   \n",
       "418_060706   106        24     White     0.0          Low         I    temp   \n",
       "...          ...       ...       ...     ...          ...       ...     ...   \n",
       "410_051206   110         3     White     7.0         High      IV-B    temp   \n",
       "410_050806   106         3     White     7.0         High      IV-B    temp   \n",
       "410_050506    99         3     White     4.0          Int      IV-B    temp   \n",
       "411_032406     5         2     Black     8.0         High      IV-B    temp   \n",
       "410_032706    61         3     White     5.0          Int      IV-B    temp   \n",
       "\n",
       "           closest_sample  mt_pseudotime community_cat  \n",
       "sampleID                                                \n",
       "416_042606           S352       0.628217             I  \n",
       "414_060906           S001       0.528216             I  \n",
       "414_061206           S001       0.528216             I  \n",
       "418_061006           S212       0.478722             I  \n",
       "418_060706           S212       0.478722             I  \n",
       "...                   ...            ...           ...  \n",
       "410_051206           S344       0.984778          IV-B  \n",
       "410_050806           S344       0.984778          IV-B  \n",
       "410_050506           S344       0.984778          IV-B  \n",
       "411_032406           S344       0.984778          IV-B  \n",
       "410_032706           S344       0.984778          IV-B  \n",
       "\n",
       "[937 rows x 10 columns]"
      ]
     },
     "metadata": {},
     "output_type": "display_data"
    }
   ],
   "source": [
    "ord_temp_meta_df['community_cat'] = pd.Categorical(\n",
    "    ord_temp_meta_df['community'], \n",
    "    categories = list(community_colors.keys()), \n",
    "    ordered = True)\n",
    "ord_temp_meta_df.sort_values('community_cat', inplace = True)\n",
    "display(ord_temp_meta_df)"
   ]
  },
  {
   "cell_type": "markdown",
   "id": "5033baa8",
   "metadata": {},
   "source": [
    "#### Plots"
   ]
  },
  {
   "cell_type": "code",
   "execution_count": 57,
   "id": "c6f84c9a",
   "metadata": {
    "scrolled": true
   },
   "outputs": [
    {
     "data": {
      "application/vnd.plotly.v1+json": {
       "config": {
        "plotlyServerURL": "https://plot.ly"
       },
       "data": [
        {
         "hovertemplate": "community=I<br>subjectID=24<br>time=%{x}<br>mt_pseudotime=%{y}<extra></extra>",
         "legendgroup": "I",
         "marker": {
          "color": "darkred",
          "line": {
           "color": "DarkSlateGrey",
           "width": 2
          },
          "opacity": 0.8,
          "size": 8,
          "symbol": "circle"
         },
         "mode": "markers",
         "name": "I",
         "orientation": "v",
         "showlegend": true,
         "type": "scatter",
         "x": [
          43,
          110,
          106,
          103,
          57,
          54,
          50,
          47,
          29,
          26,
          15,
          8,
          22,
          12,
          65,
          78,
          99,
          96,
          82,
          40,
          36,
          19,
          92,
          1
         ],
         "xaxis": "x29",
         "y": [
          0.6282166242599487,
          0.478721559047699,
          0.478721559047699,
          0.478721559047699,
          0.478721559047699,
          0.478721559047699,
          0.478721559047699,
          0.478721559047699,
          0.478721559047699,
          0.478721559047699,
          0.478721559047699,
          0.478721559047699,
          0.478721559047699,
          0.5583375692367554,
          0.8521263599395752,
          0.5605032444000244,
          0.5583375692367554,
          0.5583375692367554,
          0.5583375692367554,
          0.5583375692367554,
          0.5605032444000244,
          0.530521810054779,
          0.6282166242599487,
          0.6282166242599487
         ],
         "yaxis": "y29"
        },
        {
         "hovertemplate": "community=I<br>subjectID=28<br>time=%{x}<br>mt_pseudotime=%{y}<extra></extra>",
         "legendgroup": "I",
         "marker": {
          "color": "darkred",
          "line": {
           "color": "DarkSlateGrey",
           "width": 2
          },
          "opacity": 0.8,
          "size": 8,
          "symbol": "circle"
         },
         "mode": "markers",
         "name": "I",
         "orientation": "v",
         "showlegend": false,
         "type": "scatter",
         "x": [
          29,
          89,
          36,
          57,
          85,
          96,
          26,
          61,
          43,
          47,
          71,
          75,
          54,
          103,
          78,
          22,
          15,
          82,
          19,
          12,
          5,
          111,
          106,
          68,
          50,
          33,
          8,
          1,
          99
         ],
         "xaxis": "x30",
         "y": [
          0.5282155275344849,
          0.5282155275344849,
          0.3911725878715515,
          0.3911725878715515,
          0.3911725878715515,
          0.3911725878715515,
          0.2052018642425537,
          0.3752960562705994,
          0.5428323745727539,
          0.3677183985710144,
          0.3677183985710144,
          0.3677183985710144,
          0.2399383783340454,
          0.3677183985710144,
          0.2152771949768066,
          0.2152771949768066,
          0.2152771949768066,
          0.3229622840881348,
          0.3229622840881348,
          0.3229622840881348,
          0.5990453958511353,
          0.4857938289642334,
          0.4857938289642334,
          0.4857938289642334,
          0.4857938289642334,
          0.4857938289642334,
          0.4857938289642334,
          0.4857938289642334,
          0.4857938289642334
         ],
         "yaxis": "y30"
        },
        {
         "hovertemplate": "community=I<br>subjectID=32<br>time=%{x}<br>mt_pseudotime=%{y}<extra></extra>",
         "legendgroup": "I",
         "marker": {
          "color": "darkred",
          "line": {
           "color": "DarkSlateGrey",
           "width": 2
          },
          "opacity": 0.8,
          "size": 8,
          "symbol": "circle"
         },
         "mode": "markers",
         "name": "I",
         "orientation": "v",
         "showlegend": false,
         "type": "scatter",
         "x": [
          21,
          102,
          63,
          98,
          105,
          109,
          84,
          95,
          59,
          77,
          18,
          88,
          91
         ],
         "xaxis": "x31",
         "y": [
          0.5725469589233398,
          0.2052018642425537,
          0.3651754856109619,
          0.2152771949768066,
          0.2152771949768066,
          0.2152771949768066,
          0.2514879107475281,
          0.3651754856109619,
          0.5583375692367554,
          0.530521810054779,
          0.6282166242599487,
          0.2514879107475281,
          0.3674241900444031
         ],
         "yaxis": "y31"
        },
        {
         "hovertemplate": "community=I<br>subjectID=26<br>time=%{x}<br>mt_pseudotime=%{y}<extra></extra>",
         "legendgroup": "I",
         "marker": {
          "color": "darkred",
          "line": {
           "color": "DarkSlateGrey",
           "width": 2
          },
          "opacity": 0.8,
          "size": 8,
          "symbol": "circle"
         },
         "mode": "markers",
         "name": "I",
         "orientation": "v",
         "showlegend": false,
         "type": "scatter",
         "x": [
          29,
          26,
          22,
          78,
          75,
          68,
          64,
          54,
          50,
          33,
          15,
          82
         ],
         "xaxis": "x32",
         "y": [
          0.478721559047699,
          0.4607802629470825,
          0.3464263081550598,
          null,
          null,
          null,
          0.5769237279891968,
          null,
          null,
          0.5605032444000244,
          0.530521810054779,
          0.5990453958511353
         ],
         "yaxis": "y32"
        },
        {
         "hovertemplate": "community=I<br>subjectID=30<br>time=%{x}<br>mt_pseudotime=%{y}<extra></extra>",
         "legendgroup": "I",
         "marker": {
          "color": "darkred",
          "line": {
           "color": "DarkSlateGrey",
           "width": 2
          },
          "opacity": 0.8,
          "size": 8,
          "symbol": "circle"
         },
         "mode": "markers",
         "name": "I",
         "orientation": "v",
         "showlegend": false,
         "type": "scatter",
         "x": [
          8,
          54,
          89,
          68,
          40,
          107,
          100,
          92,
          16,
          82,
          43,
          12,
          88,
          19,
          1,
          61,
          64,
          79,
          37,
          29,
          22,
          71,
          35,
          26
         ],
         "xaxis": "x25",
         "y": [
          0.5282155275344849,
          null,
          null,
          0.360440731048584,
          0.4739229679107666,
          null,
          null,
          0.4823392629623413,
          0.3500816226005554,
          0.477703332901001,
          0.3500816226005554,
          0.3911725878715515,
          0.3911725878715515,
          0.3229622840881348,
          0.5797845125198364,
          0.5990453958511353,
          0.4436368942260742,
          0.3534717559814453,
          0.3534717559814453,
          0.3534717559814453,
          0.2245948910713196,
          0.2245948910713196,
          0.3621440529823303,
          0.3685682415962219
         ],
         "yaxis": "y25"
        },
        {
         "hovertemplate": "community=I<br>subjectID=31<br>time=%{x}<br>mt_pseudotime=%{y}<extra></extra>",
         "legendgroup": "I",
         "marker": {
          "color": "darkred",
          "line": {
           "color": "DarkSlateGrey",
           "width": 2
          },
          "opacity": 0.8,
          "size": 8,
          "symbol": "circle"
         },
         "mode": "markers",
         "name": "I",
         "orientation": "v",
         "showlegend": false,
         "type": "scatter",
         "x": [
          50,
          1,
          71,
          75,
          82,
          89,
          103,
          68,
          64,
          47,
          54,
          92,
          8,
          15,
          19,
          26,
          36,
          85,
          33,
          29,
          22,
          57,
          99,
          96,
          106
         ],
         "xaxis": "x26",
         "y": [
          0.3911725878715515,
          0.360440731048584,
          0.4631807804107666,
          0.4739229679107666,
          0.5211609601974487,
          0.5963584184646606,
          0.3500816226005554,
          0.5898922681808472,
          null,
          0.514268159866333,
          0.4133954644203186,
          0.6282166242599487,
          0.5331777334213257,
          null,
          0.5066603422164917,
          0.3250495195388794,
          0.5881200432777405,
          0.5797845125198364,
          0.5797845125198364,
          0.5797845125198364,
          0.2245948910713196,
          0.4133042097091675,
          0.3621440529823303,
          0.4537988901138306,
          0.4851283431053162
         ],
         "yaxis": "y26"
        },
        {
         "hovertemplate": "community=I<br>subjectID=29<br>time=%{x}<br>mt_pseudotime=%{y}<extra></extra>",
         "legendgroup": "I",
         "marker": {
          "color": "darkred",
          "line": {
           "color": "DarkSlateGrey",
           "width": 2
          },
          "opacity": 0.8,
          "size": 8,
          "symbol": "circle"
         },
         "mode": "markers",
         "name": "I",
         "orientation": "v",
         "showlegend": false,
         "type": "scatter",
         "x": [
          1,
          19,
          26,
          47,
          61,
          106,
          99,
          64,
          5,
          8,
          15,
          50,
          43,
          41,
          103,
          71,
          75,
          85,
          29,
          33,
          89,
          92,
          36,
          54,
          22,
          57,
          82,
          78,
          69,
          110
         ],
         "xaxis": "x27",
         "y": [
          0.360440731048584,
          0.2152771949768066,
          0.2152771949768066,
          0.2152771949768066,
          0.2152771949768066,
          0.2399383783340454,
          0.2399383783340454,
          0.2399383783340454,
          0.2399383783340454,
          0.2399383783340454,
          0.2245948910713196,
          0.360440731048584,
          0.2245948910713196,
          0.2245948910713196,
          0.3534717559814453,
          0.2245948910713196,
          0.2245948910713196,
          0.2245948910713196,
          0.481661856174469,
          0.3644739389419556,
          0.3644739389419556,
          0.3644739389419556,
          0.4133042097091675,
          0.3621440529823303,
          0.2399383783340454,
          0.3268196582794189,
          0.4537988901138306,
          0.3685682415962219,
          0.4851283431053162,
          0.3685682415962219
         ],
         "yaxis": "y27"
        },
        {
         "hovertemplate": "community=I<br>subjectID=27<br>time=%{x}<br>mt_pseudotime=%{y}<extra></extra>",
         "legendgroup": "I",
         "marker": {
          "color": "darkred",
          "line": {
           "color": "DarkSlateGrey",
           "width": 2
          },
          "opacity": 0.8,
          "size": 8,
          "symbol": "circle"
         },
         "mode": "markers",
         "name": "I",
         "orientation": "v",
         "showlegend": false,
         "type": "scatter",
         "x": [
          22,
          103,
          92,
          50,
          96,
          19
         ],
         "xaxis": "x28",
         "y": [
          null,
          0.2399383783340454,
          0.5797845125198364,
          0.5797845125198364,
          0.4857938289642334,
          0.4436368942260742
         ],
         "yaxis": "y28"
        },
        {
         "hovertemplate": "community=II<br>subjectID=23<br>time=%{x}<br>mt_pseudotime=%{y}<extra></extra>",
         "legendgroup": "II",
         "marker": {
          "color": "orange",
          "line": {
           "color": "DarkSlateGrey",
           "width": 2
          },
          "opacity": 0.8,
          "size": 8,
          "symbol": "circle"
         },
         "mode": "markers",
         "name": "II",
         "orientation": "v",
         "showlegend": true,
         "type": "scatter",
         "x": [
          48,
          29,
          61,
          1,
          5,
          96,
          64,
          110,
          82,
          22,
          42,
          33,
          57,
          71,
          50,
          40,
          19,
          15,
          12,
          78,
          89,
          85,
          26,
          36,
          54,
          8
         ],
         "xaxis": "x21",
         "y": [
          0.6697742938995361,
          0.6697742938995361,
          0.6697742938995361,
          0.6697742938995361,
          0.6697742938995361,
          0.7621912360191345,
          0.6697742938995361,
          0.6697742938995361,
          0.6697742938995361,
          0.5977327227592468,
          0.5977327227592468,
          0.6253159642219543,
          0.5309501886367798,
          0.6415138244628906,
          0.6415138244628906,
          0.6415138244628906,
          0.6415138244628906,
          0.6415138244628906,
          0.6415138244628906,
          0.6697742938995361,
          0.7931357622146606,
          0.6697742938995361,
          0.6697742938995361,
          0.7339422702789307,
          0.7339422702789307,
          0.6697742938995361
         ],
         "yaxis": "y21"
        },
        {
         "hovertemplate": "community=II<br>subjectID=22<br>time=%{x}<br>mt_pseudotime=%{y}<extra></extra>",
         "legendgroup": "II",
         "marker": {
          "color": "orange",
          "line": {
           "color": "DarkSlateGrey",
           "width": 2
          },
          "opacity": 0.8,
          "size": 8,
          "symbol": "circle"
         },
         "mode": "markers",
         "name": "II",
         "orientation": "v",
         "showlegend": false,
         "type": "scatter",
         "x": [
          29,
          1,
          12,
          15,
          19,
          22,
          26,
          46,
          63,
          53,
          56,
          67,
          70,
          74,
          84,
          95,
          49,
          101,
          88,
          39,
          35,
          33,
          81,
          60,
          42,
          5,
          98,
          91
         ],
         "xaxis": "x22",
         "y": [
          0.6697742938995361,
          0.6697742938995361,
          0.6697742938995361,
          0.6697742938995361,
          0.6697742938995361,
          0.6697742938995361,
          0.6697742938995361,
          0.6697742938995361,
          0.6697742938995361,
          0.6697742938995361,
          0.6697742938995361,
          0.6697742938995361,
          0.6697742938995361,
          0.6697742938995361,
          0.6697742938995361,
          0.6697742938995361,
          0.6697742938995361,
          0.6415138244628906,
          0.6415138244628906,
          0.6415138244628906,
          0.6415138244628906,
          0.6415138244628906,
          0.7611137628555298,
          0.7611137628555298,
          0.7611137628555298,
          0.7611137628555298,
          0.6415138244628906,
          0.6415138244628906
         ],
         "yaxis": "y22"
        },
        {
         "hovertemplate": "community=II<br>subjectID=14<br>time=%{x}<br>mt_pseudotime=%{y}<extra></extra>",
         "legendgroup": "II",
         "marker": {
          "color": "orange",
          "line": {
           "color": "DarkSlateGrey",
           "width": 2
          },
          "opacity": 0.8,
          "size": 8,
          "symbol": "circle"
         },
         "mode": "markers",
         "name": "II",
         "orientation": "v",
         "showlegend": false,
         "type": "scatter",
         "x": [
          8
         ],
         "xaxis": "x23",
         "y": [
          0.7339422702789307
         ],
         "yaxis": "y23"
        },
        {
         "hovertemplate": "community=II<br>subjectID=25<br>time=%{x}<br>mt_pseudotime=%{y}<extra></extra>",
         "legendgroup": "II",
         "marker": {
          "color": "orange",
          "line": {
           "color": "DarkSlateGrey",
           "width": 2
          },
          "opacity": 0.8,
          "size": 8,
          "symbol": "circle"
         },
         "mode": "markers",
         "name": "II",
         "orientation": "v",
         "showlegend": false,
         "type": "scatter",
         "x": [
          64
         ],
         "xaxis": "x24",
         "y": [
          0.7155181765556335
         ],
         "yaxis": "y24"
        },
        {
         "hovertemplate": "community=II<br>subjectID=10<br>time=%{x}<br>mt_pseudotime=%{y}<extra></extra>",
         "legendgroup": "II",
         "marker": {
          "color": "orange",
          "line": {
           "color": "DarkSlateGrey",
           "width": 2
          },
          "opacity": 0.8,
          "size": 8,
          "symbol": "circle"
         },
         "mode": "markers",
         "name": "II",
         "orientation": "v",
         "showlegend": false,
         "type": "scatter",
         "x": [
          47
         ],
         "xaxis": "x17",
         "y": [
          0.7339422702789307
         ],
         "yaxis": "y17"
        },
        {
         "hovertemplate": "community=III<br>subjectID=28<br>time=%{x}<br>mt_pseudotime=%{y}<extra></extra>",
         "legendgroup": "III",
         "marker": {
          "color": "chocolate",
          "line": {
           "color": "DarkSlateGrey",
           "width": 2
          },
          "opacity": 0.8,
          "size": 8,
          "symbol": "circle"
         },
         "mode": "markers",
         "name": "III",
         "orientation": "v",
         "showlegend": true,
         "type": "scatter",
         "x": [
          40,
          64,
          92
         ],
         "xaxis": "x30",
         "y": [
          null,
          null,
          null
         ],
         "yaxis": "y30"
        },
        {
         "hovertemplate": "community=III<br>subjectID=26<br>time=%{x}<br>mt_pseudotime=%{y}<extra></extra>",
         "legendgroup": "III",
         "marker": {
          "color": "chocolate",
          "line": {
           "color": "DarkSlateGrey",
           "width": 2
          },
          "opacity": 0.8,
          "size": 8,
          "symbol": "circle"
         },
         "mode": "markers",
         "name": "III",
         "orientation": "v",
         "showlegend": false,
         "type": "scatter",
         "x": [
          36,
          40,
          71,
          47,
          43
         ],
         "xaxis": "x32",
         "y": [
          null,
          0.232918381690979,
          null,
          null,
          null
         ],
         "yaxis": "y32"
        },
        {
         "hovertemplate": "community=III<br>subjectID=30<br>time=%{x}<br>mt_pseudotime=%{y}<extra></extra>",
         "legendgroup": "III",
         "marker": {
          "color": "chocolate",
          "line": {
           "color": "DarkSlateGrey",
           "width": 2
          },
          "opacity": 0.8,
          "size": 8,
          "symbol": "circle"
         },
         "mode": "markers",
         "name": "III",
         "orientation": "v",
         "showlegend": false,
         "type": "scatter",
         "x": [
          6,
          110
         ],
         "xaxis": "x25",
         "y": [
          null,
          null
         ],
         "yaxis": "y25"
        },
        {
         "hovertemplate": "community=III<br>subjectID=31<br>time=%{x}<br>mt_pseudotime=%{y}<extra></extra>",
         "legendgroup": "III",
         "marker": {
          "color": "chocolate",
          "line": {
           "color": "DarkSlateGrey",
           "width": 2
          },
          "opacity": 0.8,
          "size": 8,
          "symbol": "circle"
         },
         "mode": "markers",
         "name": "III",
         "orientation": "v",
         "showlegend": false,
         "type": "scatter",
         "x": [
          43,
          40,
          110
         ],
         "xaxis": "x26",
         "y": [
          null,
          null,
          null
         ],
         "yaxis": "y26"
        },
        {
         "hovertemplate": "community=III<br>subjectID=29<br>time=%{x}<br>mt_pseudotime=%{y}<extra></extra>",
         "legendgroup": "III",
         "marker": {
          "color": "chocolate",
          "line": {
           "color": "DarkSlateGrey",
           "width": 2
          },
          "opacity": 0.8,
          "size": 8,
          "symbol": "circle"
         },
         "mode": "markers",
         "name": "III",
         "orientation": "v",
         "showlegend": false,
         "type": "scatter",
         "x": [
          12
         ],
         "xaxis": "x27",
         "y": [
          null
         ],
         "yaxis": "y27"
        },
        {
         "hovertemplate": "community=III<br>subjectID=27<br>time=%{x}<br>mt_pseudotime=%{y}<extra></extra>",
         "legendgroup": "III",
         "marker": {
          "color": "chocolate",
          "line": {
           "color": "DarkSlateGrey",
           "width": 2
          },
          "opacity": 0.8,
          "size": 8,
          "symbol": "circle"
         },
         "mode": "markers",
         "name": "III",
         "orientation": "v",
         "showlegend": false,
         "type": "scatter",
         "x": [
          36,
          61,
          71,
          29,
          89,
          54,
          33,
          26,
          40,
          43,
          64,
          68,
          85,
          15,
          12,
          8
         ],
         "xaxis": "x28",
         "y": [
          0.6301007270812988,
          null,
          null,
          null,
          null,
          null,
          null,
          null,
          0.6373237371444702,
          null,
          null,
          null,
          0.5964940786361694,
          null,
          0.3793215751647949,
          0.6944100856781006
         ],
         "yaxis": "y28"
        },
        {
         "hovertemplate": "community=III<br>subjectID=14<br>time=%{x}<br>mt_pseudotime=%{y}<extra></extra>",
         "legendgroup": "III",
         "marker": {
          "color": "chocolate",
          "line": {
           "color": "DarkSlateGrey",
           "width": 2
          },
          "opacity": 0.8,
          "size": 8,
          "symbol": "circle"
         },
         "mode": "markers",
         "name": "III",
         "orientation": "v",
         "showlegend": false,
         "type": "scatter",
         "x": [
          103,
          89,
          64,
          50,
          43,
          29,
          26,
          22,
          5,
          15,
          19,
          110,
          106,
          96,
          92,
          85,
          12,
          47,
          54,
          68,
          82,
          57,
          61,
          75,
          71,
          78
         ],
         "xaxis": "x23",
         "y": [
          0.2400784492492676,
          0.2400784492492676,
          0.2400784492492676,
          0.2400784492492676,
          0.2400784492492676,
          0.2400784492492676,
          0.2400784492492676,
          0.3226763606071472,
          0.3302075266838074,
          0.2400784492492676,
          0.2400784492492676,
          0.3661706447601318,
          0.3661706447601318,
          0.3661706447601318,
          0.3661706447601318,
          0.3661706447601318,
          0.3661706447601318,
          0.1127375960350037,
          0.1127375960350037,
          0.1127375960350037,
          0.1127375960350037,
          0.1091346740722656,
          0.1091346740722656,
          0.1091346740722656,
          0.0143362283706665,
          0.1723558902740479
         ],
         "yaxis": "y23"
        },
        {
         "hovertemplate": "community=III<br>subjectID=25<br>time=%{x}<br>mt_pseudotime=%{y}<extra></extra>",
         "legendgroup": "III",
         "marker": {
          "color": "chocolate",
          "line": {
           "color": "DarkSlateGrey",
           "width": 2
          },
          "opacity": 0.8,
          "size": 8,
          "symbol": "circle"
         },
         "mode": "markers",
         "name": "III",
         "orientation": "v",
         "showlegend": false,
         "type": "scatter",
         "x": [
          85,
          89,
          33,
          36,
          40
         ],
         "xaxis": "x24",
         "y": [
          0.6654341220855713,
          null,
          null,
          null,
          null
         ],
         "yaxis": "y24"
        },
        {
         "hovertemplate": "community=III<br>subjectID=10<br>time=%{x}<br>mt_pseudotime=%{y}<extra></extra>",
         "legendgroup": "III",
         "marker": {
          "color": "chocolate",
          "line": {
           "color": "DarkSlateGrey",
           "width": 2
          },
          "opacity": 0.8,
          "size": 8,
          "symbol": "circle"
         },
         "mode": "markers",
         "name": "III",
         "orientation": "v",
         "showlegend": false,
         "type": "scatter",
         "x": [
          1,
          36,
          26,
          19,
          5,
          22,
          8,
          50,
          12,
          33,
          15,
          106,
          61,
          110,
          89,
          29,
          40,
          43,
          54,
          57,
          96
         ],
         "xaxis": "x17",
         "y": [
          0.27245032787323,
          null,
          null,
          null,
          null,
          0.262010931968689,
          null,
          null,
          null,
          null,
          null,
          0.8571332693099976,
          0.8571332693099976,
          0.8571332693099976,
          0.8571332693099976,
          0.2538706064224243,
          null,
          null,
          null,
          0.6944100856781006,
          0.6944100856781006
         ],
         "yaxis": "y17"
        },
        {
         "hovertemplate": "community=III<br>subjectID=11<br>time=%{x}<br>mt_pseudotime=%{y}<extra></extra>",
         "legendgroup": "III",
         "marker": {
          "color": "chocolate",
          "line": {
           "color": "DarkSlateGrey",
           "width": 2
          },
          "opacity": 0.8,
          "size": 8,
          "symbol": "circle"
         },
         "mode": "markers",
         "name": "III",
         "orientation": "v",
         "showlegend": false,
         "type": "scatter",
         "x": [
          54,
          89,
          82,
          43,
          103,
          71,
          78,
          96,
          29,
          22,
          92,
          8,
          5,
          1,
          40,
          26,
          19,
          15,
          12,
          99,
          85,
          57,
          33,
          47
         ],
         "xaxis": "x18",
         "y": [
          0.4975216388702393,
          0.4619441628456116,
          0.3796529173851013,
          0.4975216388702393,
          0.8325881361961365,
          0.8325881361961365,
          0.8325881361961365,
          0.2761101126670837,
          0.3523566722869873,
          0.2630480527877808,
          0.2504851222038269,
          0.2504851222038269,
          0.5099396109580994,
          null,
          0.2598756551742554,
          0.2598756551742554,
          0.2690752744674683,
          0.262010931968689,
          0.262010931968689,
          0.4349069595336914,
          0.2401484251022339,
          0.6944100856781006,
          0.6944100856781006,
          0.6944100856781006
         ],
         "yaxis": "y18"
        },
        {
         "hovertemplate": "community=III<br>subjectID=15<br>time=%{x}<br>mt_pseudotime=%{y}<extra></extra>",
         "legendgroup": "III",
         "marker": {
          "color": "chocolate",
          "line": {
           "color": "DarkSlateGrey",
           "width": 2
          },
          "opacity": 0.8,
          "size": 8,
          "symbol": "circle"
         },
         "mode": "markers",
         "name": "III",
         "orientation": "v",
         "showlegend": false,
         "type": "scatter",
         "x": [
          40,
          36,
          64,
          96,
          68,
          26,
          92,
          85,
          61,
          57,
          89,
          82,
          1,
          33,
          106,
          110,
          50,
          12,
          5,
          8,
          71,
          75,
          15,
          22,
          43,
          47,
          99,
          78,
          103
         ],
         "xaxis": "x19",
         "y": [
          0.4619441628456116,
          0.4619441628456116,
          0.4975216388702393,
          0.2630480527877808,
          0.2598756551742554,
          0.2598756551742554,
          0.2690752744674683,
          0.27245032787323,
          null,
          null,
          0.2690752744674683,
          0.2493546009063721,
          0.2493546009063721,
          null,
          0.2493546009063721,
          0.2401484251022339,
          0.2401484251022339,
          0.2401484251022339,
          0.2401484251022339,
          0.3661706447601318,
          0.5964940786361694,
          0.02359592914581299,
          0.1723558902740479,
          null,
          0.2246870994567871,
          0.2246870994567871,
          0.2246870994567871,
          0.2538706064224243,
          0.2246870994567871
         ],
         "yaxis": "y19"
        },
        {
         "hovertemplate": "community=III<br>subjectID=16<br>time=%{x}<br>mt_pseudotime=%{y}<extra></extra>",
         "legendgroup": "III",
         "marker": {
          "color": "chocolate",
          "line": {
           "color": "DarkSlateGrey",
           "width": 2
          },
          "opacity": 0.8,
          "size": 8,
          "symbol": "circle"
         },
         "mode": "markers",
         "name": "III",
         "orientation": "v",
         "showlegend": false,
         "type": "scatter",
         "x": [
          82,
          85,
          103,
          78,
          15,
          40,
          12,
          22,
          61,
          54,
          50,
          47,
          33,
          96,
          92,
          19,
          8,
          5,
          26,
          43,
          29,
          1,
          106,
          110,
          94,
          57,
          36,
          89,
          75
         ],
         "xaxis": "x20",
         "y": [
          0.3523566722869873,
          0.3523566722869873,
          0.3523566722869873,
          0.3523566722869873,
          0.3523566722869873,
          0.2630480527877808,
          0.3523566722869873,
          null,
          0.2598756551742554,
          0.2598756551742554,
          0.2598756551742554,
          0.2598756551742554,
          0.2598756551742554,
          0.2598756551742554,
          0.27245032787323,
          null,
          null,
          null,
          null,
          0.262010931968689,
          0.262010931968689,
          null,
          0.282631516456604,
          0.3661706447601318,
          0.3661706447601318,
          0.3661706447601318,
          null,
          0.2953194379806519,
          0.294378399848938
         ],
         "yaxis": "y20"
        },
        {
         "hovertemplate": "community=III<br>subjectID=13<br>time=%{x}<br>mt_pseudotime=%{y}<extra></extra>",
         "legendgroup": "III",
         "marker": {
          "color": "chocolate",
          "line": {
           "color": "DarkSlateGrey",
           "width": 2
          },
          "opacity": 0.8,
          "size": 8,
          "symbol": "circle"
         },
         "mode": "markers",
         "name": "III",
         "orientation": "v",
         "showlegend": false,
         "type": "scatter",
         "x": [
          19,
          15,
          8,
          92,
          50,
          106,
          5,
          26,
          40,
          64,
          29,
          33,
          36,
          43,
          22,
          61,
          71,
          85,
          100,
          68,
          1,
          96,
          89,
          79,
          12,
          82,
          54,
          47
         ],
         "xaxis": "x13",
         "y": [
          0.4619441628456116,
          0.4619441628456116,
          0.4619441628456116,
          0.8325881361961365,
          0.8325881361961365,
          0.6301007270812988,
          0.3226763606071472,
          0.3977048397064209,
          0.3977048397064209,
          0.3977048397064209,
          0.2519773244857788,
          0.2519773244857788,
          0.2519773244857788,
          0.2519773244857788,
          0.3977048397064209,
          0.2845251560211182,
          0.2878804802894592,
          null,
          null,
          0.232918381690979,
          0.2306427955627441,
          null,
          null,
          null,
          0.3661706447601318,
          0.282631516456604,
          0.8571332693099976,
          0.8571332693099976
         ],
         "yaxis": "y13"
        },
        {
         "hovertemplate": "community=III<br>subjectID=12<br>time=%{x}<br>mt_pseudotime=%{y}<extra></extra>",
         "legendgroup": "III",
         "marker": {
          "color": "chocolate",
          "line": {
           "color": "DarkSlateGrey",
           "width": 2
          },
          "opacity": 0.8,
          "size": 8,
          "symbol": "circle"
         },
         "mode": "markers",
         "name": "III",
         "orientation": "v",
         "showlegend": false,
         "type": "scatter",
         "x": [
          82,
          78,
          36,
          19,
          15,
          61,
          12,
          8,
          54,
          57,
          64,
          92,
          47,
          85,
          68,
          40,
          22,
          89,
          75
         ],
         "xaxis": "x14",
         "y": [
          0.3796529173851013,
          0.4975216388702393,
          0.6301007270812988,
          0.221490740776062,
          0.2344281673431396,
          0.3226763606071472,
          0.3226763606071472,
          0.4575515985488892,
          0.2743305563926697,
          0.07051962614059448,
          0.3518527150154114,
          0.6654341220855713,
          0.6654341220855713,
          0.3661706447601318,
          0.3661706447601318,
          0.3661706447601318,
          0.3661706447601318,
          0.3661706447601318,
          0.6944100856781006
         ],
         "yaxis": "y14"
        },
        {
         "hovertemplate": "community=III<br>subjectID=2<br>time=%{x}<br>mt_pseudotime=%{y}<extra></extra>",
         "legendgroup": "III",
         "marker": {
          "color": "chocolate",
          "line": {
           "color": "DarkSlateGrey",
           "width": 2
          },
          "opacity": 0.8,
          "size": 8,
          "symbol": "circle"
         },
         "mode": "markers",
         "name": "III",
         "orientation": "v",
         "showlegend": false,
         "type": "scatter",
         "x": [
          26,
          29,
          92,
          22,
          8,
          85,
          97,
          69,
          36
         ],
         "xaxis": "x15",
         "y": [
          0.8325881361961365,
          0.4975216388702393,
          0.5099396109580994,
          0.5099396109580994,
          0.5099396109580994,
          0.6373237371444702,
          0.8571332693099976,
          0.8571332693099976,
          0.6944100856781006
         ],
         "yaxis": "y15"
        },
        {
         "hovertemplate": "community=III<br>subjectID=1<br>time=%{x}<br>mt_pseudotime=%{y}<extra></extra>",
         "legendgroup": "III",
         "marker": {
          "color": "chocolate",
          "line": {
           "color": "DarkSlateGrey",
           "width": 2
          },
          "opacity": 0.8,
          "size": 8,
          "symbol": "circle"
         },
         "mode": "markers",
         "name": "III",
         "orientation": "v",
         "showlegend": false,
         "type": "scatter",
         "x": [
          20,
          90,
          85,
          1,
          29,
          43,
          57,
          108,
          106
         ],
         "xaxis": "x16",
         "y": [
          0.8325881361961365,
          null,
          0.6301007270812988,
          0.2866359949111938,
          null,
          0.5099396109580994,
          0.3661706447601318,
          0.8571332693099976,
          0.8571332693099976
         ],
         "yaxis": "y16"
        },
        {
         "hovertemplate": "community=III<br>subjectID=21<br>time=%{x}<br>mt_pseudotime=%{y}<extra></extra>",
         "legendgroup": "III",
         "marker": {
          "color": "chocolate",
          "line": {
           "color": "DarkSlateGrey",
           "width": 2
          },
          "opacity": 0.8,
          "size": 8,
          "symbol": "circle"
         },
         "mode": "markers",
         "name": "III",
         "orientation": "v",
         "showlegend": false,
         "type": "scatter",
         "x": [
          12,
          5,
          1,
          100,
          72,
          76,
          40,
          19,
          50,
          93,
          54,
          43,
          97,
          15,
          104,
          90,
          86,
          83,
          61,
          29,
          22,
          111,
          79,
          57,
          64,
          26,
          36,
          8
         ],
         "xaxis": "x9",
         "y": [
          0.2400784492492676,
          0.4575515985488892,
          0.3302075266838074,
          0.3302075266838074,
          0.2598756551742554,
          0.27245032787323,
          0.27245032787323,
          null,
          0.2400784492492676,
          0.262010931968689,
          0.262010931968689,
          0.262010931968689,
          0.262010931968689,
          null,
          0.3661706447601318,
          0.3661706447601318,
          0.3661706447601318,
          0.3661706447601318,
          0.3661706447601318,
          0.3661706447601318,
          0.3661706447601318,
          0.3661706447601318,
          0.4349069595336914,
          0.4349069595336914,
          0.2401484251022339,
          null,
          0.7705563902854919,
          0.09192442893981934
         ],
         "yaxis": "y9"
        },
        {
         "hovertemplate": "community=III<br>subjectID=19<br>time=%{x}<br>mt_pseudotime=%{y}<extra></extra>",
         "legendgroup": "III",
         "marker": {
          "color": "chocolate",
          "line": {
           "color": "DarkSlateGrey",
           "width": 2
          },
          "opacity": 0.8,
          "size": 8,
          "symbol": "circle"
         },
         "mode": "markers",
         "name": "III",
         "orientation": "v",
         "showlegend": false,
         "type": "scatter",
         "x": [
          92,
          57,
          6,
          85,
          29,
          22,
          78,
          40,
          43,
          103,
          12,
          108,
          99,
          19,
          31,
          36,
          75,
          96,
          82,
          8,
          15,
          33,
          38,
          47,
          50,
          61,
          71,
          89,
          106,
          54,
          26,
          64,
          1
         ],
         "xaxis": "x10",
         "y": [
          0.221490740776062,
          0.221490740776062,
          0.221490740776062,
          0.4575515985488892,
          0.3518527150154114,
          0.2845251560211182,
          0.2306427955627441,
          0.2306427955627441,
          0.2306427955627441,
          0.232918381690979,
          0.2400784492492676,
          0.6654341220855713,
          0.3661706447601318,
          0.3661706447601318,
          0.3661706447601318,
          0.3661706447601318,
          0.3661706447601318,
          0.3661706447601318,
          0.1723558902740479,
          0.2400784492492676,
          0.2400784492492676,
          0.2400784492492676,
          0.2400784492492676,
          0.2400784492492676,
          0.2400784492492676,
          0.2400784492492676,
          0.2400784492492676,
          0.2400784492492676,
          0.6301007270812988,
          0.5966441631317139,
          0.5535305738449097,
          0.03441989421844482,
          0.5966441631317139
         ],
         "yaxis": "y10"
        },
        {
         "hovertemplate": "community=III<br>subjectID=18<br>time=%{x}<br>mt_pseudotime=%{y}<extra></extra>",
         "legendgroup": "III",
         "marker": {
          "color": "chocolate",
          "line": {
           "color": "DarkSlateGrey",
           "width": 2
          },
          "opacity": 0.8,
          "size": 8,
          "symbol": "circle"
         },
         "mode": "markers",
         "name": "III",
         "orientation": "v",
         "showlegend": false,
         "type": "scatter",
         "x": [
          82,
          43,
          40,
          110,
          5,
          57,
          36,
          54,
          61,
          71,
          75,
          85,
          92,
          106,
          12,
          22,
          29,
          33,
          96,
          1,
          15,
          26,
          47,
          50,
          64,
          78,
          89,
          99,
          103,
          19
         ],
         "xaxis": "x11",
         "y": [
          0.3226763606071472,
          0.4575515985488892,
          0.4575515985488892,
          0.3977048397064209,
          0.2400784492492676,
          0.6654341220855713,
          0.3661706447601318,
          0.3661706447601318,
          0.3661706447601318,
          0.3661706447601318,
          0.3661706447601318,
          0.3661706447601318,
          0.3661706447601318,
          0.3661706447601318,
          0.02359592914581299,
          0.02359592914581299,
          0.502534031867981,
          0.4906532764434814,
          0.4364956617355347,
          0.02359592914581299,
          0.2400784492492676,
          0.2400784492492676,
          0.2400784492492676,
          0.2400784492492676,
          0.2400784492492676,
          0.2400784492492676,
          0.2400784492492676,
          0.2400784492492676,
          0.2400784492492676,
          0.0143362283706665
         ],
         "yaxis": "y11"
        },
        {
         "hovertemplate": "community=III<br>subjectID=17<br>time=%{x}<br>mt_pseudotime=%{y}<extra></extra>",
         "legendgroup": "III",
         "marker": {
          "color": "chocolate",
          "line": {
           "color": "DarkSlateGrey",
           "width": 2
          },
          "opacity": 0.8,
          "size": 8,
          "symbol": "circle"
         },
         "mode": "markers",
         "name": "III",
         "orientation": "v",
         "showlegend": false,
         "type": "scatter",
         "x": [
          43,
          99,
          96,
          36,
          33,
          50,
          71,
          12,
          82,
          1,
          8,
          29,
          5,
          22,
          26,
          47,
          68,
          106,
          15,
          75,
          103,
          110
         ],
         "xaxis": "x12",
         "y": [
          0.4575515985488892,
          0.2761101126670837,
          0.2761101126670837,
          0.2761101126670837,
          0.2761101126670837,
          0.3523566722869873,
          0.3523566722869873,
          0.3523566722869873,
          0.4349069595336914,
          0.3661706447601318,
          0.3661706447601318,
          0.3661706447601318,
          0.3984122276306152,
          0.2953194379806519,
          0.2953194379806519,
          0.2953194379806519,
          0.2953194379806519,
          0.2953194379806519,
          0.2953194379806519,
          0.3349648714065552,
          0.294378399848938,
          0.294378399848938
         ],
         "yaxis": "y12"
        },
        {
         "hovertemplate": "community=III<br>subjectID=8<br>time=%{x}<br>mt_pseudotime=%{y}<extra></extra>",
         "legendgroup": "III",
         "marker": {
          "color": "chocolate",
          "line": {
           "color": "DarkSlateGrey",
           "width": 2
          },
          "opacity": 0.8,
          "size": 8,
          "symbol": "circle"
         },
         "mode": "markers",
         "name": "III",
         "orientation": "v",
         "showlegend": false,
         "type": "scatter",
         "x": [
          23,
          57,
          78,
          29,
          75,
          26,
          54,
          5,
          1
         ],
         "xaxis": "x5",
         "y": [
          0.9501603245735168,
          0.7705563902854919,
          0.917554497718811,
          0.8621475100517273,
          0.8621475100517273,
          0.6944100856781006,
          0.8571332693099976,
          0.8571332693099976,
          0.8571332693099976
         ],
         "yaxis": "y5"
        },
        {
         "hovertemplate": "community=III<br>subjectID=9<br>time=%{x}<br>mt_pseudotime=%{y}<extra></extra>",
         "legendgroup": "III",
         "marker": {
          "color": "chocolate",
          "line": {
           "color": "DarkSlateGrey",
           "width": 2
          },
          "opacity": 0.8,
          "size": 8,
          "symbol": "circle"
         },
         "mode": "markers",
         "name": "III",
         "orientation": "v",
         "showlegend": false,
         "type": "scatter",
         "x": [
          85,
          81
         ],
         "xaxis": "x6",
         "y": [
          0.5099396109580994,
          0.6301007270812988
         ],
         "yaxis": "y6"
        },
        {
         "hovertemplate": "community=III<br>subjectID=20<br>time=%{x}<br>mt_pseudotime=%{y}<extra></extra>",
         "legendgroup": "III",
         "marker": {
          "color": "chocolate",
          "line": {
           "color": "DarkSlateGrey",
           "width": 2
          },
          "opacity": 0.8,
          "size": 8,
          "symbol": "circle"
         },
         "mode": "markers",
         "name": "III",
         "orientation": "v",
         "showlegend": false,
         "type": "scatter",
         "x": [
          106,
          103,
          71,
          61,
          57,
          50,
          47,
          43,
          64,
          89,
          78,
          75,
          68,
          40,
          96,
          33,
          12,
          8,
          26,
          5,
          36,
          22,
          99,
          92,
          19
         ],
         "xaxis": "x7",
         "y": [
          0.2598756551742554,
          0.2598756551742554,
          0.2598756551742554,
          0.2598756551742554,
          0.2690752744674683,
          0.27245032787323,
          null,
          null,
          0.2493546009063721,
          null,
          0.262010931968689,
          0.262010931968689,
          null,
          null,
          0.3661706447601318,
          0.3661706447601318,
          0.3661706447601318,
          0.3661706447601318,
          0.4349069595336914,
          0.4349069595336914,
          0.2401484251022339,
          0.1097342967987061,
          0.282631516456604,
          0.282631516456604,
          0.282631516456604
         ],
         "yaxis": "y7"
        },
        {
         "hovertemplate": "community=III<br>subjectID=7<br>time=%{x}<br>mt_pseudotime=%{y}<extra></extra>",
         "legendgroup": "III",
         "marker": {
          "color": "chocolate",
          "line": {
           "color": "DarkSlateGrey",
           "width": 2
          },
          "opacity": 0.8,
          "size": 8,
          "symbol": "circle"
         },
         "mode": "markers",
         "name": "III",
         "orientation": "v",
         "showlegend": false,
         "type": "scatter",
         "x": [
          1
         ],
         "xaxis": "x8",
         "y": [
          0.7412224411964417
         ],
         "yaxis": "y8"
        },
        {
         "hovertemplate": "community=IV-A<br>subjectID=24<br>time=%{x}<br>mt_pseudotime=%{y}<extra></extra>",
         "legendgroup": "IV-A",
         "marker": {
          "color": "mediumpurple",
          "line": {
           "color": "DarkSlateGrey",
           "width": 2
          },
          "opacity": 0.8,
          "size": 8,
          "symbol": "circle"
         },
         "mode": "markers",
         "name": "IV-A",
         "orientation": "v",
         "showlegend": true,
         "type": "scatter",
         "x": [
          89,
          61,
          33,
          85
         ],
         "xaxis": "x29",
         "y": [
          0.8257129192352295,
          0.9250571131706238,
          0.8257339596748352,
          0.8257339596748352
         ],
         "yaxis": "y29"
        },
        {
         "hovertemplate": "community=IV-A<br>subjectID=32<br>time=%{x}<br>mt_pseudotime=%{y}<extra></extra>",
         "legendgroup": "IV-A",
         "marker": {
          "color": "mediumpurple",
          "line": {
           "color": "DarkSlateGrey",
           "width": 2
          },
          "opacity": 0.8,
          "size": 8,
          "symbol": "circle"
         },
         "mode": "markers",
         "name": "IV-A",
         "orientation": "v",
         "showlegend": false,
         "type": "scatter",
         "x": [
          74,
          81,
          49,
          53,
          46,
          42,
          28,
          14,
          5,
          8,
          67,
          1,
          32
         ],
         "xaxis": "x31",
         "y": [
          0.966052770614624,
          0.6840965151786804,
          0.8558571338653564,
          0.8874986171722412,
          0.8874986171722412,
          0.9724705815315247,
          0.917597770690918,
          0.6840965151786804,
          0.9250571131706238,
          0.9303717613220215,
          0.9303717613220215,
          0.5605032444000244,
          0.9108473062515259
         ],
         "yaxis": "y31"
        },
        {
         "hovertemplate": "community=IV-A<br>subjectID=26<br>time=%{x}<br>mt_pseudotime=%{y}<extra></extra>",
         "legendgroup": "IV-A",
         "marker": {
          "color": "mediumpurple",
          "line": {
           "color": "DarkSlateGrey",
           "width": 2
          },
          "opacity": 0.8,
          "size": 8,
          "symbol": "circle"
         },
         "mode": "markers",
         "name": "IV-A",
         "orientation": "v",
         "showlegend": false,
         "type": "scatter",
         "x": [
          5,
          12,
          8,
          61,
          19,
          85,
          92,
          106,
          1,
          57,
          89,
          103,
          110
         ],
         "xaxis": "x32",
         "y": [
          0.916901171207428,
          0.916901171207428,
          0.6282166242599487,
          0.6282166242599487,
          0.5605032444000244,
          0.8521263599395752,
          0.8953598141670227,
          0.8946021199226379,
          0.8522374033927917,
          0.8522374033927917,
          0.8522374033927917,
          0.8953598141670227,
          0.915606677532196
         ],
         "yaxis": "y32"
        },
        {
         "hovertemplate": "community=IV-A<br>subjectID=30<br>time=%{x}<br>mt_pseudotime=%{y}<extra></extra>",
         "legendgroup": "IV-A",
         "marker": {
          "color": "mediumpurple",
          "line": {
           "color": "DarkSlateGrey",
           "width": 2
          },
          "opacity": 0.8,
          "size": 8,
          "symbol": "circle"
         },
         "mode": "markers",
         "name": "IV-A",
         "orientation": "v",
         "showlegend": false,
         "type": "scatter",
         "x": [
          85
         ],
         "xaxis": "x25",
         "y": [
          0.8541720509529114
         ],
         "yaxis": "y25"
        },
        {
         "hovertemplate": "community=IV-A<br>subjectID=31<br>time=%{x}<br>mt_pseudotime=%{y}<extra></extra>",
         "legendgroup": "IV-A",
         "marker": {
          "color": "mediumpurple",
          "line": {
           "color": "DarkSlateGrey",
           "width": 2
          },
          "opacity": 0.8,
          "size": 8,
          "symbol": "circle"
         },
         "mode": "markers",
         "name": "IV-A",
         "orientation": "v",
         "showlegend": false,
         "type": "scatter",
         "x": [
          12
         ],
         "xaxis": "x26",
         "y": [
          0.6654341220855713
         ],
         "yaxis": "y26"
        },
        {
         "hovertemplate": "community=IV-A<br>subjectID=27<br>time=%{x}<br>mt_pseudotime=%{y}<extra></extra>",
         "legendgroup": "IV-A",
         "marker": {
          "color": "mediumpurple",
          "line": {
           "color": "DarkSlateGrey",
           "width": 2
          },
          "opacity": 0.8,
          "size": 8,
          "symbol": "circle"
         },
         "mode": "markers",
         "name": "IV-A",
         "orientation": "v",
         "showlegend": false,
         "type": "scatter",
         "x": [
          78,
          75,
          82,
          47,
          5,
          1
         ],
         "xaxis": "x28",
         "y": [
          0.917554497718811,
          0.9250571131706238,
          0.7705563902854919,
          0.7705563902854919,
          0.9883174300193787,
          0.9702640771865845
         ],
         "yaxis": "y28"
        },
        {
         "hovertemplate": "community=IV-A<br>subjectID=23<br>time=%{x}<br>mt_pseudotime=%{y}<extra></extra>",
         "legendgroup": "IV-A",
         "marker": {
          "color": "mediumpurple",
          "line": {
           "color": "DarkSlateGrey",
           "width": 2
          },
          "opacity": 0.8,
          "size": 8,
          "symbol": "circle"
         },
         "mode": "markers",
         "name": "IV-A",
         "orientation": "v",
         "showlegend": false,
         "type": "scatter",
         "x": [
          103,
          99
         ],
         "xaxis": "x21",
         "y": [
          0.8343095183372498,
          0.8257339596748352
         ],
         "yaxis": "y21"
        },
        {
         "hovertemplate": "community=IV-A<br>subjectID=22<br>time=%{x}<br>mt_pseudotime=%{y}<extra></extra>",
         "legendgroup": "IV-A",
         "marker": {
          "color": "mediumpurple",
          "line": {
           "color": "DarkSlateGrey",
           "width": 2
          },
          "opacity": 0.8,
          "size": 8,
          "symbol": "circle"
         },
         "mode": "markers",
         "name": "IV-A",
         "orientation": "v",
         "showlegend": false,
         "type": "scatter",
         "x": [
          105,
          109,
          77
         ],
         "xaxis": "x22",
         "y": [
          0.8946021199226379,
          0.8946021199226379,
          0.8257339596748352
         ],
         "yaxis": "y22"
        },
        {
         "hovertemplate": "community=IV-A<br>subjectID=14<br>time=%{x}<br>mt_pseudotime=%{y}<extra></extra>",
         "legendgroup": "IV-A",
         "marker": {
          "color": "mediumpurple",
          "line": {
           "color": "DarkSlateGrey",
           "width": 2
          },
          "opacity": 0.8,
          "size": 8,
          "symbol": "circle"
         },
         "mode": "markers",
         "name": "IV-A",
         "orientation": "v",
         "showlegend": false,
         "type": "scatter",
         "x": [
          1
         ],
         "xaxis": "x23",
         "y": [
          0.9037297368049622
         ],
         "yaxis": "y23"
        },
        {
         "hovertemplate": "community=IV-A<br>subjectID=25<br>time=%{x}<br>mt_pseudotime=%{y}<extra></extra>",
         "legendgroup": "IV-A",
         "marker": {
          "color": "mediumpurple",
          "line": {
           "color": "DarkSlateGrey",
           "width": 2
          },
          "opacity": 0.8,
          "size": 8,
          "symbol": "circle"
         },
         "mode": "markers",
         "name": "IV-A",
         "orientation": "v",
         "showlegend": false,
         "type": "scatter",
         "x": [
          50,
          71,
          29,
          43,
          54,
          68,
          75,
          83,
          99,
          103,
          1,
          47,
          78,
          106,
          5,
          19,
          15,
          12,
          8,
          22,
          57,
          61,
          92,
          96,
          26,
          110
         ],
         "xaxis": "x24",
         "y": [
          0.6776688098907471,
          0.8983145356178284,
          0.8522374033927917,
          0.8522374033927917,
          0.8522374033927917,
          0.8522374033927917,
          0.8522374033927917,
          0.8522374033927917,
          0.8522374033927917,
          0.8522374033927917,
          0.6282166242599487,
          0.6282166242599487,
          0.6282166242599487,
          0.6282166242599487,
          0.5605032444000244,
          0.8522374033927917,
          0.8522374033927917,
          0.8522374033927917,
          0.8522374033927917,
          0.6654341220855713,
          0.6654341220855713,
          0.6654341220855713,
          0.6654341220855713,
          0.6654341220855713,
          0.8946021199226379,
          0.6282166242599487
         ],
         "yaxis": "y24"
        },
        {
         "hovertemplate": "community=IV-A<br>subjectID=13<br>time=%{x}<br>mt_pseudotime=%{y}<extra></extra>",
         "legendgroup": "IV-A",
         "marker": {
          "color": "mediumpurple",
          "line": {
           "color": "DarkSlateGrey",
           "width": 2
          },
          "opacity": 0.8,
          "size": 8,
          "symbol": "circle"
         },
         "mode": "markers",
         "name": "IV-A",
         "orientation": "v",
         "showlegend": false,
         "type": "scatter",
         "x": [
          103
         ],
         "xaxis": "x13",
         "y": [
          0.9295538663864136
         ],
         "yaxis": "y13"
        },
        {
         "hovertemplate": "community=IV-A<br>subjectID=12<br>time=%{x}<br>mt_pseudotime=%{y}<extra></extra>",
         "legendgroup": "IV-A",
         "marker": {
          "color": "mediumpurple",
          "line": {
           "color": "DarkSlateGrey",
           "width": 2
          },
          "opacity": 0.8,
          "size": 8,
          "symbol": "circle"
         },
         "mode": "markers",
         "name": "IV-A",
         "orientation": "v",
         "showlegend": false,
         "type": "scatter",
         "x": [
          50,
          5,
          1,
          99,
          29
         ],
         "xaxis": "x14",
         "y": [
          0.9328565001487732,
          0.9615234136581421,
          0.9108473062515259,
          0.9108473062515259,
          0.9108473062515259
         ],
         "yaxis": "y14"
        },
        {
         "hovertemplate": "community=IV-A<br>subjectID=2<br>time=%{x}<br>mt_pseudotime=%{y}<extra></extra>",
         "legendgroup": "IV-A",
         "marker": {
          "color": "mediumpurple",
          "line": {
           "color": "DarkSlateGrey",
           "width": 2
          },
          "opacity": 0.8,
          "size": 8,
          "symbol": "circle"
         },
         "mode": "markers",
         "name": "IV-A",
         "orientation": "v",
         "showlegend": false,
         "type": "scatter",
         "x": [
          12
         ],
         "xaxis": "x15",
         "y": [
          0.8935299515724182
         ],
         "yaxis": "y15"
        },
        {
         "hovertemplate": "community=IV-A<br>subjectID=21<br>time=%{x}<br>mt_pseudotime=%{y}<extra></extra>",
         "legendgroup": "IV-A",
         "marker": {
          "color": "mediumpurple",
          "line": {
           "color": "DarkSlateGrey",
           "width": 2
          },
          "opacity": 0.8,
          "size": 8,
          "symbol": "circle"
         },
         "mode": "markers",
         "name": "IV-A",
         "orientation": "v",
         "showlegend": false,
         "type": "scatter",
         "x": [
          33,
          107
         ],
         "xaxis": "x9",
         "y": [
          0.8566378355026245,
          0.6411687135696411
         ],
         "yaxis": "y9"
        },
        {
         "hovertemplate": "community=IV-A<br>subjectID=18<br>time=%{x}<br>mt_pseudotime=%{y}<extra></extra>",
         "legendgroup": "IV-A",
         "marker": {
          "color": "mediumpurple",
          "line": {
           "color": "DarkSlateGrey",
           "width": 2
          },
          "opacity": 0.8,
          "size": 8,
          "symbol": "circle"
         },
         "mode": "markers",
         "name": "IV-A",
         "orientation": "v",
         "showlegend": false,
         "type": "scatter",
         "x": [
          8
         ],
         "xaxis": "x11",
         "y": [
          0.7412224411964417
         ],
         "yaxis": "y11"
        },
        {
         "hovertemplate": "community=IV-A<br>subjectID=17<br>time=%{x}<br>mt_pseudotime=%{y}<extra></extra>",
         "legendgroup": "IV-A",
         "marker": {
          "color": "mediumpurple",
          "line": {
           "color": "DarkSlateGrey",
           "width": 2
          },
          "opacity": 0.8,
          "size": 8,
          "symbol": "circle"
         },
         "mode": "markers",
         "name": "IV-A",
         "orientation": "v",
         "showlegend": false,
         "type": "scatter",
         "x": [
          64,
          54,
          85,
          94,
          92
         ],
         "xaxis": "x12",
         "y": [
          0.9899440407752991,
          0.917597770690918,
          0.6654341220855713,
          0.9108473062515259,
          0.9108473062515259
         ],
         "yaxis": "y12"
        },
        {
         "hovertemplate": "community=IV-A<br>subjectID=20<br>time=%{x}<br>mt_pseudotime=%{y}<extra></extra>",
         "legendgroup": "IV-A",
         "marker": {
          "color": "mediumpurple",
          "line": {
           "color": "DarkSlateGrey",
           "width": 2
          },
          "opacity": 0.8,
          "size": 8,
          "symbol": "circle"
         },
         "mode": "markers",
         "name": "IV-A",
         "orientation": "v",
         "showlegend": false,
         "type": "scatter",
         "x": [
          1,
          29,
          82,
          85
         ],
         "xaxis": "x7",
         "y": [
          0.6411687135696411,
          0.9442244172096252,
          0.6654341220855713,
          0.8456554412841797
         ],
         "yaxis": "y7"
        },
        {
         "hovertemplate": "community=IV-A<br>subjectID=7<br>time=%{x}<br>mt_pseudotime=%{y}<extra></extra>",
         "legendgroup": "IV-A",
         "marker": {
          "color": "mediumpurple",
          "line": {
           "color": "DarkSlateGrey",
           "width": 2
          },
          "opacity": 0.8,
          "size": 8,
          "symbol": "circle"
         },
         "mode": "markers",
         "name": "IV-A",
         "orientation": "v",
         "showlegend": false,
         "type": "scatter",
         "x": [
          43,
          78
         ],
         "xaxis": "x8",
         "y": [
          0.9328565001487732,
          0.9856137633323669
         ],
         "yaxis": "y8"
        },
        {
         "hovertemplate": "community=IV-B<br>subjectID=32<br>time=%{x}<br>mt_pseudotime=%{y}<extra></extra>",
         "legendgroup": "IV-B",
         "marker": {
          "color": "royalblue",
          "line": {
           "color": "DarkSlateGrey",
           "width": 2
          },
          "opacity": 0.8,
          "size": 8,
          "symbol": "circle"
         },
         "mode": "markers",
         "name": "IV-B",
         "orientation": "v",
         "showlegend": true,
         "type": "scatter",
         "x": [
          56,
          35
         ],
         "xaxis": "x31",
         "y": [
          0.9478358626365662,
          0.9433797597885132
         ],
         "yaxis": "y31"
        },
        {
         "hovertemplate": "community=IV-B<br>subjectID=30<br>time=%{x}<br>mt_pseudotime=%{y}<extra></extra>",
         "legendgroup": "IV-B",
         "marker": {
          "color": "royalblue",
          "line": {
           "color": "DarkSlateGrey",
           "width": 2
          },
          "opacity": 0.8,
          "size": 8,
          "symbol": "circle"
         },
         "mode": "markers",
         "name": "IV-B",
         "orientation": "v",
         "showlegend": false,
         "type": "scatter",
         "x": [
          96,
          103
         ],
         "xaxis": "x25",
         "y": [
          0.9847783446311951,
          0.9847783446311951
         ],
         "yaxis": "y25"
        },
        {
         "hovertemplate": "community=IV-B<br>subjectID=10<br>time=%{x}<br>mt_pseudotime=%{y}<extra></extra>",
         "legendgroup": "IV-B",
         "marker": {
          "color": "royalblue",
          "line": {
           "color": "DarkSlateGrey",
           "width": 2
          },
          "opacity": 0.8,
          "size": 8,
          "symbol": "circle"
         },
         "mode": "markers",
         "name": "IV-B",
         "orientation": "v",
         "showlegend": false,
         "type": "scatter",
         "x": [
          92,
          75,
          71,
          68,
          64,
          78,
          99,
          85
         ],
         "xaxis": "x17",
         "y": [
          0.9847783446311951,
          0.9847783446311951,
          0.9847783446311951,
          0.9847783446311951,
          0.9847783446311951,
          0.8571332693099976,
          0.9164401888847351,
          0.9304115772247314
         ],
         "yaxis": "y17"
        },
        {
         "hovertemplate": "community=IV-B<br>subjectID=11<br>time=%{x}<br>mt_pseudotime=%{y}<extra></extra>",
         "legendgroup": "IV-B",
         "marker": {
          "color": "royalblue",
          "line": {
           "color": "DarkSlateGrey",
           "width": 2
          },
          "opacity": 0.8,
          "size": 8,
          "symbol": "circle"
         },
         "mode": "markers",
         "name": "IV-B",
         "orientation": "v",
         "showlegend": false,
         "type": "scatter",
         "x": [
          64,
          61,
          50,
          68,
          75,
          106,
          110
         ],
         "xaxis": "x18",
         "y": [
          0.9847783446311951,
          0.9847783446311951,
          0.9847783446311951,
          0.9847783446311951,
          0.9847783446311951,
          0.9847783446311951,
          0.9847783446311951
         ],
         "yaxis": "y18"
        },
        {
         "hovertemplate": "community=IV-B<br>subjectID=12<br>time=%{x}<br>mt_pseudotime=%{y}<extra></extra>",
         "legendgroup": "IV-B",
         "marker": {
          "color": "royalblue",
          "line": {
           "color": "DarkSlateGrey",
           "width": 2
          },
          "opacity": 0.8,
          "size": 8,
          "symbol": "circle"
         },
         "mode": "markers",
         "name": "IV-B",
         "orientation": "v",
         "showlegend": false,
         "type": "scatter",
         "x": [
          106,
          110,
          103,
          43
         ],
         "xaxis": "x14",
         "y": [
          0.9856137633323669,
          0.9847783446311951,
          0.9847783446311951,
          0.9501603245735168
         ],
         "yaxis": "y14"
        },
        {
         "hovertemplate": "community=IV-B<br>subjectID=2<br>time=%{x}<br>mt_pseudotime=%{y}<extra></extra>",
         "legendgroup": "IV-B",
         "marker": {
          "color": "royalblue",
          "line": {
           "color": "DarkSlateGrey",
           "width": 2
          },
          "opacity": 0.8,
          "size": 8,
          "symbol": "circle"
         },
         "mode": "markers",
         "name": "IV-B",
         "orientation": "v",
         "showlegend": false,
         "type": "scatter",
         "x": [
          103,
          106,
          40,
          1,
          110,
          99,
          89,
          78,
          75,
          71,
          64,
          61,
          57,
          54,
          50,
          47,
          34,
          19,
          15,
          5
         ],
         "xaxis": "x15",
         "y": [
          0.9899440407752991,
          0.8571332693099976,
          0.9164401888847351,
          0.9856137633323669,
          0.9847783446311951,
          0.9847783446311951,
          0.9847783446311951,
          0.9847783446311951,
          0.9847783446311951,
          0.9847783446311951,
          0.9847783446311951,
          0.9847783446311951,
          0.9847783446311951,
          0.9847783446311951,
          0.9847783446311951,
          0.9847783446311951,
          0.9847783446311951,
          0.9847783446311951,
          0.9847783446311951,
          0.9847783446311951
         ],
         "yaxis": "y15"
        },
        {
         "hovertemplate": "community=IV-B<br>subjectID=1<br>time=%{x}<br>mt_pseudotime=%{y}<extra></extra>",
         "legendgroup": "IV-B",
         "marker": {
          "color": "royalblue",
          "line": {
           "color": "DarkSlateGrey",
           "width": 2
          },
          "opacity": 0.8,
          "size": 8,
          "symbol": "circle"
         },
         "mode": "markers",
         "name": "IV-B",
         "orientation": "v",
         "showlegend": false,
         "type": "scatter",
         "x": [
          104,
          48,
          99,
          97,
          83,
          78,
          76,
          71,
          64,
          55,
          50,
          36,
          15,
          13,
          8,
          62,
          69,
          41,
          6,
          35
         ],
         "xaxis": "x16",
         "y": [
          0.9847783446311951,
          0.8571332693099976,
          0.9847783446311951,
          0.9847783446311951,
          0.9847783446311951,
          0.9847783446311951,
          0.9847783446311951,
          0.9847783446311951,
          0.9847783446311951,
          0.9847783446311951,
          0.9847783446311951,
          0.9847783446311951,
          0.9847783446311951,
          0.9847783446311951,
          0.9847783446311951,
          0.9882131814956665,
          0.9856137633323669,
          0.9856137633323669,
          0.9856137633323669,
          0.9672801494598389
         ],
         "yaxis": "y16"
        },
        {
         "hovertemplate": "community=IV-B<br>subjectID=17<br>time=%{x}<br>mt_pseudotime=%{y}<extra></extra>",
         "legendgroup": "IV-B",
         "marker": {
          "color": "royalblue",
          "line": {
           "color": "DarkSlateGrey",
           "width": 2
          },
          "opacity": 0.8,
          "size": 8,
          "symbol": "circle"
         },
         "mode": "markers",
         "name": "IV-B",
         "orientation": "v",
         "showlegend": false,
         "type": "scatter",
         "x": [
          61
         ],
         "xaxis": "x12",
         "y": [
          0.9847783446311951
         ],
         "yaxis": "y12"
        },
        {
         "hovertemplate": "community=IV-B<br>subjectID=8<br>time=%{x}<br>mt_pseudotime=%{y}<extra></extra>",
         "legendgroup": "IV-B",
         "marker": {
          "color": "royalblue",
          "line": {
           "color": "DarkSlateGrey",
           "width": 2
          },
          "opacity": 0.8,
          "size": 8,
          "symbol": "circle"
         },
         "mode": "markers",
         "name": "IV-B",
         "orientation": "v",
         "showlegend": false,
         "type": "scatter",
         "x": [
          103,
          47,
          50,
          82,
          110,
          99,
          71,
          96,
          36,
          8,
          64,
          92,
          89,
          68,
          85,
          106,
          43,
          40,
          12,
          19,
          15,
          33,
          61
         ],
         "xaxis": "x5",
         "y": [
          0.9847783446311951,
          0.9871427416801453,
          0.9871427416801453,
          0.9786516427993774,
          0.9786516427993774,
          0.9847783446311951,
          0.9478358626365662,
          0.9847783446311951,
          0.9847783446311951,
          0.9847783446311951,
          0.9847783446311951,
          0.9899440407752991,
          0.9899440407752991,
          0.9899440407752991,
          0.9856137633323669,
          0.9164401888847351,
          0.9164401888847351,
          0.9164401888847351,
          0.9164401888847351,
          0.9892255663871765,
          0.9480988383293152,
          0.9899440407752991,
          0.9899440407752991
         ],
         "yaxis": "y5"
        },
        {
         "hovertemplate": "community=IV-B<br>subjectID=9<br>time=%{x}<br>mt_pseudotime=%{y}<extra></extra>",
         "legendgroup": "IV-B",
         "marker": {
          "color": "royalblue",
          "line": {
           "color": "DarkSlateGrey",
           "width": 2
          },
          "opacity": 0.8,
          "size": 8,
          "symbol": "circle"
         },
         "mode": "markers",
         "name": "IV-B",
         "orientation": "v",
         "showlegend": false,
         "type": "scatter",
         "x": [
          1,
          18,
          22,
          29,
          32,
          36,
          57,
          50,
          46,
          71,
          67,
          64,
          53,
          39,
          4,
          74,
          78,
          60,
          25,
          99,
          95,
          92,
          88
         ],
         "xaxis": "x6",
         "y": [
          0.9847783446311951,
          0.9847783446311951,
          0.9847783446311951,
          0.9847783446311951,
          0.9847783446311951,
          0.9847783446311951,
          0.9847783446311951,
          0.9847783446311951,
          0.9847783446311951,
          0.9847783446311951,
          0.9847783446311951,
          0.9847783446311951,
          0.9847783446311951,
          0.8571332693099976,
          0.8571332693099976,
          0.9847783446311951,
          0.9856137633323669,
          0.9528641104698181,
          0.9528641104698181,
          0.9847783446311951,
          0.9847783446311951,
          0.9847783446311951,
          0.9847783446311951
         ],
         "yaxis": "y6"
        },
        {
         "hovertemplate": "community=IV-B<br>subjectID=7<br>time=%{x}<br>mt_pseudotime=%{y}<extra></extra>",
         "legendgroup": "IV-B",
         "marker": {
          "color": "royalblue",
          "line": {
           "color": "DarkSlateGrey",
           "width": 2
          },
          "opacity": 0.8,
          "size": 8,
          "symbol": "circle"
         },
         "mode": "markers",
         "name": "IV-B",
         "orientation": "v",
         "showlegend": false,
         "type": "scatter",
         "x": [
          5,
          93,
          40,
          29,
          52,
          26,
          33,
          36,
          96,
          19,
          22,
          89,
          99,
          106,
          103,
          85,
          75,
          68,
          64,
          61,
          57,
          54,
          15,
          13
         ],
         "xaxis": "x8",
         "y": [
          0.9478358626365662,
          0.8571332693099976,
          0.8571332693099976,
          0.83652663230896,
          0.9626392722129822,
          0.9856137633323669,
          0.9856137633323669,
          0.9856137633323669,
          0.9856137633323669,
          0.9892255663871765,
          0.9892255663871765,
          0.9892255663871765,
          0.9856137633323669,
          0.9250571131706238,
          0.9847783446311951,
          0.9847783446311951,
          0.9847783446311951,
          0.9847783446311951,
          0.9847783446311951,
          0.9847783446311951,
          0.9847783446311951,
          0.9847783446311951,
          0.9847783446311951,
          0.9847783446311951
         ],
         "yaxis": "y8"
        },
        {
         "hovertemplate": "community=IV-B<br>subjectID=4<br>time=%{x}<br>mt_pseudotime=%{y}<extra></extra>",
         "legendgroup": "IV-B",
         "marker": {
          "color": "royalblue",
          "line": {
           "color": "DarkSlateGrey",
           "width": 2
          },
          "opacity": 0.8,
          "size": 8,
          "symbol": "circle"
         },
         "mode": "markers",
         "name": "IV-B",
         "orientation": "v",
         "showlegend": false,
         "type": "scatter",
         "x": [
          84,
          89,
          103,
          105,
          47,
          82,
          78,
          64,
          71,
          68,
          50,
          29,
          26,
          22,
          19,
          8,
          5,
          75,
          12,
          54,
          92,
          1,
          40,
          36,
          15,
          33,
          43
         ],
         "xaxis": "x",
         "y": [
          0.9847783446311951,
          0.9847783446311951,
          0.9847783446311951,
          0.9847783446311951,
          0.9892255663871765,
          0.9847783446311951,
          0.9847783446311951,
          0.9847783446311951,
          0.9847783446311951,
          0.9847783446311951,
          0.9847783446311951,
          0.9847783446311951,
          0.9847783446311951,
          0.9847783446311951,
          0.9847783446311951,
          0.9847783446311951,
          0.9847783446311951,
          0.9847783446311951,
          0.9899440407752991,
          0.9871427416801453,
          0.9701946973800659,
          0.9882131814956665,
          0.9882131814956665,
          0.9856137633323669,
          0.9856137633323669,
          0.9672801494598389,
          0.9892255663871765
         ],
         "yaxis": "y"
        },
        {
         "hovertemplate": "community=IV-B<br>subjectID=6<br>time=%{x}<br>mt_pseudotime=%{y}<extra></extra>",
         "legendgroup": "IV-B",
         "marker": {
          "color": "royalblue",
          "line": {
           "color": "DarkSlateGrey",
           "width": 2
          },
          "opacity": 0.8,
          "size": 8,
          "symbol": "circle"
         },
         "mode": "markers",
         "name": "IV-B",
         "orientation": "v",
         "showlegend": false,
         "type": "scatter",
         "x": [
          4,
          1,
          11,
          15,
          46,
          53,
          74,
          106,
          8,
          36,
          67,
          71,
          64,
          39,
          57,
          60,
          85,
          95,
          102,
          29,
          25,
          99,
          92,
          78,
          43,
          32,
          18
         ],
         "xaxis": "x2",
         "y": [
          0.9847783446311951,
          0.9899440407752991,
          0.9899440407752991,
          0.9899440407752991,
          0.9899440407752991,
          0.9899440407752991,
          0.9899440407752991,
          0.9899440407752991,
          0.9871427416801453,
          0.9478358626365662,
          0.9478358626365662,
          0.9478358626365662,
          0.9701946973800659,
          0.9882131814956665,
          0.9882131814956665,
          0.9882131814956665,
          0.9882131814956665,
          0.9882131814956665,
          0.9882131814956665,
          0.9856137633323669,
          0.9856137633323669,
          0.9892255663871765,
          0.9892255663871765,
          0.9892255663871765,
          0.9892255663871765,
          0.9892255663871765,
          0.9892255663871765
         ],
         "yaxis": "y2"
        },
        {
         "hovertemplate": "community=IV-B<br>subjectID=3<br>time=%{x}<br>mt_pseudotime=%{y}<extra></extra>",
         "legendgroup": "IV-B",
         "marker": {
          "color": "royalblue",
          "line": {
           "color": "DarkSlateGrey",
           "width": 2
          },
          "opacity": 0.8,
          "size": 8,
          "symbol": "circle"
         },
         "mode": "markers",
         "name": "IV-B",
         "orientation": "v",
         "showlegend": false,
         "type": "scatter",
         "x": [
          1,
          68,
          96,
          78,
          75,
          71,
          64,
          57,
          54,
          50,
          43,
          40,
          36,
          33,
          29,
          82,
          26,
          19,
          15,
          12,
          8,
          5,
          22,
          85,
          90,
          89,
          110,
          106,
          99,
          61
         ],
         "xaxis": "x3",
         "y": [
          0.9673410654067993,
          0.9821034669876099,
          0.9693013429641724,
          0.9847783446311951,
          0.9847783446311951,
          0.9847783446311951,
          0.9847783446311951,
          0.9847783446311951,
          0.9847783446311951,
          0.9847783446311951,
          0.9847783446311951,
          0.9847783446311951,
          0.9847783446311951,
          0.9847783446311951,
          0.9847783446311951,
          0.9847783446311951,
          0.9847783446311951,
          0.9847783446311951,
          0.9847783446311951,
          0.9847783446311951,
          0.9847783446311951,
          0.9847783446311951,
          0.9847783446311951,
          0.9847783446311951,
          0.9847783446311951,
          0.9847783446311951,
          0.9847783446311951,
          0.9847783446311951,
          0.9847783446311951,
          0.9847783446311951
         ],
         "yaxis": "y3"
        },
        {
         "hovertemplate": "community=IV-B<br>subjectID=5<br>time=%{x}<br>mt_pseudotime=%{y}<extra></extra>",
         "legendgroup": "IV-B",
         "marker": {
          "color": "royalblue",
          "line": {
           "color": "DarkSlateGrey",
           "width": 2
          },
          "opacity": 0.8,
          "size": 8,
          "symbol": "circle"
         },
         "mode": "markers",
         "name": "IV-B",
         "orientation": "v",
         "showlegend": false,
         "type": "scatter",
         "x": [
          19,
          8,
          2,
          99,
          103,
          43,
          40,
          36,
          29,
          26,
          15,
          12,
          92,
          90,
          75,
          68,
          50,
          33,
          54,
          71,
          96,
          82,
          78,
          61,
          57,
          47,
          6,
          85,
          1
         ],
         "xaxis": "x4",
         "y": [
          0.9856137633323669,
          0.9856137633323669,
          0.9856137633323669,
          0.9328565001487732,
          0.9847783446311951,
          0.9847783446311951,
          0.9847783446311951,
          0.9847783446311951,
          0.9847783446311951,
          0.9847783446311951,
          0.9847783446311951,
          0.9847783446311951,
          0.9856137633323669,
          0.9856137633323669,
          0.9856137633323669,
          0.9856137633323669,
          0.9856137633323669,
          0.9672801494598389,
          0.6392096877098083,
          0.985307514667511,
          0.9839872717857361,
          0.9892255663871765,
          0.9892255663871765,
          0.9892255663871765,
          0.9892255663871765,
          0.9892255663871765,
          0.9892255663871765,
          0.9528641104698181,
          0.9528641104698181
         ],
         "yaxis": "y4"
        }
       ],
       "layout": {
        "annotations": [
         {
          "showarrow": false,
          "text": "subjectID=4",
          "x": 0.1175,
          "xanchor": "center",
          "xref": "paper",
          "y": 0.1075,
          "yanchor": "bottom",
          "yref": "paper"
         },
         {
          "showarrow": false,
          "text": "subjectID=6",
          "x": 0.3725,
          "xanchor": "center",
          "xref": "paper",
          "y": 0.1075,
          "yanchor": "bottom",
          "yref": "paper"
         },
         {
          "showarrow": false,
          "text": "subjectID=3",
          "x": 0.6275,
          "xanchor": "center",
          "xref": "paper",
          "y": 0.1075,
          "yanchor": "bottom",
          "yref": "paper"
         },
         {
          "showarrow": false,
          "text": "subjectID=5",
          "x": 0.8824999999999998,
          "xanchor": "center",
          "xref": "paper",
          "y": 0.1075,
          "yanchor": "bottom",
          "yref": "paper"
         },
         {
          "showarrow": false,
          "text": "subjectID=8",
          "x": 0.1175,
          "xanchor": "center",
          "xref": "paper",
          "y": 0.235,
          "yanchor": "bottom",
          "yref": "paper"
         },
         {
          "showarrow": false,
          "text": "subjectID=9",
          "x": 0.3725,
          "xanchor": "center",
          "xref": "paper",
          "y": 0.235,
          "yanchor": "bottom",
          "yref": "paper"
         },
         {
          "showarrow": false,
          "text": "subjectID=20",
          "x": 0.6275,
          "xanchor": "center",
          "xref": "paper",
          "y": 0.235,
          "yanchor": "bottom",
          "yref": "paper"
         },
         {
          "showarrow": false,
          "text": "subjectID=7",
          "x": 0.8824999999999998,
          "xanchor": "center",
          "xref": "paper",
          "y": 0.235,
          "yanchor": "bottom",
          "yref": "paper"
         },
         {
          "showarrow": false,
          "text": "subjectID=21",
          "x": 0.1175,
          "xanchor": "center",
          "xref": "paper",
          "y": 0.3625,
          "yanchor": "bottom",
          "yref": "paper"
         },
         {
          "showarrow": false,
          "text": "subjectID=19",
          "x": 0.3725,
          "xanchor": "center",
          "xref": "paper",
          "y": 0.3625,
          "yanchor": "bottom",
          "yref": "paper"
         },
         {
          "showarrow": false,
          "text": "subjectID=18",
          "x": 0.6275,
          "xanchor": "center",
          "xref": "paper",
          "y": 0.3625,
          "yanchor": "bottom",
          "yref": "paper"
         },
         {
          "showarrow": false,
          "text": "subjectID=17",
          "x": 0.8824999999999998,
          "xanchor": "center",
          "xref": "paper",
          "y": 0.3625,
          "yanchor": "bottom",
          "yref": "paper"
         },
         {
          "showarrow": false,
          "text": "subjectID=13",
          "x": 0.1175,
          "xanchor": "center",
          "xref": "paper",
          "y": 0.49,
          "yanchor": "bottom",
          "yref": "paper"
         },
         {
          "showarrow": false,
          "text": "subjectID=12",
          "x": 0.3725,
          "xanchor": "center",
          "xref": "paper",
          "y": 0.49,
          "yanchor": "bottom",
          "yref": "paper"
         },
         {
          "showarrow": false,
          "text": "subjectID=2",
          "x": 0.6275,
          "xanchor": "center",
          "xref": "paper",
          "y": 0.49,
          "yanchor": "bottom",
          "yref": "paper"
         },
         {
          "showarrow": false,
          "text": "subjectID=1",
          "x": 0.8824999999999998,
          "xanchor": "center",
          "xref": "paper",
          "y": 0.49,
          "yanchor": "bottom",
          "yref": "paper"
         },
         {
          "showarrow": false,
          "text": "subjectID=10",
          "x": 0.1175,
          "xanchor": "center",
          "xref": "paper",
          "y": 0.6175,
          "yanchor": "bottom",
          "yref": "paper"
         },
         {
          "showarrow": false,
          "text": "subjectID=11",
          "x": 0.3725,
          "xanchor": "center",
          "xref": "paper",
          "y": 0.6175,
          "yanchor": "bottom",
          "yref": "paper"
         },
         {
          "showarrow": false,
          "text": "subjectID=15",
          "x": 0.6275,
          "xanchor": "center",
          "xref": "paper",
          "y": 0.6175,
          "yanchor": "bottom",
          "yref": "paper"
         },
         {
          "showarrow": false,
          "text": "subjectID=16",
          "x": 0.8824999999999998,
          "xanchor": "center",
          "xref": "paper",
          "y": 0.6175,
          "yanchor": "bottom",
          "yref": "paper"
         },
         {
          "showarrow": false,
          "text": "subjectID=23",
          "x": 0.1175,
          "xanchor": "center",
          "xref": "paper",
          "y": 0.745,
          "yanchor": "bottom",
          "yref": "paper"
         },
         {
          "showarrow": false,
          "text": "subjectID=22",
          "x": 0.3725,
          "xanchor": "center",
          "xref": "paper",
          "y": 0.745,
          "yanchor": "bottom",
          "yref": "paper"
         },
         {
          "showarrow": false,
          "text": "subjectID=14",
          "x": 0.6275,
          "xanchor": "center",
          "xref": "paper",
          "y": 0.745,
          "yanchor": "bottom",
          "yref": "paper"
         },
         {
          "showarrow": false,
          "text": "subjectID=25",
          "x": 0.8824999999999998,
          "xanchor": "center",
          "xref": "paper",
          "y": 0.745,
          "yanchor": "bottom",
          "yref": "paper"
         },
         {
          "showarrow": false,
          "text": "subjectID=30",
          "x": 0.1175,
          "xanchor": "center",
          "xref": "paper",
          "y": 0.8725,
          "yanchor": "bottom",
          "yref": "paper"
         },
         {
          "showarrow": false,
          "text": "subjectID=31",
          "x": 0.3725,
          "xanchor": "center",
          "xref": "paper",
          "y": 0.8725,
          "yanchor": "bottom",
          "yref": "paper"
         },
         {
          "showarrow": false,
          "text": "subjectID=29",
          "x": 0.6275,
          "xanchor": "center",
          "xref": "paper",
          "y": 0.8725,
          "yanchor": "bottom",
          "yref": "paper"
         },
         {
          "showarrow": false,
          "text": "subjectID=27",
          "x": 0.8824999999999998,
          "xanchor": "center",
          "xref": "paper",
          "y": 0.8725,
          "yanchor": "bottom",
          "yref": "paper"
         },
         {
          "showarrow": false,
          "text": "subjectID=24",
          "x": 0.1175,
          "xanchor": "center",
          "xref": "paper",
          "y": 1,
          "yanchor": "bottom",
          "yref": "paper"
         },
         {
          "showarrow": false,
          "text": "subjectID=28",
          "x": 0.3725,
          "xanchor": "center",
          "xref": "paper",
          "y": 1,
          "yanchor": "bottom",
          "yref": "paper"
         },
         {
          "showarrow": false,
          "text": "subjectID=32",
          "x": 0.6275,
          "xanchor": "center",
          "xref": "paper",
          "y": 1,
          "yanchor": "bottom",
          "yref": "paper"
         },
         {
          "showarrow": false,
          "text": "subjectID=26",
          "x": 0.8824999999999998,
          "xanchor": "center",
          "xref": "paper",
          "y": 1,
          "yanchor": "bottom",
          "yref": "paper"
         },
         {
          "font": {
           "size": 14
          },
          "showarrow": false,
          "text": "Pseudotime",
          "textangle": -90,
          "x": -0.07,
          "xref": "paper",
          "y": 0.5,
          "yref": "paper"
         }
        ],
        "height": 700,
        "legend": {
         "title": {
          "text": "community"
         },
         "tracegroupgap": 0
        },
        "margin": {
         "t": 60
        },
        "template": {
         "data": {
          "bar": [
           {
            "error_x": {
             "color": "rgb(36,36,36)"
            },
            "error_y": {
             "color": "rgb(36,36,36)"
            },
            "marker": {
             "line": {
              "color": "rgb(234,234,242)",
              "width": 0.5
             },
             "pattern": {
              "fillmode": "overlay",
              "size": 10,
              "solidity": 0.2
             }
            },
            "type": "bar"
           }
          ],
          "barpolar": [
           {
            "marker": {
             "line": {
              "color": "rgb(234,234,242)",
              "width": 0.5
             },
             "pattern": {
              "fillmode": "overlay",
              "size": 10,
              "solidity": 0.2
             }
            },
            "type": "barpolar"
           }
          ],
          "carpet": [
           {
            "aaxis": {
             "endlinecolor": "rgb(36,36,36)",
             "gridcolor": "white",
             "linecolor": "white",
             "minorgridcolor": "white",
             "startlinecolor": "rgb(36,36,36)"
            },
            "baxis": {
             "endlinecolor": "rgb(36,36,36)",
             "gridcolor": "white",
             "linecolor": "white",
             "minorgridcolor": "white",
             "startlinecolor": "rgb(36,36,36)"
            },
            "type": "carpet"
           }
          ],
          "choropleth": [
           {
            "colorbar": {
             "outlinewidth": 0,
             "tickcolor": "rgb(36,36,36)",
             "ticklen": 8,
             "ticks": "outside",
             "tickwidth": 2
            },
            "type": "choropleth"
           }
          ],
          "contour": [
           {
            "colorbar": {
             "outlinewidth": 0,
             "tickcolor": "rgb(36,36,36)",
             "ticklen": 8,
             "ticks": "outside",
             "tickwidth": 2
            },
            "colorscale": [
             [
              0,
              "rgb(2,4,25)"
             ],
             [
              0.06274509803921569,
              "rgb(24,15,41)"
             ],
             [
              0.12549019607843137,
              "rgb(47,23,57)"
             ],
             [
              0.18823529411764706,
              "rgb(71,28,72)"
             ],
             [
              0.25098039215686274,
              "rgb(97,30,82)"
             ],
             [
              0.3137254901960784,
              "rgb(123,30,89)"
             ],
             [
              0.3764705882352941,
              "rgb(150,27,91)"
             ],
             [
              0.4392156862745098,
              "rgb(177,22,88)"
             ],
             [
              0.5019607843137255,
              "rgb(203,26,79)"
             ],
             [
              0.5647058823529412,
              "rgb(223,47,67)"
             ],
             [
              0.6274509803921569,
              "rgb(236,76,61)"
             ],
             [
              0.6901960784313725,
              "rgb(242,107,73)"
             ],
             [
              0.7529411764705882,
              "rgb(244,135,95)"
             ],
             [
              0.8156862745098039,
              "rgb(245,162,122)"
             ],
             [
              0.8784313725490196,
              "rgb(246,188,153)"
             ],
             [
              0.9411764705882353,
              "rgb(247,212,187)"
             ],
             [
              1,
              "rgb(250,234,220)"
             ]
            ],
            "type": "contour"
           }
          ],
          "contourcarpet": [
           {
            "colorbar": {
             "outlinewidth": 0,
             "tickcolor": "rgb(36,36,36)",
             "ticklen": 8,
             "ticks": "outside",
             "tickwidth": 2
            },
            "type": "contourcarpet"
           }
          ],
          "heatmap": [
           {
            "colorbar": {
             "outlinewidth": 0,
             "tickcolor": "rgb(36,36,36)",
             "ticklen": 8,
             "ticks": "outside",
             "tickwidth": 2
            },
            "colorscale": [
             [
              0,
              "rgb(2,4,25)"
             ],
             [
              0.06274509803921569,
              "rgb(24,15,41)"
             ],
             [
              0.12549019607843137,
              "rgb(47,23,57)"
             ],
             [
              0.18823529411764706,
              "rgb(71,28,72)"
             ],
             [
              0.25098039215686274,
              "rgb(97,30,82)"
             ],
             [
              0.3137254901960784,
              "rgb(123,30,89)"
             ],
             [
              0.3764705882352941,
              "rgb(150,27,91)"
             ],
             [
              0.4392156862745098,
              "rgb(177,22,88)"
             ],
             [
              0.5019607843137255,
              "rgb(203,26,79)"
             ],
             [
              0.5647058823529412,
              "rgb(223,47,67)"
             ],
             [
              0.6274509803921569,
              "rgb(236,76,61)"
             ],
             [
              0.6901960784313725,
              "rgb(242,107,73)"
             ],
             [
              0.7529411764705882,
              "rgb(244,135,95)"
             ],
             [
              0.8156862745098039,
              "rgb(245,162,122)"
             ],
             [
              0.8784313725490196,
              "rgb(246,188,153)"
             ],
             [
              0.9411764705882353,
              "rgb(247,212,187)"
             ],
             [
              1,
              "rgb(250,234,220)"
             ]
            ],
            "type": "heatmap"
           }
          ],
          "heatmapgl": [
           {
            "colorbar": {
             "outlinewidth": 0,
             "tickcolor": "rgb(36,36,36)",
             "ticklen": 8,
             "ticks": "outside",
             "tickwidth": 2
            },
            "colorscale": [
             [
              0,
              "rgb(2,4,25)"
             ],
             [
              0.06274509803921569,
              "rgb(24,15,41)"
             ],
             [
              0.12549019607843137,
              "rgb(47,23,57)"
             ],
             [
              0.18823529411764706,
              "rgb(71,28,72)"
             ],
             [
              0.25098039215686274,
              "rgb(97,30,82)"
             ],
             [
              0.3137254901960784,
              "rgb(123,30,89)"
             ],
             [
              0.3764705882352941,
              "rgb(150,27,91)"
             ],
             [
              0.4392156862745098,
              "rgb(177,22,88)"
             ],
             [
              0.5019607843137255,
              "rgb(203,26,79)"
             ],
             [
              0.5647058823529412,
              "rgb(223,47,67)"
             ],
             [
              0.6274509803921569,
              "rgb(236,76,61)"
             ],
             [
              0.6901960784313725,
              "rgb(242,107,73)"
             ],
             [
              0.7529411764705882,
              "rgb(244,135,95)"
             ],
             [
              0.8156862745098039,
              "rgb(245,162,122)"
             ],
             [
              0.8784313725490196,
              "rgb(246,188,153)"
             ],
             [
              0.9411764705882353,
              "rgb(247,212,187)"
             ],
             [
              1,
              "rgb(250,234,220)"
             ]
            ],
            "type": "heatmapgl"
           }
          ],
          "histogram": [
           {
            "marker": {
             "pattern": {
              "fillmode": "overlay",
              "size": 10,
              "solidity": 0.2
             }
            },
            "type": "histogram"
           }
          ],
          "histogram2d": [
           {
            "colorbar": {
             "outlinewidth": 0,
             "tickcolor": "rgb(36,36,36)",
             "ticklen": 8,
             "ticks": "outside",
             "tickwidth": 2
            },
            "colorscale": [
             [
              0,
              "rgb(2,4,25)"
             ],
             [
              0.06274509803921569,
              "rgb(24,15,41)"
             ],
             [
              0.12549019607843137,
              "rgb(47,23,57)"
             ],
             [
              0.18823529411764706,
              "rgb(71,28,72)"
             ],
             [
              0.25098039215686274,
              "rgb(97,30,82)"
             ],
             [
              0.3137254901960784,
              "rgb(123,30,89)"
             ],
             [
              0.3764705882352941,
              "rgb(150,27,91)"
             ],
             [
              0.4392156862745098,
              "rgb(177,22,88)"
             ],
             [
              0.5019607843137255,
              "rgb(203,26,79)"
             ],
             [
              0.5647058823529412,
              "rgb(223,47,67)"
             ],
             [
              0.6274509803921569,
              "rgb(236,76,61)"
             ],
             [
              0.6901960784313725,
              "rgb(242,107,73)"
             ],
             [
              0.7529411764705882,
              "rgb(244,135,95)"
             ],
             [
              0.8156862745098039,
              "rgb(245,162,122)"
             ],
             [
              0.8784313725490196,
              "rgb(246,188,153)"
             ],
             [
              0.9411764705882353,
              "rgb(247,212,187)"
             ],
             [
              1,
              "rgb(250,234,220)"
             ]
            ],
            "type": "histogram2d"
           }
          ],
          "histogram2dcontour": [
           {
            "colorbar": {
             "outlinewidth": 0,
             "tickcolor": "rgb(36,36,36)",
             "ticklen": 8,
             "ticks": "outside",
             "tickwidth": 2
            },
            "colorscale": [
             [
              0,
              "rgb(2,4,25)"
             ],
             [
              0.06274509803921569,
              "rgb(24,15,41)"
             ],
             [
              0.12549019607843137,
              "rgb(47,23,57)"
             ],
             [
              0.18823529411764706,
              "rgb(71,28,72)"
             ],
             [
              0.25098039215686274,
              "rgb(97,30,82)"
             ],
             [
              0.3137254901960784,
              "rgb(123,30,89)"
             ],
             [
              0.3764705882352941,
              "rgb(150,27,91)"
             ],
             [
              0.4392156862745098,
              "rgb(177,22,88)"
             ],
             [
              0.5019607843137255,
              "rgb(203,26,79)"
             ],
             [
              0.5647058823529412,
              "rgb(223,47,67)"
             ],
             [
              0.6274509803921569,
              "rgb(236,76,61)"
             ],
             [
              0.6901960784313725,
              "rgb(242,107,73)"
             ],
             [
              0.7529411764705882,
              "rgb(244,135,95)"
             ],
             [
              0.8156862745098039,
              "rgb(245,162,122)"
             ],
             [
              0.8784313725490196,
              "rgb(246,188,153)"
             ],
             [
              0.9411764705882353,
              "rgb(247,212,187)"
             ],
             [
              1,
              "rgb(250,234,220)"
             ]
            ],
            "type": "histogram2dcontour"
           }
          ],
          "mesh3d": [
           {
            "colorbar": {
             "outlinewidth": 0,
             "tickcolor": "rgb(36,36,36)",
             "ticklen": 8,
             "ticks": "outside",
             "tickwidth": 2
            },
            "type": "mesh3d"
           }
          ],
          "parcoords": [
           {
            "line": {
             "colorbar": {
              "outlinewidth": 0,
              "tickcolor": "rgb(36,36,36)",
              "ticklen": 8,
              "ticks": "outside",
              "tickwidth": 2
             }
            },
            "type": "parcoords"
           }
          ],
          "pie": [
           {
            "automargin": true,
            "type": "pie"
           }
          ],
          "scatter": [
           {
            "marker": {
             "colorbar": {
              "outlinewidth": 0,
              "tickcolor": "rgb(36,36,36)",
              "ticklen": 8,
              "ticks": "outside",
              "tickwidth": 2
             }
            },
            "type": "scatter"
           }
          ],
          "scatter3d": [
           {
            "line": {
             "colorbar": {
              "outlinewidth": 0,
              "tickcolor": "rgb(36,36,36)",
              "ticklen": 8,
              "ticks": "outside",
              "tickwidth": 2
             }
            },
            "marker": {
             "colorbar": {
              "outlinewidth": 0,
              "tickcolor": "rgb(36,36,36)",
              "ticklen": 8,
              "ticks": "outside",
              "tickwidth": 2
             }
            },
            "type": "scatter3d"
           }
          ],
          "scattercarpet": [
           {
            "marker": {
             "colorbar": {
              "outlinewidth": 0,
              "tickcolor": "rgb(36,36,36)",
              "ticklen": 8,
              "ticks": "outside",
              "tickwidth": 2
             }
            },
            "type": "scattercarpet"
           }
          ],
          "scattergeo": [
           {
            "marker": {
             "colorbar": {
              "outlinewidth": 0,
              "tickcolor": "rgb(36,36,36)",
              "ticklen": 8,
              "ticks": "outside",
              "tickwidth": 2
             }
            },
            "type": "scattergeo"
           }
          ],
          "scattergl": [
           {
            "marker": {
             "colorbar": {
              "outlinewidth": 0,
              "tickcolor": "rgb(36,36,36)",
              "ticklen": 8,
              "ticks": "outside",
              "tickwidth": 2
             }
            },
            "type": "scattergl"
           }
          ],
          "scattermapbox": [
           {
            "marker": {
             "colorbar": {
              "outlinewidth": 0,
              "tickcolor": "rgb(36,36,36)",
              "ticklen": 8,
              "ticks": "outside",
              "tickwidth": 2
             }
            },
            "type": "scattermapbox"
           }
          ],
          "scatterpolar": [
           {
            "marker": {
             "colorbar": {
              "outlinewidth": 0,
              "tickcolor": "rgb(36,36,36)",
              "ticklen": 8,
              "ticks": "outside",
              "tickwidth": 2
             }
            },
            "type": "scatterpolar"
           }
          ],
          "scatterpolargl": [
           {
            "marker": {
             "colorbar": {
              "outlinewidth": 0,
              "tickcolor": "rgb(36,36,36)",
              "ticklen": 8,
              "ticks": "outside",
              "tickwidth": 2
             }
            },
            "type": "scatterpolargl"
           }
          ],
          "scatterternary": [
           {
            "marker": {
             "colorbar": {
              "outlinewidth": 0,
              "tickcolor": "rgb(36,36,36)",
              "ticklen": 8,
              "ticks": "outside",
              "tickwidth": 2
             }
            },
            "type": "scatterternary"
           }
          ],
          "surface": [
           {
            "colorbar": {
             "outlinewidth": 0,
             "tickcolor": "rgb(36,36,36)",
             "ticklen": 8,
             "ticks": "outside",
             "tickwidth": 2
            },
            "colorscale": [
             [
              0,
              "rgb(2,4,25)"
             ],
             [
              0.06274509803921569,
              "rgb(24,15,41)"
             ],
             [
              0.12549019607843137,
              "rgb(47,23,57)"
             ],
             [
              0.18823529411764706,
              "rgb(71,28,72)"
             ],
             [
              0.25098039215686274,
              "rgb(97,30,82)"
             ],
             [
              0.3137254901960784,
              "rgb(123,30,89)"
             ],
             [
              0.3764705882352941,
              "rgb(150,27,91)"
             ],
             [
              0.4392156862745098,
              "rgb(177,22,88)"
             ],
             [
              0.5019607843137255,
              "rgb(203,26,79)"
             ],
             [
              0.5647058823529412,
              "rgb(223,47,67)"
             ],
             [
              0.6274509803921569,
              "rgb(236,76,61)"
             ],
             [
              0.6901960784313725,
              "rgb(242,107,73)"
             ],
             [
              0.7529411764705882,
              "rgb(244,135,95)"
             ],
             [
              0.8156862745098039,
              "rgb(245,162,122)"
             ],
             [
              0.8784313725490196,
              "rgb(246,188,153)"
             ],
             [
              0.9411764705882353,
              "rgb(247,212,187)"
             ],
             [
              1,
              "rgb(250,234,220)"
             ]
            ],
            "type": "surface"
           }
          ],
          "table": [
           {
            "cells": {
             "fill": {
              "color": "rgb(231,231,240)"
             },
             "line": {
              "color": "white"
             }
            },
            "header": {
             "fill": {
              "color": "rgb(183,183,191)"
             },
             "line": {
              "color": "white"
             }
            },
            "type": "table"
           }
          ]
         },
         "layout": {
          "annotationdefaults": {
           "arrowcolor": "rgb(67,103,167)"
          },
          "autotypenumbers": "strict",
          "coloraxis": {
           "colorbar": {
            "outlinewidth": 0,
            "tickcolor": "rgb(36,36,36)",
            "ticklen": 8,
            "ticks": "outside",
            "tickwidth": 2
           }
          },
          "colorscale": {
           "sequential": [
            [
             0,
             "rgb(2,4,25)"
            ],
            [
             0.06274509803921569,
             "rgb(24,15,41)"
            ],
            [
             0.12549019607843137,
             "rgb(47,23,57)"
            ],
            [
             0.18823529411764706,
             "rgb(71,28,72)"
            ],
            [
             0.25098039215686274,
             "rgb(97,30,82)"
            ],
            [
             0.3137254901960784,
             "rgb(123,30,89)"
            ],
            [
             0.3764705882352941,
             "rgb(150,27,91)"
            ],
            [
             0.4392156862745098,
             "rgb(177,22,88)"
            ],
            [
             0.5019607843137255,
             "rgb(203,26,79)"
            ],
            [
             0.5647058823529412,
             "rgb(223,47,67)"
            ],
            [
             0.6274509803921569,
             "rgb(236,76,61)"
            ],
            [
             0.6901960784313725,
             "rgb(242,107,73)"
            ],
            [
             0.7529411764705882,
             "rgb(244,135,95)"
            ],
            [
             0.8156862745098039,
             "rgb(245,162,122)"
            ],
            [
             0.8784313725490196,
             "rgb(246,188,153)"
            ],
            [
             0.9411764705882353,
             "rgb(247,212,187)"
            ],
            [
             1,
             "rgb(250,234,220)"
            ]
           ],
           "sequentialminus": [
            [
             0,
             "rgb(2,4,25)"
            ],
            [
             0.06274509803921569,
             "rgb(24,15,41)"
            ],
            [
             0.12549019607843137,
             "rgb(47,23,57)"
            ],
            [
             0.18823529411764706,
             "rgb(71,28,72)"
            ],
            [
             0.25098039215686274,
             "rgb(97,30,82)"
            ],
            [
             0.3137254901960784,
             "rgb(123,30,89)"
            ],
            [
             0.3764705882352941,
             "rgb(150,27,91)"
            ],
            [
             0.4392156862745098,
             "rgb(177,22,88)"
            ],
            [
             0.5019607843137255,
             "rgb(203,26,79)"
            ],
            [
             0.5647058823529412,
             "rgb(223,47,67)"
            ],
            [
             0.6274509803921569,
             "rgb(236,76,61)"
            ],
            [
             0.6901960784313725,
             "rgb(242,107,73)"
            ],
            [
             0.7529411764705882,
             "rgb(244,135,95)"
            ],
            [
             0.8156862745098039,
             "rgb(245,162,122)"
            ],
            [
             0.8784313725490196,
             "rgb(246,188,153)"
            ],
            [
             0.9411764705882353,
             "rgb(247,212,187)"
            ],
            [
             1,
             "rgb(250,234,220)"
            ]
           ]
          },
          "colorway": [
           "rgb(76,114,176)",
           "rgb(221,132,82)",
           "rgb(85,168,104)",
           "rgb(196,78,82)",
           "rgb(129,114,179)",
           "rgb(147,120,96)",
           "rgb(218,139,195)",
           "rgb(140,140,140)",
           "rgb(204,185,116)",
           "rgb(100,181,205)"
          ],
          "font": {
           "color": "rgb(36,36,36)"
          },
          "geo": {
           "bgcolor": "white",
           "lakecolor": "white",
           "landcolor": "rgb(234,234,242)",
           "showlakes": true,
           "showland": true,
           "subunitcolor": "white"
          },
          "hoverlabel": {
           "align": "left"
          },
          "hovermode": "closest",
          "paper_bgcolor": "white",
          "plot_bgcolor": "rgb(234,234,242)",
          "polar": {
           "angularaxis": {
            "gridcolor": "white",
            "linecolor": "white",
            "showgrid": true,
            "ticks": ""
           },
           "bgcolor": "rgb(234,234,242)",
           "radialaxis": {
            "gridcolor": "white",
            "linecolor": "white",
            "showgrid": true,
            "ticks": ""
           }
          },
          "scene": {
           "xaxis": {
            "backgroundcolor": "rgb(234,234,242)",
            "gridcolor": "white",
            "gridwidth": 2,
            "linecolor": "white",
            "showbackground": true,
            "showgrid": true,
            "ticks": "",
            "zerolinecolor": "white"
           },
           "yaxis": {
            "backgroundcolor": "rgb(234,234,242)",
            "gridcolor": "white",
            "gridwidth": 2,
            "linecolor": "white",
            "showbackground": true,
            "showgrid": true,
            "ticks": "",
            "zerolinecolor": "white"
           },
           "zaxis": {
            "backgroundcolor": "rgb(234,234,242)",
            "gridcolor": "white",
            "gridwidth": 2,
            "linecolor": "white",
            "showbackground": true,
            "showgrid": true,
            "ticks": "",
            "zerolinecolor": "white"
           }
          },
          "shapedefaults": {
           "fillcolor": "rgb(67,103,167)",
           "line": {
            "width": 0
           },
           "opacity": 0.5
          },
          "ternary": {
           "aaxis": {
            "gridcolor": "white",
            "linecolor": "white",
            "showgrid": true,
            "ticks": ""
           },
           "baxis": {
            "gridcolor": "white",
            "linecolor": "white",
            "showgrid": true,
            "ticks": ""
           },
           "bgcolor": "rgb(234,234,242)",
           "caxis": {
            "gridcolor": "white",
            "linecolor": "white",
            "showgrid": true,
            "ticks": ""
           }
          },
          "xaxis": {
           "automargin": true,
           "gridcolor": "white",
           "linecolor": "white",
           "showgrid": true,
           "ticks": "",
           "title": {
            "standoff": 15
           },
           "zerolinecolor": "white"
          },
          "yaxis": {
           "automargin": true,
           "gridcolor": "white",
           "linecolor": "white",
           "showgrid": true,
           "ticks": "",
           "title": {
            "standoff": 15
           },
           "zerolinecolor": "white"
          }
         }
        },
        "width": 800,
        "xaxis": {
         "anchor": "y",
         "domain": [
          0,
          0.235
         ],
         "title": {
          "text": "time"
         }
        },
        "xaxis10": {
         "anchor": "y10",
         "domain": [
          0.255,
          0.49
         ],
         "matches": "x",
         "showticklabels": false
        },
        "xaxis11": {
         "anchor": "y11",
         "domain": [
          0.51,
          0.745
         ],
         "matches": "x",
         "showticklabels": false
        },
        "xaxis12": {
         "anchor": "y12",
         "domain": [
          0.7649999999999999,
          0.9999999999999999
         ],
         "matches": "x",
         "showticklabels": false
        },
        "xaxis13": {
         "anchor": "y13",
         "domain": [
          0,
          0.235
         ],
         "matches": "x",
         "showticklabels": false
        },
        "xaxis14": {
         "anchor": "y14",
         "domain": [
          0.255,
          0.49
         ],
         "matches": "x",
         "showticklabels": false
        },
        "xaxis15": {
         "anchor": "y15",
         "domain": [
          0.51,
          0.745
         ],
         "matches": "x",
         "showticklabels": false
        },
        "xaxis16": {
         "anchor": "y16",
         "domain": [
          0.7649999999999999,
          0.9999999999999999
         ],
         "matches": "x",
         "showticklabels": false
        },
        "xaxis17": {
         "anchor": "y17",
         "domain": [
          0,
          0.235
         ],
         "matches": "x",
         "showticklabels": false
        },
        "xaxis18": {
         "anchor": "y18",
         "domain": [
          0.255,
          0.49
         ],
         "matches": "x",
         "showticklabels": false
        },
        "xaxis19": {
         "anchor": "y19",
         "domain": [
          0.51,
          0.745
         ],
         "matches": "x",
         "showticklabels": false
        },
        "xaxis2": {
         "anchor": "y2",
         "domain": [
          0.255,
          0.49
         ],
         "matches": "x",
         "title": {
          "text": "time"
         }
        },
        "xaxis20": {
         "anchor": "y20",
         "domain": [
          0.7649999999999999,
          0.9999999999999999
         ],
         "matches": "x",
         "showticklabels": false
        },
        "xaxis21": {
         "anchor": "y21",
         "domain": [
          0,
          0.235
         ],
         "matches": "x",
         "showticklabels": false
        },
        "xaxis22": {
         "anchor": "y22",
         "domain": [
          0.255,
          0.49
         ],
         "matches": "x",
         "showticklabels": false
        },
        "xaxis23": {
         "anchor": "y23",
         "domain": [
          0.51,
          0.745
         ],
         "matches": "x",
         "showticklabels": false
        },
        "xaxis24": {
         "anchor": "y24",
         "domain": [
          0.7649999999999999,
          0.9999999999999999
         ],
         "matches": "x",
         "showticklabels": false
        },
        "xaxis25": {
         "anchor": "y25",
         "domain": [
          0,
          0.235
         ],
         "matches": "x",
         "showticklabels": false
        },
        "xaxis26": {
         "anchor": "y26",
         "domain": [
          0.255,
          0.49
         ],
         "matches": "x",
         "showticklabels": false
        },
        "xaxis27": {
         "anchor": "y27",
         "domain": [
          0.51,
          0.745
         ],
         "matches": "x",
         "showticklabels": false
        },
        "xaxis28": {
         "anchor": "y28",
         "domain": [
          0.7649999999999999,
          0.9999999999999999
         ],
         "matches": "x",
         "showticklabels": false
        },
        "xaxis29": {
         "anchor": "y29",
         "domain": [
          0,
          0.235
         ],
         "matches": "x",
         "showticklabels": false
        },
        "xaxis3": {
         "anchor": "y3",
         "domain": [
          0.51,
          0.745
         ],
         "matches": "x",
         "title": {
          "text": "time"
         }
        },
        "xaxis30": {
         "anchor": "y30",
         "domain": [
          0.255,
          0.49
         ],
         "matches": "x",
         "showticklabels": false
        },
        "xaxis31": {
         "anchor": "y31",
         "domain": [
          0.51,
          0.745
         ],
         "matches": "x",
         "showticklabels": false
        },
        "xaxis32": {
         "anchor": "y32",
         "domain": [
          0.7649999999999999,
          0.9999999999999999
         ],
         "matches": "x",
         "showticklabels": false
        },
        "xaxis4": {
         "anchor": "y4",
         "domain": [
          0.7649999999999999,
          0.9999999999999999
         ],
         "matches": "x",
         "title": {
          "text": "time"
         }
        },
        "xaxis5": {
         "anchor": "y5",
         "domain": [
          0,
          0.235
         ],
         "matches": "x",
         "showticklabels": false
        },
        "xaxis6": {
         "anchor": "y6",
         "domain": [
          0.255,
          0.49
         ],
         "matches": "x",
         "showticklabels": false
        },
        "xaxis7": {
         "anchor": "y7",
         "domain": [
          0.51,
          0.745
         ],
         "matches": "x",
         "showticklabels": false
        },
        "xaxis8": {
         "anchor": "y8",
         "domain": [
          0.7649999999999999,
          0.9999999999999999
         ],
         "matches": "x",
         "showticklabels": false
        },
        "xaxis9": {
         "anchor": "y9",
         "domain": [
          0,
          0.235
         ],
         "matches": "x",
         "showticklabels": false
        },
        "yaxis": {
         "anchor": "x",
         "domain": [
          0,
          0.1075
         ],
         "title": {
          "text": ""
         }
        },
        "yaxis10": {
         "anchor": "x10",
         "domain": [
          0.255,
          0.3625
         ],
         "matches": "y",
         "showticklabels": false,
         "title": {
          "text": ""
         }
        },
        "yaxis11": {
         "anchor": "x11",
         "domain": [
          0.255,
          0.3625
         ],
         "matches": "y",
         "showticklabels": false,
         "title": {
          "text": ""
         }
        },
        "yaxis12": {
         "anchor": "x12",
         "domain": [
          0.255,
          0.3625
         ],
         "matches": "y",
         "showticklabels": false,
         "title": {
          "text": ""
         }
        },
        "yaxis13": {
         "anchor": "x13",
         "domain": [
          0.3825,
          0.49
         ],
         "matches": "y",
         "title": {
          "text": ""
         }
        },
        "yaxis14": {
         "anchor": "x14",
         "domain": [
          0.3825,
          0.49
         ],
         "matches": "y",
         "showticklabels": false,
         "title": {
          "text": ""
         }
        },
        "yaxis15": {
         "anchor": "x15",
         "domain": [
          0.3825,
          0.49
         ],
         "matches": "y",
         "showticklabels": false,
         "title": {
          "text": ""
         }
        },
        "yaxis16": {
         "anchor": "x16",
         "domain": [
          0.3825,
          0.49
         ],
         "matches": "y",
         "showticklabels": false,
         "title": {
          "text": ""
         }
        },
        "yaxis17": {
         "anchor": "x17",
         "domain": [
          0.51,
          0.6175
         ],
         "matches": "y",
         "title": {
          "text": ""
         }
        },
        "yaxis18": {
         "anchor": "x18",
         "domain": [
          0.51,
          0.6175
         ],
         "matches": "y",
         "showticklabels": false,
         "title": {
          "text": ""
         }
        },
        "yaxis19": {
         "anchor": "x19",
         "domain": [
          0.51,
          0.6175
         ],
         "matches": "y",
         "showticklabels": false,
         "title": {
          "text": ""
         }
        },
        "yaxis2": {
         "anchor": "x2",
         "domain": [
          0,
          0.1075
         ],
         "matches": "y",
         "showticklabels": false,
         "title": {
          "text": ""
         }
        },
        "yaxis20": {
         "anchor": "x20",
         "domain": [
          0.51,
          0.6175
         ],
         "matches": "y",
         "showticklabels": false,
         "title": {
          "text": ""
         }
        },
        "yaxis21": {
         "anchor": "x21",
         "domain": [
          0.6375,
          0.745
         ],
         "matches": "y",
         "title": {
          "text": ""
         }
        },
        "yaxis22": {
         "anchor": "x22",
         "domain": [
          0.6375,
          0.745
         ],
         "matches": "y",
         "showticklabels": false,
         "title": {
          "text": ""
         }
        },
        "yaxis23": {
         "anchor": "x23",
         "domain": [
          0.6375,
          0.745
         ],
         "matches": "y",
         "showticklabels": false,
         "title": {
          "text": ""
         }
        },
        "yaxis24": {
         "anchor": "x24",
         "domain": [
          0.6375,
          0.745
         ],
         "matches": "y",
         "showticklabels": false,
         "title": {
          "text": ""
         }
        },
        "yaxis25": {
         "anchor": "x25",
         "domain": [
          0.765,
          0.8725
         ],
         "matches": "y",
         "title": {
          "text": ""
         }
        },
        "yaxis26": {
         "anchor": "x26",
         "domain": [
          0.765,
          0.8725
         ],
         "matches": "y",
         "showticklabels": false,
         "title": {
          "text": ""
         }
        },
        "yaxis27": {
         "anchor": "x27",
         "domain": [
          0.765,
          0.8725
         ],
         "matches": "y",
         "showticklabels": false,
         "title": {
          "text": ""
         }
        },
        "yaxis28": {
         "anchor": "x28",
         "domain": [
          0.765,
          0.8725
         ],
         "matches": "y",
         "showticklabels": false,
         "title": {
          "text": ""
         }
        },
        "yaxis29": {
         "anchor": "x29",
         "domain": [
          0.8925000000000001,
          1
         ],
         "matches": "y",
         "title": {
          "text": ""
         }
        },
        "yaxis3": {
         "anchor": "x3",
         "domain": [
          0,
          0.1075
         ],
         "matches": "y",
         "showticklabels": false,
         "title": {
          "text": ""
         }
        },
        "yaxis30": {
         "anchor": "x30",
         "domain": [
          0.8925000000000001,
          1
         ],
         "matches": "y",
         "showticklabels": false,
         "title": {
          "text": ""
         }
        },
        "yaxis31": {
         "anchor": "x31",
         "domain": [
          0.8925000000000001,
          1
         ],
         "matches": "y",
         "showticklabels": false,
         "title": {
          "text": ""
         }
        },
        "yaxis32": {
         "anchor": "x32",
         "domain": [
          0.8925000000000001,
          1
         ],
         "matches": "y",
         "showticklabels": false,
         "title": {
          "text": ""
         }
        },
        "yaxis4": {
         "anchor": "x4",
         "domain": [
          0,
          0.1075
         ],
         "matches": "y",
         "showticklabels": false,
         "title": {
          "text": ""
         }
        },
        "yaxis5": {
         "anchor": "x5",
         "domain": [
          0.1275,
          0.235
         ],
         "matches": "y",
         "title": {
          "text": ""
         }
        },
        "yaxis6": {
         "anchor": "x6",
         "domain": [
          0.1275,
          0.235
         ],
         "matches": "y",
         "showticklabels": false,
         "title": {
          "text": ""
         }
        },
        "yaxis7": {
         "anchor": "x7",
         "domain": [
          0.1275,
          0.235
         ],
         "matches": "y",
         "showticklabels": false,
         "title": {
          "text": ""
         }
        },
        "yaxis8": {
         "anchor": "x8",
         "domain": [
          0.1275,
          0.235
         ],
         "matches": "y",
         "showticklabels": false,
         "title": {
          "text": ""
         }
        },
        "yaxis9": {
         "anchor": "x9",
         "domain": [
          0.255,
          0.3625
         ],
         "matches": "y",
         "title": {
          "text": ""
         }
        }
       }
      },
      "text/html": [
       "<div>                            <div id=\"2dd5f1ae-cabd-4f7d-b9b6-81b5ae9b281d\" class=\"plotly-graph-div\" style=\"height:700px; width:800px;\"></div>            <script type=\"text/javascript\">                require([\"plotly\"], function(Plotly) {                    window.PLOTLYENV=window.PLOTLYENV || {};                                    if (document.getElementById(\"2dd5f1ae-cabd-4f7d-b9b6-81b5ae9b281d\")) {                    Plotly.newPlot(                        \"2dd5f1ae-cabd-4f7d-b9b6-81b5ae9b281d\",                        [{\"hovertemplate\":\"community=I<br>subjectID=24<br>time=%{x}<br>mt_pseudotime=%{y}<extra></extra>\",\"legendgroup\":\"I\",\"marker\":{\"color\":\"darkred\",\"line\":{\"color\":\"DarkSlateGrey\",\"width\":2},\"opacity\":0.8,\"size\":8,\"symbol\":\"circle\"},\"mode\":\"markers\",\"name\":\"I\",\"orientation\":\"v\",\"showlegend\":true,\"type\":\"scatter\",\"x\":[43,110,106,103,57,54,50,47,29,26,15,8,22,12,65,78,99,96,82,40,36,19,92,1],\"xaxis\":\"x29\",\"y\":[0.6282166242599487,0.478721559047699,0.478721559047699,0.478721559047699,0.478721559047699,0.478721559047699,0.478721559047699,0.478721559047699,0.478721559047699,0.478721559047699,0.478721559047699,0.478721559047699,0.478721559047699,0.5583375692367554,0.8521263599395752,0.5605032444000244,0.5583375692367554,0.5583375692367554,0.5583375692367554,0.5583375692367554,0.5605032444000244,0.530521810054779,0.6282166242599487,0.6282166242599487],\"yaxis\":\"y29\"},{\"hovertemplate\":\"community=I<br>subjectID=28<br>time=%{x}<br>mt_pseudotime=%{y}<extra></extra>\",\"legendgroup\":\"I\",\"marker\":{\"color\":\"darkred\",\"line\":{\"color\":\"DarkSlateGrey\",\"width\":2},\"opacity\":0.8,\"size\":8,\"symbol\":\"circle\"},\"mode\":\"markers\",\"name\":\"I\",\"orientation\":\"v\",\"showlegend\":false,\"type\":\"scatter\",\"x\":[29,89,36,57,85,96,26,61,43,47,71,75,54,103,78,22,15,82,19,12,5,111,106,68,50,33,8,1,99],\"xaxis\":\"x30\",\"y\":[0.5282155275344849,0.5282155275344849,0.3911725878715515,0.3911725878715515,0.3911725878715515,0.3911725878715515,0.2052018642425537,0.3752960562705994,0.5428323745727539,0.3677183985710144,0.3677183985710144,0.3677183985710144,0.2399383783340454,0.3677183985710144,0.2152771949768066,0.2152771949768066,0.2152771949768066,0.3229622840881348,0.3229622840881348,0.3229622840881348,0.5990453958511353,0.4857938289642334,0.4857938289642334,0.4857938289642334,0.4857938289642334,0.4857938289642334,0.4857938289642334,0.4857938289642334,0.4857938289642334],\"yaxis\":\"y30\"},{\"hovertemplate\":\"community=I<br>subjectID=32<br>time=%{x}<br>mt_pseudotime=%{y}<extra></extra>\",\"legendgroup\":\"I\",\"marker\":{\"color\":\"darkred\",\"line\":{\"color\":\"DarkSlateGrey\",\"width\":2},\"opacity\":0.8,\"size\":8,\"symbol\":\"circle\"},\"mode\":\"markers\",\"name\":\"I\",\"orientation\":\"v\",\"showlegend\":false,\"type\":\"scatter\",\"x\":[21,102,63,98,105,109,84,95,59,77,18,88,91],\"xaxis\":\"x31\",\"y\":[0.5725469589233398,0.2052018642425537,0.3651754856109619,0.2152771949768066,0.2152771949768066,0.2152771949768066,0.2514879107475281,0.3651754856109619,0.5583375692367554,0.530521810054779,0.6282166242599487,0.2514879107475281,0.3674241900444031],\"yaxis\":\"y31\"},{\"hovertemplate\":\"community=I<br>subjectID=26<br>time=%{x}<br>mt_pseudotime=%{y}<extra></extra>\",\"legendgroup\":\"I\",\"marker\":{\"color\":\"darkred\",\"line\":{\"color\":\"DarkSlateGrey\",\"width\":2},\"opacity\":0.8,\"size\":8,\"symbol\":\"circle\"},\"mode\":\"markers\",\"name\":\"I\",\"orientation\":\"v\",\"showlegend\":false,\"type\":\"scatter\",\"x\":[29,26,22,78,75,68,64,54,50,33,15,82],\"xaxis\":\"x32\",\"y\":[0.478721559047699,0.4607802629470825,0.3464263081550598,null,null,null,0.5769237279891968,null,null,0.5605032444000244,0.530521810054779,0.5990453958511353],\"yaxis\":\"y32\"},{\"hovertemplate\":\"community=I<br>subjectID=30<br>time=%{x}<br>mt_pseudotime=%{y}<extra></extra>\",\"legendgroup\":\"I\",\"marker\":{\"color\":\"darkred\",\"line\":{\"color\":\"DarkSlateGrey\",\"width\":2},\"opacity\":0.8,\"size\":8,\"symbol\":\"circle\"},\"mode\":\"markers\",\"name\":\"I\",\"orientation\":\"v\",\"showlegend\":false,\"type\":\"scatter\",\"x\":[8,54,89,68,40,107,100,92,16,82,43,12,88,19,1,61,64,79,37,29,22,71,35,26],\"xaxis\":\"x25\",\"y\":[0.5282155275344849,null,null,0.360440731048584,0.4739229679107666,null,null,0.4823392629623413,0.3500816226005554,0.477703332901001,0.3500816226005554,0.3911725878715515,0.3911725878715515,0.3229622840881348,0.5797845125198364,0.5990453958511353,0.4436368942260742,0.3534717559814453,0.3534717559814453,0.3534717559814453,0.2245948910713196,0.2245948910713196,0.3621440529823303,0.3685682415962219],\"yaxis\":\"y25\"},{\"hovertemplate\":\"community=I<br>subjectID=31<br>time=%{x}<br>mt_pseudotime=%{y}<extra></extra>\",\"legendgroup\":\"I\",\"marker\":{\"color\":\"darkred\",\"line\":{\"color\":\"DarkSlateGrey\",\"width\":2},\"opacity\":0.8,\"size\":8,\"symbol\":\"circle\"},\"mode\":\"markers\",\"name\":\"I\",\"orientation\":\"v\",\"showlegend\":false,\"type\":\"scatter\",\"x\":[50,1,71,75,82,89,103,68,64,47,54,92,8,15,19,26,36,85,33,29,22,57,99,96,106],\"xaxis\":\"x26\",\"y\":[0.3911725878715515,0.360440731048584,0.4631807804107666,0.4739229679107666,0.5211609601974487,0.5963584184646606,0.3500816226005554,0.5898922681808472,null,0.514268159866333,0.4133954644203186,0.6282166242599487,0.5331777334213257,null,0.5066603422164917,0.3250495195388794,0.5881200432777405,0.5797845125198364,0.5797845125198364,0.5797845125198364,0.2245948910713196,0.4133042097091675,0.3621440529823303,0.4537988901138306,0.4851283431053162],\"yaxis\":\"y26\"},{\"hovertemplate\":\"community=I<br>subjectID=29<br>time=%{x}<br>mt_pseudotime=%{y}<extra></extra>\",\"legendgroup\":\"I\",\"marker\":{\"color\":\"darkred\",\"line\":{\"color\":\"DarkSlateGrey\",\"width\":2},\"opacity\":0.8,\"size\":8,\"symbol\":\"circle\"},\"mode\":\"markers\",\"name\":\"I\",\"orientation\":\"v\",\"showlegend\":false,\"type\":\"scatter\",\"x\":[1,19,26,47,61,106,99,64,5,8,15,50,43,41,103,71,75,85,29,33,89,92,36,54,22,57,82,78,69,110],\"xaxis\":\"x27\",\"y\":[0.360440731048584,0.2152771949768066,0.2152771949768066,0.2152771949768066,0.2152771949768066,0.2399383783340454,0.2399383783340454,0.2399383783340454,0.2399383783340454,0.2399383783340454,0.2245948910713196,0.360440731048584,0.2245948910713196,0.2245948910713196,0.3534717559814453,0.2245948910713196,0.2245948910713196,0.2245948910713196,0.481661856174469,0.3644739389419556,0.3644739389419556,0.3644739389419556,0.4133042097091675,0.3621440529823303,0.2399383783340454,0.3268196582794189,0.4537988901138306,0.3685682415962219,0.4851283431053162,0.3685682415962219],\"yaxis\":\"y27\"},{\"hovertemplate\":\"community=I<br>subjectID=27<br>time=%{x}<br>mt_pseudotime=%{y}<extra></extra>\",\"legendgroup\":\"I\",\"marker\":{\"color\":\"darkred\",\"line\":{\"color\":\"DarkSlateGrey\",\"width\":2},\"opacity\":0.8,\"size\":8,\"symbol\":\"circle\"},\"mode\":\"markers\",\"name\":\"I\",\"orientation\":\"v\",\"showlegend\":false,\"type\":\"scatter\",\"x\":[22,103,92,50,96,19],\"xaxis\":\"x28\",\"y\":[null,0.2399383783340454,0.5797845125198364,0.5797845125198364,0.4857938289642334,0.4436368942260742],\"yaxis\":\"y28\"},{\"hovertemplate\":\"community=II<br>subjectID=23<br>time=%{x}<br>mt_pseudotime=%{y}<extra></extra>\",\"legendgroup\":\"II\",\"marker\":{\"color\":\"orange\",\"line\":{\"color\":\"DarkSlateGrey\",\"width\":2},\"opacity\":0.8,\"size\":8,\"symbol\":\"circle\"},\"mode\":\"markers\",\"name\":\"II\",\"orientation\":\"v\",\"showlegend\":true,\"type\":\"scatter\",\"x\":[48,29,61,1,5,96,64,110,82,22,42,33,57,71,50,40,19,15,12,78,89,85,26,36,54,8],\"xaxis\":\"x21\",\"y\":[0.6697742938995361,0.6697742938995361,0.6697742938995361,0.6697742938995361,0.6697742938995361,0.7621912360191345,0.6697742938995361,0.6697742938995361,0.6697742938995361,0.5977327227592468,0.5977327227592468,0.6253159642219543,0.5309501886367798,0.6415138244628906,0.6415138244628906,0.6415138244628906,0.6415138244628906,0.6415138244628906,0.6415138244628906,0.6697742938995361,0.7931357622146606,0.6697742938995361,0.6697742938995361,0.7339422702789307,0.7339422702789307,0.6697742938995361],\"yaxis\":\"y21\"},{\"hovertemplate\":\"community=II<br>subjectID=22<br>time=%{x}<br>mt_pseudotime=%{y}<extra></extra>\",\"legendgroup\":\"II\",\"marker\":{\"color\":\"orange\",\"line\":{\"color\":\"DarkSlateGrey\",\"width\":2},\"opacity\":0.8,\"size\":8,\"symbol\":\"circle\"},\"mode\":\"markers\",\"name\":\"II\",\"orientation\":\"v\",\"showlegend\":false,\"type\":\"scatter\",\"x\":[29,1,12,15,19,22,26,46,63,53,56,67,70,74,84,95,49,101,88,39,35,33,81,60,42,5,98,91],\"xaxis\":\"x22\",\"y\":[0.6697742938995361,0.6697742938995361,0.6697742938995361,0.6697742938995361,0.6697742938995361,0.6697742938995361,0.6697742938995361,0.6697742938995361,0.6697742938995361,0.6697742938995361,0.6697742938995361,0.6697742938995361,0.6697742938995361,0.6697742938995361,0.6697742938995361,0.6697742938995361,0.6697742938995361,0.6415138244628906,0.6415138244628906,0.6415138244628906,0.6415138244628906,0.6415138244628906,0.7611137628555298,0.7611137628555298,0.7611137628555298,0.7611137628555298,0.6415138244628906,0.6415138244628906],\"yaxis\":\"y22\"},{\"hovertemplate\":\"community=II<br>subjectID=14<br>time=%{x}<br>mt_pseudotime=%{y}<extra></extra>\",\"legendgroup\":\"II\",\"marker\":{\"color\":\"orange\",\"line\":{\"color\":\"DarkSlateGrey\",\"width\":2},\"opacity\":0.8,\"size\":8,\"symbol\":\"circle\"},\"mode\":\"markers\",\"name\":\"II\",\"orientation\":\"v\",\"showlegend\":false,\"type\":\"scatter\",\"x\":[8],\"xaxis\":\"x23\",\"y\":[0.7339422702789307],\"yaxis\":\"y23\"},{\"hovertemplate\":\"community=II<br>subjectID=25<br>time=%{x}<br>mt_pseudotime=%{y}<extra></extra>\",\"legendgroup\":\"II\",\"marker\":{\"color\":\"orange\",\"line\":{\"color\":\"DarkSlateGrey\",\"width\":2},\"opacity\":0.8,\"size\":8,\"symbol\":\"circle\"},\"mode\":\"markers\",\"name\":\"II\",\"orientation\":\"v\",\"showlegend\":false,\"type\":\"scatter\",\"x\":[64],\"xaxis\":\"x24\",\"y\":[0.7155181765556335],\"yaxis\":\"y24\"},{\"hovertemplate\":\"community=II<br>subjectID=10<br>time=%{x}<br>mt_pseudotime=%{y}<extra></extra>\",\"legendgroup\":\"II\",\"marker\":{\"color\":\"orange\",\"line\":{\"color\":\"DarkSlateGrey\",\"width\":2},\"opacity\":0.8,\"size\":8,\"symbol\":\"circle\"},\"mode\":\"markers\",\"name\":\"II\",\"orientation\":\"v\",\"showlegend\":false,\"type\":\"scatter\",\"x\":[47],\"xaxis\":\"x17\",\"y\":[0.7339422702789307],\"yaxis\":\"y17\"},{\"hovertemplate\":\"community=III<br>subjectID=28<br>time=%{x}<br>mt_pseudotime=%{y}<extra></extra>\",\"legendgroup\":\"III\",\"marker\":{\"color\":\"chocolate\",\"line\":{\"color\":\"DarkSlateGrey\",\"width\":2},\"opacity\":0.8,\"size\":8,\"symbol\":\"circle\"},\"mode\":\"markers\",\"name\":\"III\",\"orientation\":\"v\",\"showlegend\":true,\"type\":\"scatter\",\"x\":[40,64,92],\"xaxis\":\"x30\",\"y\":[null,null,null],\"yaxis\":\"y30\"},{\"hovertemplate\":\"community=III<br>subjectID=26<br>time=%{x}<br>mt_pseudotime=%{y}<extra></extra>\",\"legendgroup\":\"III\",\"marker\":{\"color\":\"chocolate\",\"line\":{\"color\":\"DarkSlateGrey\",\"width\":2},\"opacity\":0.8,\"size\":8,\"symbol\":\"circle\"},\"mode\":\"markers\",\"name\":\"III\",\"orientation\":\"v\",\"showlegend\":false,\"type\":\"scatter\",\"x\":[36,40,71,47,43],\"xaxis\":\"x32\",\"y\":[null,0.232918381690979,null,null,null],\"yaxis\":\"y32\"},{\"hovertemplate\":\"community=III<br>subjectID=30<br>time=%{x}<br>mt_pseudotime=%{y}<extra></extra>\",\"legendgroup\":\"III\",\"marker\":{\"color\":\"chocolate\",\"line\":{\"color\":\"DarkSlateGrey\",\"width\":2},\"opacity\":0.8,\"size\":8,\"symbol\":\"circle\"},\"mode\":\"markers\",\"name\":\"III\",\"orientation\":\"v\",\"showlegend\":false,\"type\":\"scatter\",\"x\":[6,110],\"xaxis\":\"x25\",\"y\":[null,null],\"yaxis\":\"y25\"},{\"hovertemplate\":\"community=III<br>subjectID=31<br>time=%{x}<br>mt_pseudotime=%{y}<extra></extra>\",\"legendgroup\":\"III\",\"marker\":{\"color\":\"chocolate\",\"line\":{\"color\":\"DarkSlateGrey\",\"width\":2},\"opacity\":0.8,\"size\":8,\"symbol\":\"circle\"},\"mode\":\"markers\",\"name\":\"III\",\"orientation\":\"v\",\"showlegend\":false,\"type\":\"scatter\",\"x\":[43,40,110],\"xaxis\":\"x26\",\"y\":[null,null,null],\"yaxis\":\"y26\"},{\"hovertemplate\":\"community=III<br>subjectID=29<br>time=%{x}<br>mt_pseudotime=%{y}<extra></extra>\",\"legendgroup\":\"III\",\"marker\":{\"color\":\"chocolate\",\"line\":{\"color\":\"DarkSlateGrey\",\"width\":2},\"opacity\":0.8,\"size\":8,\"symbol\":\"circle\"},\"mode\":\"markers\",\"name\":\"III\",\"orientation\":\"v\",\"showlegend\":false,\"type\":\"scatter\",\"x\":[12],\"xaxis\":\"x27\",\"y\":[null],\"yaxis\":\"y27\"},{\"hovertemplate\":\"community=III<br>subjectID=27<br>time=%{x}<br>mt_pseudotime=%{y}<extra></extra>\",\"legendgroup\":\"III\",\"marker\":{\"color\":\"chocolate\",\"line\":{\"color\":\"DarkSlateGrey\",\"width\":2},\"opacity\":0.8,\"size\":8,\"symbol\":\"circle\"},\"mode\":\"markers\",\"name\":\"III\",\"orientation\":\"v\",\"showlegend\":false,\"type\":\"scatter\",\"x\":[36,61,71,29,89,54,33,26,40,43,64,68,85,15,12,8],\"xaxis\":\"x28\",\"y\":[0.6301007270812988,null,null,null,null,null,null,null,0.6373237371444702,null,null,null,0.5964940786361694,null,0.3793215751647949,0.6944100856781006],\"yaxis\":\"y28\"},{\"hovertemplate\":\"community=III<br>subjectID=14<br>time=%{x}<br>mt_pseudotime=%{y}<extra></extra>\",\"legendgroup\":\"III\",\"marker\":{\"color\":\"chocolate\",\"line\":{\"color\":\"DarkSlateGrey\",\"width\":2},\"opacity\":0.8,\"size\":8,\"symbol\":\"circle\"},\"mode\":\"markers\",\"name\":\"III\",\"orientation\":\"v\",\"showlegend\":false,\"type\":\"scatter\",\"x\":[103,89,64,50,43,29,26,22,5,15,19,110,106,96,92,85,12,47,54,68,82,57,61,75,71,78],\"xaxis\":\"x23\",\"y\":[0.2400784492492676,0.2400784492492676,0.2400784492492676,0.2400784492492676,0.2400784492492676,0.2400784492492676,0.2400784492492676,0.3226763606071472,0.3302075266838074,0.2400784492492676,0.2400784492492676,0.3661706447601318,0.3661706447601318,0.3661706447601318,0.3661706447601318,0.3661706447601318,0.3661706447601318,0.1127375960350037,0.1127375960350037,0.1127375960350037,0.1127375960350037,0.1091346740722656,0.1091346740722656,0.1091346740722656,0.0143362283706665,0.1723558902740479],\"yaxis\":\"y23\"},{\"hovertemplate\":\"community=III<br>subjectID=25<br>time=%{x}<br>mt_pseudotime=%{y}<extra></extra>\",\"legendgroup\":\"III\",\"marker\":{\"color\":\"chocolate\",\"line\":{\"color\":\"DarkSlateGrey\",\"width\":2},\"opacity\":0.8,\"size\":8,\"symbol\":\"circle\"},\"mode\":\"markers\",\"name\":\"III\",\"orientation\":\"v\",\"showlegend\":false,\"type\":\"scatter\",\"x\":[85,89,33,36,40],\"xaxis\":\"x24\",\"y\":[0.6654341220855713,null,null,null,null],\"yaxis\":\"y24\"},{\"hovertemplate\":\"community=III<br>subjectID=10<br>time=%{x}<br>mt_pseudotime=%{y}<extra></extra>\",\"legendgroup\":\"III\",\"marker\":{\"color\":\"chocolate\",\"line\":{\"color\":\"DarkSlateGrey\",\"width\":2},\"opacity\":0.8,\"size\":8,\"symbol\":\"circle\"},\"mode\":\"markers\",\"name\":\"III\",\"orientation\":\"v\",\"showlegend\":false,\"type\":\"scatter\",\"x\":[1,36,26,19,5,22,8,50,12,33,15,106,61,110,89,29,40,43,54,57,96],\"xaxis\":\"x17\",\"y\":[0.27245032787323,null,null,null,null,0.262010931968689,null,null,null,null,null,0.8571332693099976,0.8571332693099976,0.8571332693099976,0.8571332693099976,0.2538706064224243,null,null,null,0.6944100856781006,0.6944100856781006],\"yaxis\":\"y17\"},{\"hovertemplate\":\"community=III<br>subjectID=11<br>time=%{x}<br>mt_pseudotime=%{y}<extra></extra>\",\"legendgroup\":\"III\",\"marker\":{\"color\":\"chocolate\",\"line\":{\"color\":\"DarkSlateGrey\",\"width\":2},\"opacity\":0.8,\"size\":8,\"symbol\":\"circle\"},\"mode\":\"markers\",\"name\":\"III\",\"orientation\":\"v\",\"showlegend\":false,\"type\":\"scatter\",\"x\":[54,89,82,43,103,71,78,96,29,22,92,8,5,1,40,26,19,15,12,99,85,57,33,47],\"xaxis\":\"x18\",\"y\":[0.4975216388702393,0.4619441628456116,0.3796529173851013,0.4975216388702393,0.8325881361961365,0.8325881361961365,0.8325881361961365,0.2761101126670837,0.3523566722869873,0.2630480527877808,0.2504851222038269,0.2504851222038269,0.5099396109580994,null,0.2598756551742554,0.2598756551742554,0.2690752744674683,0.262010931968689,0.262010931968689,0.4349069595336914,0.2401484251022339,0.6944100856781006,0.6944100856781006,0.6944100856781006],\"yaxis\":\"y18\"},{\"hovertemplate\":\"community=III<br>subjectID=15<br>time=%{x}<br>mt_pseudotime=%{y}<extra></extra>\",\"legendgroup\":\"III\",\"marker\":{\"color\":\"chocolate\",\"line\":{\"color\":\"DarkSlateGrey\",\"width\":2},\"opacity\":0.8,\"size\":8,\"symbol\":\"circle\"},\"mode\":\"markers\",\"name\":\"III\",\"orientation\":\"v\",\"showlegend\":false,\"type\":\"scatter\",\"x\":[40,36,64,96,68,26,92,85,61,57,89,82,1,33,106,110,50,12,5,8,71,75,15,22,43,47,99,78,103],\"xaxis\":\"x19\",\"y\":[0.4619441628456116,0.4619441628456116,0.4975216388702393,0.2630480527877808,0.2598756551742554,0.2598756551742554,0.2690752744674683,0.27245032787323,null,null,0.2690752744674683,0.2493546009063721,0.2493546009063721,null,0.2493546009063721,0.2401484251022339,0.2401484251022339,0.2401484251022339,0.2401484251022339,0.3661706447601318,0.5964940786361694,0.02359592914581299,0.1723558902740479,null,0.2246870994567871,0.2246870994567871,0.2246870994567871,0.2538706064224243,0.2246870994567871],\"yaxis\":\"y19\"},{\"hovertemplate\":\"community=III<br>subjectID=16<br>time=%{x}<br>mt_pseudotime=%{y}<extra></extra>\",\"legendgroup\":\"III\",\"marker\":{\"color\":\"chocolate\",\"line\":{\"color\":\"DarkSlateGrey\",\"width\":2},\"opacity\":0.8,\"size\":8,\"symbol\":\"circle\"},\"mode\":\"markers\",\"name\":\"III\",\"orientation\":\"v\",\"showlegend\":false,\"type\":\"scatter\",\"x\":[82,85,103,78,15,40,12,22,61,54,50,47,33,96,92,19,8,5,26,43,29,1,106,110,94,57,36,89,75],\"xaxis\":\"x20\",\"y\":[0.3523566722869873,0.3523566722869873,0.3523566722869873,0.3523566722869873,0.3523566722869873,0.2630480527877808,0.3523566722869873,null,0.2598756551742554,0.2598756551742554,0.2598756551742554,0.2598756551742554,0.2598756551742554,0.2598756551742554,0.27245032787323,null,null,null,null,0.262010931968689,0.262010931968689,null,0.282631516456604,0.3661706447601318,0.3661706447601318,0.3661706447601318,null,0.2953194379806519,0.294378399848938],\"yaxis\":\"y20\"},{\"hovertemplate\":\"community=III<br>subjectID=13<br>time=%{x}<br>mt_pseudotime=%{y}<extra></extra>\",\"legendgroup\":\"III\",\"marker\":{\"color\":\"chocolate\",\"line\":{\"color\":\"DarkSlateGrey\",\"width\":2},\"opacity\":0.8,\"size\":8,\"symbol\":\"circle\"},\"mode\":\"markers\",\"name\":\"III\",\"orientation\":\"v\",\"showlegend\":false,\"type\":\"scatter\",\"x\":[19,15,8,92,50,106,5,26,40,64,29,33,36,43,22,61,71,85,100,68,1,96,89,79,12,82,54,47],\"xaxis\":\"x13\",\"y\":[0.4619441628456116,0.4619441628456116,0.4619441628456116,0.8325881361961365,0.8325881361961365,0.6301007270812988,0.3226763606071472,0.3977048397064209,0.3977048397064209,0.3977048397064209,0.2519773244857788,0.2519773244857788,0.2519773244857788,0.2519773244857788,0.3977048397064209,0.2845251560211182,0.2878804802894592,null,null,0.232918381690979,0.2306427955627441,null,null,null,0.3661706447601318,0.282631516456604,0.8571332693099976,0.8571332693099976],\"yaxis\":\"y13\"},{\"hovertemplate\":\"community=III<br>subjectID=12<br>time=%{x}<br>mt_pseudotime=%{y}<extra></extra>\",\"legendgroup\":\"III\",\"marker\":{\"color\":\"chocolate\",\"line\":{\"color\":\"DarkSlateGrey\",\"width\":2},\"opacity\":0.8,\"size\":8,\"symbol\":\"circle\"},\"mode\":\"markers\",\"name\":\"III\",\"orientation\":\"v\",\"showlegend\":false,\"type\":\"scatter\",\"x\":[82,78,36,19,15,61,12,8,54,57,64,92,47,85,68,40,22,89,75],\"xaxis\":\"x14\",\"y\":[0.3796529173851013,0.4975216388702393,0.6301007270812988,0.221490740776062,0.2344281673431396,0.3226763606071472,0.3226763606071472,0.4575515985488892,0.2743305563926697,0.07051962614059448,0.3518527150154114,0.6654341220855713,0.6654341220855713,0.3661706447601318,0.3661706447601318,0.3661706447601318,0.3661706447601318,0.3661706447601318,0.6944100856781006],\"yaxis\":\"y14\"},{\"hovertemplate\":\"community=III<br>subjectID=2<br>time=%{x}<br>mt_pseudotime=%{y}<extra></extra>\",\"legendgroup\":\"III\",\"marker\":{\"color\":\"chocolate\",\"line\":{\"color\":\"DarkSlateGrey\",\"width\":2},\"opacity\":0.8,\"size\":8,\"symbol\":\"circle\"},\"mode\":\"markers\",\"name\":\"III\",\"orientation\":\"v\",\"showlegend\":false,\"type\":\"scatter\",\"x\":[26,29,92,22,8,85,97,69,36],\"xaxis\":\"x15\",\"y\":[0.8325881361961365,0.4975216388702393,0.5099396109580994,0.5099396109580994,0.5099396109580994,0.6373237371444702,0.8571332693099976,0.8571332693099976,0.6944100856781006],\"yaxis\":\"y15\"},{\"hovertemplate\":\"community=III<br>subjectID=1<br>time=%{x}<br>mt_pseudotime=%{y}<extra></extra>\",\"legendgroup\":\"III\",\"marker\":{\"color\":\"chocolate\",\"line\":{\"color\":\"DarkSlateGrey\",\"width\":2},\"opacity\":0.8,\"size\":8,\"symbol\":\"circle\"},\"mode\":\"markers\",\"name\":\"III\",\"orientation\":\"v\",\"showlegend\":false,\"type\":\"scatter\",\"x\":[20,90,85,1,29,43,57,108,106],\"xaxis\":\"x16\",\"y\":[0.8325881361961365,null,0.6301007270812988,0.2866359949111938,null,0.5099396109580994,0.3661706447601318,0.8571332693099976,0.8571332693099976],\"yaxis\":\"y16\"},{\"hovertemplate\":\"community=III<br>subjectID=21<br>time=%{x}<br>mt_pseudotime=%{y}<extra></extra>\",\"legendgroup\":\"III\",\"marker\":{\"color\":\"chocolate\",\"line\":{\"color\":\"DarkSlateGrey\",\"width\":2},\"opacity\":0.8,\"size\":8,\"symbol\":\"circle\"},\"mode\":\"markers\",\"name\":\"III\",\"orientation\":\"v\",\"showlegend\":false,\"type\":\"scatter\",\"x\":[12,5,1,100,72,76,40,19,50,93,54,43,97,15,104,90,86,83,61,29,22,111,79,57,64,26,36,8],\"xaxis\":\"x9\",\"y\":[0.2400784492492676,0.4575515985488892,0.3302075266838074,0.3302075266838074,0.2598756551742554,0.27245032787323,0.27245032787323,null,0.2400784492492676,0.262010931968689,0.262010931968689,0.262010931968689,0.262010931968689,null,0.3661706447601318,0.3661706447601318,0.3661706447601318,0.3661706447601318,0.3661706447601318,0.3661706447601318,0.3661706447601318,0.3661706447601318,0.4349069595336914,0.4349069595336914,0.2401484251022339,null,0.7705563902854919,0.09192442893981934],\"yaxis\":\"y9\"},{\"hovertemplate\":\"community=III<br>subjectID=19<br>time=%{x}<br>mt_pseudotime=%{y}<extra></extra>\",\"legendgroup\":\"III\",\"marker\":{\"color\":\"chocolate\",\"line\":{\"color\":\"DarkSlateGrey\",\"width\":2},\"opacity\":0.8,\"size\":8,\"symbol\":\"circle\"},\"mode\":\"markers\",\"name\":\"III\",\"orientation\":\"v\",\"showlegend\":false,\"type\":\"scatter\",\"x\":[92,57,6,85,29,22,78,40,43,103,12,108,99,19,31,36,75,96,82,8,15,33,38,47,50,61,71,89,106,54,26,64,1],\"xaxis\":\"x10\",\"y\":[0.221490740776062,0.221490740776062,0.221490740776062,0.4575515985488892,0.3518527150154114,0.2845251560211182,0.2306427955627441,0.2306427955627441,0.2306427955627441,0.232918381690979,0.2400784492492676,0.6654341220855713,0.3661706447601318,0.3661706447601318,0.3661706447601318,0.3661706447601318,0.3661706447601318,0.3661706447601318,0.1723558902740479,0.2400784492492676,0.2400784492492676,0.2400784492492676,0.2400784492492676,0.2400784492492676,0.2400784492492676,0.2400784492492676,0.2400784492492676,0.2400784492492676,0.6301007270812988,0.5966441631317139,0.5535305738449097,0.03441989421844482,0.5966441631317139],\"yaxis\":\"y10\"},{\"hovertemplate\":\"community=III<br>subjectID=18<br>time=%{x}<br>mt_pseudotime=%{y}<extra></extra>\",\"legendgroup\":\"III\",\"marker\":{\"color\":\"chocolate\",\"line\":{\"color\":\"DarkSlateGrey\",\"width\":2},\"opacity\":0.8,\"size\":8,\"symbol\":\"circle\"},\"mode\":\"markers\",\"name\":\"III\",\"orientation\":\"v\",\"showlegend\":false,\"type\":\"scatter\",\"x\":[82,43,40,110,5,57,36,54,61,71,75,85,92,106,12,22,29,33,96,1,15,26,47,50,64,78,89,99,103,19],\"xaxis\":\"x11\",\"y\":[0.3226763606071472,0.4575515985488892,0.4575515985488892,0.3977048397064209,0.2400784492492676,0.6654341220855713,0.3661706447601318,0.3661706447601318,0.3661706447601318,0.3661706447601318,0.3661706447601318,0.3661706447601318,0.3661706447601318,0.3661706447601318,0.02359592914581299,0.02359592914581299,0.502534031867981,0.4906532764434814,0.4364956617355347,0.02359592914581299,0.2400784492492676,0.2400784492492676,0.2400784492492676,0.2400784492492676,0.2400784492492676,0.2400784492492676,0.2400784492492676,0.2400784492492676,0.2400784492492676,0.0143362283706665],\"yaxis\":\"y11\"},{\"hovertemplate\":\"community=III<br>subjectID=17<br>time=%{x}<br>mt_pseudotime=%{y}<extra></extra>\",\"legendgroup\":\"III\",\"marker\":{\"color\":\"chocolate\",\"line\":{\"color\":\"DarkSlateGrey\",\"width\":2},\"opacity\":0.8,\"size\":8,\"symbol\":\"circle\"},\"mode\":\"markers\",\"name\":\"III\",\"orientation\":\"v\",\"showlegend\":false,\"type\":\"scatter\",\"x\":[43,99,96,36,33,50,71,12,82,1,8,29,5,22,26,47,68,106,15,75,103,110],\"xaxis\":\"x12\",\"y\":[0.4575515985488892,0.2761101126670837,0.2761101126670837,0.2761101126670837,0.2761101126670837,0.3523566722869873,0.3523566722869873,0.3523566722869873,0.4349069595336914,0.3661706447601318,0.3661706447601318,0.3661706447601318,0.3984122276306152,0.2953194379806519,0.2953194379806519,0.2953194379806519,0.2953194379806519,0.2953194379806519,0.2953194379806519,0.3349648714065552,0.294378399848938,0.294378399848938],\"yaxis\":\"y12\"},{\"hovertemplate\":\"community=III<br>subjectID=8<br>time=%{x}<br>mt_pseudotime=%{y}<extra></extra>\",\"legendgroup\":\"III\",\"marker\":{\"color\":\"chocolate\",\"line\":{\"color\":\"DarkSlateGrey\",\"width\":2},\"opacity\":0.8,\"size\":8,\"symbol\":\"circle\"},\"mode\":\"markers\",\"name\":\"III\",\"orientation\":\"v\",\"showlegend\":false,\"type\":\"scatter\",\"x\":[23,57,78,29,75,26,54,5,1],\"xaxis\":\"x5\",\"y\":[0.9501603245735168,0.7705563902854919,0.917554497718811,0.8621475100517273,0.8621475100517273,0.6944100856781006,0.8571332693099976,0.8571332693099976,0.8571332693099976],\"yaxis\":\"y5\"},{\"hovertemplate\":\"community=III<br>subjectID=9<br>time=%{x}<br>mt_pseudotime=%{y}<extra></extra>\",\"legendgroup\":\"III\",\"marker\":{\"color\":\"chocolate\",\"line\":{\"color\":\"DarkSlateGrey\",\"width\":2},\"opacity\":0.8,\"size\":8,\"symbol\":\"circle\"},\"mode\":\"markers\",\"name\":\"III\",\"orientation\":\"v\",\"showlegend\":false,\"type\":\"scatter\",\"x\":[85,81],\"xaxis\":\"x6\",\"y\":[0.5099396109580994,0.6301007270812988],\"yaxis\":\"y6\"},{\"hovertemplate\":\"community=III<br>subjectID=20<br>time=%{x}<br>mt_pseudotime=%{y}<extra></extra>\",\"legendgroup\":\"III\",\"marker\":{\"color\":\"chocolate\",\"line\":{\"color\":\"DarkSlateGrey\",\"width\":2},\"opacity\":0.8,\"size\":8,\"symbol\":\"circle\"},\"mode\":\"markers\",\"name\":\"III\",\"orientation\":\"v\",\"showlegend\":false,\"type\":\"scatter\",\"x\":[106,103,71,61,57,50,47,43,64,89,78,75,68,40,96,33,12,8,26,5,36,22,99,92,19],\"xaxis\":\"x7\",\"y\":[0.2598756551742554,0.2598756551742554,0.2598756551742554,0.2598756551742554,0.2690752744674683,0.27245032787323,null,null,0.2493546009063721,null,0.262010931968689,0.262010931968689,null,null,0.3661706447601318,0.3661706447601318,0.3661706447601318,0.3661706447601318,0.4349069595336914,0.4349069595336914,0.2401484251022339,0.1097342967987061,0.282631516456604,0.282631516456604,0.282631516456604],\"yaxis\":\"y7\"},{\"hovertemplate\":\"community=III<br>subjectID=7<br>time=%{x}<br>mt_pseudotime=%{y}<extra></extra>\",\"legendgroup\":\"III\",\"marker\":{\"color\":\"chocolate\",\"line\":{\"color\":\"DarkSlateGrey\",\"width\":2},\"opacity\":0.8,\"size\":8,\"symbol\":\"circle\"},\"mode\":\"markers\",\"name\":\"III\",\"orientation\":\"v\",\"showlegend\":false,\"type\":\"scatter\",\"x\":[1],\"xaxis\":\"x8\",\"y\":[0.7412224411964417],\"yaxis\":\"y8\"},{\"hovertemplate\":\"community=IV-A<br>subjectID=24<br>time=%{x}<br>mt_pseudotime=%{y}<extra></extra>\",\"legendgroup\":\"IV-A\",\"marker\":{\"color\":\"mediumpurple\",\"line\":{\"color\":\"DarkSlateGrey\",\"width\":2},\"opacity\":0.8,\"size\":8,\"symbol\":\"circle\"},\"mode\":\"markers\",\"name\":\"IV-A\",\"orientation\":\"v\",\"showlegend\":true,\"type\":\"scatter\",\"x\":[89,61,33,85],\"xaxis\":\"x29\",\"y\":[0.8257129192352295,0.9250571131706238,0.8257339596748352,0.8257339596748352],\"yaxis\":\"y29\"},{\"hovertemplate\":\"community=IV-A<br>subjectID=32<br>time=%{x}<br>mt_pseudotime=%{y}<extra></extra>\",\"legendgroup\":\"IV-A\",\"marker\":{\"color\":\"mediumpurple\",\"line\":{\"color\":\"DarkSlateGrey\",\"width\":2},\"opacity\":0.8,\"size\":8,\"symbol\":\"circle\"},\"mode\":\"markers\",\"name\":\"IV-A\",\"orientation\":\"v\",\"showlegend\":false,\"type\":\"scatter\",\"x\":[74,81,49,53,46,42,28,14,5,8,67,1,32],\"xaxis\":\"x31\",\"y\":[0.966052770614624,0.6840965151786804,0.8558571338653564,0.8874986171722412,0.8874986171722412,0.9724705815315247,0.917597770690918,0.6840965151786804,0.9250571131706238,0.9303717613220215,0.9303717613220215,0.5605032444000244,0.9108473062515259],\"yaxis\":\"y31\"},{\"hovertemplate\":\"community=IV-A<br>subjectID=26<br>time=%{x}<br>mt_pseudotime=%{y}<extra></extra>\",\"legendgroup\":\"IV-A\",\"marker\":{\"color\":\"mediumpurple\",\"line\":{\"color\":\"DarkSlateGrey\",\"width\":2},\"opacity\":0.8,\"size\":8,\"symbol\":\"circle\"},\"mode\":\"markers\",\"name\":\"IV-A\",\"orientation\":\"v\",\"showlegend\":false,\"type\":\"scatter\",\"x\":[5,12,8,61,19,85,92,106,1,57,89,103,110],\"xaxis\":\"x32\",\"y\":[0.916901171207428,0.916901171207428,0.6282166242599487,0.6282166242599487,0.5605032444000244,0.8521263599395752,0.8953598141670227,0.8946021199226379,0.8522374033927917,0.8522374033927917,0.8522374033927917,0.8953598141670227,0.915606677532196],\"yaxis\":\"y32\"},{\"hovertemplate\":\"community=IV-A<br>subjectID=30<br>time=%{x}<br>mt_pseudotime=%{y}<extra></extra>\",\"legendgroup\":\"IV-A\",\"marker\":{\"color\":\"mediumpurple\",\"line\":{\"color\":\"DarkSlateGrey\",\"width\":2},\"opacity\":0.8,\"size\":8,\"symbol\":\"circle\"},\"mode\":\"markers\",\"name\":\"IV-A\",\"orientation\":\"v\",\"showlegend\":false,\"type\":\"scatter\",\"x\":[85],\"xaxis\":\"x25\",\"y\":[0.8541720509529114],\"yaxis\":\"y25\"},{\"hovertemplate\":\"community=IV-A<br>subjectID=31<br>time=%{x}<br>mt_pseudotime=%{y}<extra></extra>\",\"legendgroup\":\"IV-A\",\"marker\":{\"color\":\"mediumpurple\",\"line\":{\"color\":\"DarkSlateGrey\",\"width\":2},\"opacity\":0.8,\"size\":8,\"symbol\":\"circle\"},\"mode\":\"markers\",\"name\":\"IV-A\",\"orientation\":\"v\",\"showlegend\":false,\"type\":\"scatter\",\"x\":[12],\"xaxis\":\"x26\",\"y\":[0.6654341220855713],\"yaxis\":\"y26\"},{\"hovertemplate\":\"community=IV-A<br>subjectID=27<br>time=%{x}<br>mt_pseudotime=%{y}<extra></extra>\",\"legendgroup\":\"IV-A\",\"marker\":{\"color\":\"mediumpurple\",\"line\":{\"color\":\"DarkSlateGrey\",\"width\":2},\"opacity\":0.8,\"size\":8,\"symbol\":\"circle\"},\"mode\":\"markers\",\"name\":\"IV-A\",\"orientation\":\"v\",\"showlegend\":false,\"type\":\"scatter\",\"x\":[78,75,82,47,5,1],\"xaxis\":\"x28\",\"y\":[0.917554497718811,0.9250571131706238,0.7705563902854919,0.7705563902854919,0.9883174300193787,0.9702640771865845],\"yaxis\":\"y28\"},{\"hovertemplate\":\"community=IV-A<br>subjectID=23<br>time=%{x}<br>mt_pseudotime=%{y}<extra></extra>\",\"legendgroup\":\"IV-A\",\"marker\":{\"color\":\"mediumpurple\",\"line\":{\"color\":\"DarkSlateGrey\",\"width\":2},\"opacity\":0.8,\"size\":8,\"symbol\":\"circle\"},\"mode\":\"markers\",\"name\":\"IV-A\",\"orientation\":\"v\",\"showlegend\":false,\"type\":\"scatter\",\"x\":[103,99],\"xaxis\":\"x21\",\"y\":[0.8343095183372498,0.8257339596748352],\"yaxis\":\"y21\"},{\"hovertemplate\":\"community=IV-A<br>subjectID=22<br>time=%{x}<br>mt_pseudotime=%{y}<extra></extra>\",\"legendgroup\":\"IV-A\",\"marker\":{\"color\":\"mediumpurple\",\"line\":{\"color\":\"DarkSlateGrey\",\"width\":2},\"opacity\":0.8,\"size\":8,\"symbol\":\"circle\"},\"mode\":\"markers\",\"name\":\"IV-A\",\"orientation\":\"v\",\"showlegend\":false,\"type\":\"scatter\",\"x\":[105,109,77],\"xaxis\":\"x22\",\"y\":[0.8946021199226379,0.8946021199226379,0.8257339596748352],\"yaxis\":\"y22\"},{\"hovertemplate\":\"community=IV-A<br>subjectID=14<br>time=%{x}<br>mt_pseudotime=%{y}<extra></extra>\",\"legendgroup\":\"IV-A\",\"marker\":{\"color\":\"mediumpurple\",\"line\":{\"color\":\"DarkSlateGrey\",\"width\":2},\"opacity\":0.8,\"size\":8,\"symbol\":\"circle\"},\"mode\":\"markers\",\"name\":\"IV-A\",\"orientation\":\"v\",\"showlegend\":false,\"type\":\"scatter\",\"x\":[1],\"xaxis\":\"x23\",\"y\":[0.9037297368049622],\"yaxis\":\"y23\"},{\"hovertemplate\":\"community=IV-A<br>subjectID=25<br>time=%{x}<br>mt_pseudotime=%{y}<extra></extra>\",\"legendgroup\":\"IV-A\",\"marker\":{\"color\":\"mediumpurple\",\"line\":{\"color\":\"DarkSlateGrey\",\"width\":2},\"opacity\":0.8,\"size\":8,\"symbol\":\"circle\"},\"mode\":\"markers\",\"name\":\"IV-A\",\"orientation\":\"v\",\"showlegend\":false,\"type\":\"scatter\",\"x\":[50,71,29,43,54,68,75,83,99,103,1,47,78,106,5,19,15,12,8,22,57,61,92,96,26,110],\"xaxis\":\"x24\",\"y\":[0.6776688098907471,0.8983145356178284,0.8522374033927917,0.8522374033927917,0.8522374033927917,0.8522374033927917,0.8522374033927917,0.8522374033927917,0.8522374033927917,0.8522374033927917,0.6282166242599487,0.6282166242599487,0.6282166242599487,0.6282166242599487,0.5605032444000244,0.8522374033927917,0.8522374033927917,0.8522374033927917,0.8522374033927917,0.6654341220855713,0.6654341220855713,0.6654341220855713,0.6654341220855713,0.6654341220855713,0.8946021199226379,0.6282166242599487],\"yaxis\":\"y24\"},{\"hovertemplate\":\"community=IV-A<br>subjectID=13<br>time=%{x}<br>mt_pseudotime=%{y}<extra></extra>\",\"legendgroup\":\"IV-A\",\"marker\":{\"color\":\"mediumpurple\",\"line\":{\"color\":\"DarkSlateGrey\",\"width\":2},\"opacity\":0.8,\"size\":8,\"symbol\":\"circle\"},\"mode\":\"markers\",\"name\":\"IV-A\",\"orientation\":\"v\",\"showlegend\":false,\"type\":\"scatter\",\"x\":[103],\"xaxis\":\"x13\",\"y\":[0.9295538663864136],\"yaxis\":\"y13\"},{\"hovertemplate\":\"community=IV-A<br>subjectID=12<br>time=%{x}<br>mt_pseudotime=%{y}<extra></extra>\",\"legendgroup\":\"IV-A\",\"marker\":{\"color\":\"mediumpurple\",\"line\":{\"color\":\"DarkSlateGrey\",\"width\":2},\"opacity\":0.8,\"size\":8,\"symbol\":\"circle\"},\"mode\":\"markers\",\"name\":\"IV-A\",\"orientation\":\"v\",\"showlegend\":false,\"type\":\"scatter\",\"x\":[50,5,1,99,29],\"xaxis\":\"x14\",\"y\":[0.9328565001487732,0.9615234136581421,0.9108473062515259,0.9108473062515259,0.9108473062515259],\"yaxis\":\"y14\"},{\"hovertemplate\":\"community=IV-A<br>subjectID=2<br>time=%{x}<br>mt_pseudotime=%{y}<extra></extra>\",\"legendgroup\":\"IV-A\",\"marker\":{\"color\":\"mediumpurple\",\"line\":{\"color\":\"DarkSlateGrey\",\"width\":2},\"opacity\":0.8,\"size\":8,\"symbol\":\"circle\"},\"mode\":\"markers\",\"name\":\"IV-A\",\"orientation\":\"v\",\"showlegend\":false,\"type\":\"scatter\",\"x\":[12],\"xaxis\":\"x15\",\"y\":[0.8935299515724182],\"yaxis\":\"y15\"},{\"hovertemplate\":\"community=IV-A<br>subjectID=21<br>time=%{x}<br>mt_pseudotime=%{y}<extra></extra>\",\"legendgroup\":\"IV-A\",\"marker\":{\"color\":\"mediumpurple\",\"line\":{\"color\":\"DarkSlateGrey\",\"width\":2},\"opacity\":0.8,\"size\":8,\"symbol\":\"circle\"},\"mode\":\"markers\",\"name\":\"IV-A\",\"orientation\":\"v\",\"showlegend\":false,\"type\":\"scatter\",\"x\":[33,107],\"xaxis\":\"x9\",\"y\":[0.8566378355026245,0.6411687135696411],\"yaxis\":\"y9\"},{\"hovertemplate\":\"community=IV-A<br>subjectID=18<br>time=%{x}<br>mt_pseudotime=%{y}<extra></extra>\",\"legendgroup\":\"IV-A\",\"marker\":{\"color\":\"mediumpurple\",\"line\":{\"color\":\"DarkSlateGrey\",\"width\":2},\"opacity\":0.8,\"size\":8,\"symbol\":\"circle\"},\"mode\":\"markers\",\"name\":\"IV-A\",\"orientation\":\"v\",\"showlegend\":false,\"type\":\"scatter\",\"x\":[8],\"xaxis\":\"x11\",\"y\":[0.7412224411964417],\"yaxis\":\"y11\"},{\"hovertemplate\":\"community=IV-A<br>subjectID=17<br>time=%{x}<br>mt_pseudotime=%{y}<extra></extra>\",\"legendgroup\":\"IV-A\",\"marker\":{\"color\":\"mediumpurple\",\"line\":{\"color\":\"DarkSlateGrey\",\"width\":2},\"opacity\":0.8,\"size\":8,\"symbol\":\"circle\"},\"mode\":\"markers\",\"name\":\"IV-A\",\"orientation\":\"v\",\"showlegend\":false,\"type\":\"scatter\",\"x\":[64,54,85,94,92],\"xaxis\":\"x12\",\"y\":[0.9899440407752991,0.917597770690918,0.6654341220855713,0.9108473062515259,0.9108473062515259],\"yaxis\":\"y12\"},{\"hovertemplate\":\"community=IV-A<br>subjectID=20<br>time=%{x}<br>mt_pseudotime=%{y}<extra></extra>\",\"legendgroup\":\"IV-A\",\"marker\":{\"color\":\"mediumpurple\",\"line\":{\"color\":\"DarkSlateGrey\",\"width\":2},\"opacity\":0.8,\"size\":8,\"symbol\":\"circle\"},\"mode\":\"markers\",\"name\":\"IV-A\",\"orientation\":\"v\",\"showlegend\":false,\"type\":\"scatter\",\"x\":[1,29,82,85],\"xaxis\":\"x7\",\"y\":[0.6411687135696411,0.9442244172096252,0.6654341220855713,0.8456554412841797],\"yaxis\":\"y7\"},{\"hovertemplate\":\"community=IV-A<br>subjectID=7<br>time=%{x}<br>mt_pseudotime=%{y}<extra></extra>\",\"legendgroup\":\"IV-A\",\"marker\":{\"color\":\"mediumpurple\",\"line\":{\"color\":\"DarkSlateGrey\",\"width\":2},\"opacity\":0.8,\"size\":8,\"symbol\":\"circle\"},\"mode\":\"markers\",\"name\":\"IV-A\",\"orientation\":\"v\",\"showlegend\":false,\"type\":\"scatter\",\"x\":[43,78],\"xaxis\":\"x8\",\"y\":[0.9328565001487732,0.9856137633323669],\"yaxis\":\"y8\"},{\"hovertemplate\":\"community=IV-B<br>subjectID=32<br>time=%{x}<br>mt_pseudotime=%{y}<extra></extra>\",\"legendgroup\":\"IV-B\",\"marker\":{\"color\":\"royalblue\",\"line\":{\"color\":\"DarkSlateGrey\",\"width\":2},\"opacity\":0.8,\"size\":8,\"symbol\":\"circle\"},\"mode\":\"markers\",\"name\":\"IV-B\",\"orientation\":\"v\",\"showlegend\":true,\"type\":\"scatter\",\"x\":[56,35],\"xaxis\":\"x31\",\"y\":[0.9478358626365662,0.9433797597885132],\"yaxis\":\"y31\"},{\"hovertemplate\":\"community=IV-B<br>subjectID=30<br>time=%{x}<br>mt_pseudotime=%{y}<extra></extra>\",\"legendgroup\":\"IV-B\",\"marker\":{\"color\":\"royalblue\",\"line\":{\"color\":\"DarkSlateGrey\",\"width\":2},\"opacity\":0.8,\"size\":8,\"symbol\":\"circle\"},\"mode\":\"markers\",\"name\":\"IV-B\",\"orientation\":\"v\",\"showlegend\":false,\"type\":\"scatter\",\"x\":[96,103],\"xaxis\":\"x25\",\"y\":[0.9847783446311951,0.9847783446311951],\"yaxis\":\"y25\"},{\"hovertemplate\":\"community=IV-B<br>subjectID=10<br>time=%{x}<br>mt_pseudotime=%{y}<extra></extra>\",\"legendgroup\":\"IV-B\",\"marker\":{\"color\":\"royalblue\",\"line\":{\"color\":\"DarkSlateGrey\",\"width\":2},\"opacity\":0.8,\"size\":8,\"symbol\":\"circle\"},\"mode\":\"markers\",\"name\":\"IV-B\",\"orientation\":\"v\",\"showlegend\":false,\"type\":\"scatter\",\"x\":[92,75,71,68,64,78,99,85],\"xaxis\":\"x17\",\"y\":[0.9847783446311951,0.9847783446311951,0.9847783446311951,0.9847783446311951,0.9847783446311951,0.8571332693099976,0.9164401888847351,0.9304115772247314],\"yaxis\":\"y17\"},{\"hovertemplate\":\"community=IV-B<br>subjectID=11<br>time=%{x}<br>mt_pseudotime=%{y}<extra></extra>\",\"legendgroup\":\"IV-B\",\"marker\":{\"color\":\"royalblue\",\"line\":{\"color\":\"DarkSlateGrey\",\"width\":2},\"opacity\":0.8,\"size\":8,\"symbol\":\"circle\"},\"mode\":\"markers\",\"name\":\"IV-B\",\"orientation\":\"v\",\"showlegend\":false,\"type\":\"scatter\",\"x\":[64,61,50,68,75,106,110],\"xaxis\":\"x18\",\"y\":[0.9847783446311951,0.9847783446311951,0.9847783446311951,0.9847783446311951,0.9847783446311951,0.9847783446311951,0.9847783446311951],\"yaxis\":\"y18\"},{\"hovertemplate\":\"community=IV-B<br>subjectID=12<br>time=%{x}<br>mt_pseudotime=%{y}<extra></extra>\",\"legendgroup\":\"IV-B\",\"marker\":{\"color\":\"royalblue\",\"line\":{\"color\":\"DarkSlateGrey\",\"width\":2},\"opacity\":0.8,\"size\":8,\"symbol\":\"circle\"},\"mode\":\"markers\",\"name\":\"IV-B\",\"orientation\":\"v\",\"showlegend\":false,\"type\":\"scatter\",\"x\":[106,110,103,43],\"xaxis\":\"x14\",\"y\":[0.9856137633323669,0.9847783446311951,0.9847783446311951,0.9501603245735168],\"yaxis\":\"y14\"},{\"hovertemplate\":\"community=IV-B<br>subjectID=2<br>time=%{x}<br>mt_pseudotime=%{y}<extra></extra>\",\"legendgroup\":\"IV-B\",\"marker\":{\"color\":\"royalblue\",\"line\":{\"color\":\"DarkSlateGrey\",\"width\":2},\"opacity\":0.8,\"size\":8,\"symbol\":\"circle\"},\"mode\":\"markers\",\"name\":\"IV-B\",\"orientation\":\"v\",\"showlegend\":false,\"type\":\"scatter\",\"x\":[103,106,40,1,110,99,89,78,75,71,64,61,57,54,50,47,34,19,15,5],\"xaxis\":\"x15\",\"y\":[0.9899440407752991,0.8571332693099976,0.9164401888847351,0.9856137633323669,0.9847783446311951,0.9847783446311951,0.9847783446311951,0.9847783446311951,0.9847783446311951,0.9847783446311951,0.9847783446311951,0.9847783446311951,0.9847783446311951,0.9847783446311951,0.9847783446311951,0.9847783446311951,0.9847783446311951,0.9847783446311951,0.9847783446311951,0.9847783446311951],\"yaxis\":\"y15\"},{\"hovertemplate\":\"community=IV-B<br>subjectID=1<br>time=%{x}<br>mt_pseudotime=%{y}<extra></extra>\",\"legendgroup\":\"IV-B\",\"marker\":{\"color\":\"royalblue\",\"line\":{\"color\":\"DarkSlateGrey\",\"width\":2},\"opacity\":0.8,\"size\":8,\"symbol\":\"circle\"},\"mode\":\"markers\",\"name\":\"IV-B\",\"orientation\":\"v\",\"showlegend\":false,\"type\":\"scatter\",\"x\":[104,48,99,97,83,78,76,71,64,55,50,36,15,13,8,62,69,41,6,35],\"xaxis\":\"x16\",\"y\":[0.9847783446311951,0.8571332693099976,0.9847783446311951,0.9847783446311951,0.9847783446311951,0.9847783446311951,0.9847783446311951,0.9847783446311951,0.9847783446311951,0.9847783446311951,0.9847783446311951,0.9847783446311951,0.9847783446311951,0.9847783446311951,0.9847783446311951,0.9882131814956665,0.9856137633323669,0.9856137633323669,0.9856137633323669,0.9672801494598389],\"yaxis\":\"y16\"},{\"hovertemplate\":\"community=IV-B<br>subjectID=17<br>time=%{x}<br>mt_pseudotime=%{y}<extra></extra>\",\"legendgroup\":\"IV-B\",\"marker\":{\"color\":\"royalblue\",\"line\":{\"color\":\"DarkSlateGrey\",\"width\":2},\"opacity\":0.8,\"size\":8,\"symbol\":\"circle\"},\"mode\":\"markers\",\"name\":\"IV-B\",\"orientation\":\"v\",\"showlegend\":false,\"type\":\"scatter\",\"x\":[61],\"xaxis\":\"x12\",\"y\":[0.9847783446311951],\"yaxis\":\"y12\"},{\"hovertemplate\":\"community=IV-B<br>subjectID=8<br>time=%{x}<br>mt_pseudotime=%{y}<extra></extra>\",\"legendgroup\":\"IV-B\",\"marker\":{\"color\":\"royalblue\",\"line\":{\"color\":\"DarkSlateGrey\",\"width\":2},\"opacity\":0.8,\"size\":8,\"symbol\":\"circle\"},\"mode\":\"markers\",\"name\":\"IV-B\",\"orientation\":\"v\",\"showlegend\":false,\"type\":\"scatter\",\"x\":[103,47,50,82,110,99,71,96,36,8,64,92,89,68,85,106,43,40,12,19,15,33,61],\"xaxis\":\"x5\",\"y\":[0.9847783446311951,0.9871427416801453,0.9871427416801453,0.9786516427993774,0.9786516427993774,0.9847783446311951,0.9478358626365662,0.9847783446311951,0.9847783446311951,0.9847783446311951,0.9847783446311951,0.9899440407752991,0.9899440407752991,0.9899440407752991,0.9856137633323669,0.9164401888847351,0.9164401888847351,0.9164401888847351,0.9164401888847351,0.9892255663871765,0.9480988383293152,0.9899440407752991,0.9899440407752991],\"yaxis\":\"y5\"},{\"hovertemplate\":\"community=IV-B<br>subjectID=9<br>time=%{x}<br>mt_pseudotime=%{y}<extra></extra>\",\"legendgroup\":\"IV-B\",\"marker\":{\"color\":\"royalblue\",\"line\":{\"color\":\"DarkSlateGrey\",\"width\":2},\"opacity\":0.8,\"size\":8,\"symbol\":\"circle\"},\"mode\":\"markers\",\"name\":\"IV-B\",\"orientation\":\"v\",\"showlegend\":false,\"type\":\"scatter\",\"x\":[1,18,22,29,32,36,57,50,46,71,67,64,53,39,4,74,78,60,25,99,95,92,88],\"xaxis\":\"x6\",\"y\":[0.9847783446311951,0.9847783446311951,0.9847783446311951,0.9847783446311951,0.9847783446311951,0.9847783446311951,0.9847783446311951,0.9847783446311951,0.9847783446311951,0.9847783446311951,0.9847783446311951,0.9847783446311951,0.9847783446311951,0.8571332693099976,0.8571332693099976,0.9847783446311951,0.9856137633323669,0.9528641104698181,0.9528641104698181,0.9847783446311951,0.9847783446311951,0.9847783446311951,0.9847783446311951],\"yaxis\":\"y6\"},{\"hovertemplate\":\"community=IV-B<br>subjectID=7<br>time=%{x}<br>mt_pseudotime=%{y}<extra></extra>\",\"legendgroup\":\"IV-B\",\"marker\":{\"color\":\"royalblue\",\"line\":{\"color\":\"DarkSlateGrey\",\"width\":2},\"opacity\":0.8,\"size\":8,\"symbol\":\"circle\"},\"mode\":\"markers\",\"name\":\"IV-B\",\"orientation\":\"v\",\"showlegend\":false,\"type\":\"scatter\",\"x\":[5,93,40,29,52,26,33,36,96,19,22,89,99,106,103,85,75,68,64,61,57,54,15,13],\"xaxis\":\"x8\",\"y\":[0.9478358626365662,0.8571332693099976,0.8571332693099976,0.83652663230896,0.9626392722129822,0.9856137633323669,0.9856137633323669,0.9856137633323669,0.9856137633323669,0.9892255663871765,0.9892255663871765,0.9892255663871765,0.9856137633323669,0.9250571131706238,0.9847783446311951,0.9847783446311951,0.9847783446311951,0.9847783446311951,0.9847783446311951,0.9847783446311951,0.9847783446311951,0.9847783446311951,0.9847783446311951,0.9847783446311951],\"yaxis\":\"y8\"},{\"hovertemplate\":\"community=IV-B<br>subjectID=4<br>time=%{x}<br>mt_pseudotime=%{y}<extra></extra>\",\"legendgroup\":\"IV-B\",\"marker\":{\"color\":\"royalblue\",\"line\":{\"color\":\"DarkSlateGrey\",\"width\":2},\"opacity\":0.8,\"size\":8,\"symbol\":\"circle\"},\"mode\":\"markers\",\"name\":\"IV-B\",\"orientation\":\"v\",\"showlegend\":false,\"type\":\"scatter\",\"x\":[84,89,103,105,47,82,78,64,71,68,50,29,26,22,19,8,5,75,12,54,92,1,40,36,15,33,43],\"xaxis\":\"x\",\"y\":[0.9847783446311951,0.9847783446311951,0.9847783446311951,0.9847783446311951,0.9892255663871765,0.9847783446311951,0.9847783446311951,0.9847783446311951,0.9847783446311951,0.9847783446311951,0.9847783446311951,0.9847783446311951,0.9847783446311951,0.9847783446311951,0.9847783446311951,0.9847783446311951,0.9847783446311951,0.9847783446311951,0.9899440407752991,0.9871427416801453,0.9701946973800659,0.9882131814956665,0.9882131814956665,0.9856137633323669,0.9856137633323669,0.9672801494598389,0.9892255663871765],\"yaxis\":\"y\"},{\"hovertemplate\":\"community=IV-B<br>subjectID=6<br>time=%{x}<br>mt_pseudotime=%{y}<extra></extra>\",\"legendgroup\":\"IV-B\",\"marker\":{\"color\":\"royalblue\",\"line\":{\"color\":\"DarkSlateGrey\",\"width\":2},\"opacity\":0.8,\"size\":8,\"symbol\":\"circle\"},\"mode\":\"markers\",\"name\":\"IV-B\",\"orientation\":\"v\",\"showlegend\":false,\"type\":\"scatter\",\"x\":[4,1,11,15,46,53,74,106,8,36,67,71,64,39,57,60,85,95,102,29,25,99,92,78,43,32,18],\"xaxis\":\"x2\",\"y\":[0.9847783446311951,0.9899440407752991,0.9899440407752991,0.9899440407752991,0.9899440407752991,0.9899440407752991,0.9899440407752991,0.9899440407752991,0.9871427416801453,0.9478358626365662,0.9478358626365662,0.9478358626365662,0.9701946973800659,0.9882131814956665,0.9882131814956665,0.9882131814956665,0.9882131814956665,0.9882131814956665,0.9882131814956665,0.9856137633323669,0.9856137633323669,0.9892255663871765,0.9892255663871765,0.9892255663871765,0.9892255663871765,0.9892255663871765,0.9892255663871765],\"yaxis\":\"y2\"},{\"hovertemplate\":\"community=IV-B<br>subjectID=3<br>time=%{x}<br>mt_pseudotime=%{y}<extra></extra>\",\"legendgroup\":\"IV-B\",\"marker\":{\"color\":\"royalblue\",\"line\":{\"color\":\"DarkSlateGrey\",\"width\":2},\"opacity\":0.8,\"size\":8,\"symbol\":\"circle\"},\"mode\":\"markers\",\"name\":\"IV-B\",\"orientation\":\"v\",\"showlegend\":false,\"type\":\"scatter\",\"x\":[1,68,96,78,75,71,64,57,54,50,43,40,36,33,29,82,26,19,15,12,8,5,22,85,90,89,110,106,99,61],\"xaxis\":\"x3\",\"y\":[0.9673410654067993,0.9821034669876099,0.9693013429641724,0.9847783446311951,0.9847783446311951,0.9847783446311951,0.9847783446311951,0.9847783446311951,0.9847783446311951,0.9847783446311951,0.9847783446311951,0.9847783446311951,0.9847783446311951,0.9847783446311951,0.9847783446311951,0.9847783446311951,0.9847783446311951,0.9847783446311951,0.9847783446311951,0.9847783446311951,0.9847783446311951,0.9847783446311951,0.9847783446311951,0.9847783446311951,0.9847783446311951,0.9847783446311951,0.9847783446311951,0.9847783446311951,0.9847783446311951,0.9847783446311951],\"yaxis\":\"y3\"},{\"hovertemplate\":\"community=IV-B<br>subjectID=5<br>time=%{x}<br>mt_pseudotime=%{y}<extra></extra>\",\"legendgroup\":\"IV-B\",\"marker\":{\"color\":\"royalblue\",\"line\":{\"color\":\"DarkSlateGrey\",\"width\":2},\"opacity\":0.8,\"size\":8,\"symbol\":\"circle\"},\"mode\":\"markers\",\"name\":\"IV-B\",\"orientation\":\"v\",\"showlegend\":false,\"type\":\"scatter\",\"x\":[19,8,2,99,103,43,40,36,29,26,15,12,92,90,75,68,50,33,54,71,96,82,78,61,57,47,6,85,1],\"xaxis\":\"x4\",\"y\":[0.9856137633323669,0.9856137633323669,0.9856137633323669,0.9328565001487732,0.9847783446311951,0.9847783446311951,0.9847783446311951,0.9847783446311951,0.9847783446311951,0.9847783446311951,0.9847783446311951,0.9847783446311951,0.9856137633323669,0.9856137633323669,0.9856137633323669,0.9856137633323669,0.9856137633323669,0.9672801494598389,0.6392096877098083,0.985307514667511,0.9839872717857361,0.9892255663871765,0.9892255663871765,0.9892255663871765,0.9892255663871765,0.9892255663871765,0.9892255663871765,0.9528641104698181,0.9528641104698181],\"yaxis\":\"y4\"}],                        {\"annotations\":[{\"showarrow\":false,\"text\":\"subjectID=4\",\"x\":0.1175,\"xanchor\":\"center\",\"xref\":\"paper\",\"y\":0.1075,\"yanchor\":\"bottom\",\"yref\":\"paper\"},{\"showarrow\":false,\"text\":\"subjectID=6\",\"x\":0.3725,\"xanchor\":\"center\",\"xref\":\"paper\",\"y\":0.1075,\"yanchor\":\"bottom\",\"yref\":\"paper\"},{\"showarrow\":false,\"text\":\"subjectID=3\",\"x\":0.6275,\"xanchor\":\"center\",\"xref\":\"paper\",\"y\":0.1075,\"yanchor\":\"bottom\",\"yref\":\"paper\"},{\"showarrow\":false,\"text\":\"subjectID=5\",\"x\":0.8824999999999998,\"xanchor\":\"center\",\"xref\":\"paper\",\"y\":0.1075,\"yanchor\":\"bottom\",\"yref\":\"paper\"},{\"showarrow\":false,\"text\":\"subjectID=8\",\"x\":0.1175,\"xanchor\":\"center\",\"xref\":\"paper\",\"y\":0.235,\"yanchor\":\"bottom\",\"yref\":\"paper\"},{\"showarrow\":false,\"text\":\"subjectID=9\",\"x\":0.3725,\"xanchor\":\"center\",\"xref\":\"paper\",\"y\":0.235,\"yanchor\":\"bottom\",\"yref\":\"paper\"},{\"showarrow\":false,\"text\":\"subjectID=20\",\"x\":0.6275,\"xanchor\":\"center\",\"xref\":\"paper\",\"y\":0.235,\"yanchor\":\"bottom\",\"yref\":\"paper\"},{\"showarrow\":false,\"text\":\"subjectID=7\",\"x\":0.8824999999999998,\"xanchor\":\"center\",\"xref\":\"paper\",\"y\":0.235,\"yanchor\":\"bottom\",\"yref\":\"paper\"},{\"showarrow\":false,\"text\":\"subjectID=21\",\"x\":0.1175,\"xanchor\":\"center\",\"xref\":\"paper\",\"y\":0.3625,\"yanchor\":\"bottom\",\"yref\":\"paper\"},{\"showarrow\":false,\"text\":\"subjectID=19\",\"x\":0.3725,\"xanchor\":\"center\",\"xref\":\"paper\",\"y\":0.3625,\"yanchor\":\"bottom\",\"yref\":\"paper\"},{\"showarrow\":false,\"text\":\"subjectID=18\",\"x\":0.6275,\"xanchor\":\"center\",\"xref\":\"paper\",\"y\":0.3625,\"yanchor\":\"bottom\",\"yref\":\"paper\"},{\"showarrow\":false,\"text\":\"subjectID=17\",\"x\":0.8824999999999998,\"xanchor\":\"center\",\"xref\":\"paper\",\"y\":0.3625,\"yanchor\":\"bottom\",\"yref\":\"paper\"},{\"showarrow\":false,\"text\":\"subjectID=13\",\"x\":0.1175,\"xanchor\":\"center\",\"xref\":\"paper\",\"y\":0.49,\"yanchor\":\"bottom\",\"yref\":\"paper\"},{\"showarrow\":false,\"text\":\"subjectID=12\",\"x\":0.3725,\"xanchor\":\"center\",\"xref\":\"paper\",\"y\":0.49,\"yanchor\":\"bottom\",\"yref\":\"paper\"},{\"showarrow\":false,\"text\":\"subjectID=2\",\"x\":0.6275,\"xanchor\":\"center\",\"xref\":\"paper\",\"y\":0.49,\"yanchor\":\"bottom\",\"yref\":\"paper\"},{\"showarrow\":false,\"text\":\"subjectID=1\",\"x\":0.8824999999999998,\"xanchor\":\"center\",\"xref\":\"paper\",\"y\":0.49,\"yanchor\":\"bottom\",\"yref\":\"paper\"},{\"showarrow\":false,\"text\":\"subjectID=10\",\"x\":0.1175,\"xanchor\":\"center\",\"xref\":\"paper\",\"y\":0.6175,\"yanchor\":\"bottom\",\"yref\":\"paper\"},{\"showarrow\":false,\"text\":\"subjectID=11\",\"x\":0.3725,\"xanchor\":\"center\",\"xref\":\"paper\",\"y\":0.6175,\"yanchor\":\"bottom\",\"yref\":\"paper\"},{\"showarrow\":false,\"text\":\"subjectID=15\",\"x\":0.6275,\"xanchor\":\"center\",\"xref\":\"paper\",\"y\":0.6175,\"yanchor\":\"bottom\",\"yref\":\"paper\"},{\"showarrow\":false,\"text\":\"subjectID=16\",\"x\":0.8824999999999998,\"xanchor\":\"center\",\"xref\":\"paper\",\"y\":0.6175,\"yanchor\":\"bottom\",\"yref\":\"paper\"},{\"showarrow\":false,\"text\":\"subjectID=23\",\"x\":0.1175,\"xanchor\":\"center\",\"xref\":\"paper\",\"y\":0.745,\"yanchor\":\"bottom\",\"yref\":\"paper\"},{\"showarrow\":false,\"text\":\"subjectID=22\",\"x\":0.3725,\"xanchor\":\"center\",\"xref\":\"paper\",\"y\":0.745,\"yanchor\":\"bottom\",\"yref\":\"paper\"},{\"showarrow\":false,\"text\":\"subjectID=14\",\"x\":0.6275,\"xanchor\":\"center\",\"xref\":\"paper\",\"y\":0.745,\"yanchor\":\"bottom\",\"yref\":\"paper\"},{\"showarrow\":false,\"text\":\"subjectID=25\",\"x\":0.8824999999999998,\"xanchor\":\"center\",\"xref\":\"paper\",\"y\":0.745,\"yanchor\":\"bottom\",\"yref\":\"paper\"},{\"showarrow\":false,\"text\":\"subjectID=30\",\"x\":0.1175,\"xanchor\":\"center\",\"xref\":\"paper\",\"y\":0.8725,\"yanchor\":\"bottom\",\"yref\":\"paper\"},{\"showarrow\":false,\"text\":\"subjectID=31\",\"x\":0.3725,\"xanchor\":\"center\",\"xref\":\"paper\",\"y\":0.8725,\"yanchor\":\"bottom\",\"yref\":\"paper\"},{\"showarrow\":false,\"text\":\"subjectID=29\",\"x\":0.6275,\"xanchor\":\"center\",\"xref\":\"paper\",\"y\":0.8725,\"yanchor\":\"bottom\",\"yref\":\"paper\"},{\"showarrow\":false,\"text\":\"subjectID=27\",\"x\":0.8824999999999998,\"xanchor\":\"center\",\"xref\":\"paper\",\"y\":0.8725,\"yanchor\":\"bottom\",\"yref\":\"paper\"},{\"showarrow\":false,\"text\":\"subjectID=24\",\"x\":0.1175,\"xanchor\":\"center\",\"xref\":\"paper\",\"y\":1.0,\"yanchor\":\"bottom\",\"yref\":\"paper\"},{\"showarrow\":false,\"text\":\"subjectID=28\",\"x\":0.3725,\"xanchor\":\"center\",\"xref\":\"paper\",\"y\":1.0,\"yanchor\":\"bottom\",\"yref\":\"paper\"},{\"showarrow\":false,\"text\":\"subjectID=32\",\"x\":0.6275,\"xanchor\":\"center\",\"xref\":\"paper\",\"y\":1.0,\"yanchor\":\"bottom\",\"yref\":\"paper\"},{\"showarrow\":false,\"text\":\"subjectID=26\",\"x\":0.8824999999999998,\"xanchor\":\"center\",\"xref\":\"paper\",\"y\":1.0,\"yanchor\":\"bottom\",\"yref\":\"paper\"},{\"font\":{\"size\":14},\"showarrow\":false,\"text\":\"Pseudotime\",\"textangle\":-90,\"x\":-0.07,\"xref\":\"paper\",\"y\":0.5,\"yref\":\"paper\"}],\"height\":700,\"legend\":{\"title\":{\"text\":\"community\"},\"tracegroupgap\":0},\"margin\":{\"t\":60},\"template\":{\"data\":{\"bar\":[{\"error_x\":{\"color\":\"rgb(36,36,36)\"},\"error_y\":{\"color\":\"rgb(36,36,36)\"},\"marker\":{\"line\":{\"color\":\"rgb(234,234,242)\",\"width\":0.5},\"pattern\":{\"fillmode\":\"overlay\",\"size\":10,\"solidity\":0.2}},\"type\":\"bar\"}],\"barpolar\":[{\"marker\":{\"line\":{\"color\":\"rgb(234,234,242)\",\"width\":0.5},\"pattern\":{\"fillmode\":\"overlay\",\"size\":10,\"solidity\":0.2}},\"type\":\"barpolar\"}],\"carpet\":[{\"aaxis\":{\"endlinecolor\":\"rgb(36,36,36)\",\"gridcolor\":\"white\",\"linecolor\":\"white\",\"minorgridcolor\":\"white\",\"startlinecolor\":\"rgb(36,36,36)\"},\"baxis\":{\"endlinecolor\":\"rgb(36,36,36)\",\"gridcolor\":\"white\",\"linecolor\":\"white\",\"minorgridcolor\":\"white\",\"startlinecolor\":\"rgb(36,36,36)\"},\"type\":\"carpet\"}],\"choropleth\":[{\"colorbar\":{\"outlinewidth\":0,\"tickcolor\":\"rgb(36,36,36)\",\"ticklen\":8,\"ticks\":\"outside\",\"tickwidth\":2},\"type\":\"choropleth\"}],\"contour\":[{\"colorbar\":{\"outlinewidth\":0,\"tickcolor\":\"rgb(36,36,36)\",\"ticklen\":8,\"ticks\":\"outside\",\"tickwidth\":2},\"colorscale\":[[0.0,\"rgb(2,4,25)\"],[0.06274509803921569,\"rgb(24,15,41)\"],[0.12549019607843137,\"rgb(47,23,57)\"],[0.18823529411764706,\"rgb(71,28,72)\"],[0.25098039215686274,\"rgb(97,30,82)\"],[0.3137254901960784,\"rgb(123,30,89)\"],[0.3764705882352941,\"rgb(150,27,91)\"],[0.4392156862745098,\"rgb(177,22,88)\"],[0.5019607843137255,\"rgb(203,26,79)\"],[0.5647058823529412,\"rgb(223,47,67)\"],[0.6274509803921569,\"rgb(236,76,61)\"],[0.6901960784313725,\"rgb(242,107,73)\"],[0.7529411764705882,\"rgb(244,135,95)\"],[0.8156862745098039,\"rgb(245,162,122)\"],[0.8784313725490196,\"rgb(246,188,153)\"],[0.9411764705882353,\"rgb(247,212,187)\"],[1.0,\"rgb(250,234,220)\"]],\"type\":\"contour\"}],\"contourcarpet\":[{\"colorbar\":{\"outlinewidth\":0,\"tickcolor\":\"rgb(36,36,36)\",\"ticklen\":8,\"ticks\":\"outside\",\"tickwidth\":2},\"type\":\"contourcarpet\"}],\"heatmap\":[{\"colorbar\":{\"outlinewidth\":0,\"tickcolor\":\"rgb(36,36,36)\",\"ticklen\":8,\"ticks\":\"outside\",\"tickwidth\":2},\"colorscale\":[[0.0,\"rgb(2,4,25)\"],[0.06274509803921569,\"rgb(24,15,41)\"],[0.12549019607843137,\"rgb(47,23,57)\"],[0.18823529411764706,\"rgb(71,28,72)\"],[0.25098039215686274,\"rgb(97,30,82)\"],[0.3137254901960784,\"rgb(123,30,89)\"],[0.3764705882352941,\"rgb(150,27,91)\"],[0.4392156862745098,\"rgb(177,22,88)\"],[0.5019607843137255,\"rgb(203,26,79)\"],[0.5647058823529412,\"rgb(223,47,67)\"],[0.6274509803921569,\"rgb(236,76,61)\"],[0.6901960784313725,\"rgb(242,107,73)\"],[0.7529411764705882,\"rgb(244,135,95)\"],[0.8156862745098039,\"rgb(245,162,122)\"],[0.8784313725490196,\"rgb(246,188,153)\"],[0.9411764705882353,\"rgb(247,212,187)\"],[1.0,\"rgb(250,234,220)\"]],\"type\":\"heatmap\"}],\"heatmapgl\":[{\"colorbar\":{\"outlinewidth\":0,\"tickcolor\":\"rgb(36,36,36)\",\"ticklen\":8,\"ticks\":\"outside\",\"tickwidth\":2},\"colorscale\":[[0.0,\"rgb(2,4,25)\"],[0.06274509803921569,\"rgb(24,15,41)\"],[0.12549019607843137,\"rgb(47,23,57)\"],[0.18823529411764706,\"rgb(71,28,72)\"],[0.25098039215686274,\"rgb(97,30,82)\"],[0.3137254901960784,\"rgb(123,30,89)\"],[0.3764705882352941,\"rgb(150,27,91)\"],[0.4392156862745098,\"rgb(177,22,88)\"],[0.5019607843137255,\"rgb(203,26,79)\"],[0.5647058823529412,\"rgb(223,47,67)\"],[0.6274509803921569,\"rgb(236,76,61)\"],[0.6901960784313725,\"rgb(242,107,73)\"],[0.7529411764705882,\"rgb(244,135,95)\"],[0.8156862745098039,\"rgb(245,162,122)\"],[0.8784313725490196,\"rgb(246,188,153)\"],[0.9411764705882353,\"rgb(247,212,187)\"],[1.0,\"rgb(250,234,220)\"]],\"type\":\"heatmapgl\"}],\"histogram\":[{\"marker\":{\"pattern\":{\"fillmode\":\"overlay\",\"size\":10,\"solidity\":0.2}},\"type\":\"histogram\"}],\"histogram2d\":[{\"colorbar\":{\"outlinewidth\":0,\"tickcolor\":\"rgb(36,36,36)\",\"ticklen\":8,\"ticks\":\"outside\",\"tickwidth\":2},\"colorscale\":[[0.0,\"rgb(2,4,25)\"],[0.06274509803921569,\"rgb(24,15,41)\"],[0.12549019607843137,\"rgb(47,23,57)\"],[0.18823529411764706,\"rgb(71,28,72)\"],[0.25098039215686274,\"rgb(97,30,82)\"],[0.3137254901960784,\"rgb(123,30,89)\"],[0.3764705882352941,\"rgb(150,27,91)\"],[0.4392156862745098,\"rgb(177,22,88)\"],[0.5019607843137255,\"rgb(203,26,79)\"],[0.5647058823529412,\"rgb(223,47,67)\"],[0.6274509803921569,\"rgb(236,76,61)\"],[0.6901960784313725,\"rgb(242,107,73)\"],[0.7529411764705882,\"rgb(244,135,95)\"],[0.8156862745098039,\"rgb(245,162,122)\"],[0.8784313725490196,\"rgb(246,188,153)\"],[0.9411764705882353,\"rgb(247,212,187)\"],[1.0,\"rgb(250,234,220)\"]],\"type\":\"histogram2d\"}],\"histogram2dcontour\":[{\"colorbar\":{\"outlinewidth\":0,\"tickcolor\":\"rgb(36,36,36)\",\"ticklen\":8,\"ticks\":\"outside\",\"tickwidth\":2},\"colorscale\":[[0.0,\"rgb(2,4,25)\"],[0.06274509803921569,\"rgb(24,15,41)\"],[0.12549019607843137,\"rgb(47,23,57)\"],[0.18823529411764706,\"rgb(71,28,72)\"],[0.25098039215686274,\"rgb(97,30,82)\"],[0.3137254901960784,\"rgb(123,30,89)\"],[0.3764705882352941,\"rgb(150,27,91)\"],[0.4392156862745098,\"rgb(177,22,88)\"],[0.5019607843137255,\"rgb(203,26,79)\"],[0.5647058823529412,\"rgb(223,47,67)\"],[0.6274509803921569,\"rgb(236,76,61)\"],[0.6901960784313725,\"rgb(242,107,73)\"],[0.7529411764705882,\"rgb(244,135,95)\"],[0.8156862745098039,\"rgb(245,162,122)\"],[0.8784313725490196,\"rgb(246,188,153)\"],[0.9411764705882353,\"rgb(247,212,187)\"],[1.0,\"rgb(250,234,220)\"]],\"type\":\"histogram2dcontour\"}],\"mesh3d\":[{\"colorbar\":{\"outlinewidth\":0,\"tickcolor\":\"rgb(36,36,36)\",\"ticklen\":8,\"ticks\":\"outside\",\"tickwidth\":2},\"type\":\"mesh3d\"}],\"parcoords\":[{\"line\":{\"colorbar\":{\"outlinewidth\":0,\"tickcolor\":\"rgb(36,36,36)\",\"ticklen\":8,\"ticks\":\"outside\",\"tickwidth\":2}},\"type\":\"parcoords\"}],\"pie\":[{\"automargin\":true,\"type\":\"pie\"}],\"scatter\":[{\"marker\":{\"colorbar\":{\"outlinewidth\":0,\"tickcolor\":\"rgb(36,36,36)\",\"ticklen\":8,\"ticks\":\"outside\",\"tickwidth\":2}},\"type\":\"scatter\"}],\"scatter3d\":[{\"line\":{\"colorbar\":{\"outlinewidth\":0,\"tickcolor\":\"rgb(36,36,36)\",\"ticklen\":8,\"ticks\":\"outside\",\"tickwidth\":2}},\"marker\":{\"colorbar\":{\"outlinewidth\":0,\"tickcolor\":\"rgb(36,36,36)\",\"ticklen\":8,\"ticks\":\"outside\",\"tickwidth\":2}},\"type\":\"scatter3d\"}],\"scattercarpet\":[{\"marker\":{\"colorbar\":{\"outlinewidth\":0,\"tickcolor\":\"rgb(36,36,36)\",\"ticklen\":8,\"ticks\":\"outside\",\"tickwidth\":2}},\"type\":\"scattercarpet\"}],\"scattergeo\":[{\"marker\":{\"colorbar\":{\"outlinewidth\":0,\"tickcolor\":\"rgb(36,36,36)\",\"ticklen\":8,\"ticks\":\"outside\",\"tickwidth\":2}},\"type\":\"scattergeo\"}],\"scattergl\":[{\"marker\":{\"colorbar\":{\"outlinewidth\":0,\"tickcolor\":\"rgb(36,36,36)\",\"ticklen\":8,\"ticks\":\"outside\",\"tickwidth\":2}},\"type\":\"scattergl\"}],\"scattermapbox\":[{\"marker\":{\"colorbar\":{\"outlinewidth\":0,\"tickcolor\":\"rgb(36,36,36)\",\"ticklen\":8,\"ticks\":\"outside\",\"tickwidth\":2}},\"type\":\"scattermapbox\"}],\"scatterpolar\":[{\"marker\":{\"colorbar\":{\"outlinewidth\":0,\"tickcolor\":\"rgb(36,36,36)\",\"ticklen\":8,\"ticks\":\"outside\",\"tickwidth\":2}},\"type\":\"scatterpolar\"}],\"scatterpolargl\":[{\"marker\":{\"colorbar\":{\"outlinewidth\":0,\"tickcolor\":\"rgb(36,36,36)\",\"ticklen\":8,\"ticks\":\"outside\",\"tickwidth\":2}},\"type\":\"scatterpolargl\"}],\"scatterternary\":[{\"marker\":{\"colorbar\":{\"outlinewidth\":0,\"tickcolor\":\"rgb(36,36,36)\",\"ticklen\":8,\"ticks\":\"outside\",\"tickwidth\":2}},\"type\":\"scatterternary\"}],\"surface\":[{\"colorbar\":{\"outlinewidth\":0,\"tickcolor\":\"rgb(36,36,36)\",\"ticklen\":8,\"ticks\":\"outside\",\"tickwidth\":2},\"colorscale\":[[0.0,\"rgb(2,4,25)\"],[0.06274509803921569,\"rgb(24,15,41)\"],[0.12549019607843137,\"rgb(47,23,57)\"],[0.18823529411764706,\"rgb(71,28,72)\"],[0.25098039215686274,\"rgb(97,30,82)\"],[0.3137254901960784,\"rgb(123,30,89)\"],[0.3764705882352941,\"rgb(150,27,91)\"],[0.4392156862745098,\"rgb(177,22,88)\"],[0.5019607843137255,\"rgb(203,26,79)\"],[0.5647058823529412,\"rgb(223,47,67)\"],[0.6274509803921569,\"rgb(236,76,61)\"],[0.6901960784313725,\"rgb(242,107,73)\"],[0.7529411764705882,\"rgb(244,135,95)\"],[0.8156862745098039,\"rgb(245,162,122)\"],[0.8784313725490196,\"rgb(246,188,153)\"],[0.9411764705882353,\"rgb(247,212,187)\"],[1.0,\"rgb(250,234,220)\"]],\"type\":\"surface\"}],\"table\":[{\"cells\":{\"fill\":{\"color\":\"rgb(231,231,240)\"},\"line\":{\"color\":\"white\"}},\"header\":{\"fill\":{\"color\":\"rgb(183,183,191)\"},\"line\":{\"color\":\"white\"}},\"type\":\"table\"}]},\"layout\":{\"annotationdefaults\":{\"arrowcolor\":\"rgb(67,103,167)\"},\"autotypenumbers\":\"strict\",\"coloraxis\":{\"colorbar\":{\"outlinewidth\":0,\"tickcolor\":\"rgb(36,36,36)\",\"ticklen\":8,\"ticks\":\"outside\",\"tickwidth\":2}},\"colorscale\":{\"sequential\":[[0.0,\"rgb(2,4,25)\"],[0.06274509803921569,\"rgb(24,15,41)\"],[0.12549019607843137,\"rgb(47,23,57)\"],[0.18823529411764706,\"rgb(71,28,72)\"],[0.25098039215686274,\"rgb(97,30,82)\"],[0.3137254901960784,\"rgb(123,30,89)\"],[0.3764705882352941,\"rgb(150,27,91)\"],[0.4392156862745098,\"rgb(177,22,88)\"],[0.5019607843137255,\"rgb(203,26,79)\"],[0.5647058823529412,\"rgb(223,47,67)\"],[0.6274509803921569,\"rgb(236,76,61)\"],[0.6901960784313725,\"rgb(242,107,73)\"],[0.7529411764705882,\"rgb(244,135,95)\"],[0.8156862745098039,\"rgb(245,162,122)\"],[0.8784313725490196,\"rgb(246,188,153)\"],[0.9411764705882353,\"rgb(247,212,187)\"],[1.0,\"rgb(250,234,220)\"]],\"sequentialminus\":[[0.0,\"rgb(2,4,25)\"],[0.06274509803921569,\"rgb(24,15,41)\"],[0.12549019607843137,\"rgb(47,23,57)\"],[0.18823529411764706,\"rgb(71,28,72)\"],[0.25098039215686274,\"rgb(97,30,82)\"],[0.3137254901960784,\"rgb(123,30,89)\"],[0.3764705882352941,\"rgb(150,27,91)\"],[0.4392156862745098,\"rgb(177,22,88)\"],[0.5019607843137255,\"rgb(203,26,79)\"],[0.5647058823529412,\"rgb(223,47,67)\"],[0.6274509803921569,\"rgb(236,76,61)\"],[0.6901960784313725,\"rgb(242,107,73)\"],[0.7529411764705882,\"rgb(244,135,95)\"],[0.8156862745098039,\"rgb(245,162,122)\"],[0.8784313725490196,\"rgb(246,188,153)\"],[0.9411764705882353,\"rgb(247,212,187)\"],[1.0,\"rgb(250,234,220)\"]]},\"colorway\":[\"rgb(76,114,176)\",\"rgb(221,132,82)\",\"rgb(85,168,104)\",\"rgb(196,78,82)\",\"rgb(129,114,179)\",\"rgb(147,120,96)\",\"rgb(218,139,195)\",\"rgb(140,140,140)\",\"rgb(204,185,116)\",\"rgb(100,181,205)\"],\"font\":{\"color\":\"rgb(36,36,36)\"},\"geo\":{\"bgcolor\":\"white\",\"lakecolor\":\"white\",\"landcolor\":\"rgb(234,234,242)\",\"showlakes\":true,\"showland\":true,\"subunitcolor\":\"white\"},\"hoverlabel\":{\"align\":\"left\"},\"hovermode\":\"closest\",\"paper_bgcolor\":\"white\",\"plot_bgcolor\":\"rgb(234,234,242)\",\"polar\":{\"angularaxis\":{\"gridcolor\":\"white\",\"linecolor\":\"white\",\"showgrid\":true,\"ticks\":\"\"},\"bgcolor\":\"rgb(234,234,242)\",\"radialaxis\":{\"gridcolor\":\"white\",\"linecolor\":\"white\",\"showgrid\":true,\"ticks\":\"\"}},\"scene\":{\"xaxis\":{\"backgroundcolor\":\"rgb(234,234,242)\",\"gridcolor\":\"white\",\"gridwidth\":2,\"linecolor\":\"white\",\"showbackground\":true,\"showgrid\":true,\"ticks\":\"\",\"zerolinecolor\":\"white\"},\"yaxis\":{\"backgroundcolor\":\"rgb(234,234,242)\",\"gridcolor\":\"white\",\"gridwidth\":2,\"linecolor\":\"white\",\"showbackground\":true,\"showgrid\":true,\"ticks\":\"\",\"zerolinecolor\":\"white\"},\"zaxis\":{\"backgroundcolor\":\"rgb(234,234,242)\",\"gridcolor\":\"white\",\"gridwidth\":2,\"linecolor\":\"white\",\"showbackground\":true,\"showgrid\":true,\"ticks\":\"\",\"zerolinecolor\":\"white\"}},\"shapedefaults\":{\"fillcolor\":\"rgb(67,103,167)\",\"line\":{\"width\":0},\"opacity\":0.5},\"ternary\":{\"aaxis\":{\"gridcolor\":\"white\",\"linecolor\":\"white\",\"showgrid\":true,\"ticks\":\"\"},\"baxis\":{\"gridcolor\":\"white\",\"linecolor\":\"white\",\"showgrid\":true,\"ticks\":\"\"},\"bgcolor\":\"rgb(234,234,242)\",\"caxis\":{\"gridcolor\":\"white\",\"linecolor\":\"white\",\"showgrid\":true,\"ticks\":\"\"}},\"xaxis\":{\"automargin\":true,\"gridcolor\":\"white\",\"linecolor\":\"white\",\"showgrid\":true,\"ticks\":\"\",\"title\":{\"standoff\":15},\"zerolinecolor\":\"white\"},\"yaxis\":{\"automargin\":true,\"gridcolor\":\"white\",\"linecolor\":\"white\",\"showgrid\":true,\"ticks\":\"\",\"title\":{\"standoff\":15},\"zerolinecolor\":\"white\"}}},\"width\":800,\"xaxis\":{\"anchor\":\"y\",\"domain\":[0.0,0.235],\"title\":{\"text\":\"time\"}},\"xaxis10\":{\"anchor\":\"y10\",\"domain\":[0.255,0.49],\"matches\":\"x\",\"showticklabels\":false},\"xaxis11\":{\"anchor\":\"y11\",\"domain\":[0.51,0.745],\"matches\":\"x\",\"showticklabels\":false},\"xaxis12\":{\"anchor\":\"y12\",\"domain\":[0.7649999999999999,0.9999999999999999],\"matches\":\"x\",\"showticklabels\":false},\"xaxis13\":{\"anchor\":\"y13\",\"domain\":[0.0,0.235],\"matches\":\"x\",\"showticklabels\":false},\"xaxis14\":{\"anchor\":\"y14\",\"domain\":[0.255,0.49],\"matches\":\"x\",\"showticklabels\":false},\"xaxis15\":{\"anchor\":\"y15\",\"domain\":[0.51,0.745],\"matches\":\"x\",\"showticklabels\":false},\"xaxis16\":{\"anchor\":\"y16\",\"domain\":[0.7649999999999999,0.9999999999999999],\"matches\":\"x\",\"showticklabels\":false},\"xaxis17\":{\"anchor\":\"y17\",\"domain\":[0.0,0.235],\"matches\":\"x\",\"showticklabels\":false},\"xaxis18\":{\"anchor\":\"y18\",\"domain\":[0.255,0.49],\"matches\":\"x\",\"showticklabels\":false},\"xaxis19\":{\"anchor\":\"y19\",\"domain\":[0.51,0.745],\"matches\":\"x\",\"showticklabels\":false},\"xaxis2\":{\"anchor\":\"y2\",\"domain\":[0.255,0.49],\"matches\":\"x\",\"title\":{\"text\":\"time\"}},\"xaxis20\":{\"anchor\":\"y20\",\"domain\":[0.7649999999999999,0.9999999999999999],\"matches\":\"x\",\"showticklabels\":false},\"xaxis21\":{\"anchor\":\"y21\",\"domain\":[0.0,0.235],\"matches\":\"x\",\"showticklabels\":false},\"xaxis22\":{\"anchor\":\"y22\",\"domain\":[0.255,0.49],\"matches\":\"x\",\"showticklabels\":false},\"xaxis23\":{\"anchor\":\"y23\",\"domain\":[0.51,0.745],\"matches\":\"x\",\"showticklabels\":false},\"xaxis24\":{\"anchor\":\"y24\",\"domain\":[0.7649999999999999,0.9999999999999999],\"matches\":\"x\",\"showticklabels\":false},\"xaxis25\":{\"anchor\":\"y25\",\"domain\":[0.0,0.235],\"matches\":\"x\",\"showticklabels\":false},\"xaxis26\":{\"anchor\":\"y26\",\"domain\":[0.255,0.49],\"matches\":\"x\",\"showticklabels\":false},\"xaxis27\":{\"anchor\":\"y27\",\"domain\":[0.51,0.745],\"matches\":\"x\",\"showticklabels\":false},\"xaxis28\":{\"anchor\":\"y28\",\"domain\":[0.7649999999999999,0.9999999999999999],\"matches\":\"x\",\"showticklabels\":false},\"xaxis29\":{\"anchor\":\"y29\",\"domain\":[0.0,0.235],\"matches\":\"x\",\"showticklabels\":false},\"xaxis3\":{\"anchor\":\"y3\",\"domain\":[0.51,0.745],\"matches\":\"x\",\"title\":{\"text\":\"time\"}},\"xaxis30\":{\"anchor\":\"y30\",\"domain\":[0.255,0.49],\"matches\":\"x\",\"showticklabels\":false},\"xaxis31\":{\"anchor\":\"y31\",\"domain\":[0.51,0.745],\"matches\":\"x\",\"showticklabels\":false},\"xaxis32\":{\"anchor\":\"y32\",\"domain\":[0.7649999999999999,0.9999999999999999],\"matches\":\"x\",\"showticklabels\":false},\"xaxis4\":{\"anchor\":\"y4\",\"domain\":[0.7649999999999999,0.9999999999999999],\"matches\":\"x\",\"title\":{\"text\":\"time\"}},\"xaxis5\":{\"anchor\":\"y5\",\"domain\":[0.0,0.235],\"matches\":\"x\",\"showticklabels\":false},\"xaxis6\":{\"anchor\":\"y6\",\"domain\":[0.255,0.49],\"matches\":\"x\",\"showticklabels\":false},\"xaxis7\":{\"anchor\":\"y7\",\"domain\":[0.51,0.745],\"matches\":\"x\",\"showticklabels\":false},\"xaxis8\":{\"anchor\":\"y8\",\"domain\":[0.7649999999999999,0.9999999999999999],\"matches\":\"x\",\"showticklabels\":false},\"xaxis9\":{\"anchor\":\"y9\",\"domain\":[0.0,0.235],\"matches\":\"x\",\"showticklabels\":false},\"yaxis\":{\"anchor\":\"x\",\"domain\":[0.0,0.1075],\"title\":{\"text\":\"\"}},\"yaxis10\":{\"anchor\":\"x10\",\"domain\":[0.255,0.3625],\"matches\":\"y\",\"showticklabels\":false,\"title\":{\"text\":\"\"}},\"yaxis11\":{\"anchor\":\"x11\",\"domain\":[0.255,0.3625],\"matches\":\"y\",\"showticklabels\":false,\"title\":{\"text\":\"\"}},\"yaxis12\":{\"anchor\":\"x12\",\"domain\":[0.255,0.3625],\"matches\":\"y\",\"showticklabels\":false,\"title\":{\"text\":\"\"}},\"yaxis13\":{\"anchor\":\"x13\",\"domain\":[0.3825,0.49],\"matches\":\"y\",\"title\":{\"text\":\"\"}},\"yaxis14\":{\"anchor\":\"x14\",\"domain\":[0.3825,0.49],\"matches\":\"y\",\"showticklabels\":false,\"title\":{\"text\":\"\"}},\"yaxis15\":{\"anchor\":\"x15\",\"domain\":[0.3825,0.49],\"matches\":\"y\",\"showticklabels\":false,\"title\":{\"text\":\"\"}},\"yaxis16\":{\"anchor\":\"x16\",\"domain\":[0.3825,0.49],\"matches\":\"y\",\"showticklabels\":false,\"title\":{\"text\":\"\"}},\"yaxis17\":{\"anchor\":\"x17\",\"domain\":[0.51,0.6175],\"matches\":\"y\",\"title\":{\"text\":\"\"}},\"yaxis18\":{\"anchor\":\"x18\",\"domain\":[0.51,0.6175],\"matches\":\"y\",\"showticklabels\":false,\"title\":{\"text\":\"\"}},\"yaxis19\":{\"anchor\":\"x19\",\"domain\":[0.51,0.6175],\"matches\":\"y\",\"showticklabels\":false,\"title\":{\"text\":\"\"}},\"yaxis2\":{\"anchor\":\"x2\",\"domain\":[0.0,0.1075],\"matches\":\"y\",\"showticklabels\":false,\"title\":{\"text\":\"\"}},\"yaxis20\":{\"anchor\":\"x20\",\"domain\":[0.51,0.6175],\"matches\":\"y\",\"showticklabels\":false,\"title\":{\"text\":\"\"}},\"yaxis21\":{\"anchor\":\"x21\",\"domain\":[0.6375,0.745],\"matches\":\"y\",\"title\":{\"text\":\"\"}},\"yaxis22\":{\"anchor\":\"x22\",\"domain\":[0.6375,0.745],\"matches\":\"y\",\"showticklabels\":false,\"title\":{\"text\":\"\"}},\"yaxis23\":{\"anchor\":\"x23\",\"domain\":[0.6375,0.745],\"matches\":\"y\",\"showticklabels\":false,\"title\":{\"text\":\"\"}},\"yaxis24\":{\"anchor\":\"x24\",\"domain\":[0.6375,0.745],\"matches\":\"y\",\"showticklabels\":false,\"title\":{\"text\":\"\"}},\"yaxis25\":{\"anchor\":\"x25\",\"domain\":[0.765,0.8725],\"matches\":\"y\",\"title\":{\"text\":\"\"}},\"yaxis26\":{\"anchor\":\"x26\",\"domain\":[0.765,0.8725],\"matches\":\"y\",\"showticklabels\":false,\"title\":{\"text\":\"\"}},\"yaxis27\":{\"anchor\":\"x27\",\"domain\":[0.765,0.8725],\"matches\":\"y\",\"showticklabels\":false,\"title\":{\"text\":\"\"}},\"yaxis28\":{\"anchor\":\"x28\",\"domain\":[0.765,0.8725],\"matches\":\"y\",\"showticklabels\":false,\"title\":{\"text\":\"\"}},\"yaxis29\":{\"anchor\":\"x29\",\"domain\":[0.8925000000000001,1.0],\"matches\":\"y\",\"title\":{\"text\":\"\"}},\"yaxis3\":{\"anchor\":\"x3\",\"domain\":[0.0,0.1075],\"matches\":\"y\",\"showticklabels\":false,\"title\":{\"text\":\"\"}},\"yaxis30\":{\"anchor\":\"x30\",\"domain\":[0.8925000000000001,1.0],\"matches\":\"y\",\"showticklabels\":false,\"title\":{\"text\":\"\"}},\"yaxis31\":{\"anchor\":\"x31\",\"domain\":[0.8925000000000001,1.0],\"matches\":\"y\",\"showticklabels\":false,\"title\":{\"text\":\"\"}},\"yaxis32\":{\"anchor\":\"x32\",\"domain\":[0.8925000000000001,1.0],\"matches\":\"y\",\"showticklabels\":false,\"title\":{\"text\":\"\"}},\"yaxis4\":{\"anchor\":\"x4\",\"domain\":[0.0,0.1075],\"matches\":\"y\",\"showticklabels\":false,\"title\":{\"text\":\"\"}},\"yaxis5\":{\"anchor\":\"x5\",\"domain\":[0.1275,0.235],\"matches\":\"y\",\"title\":{\"text\":\"\"}},\"yaxis6\":{\"anchor\":\"x6\",\"domain\":[0.1275,0.235],\"matches\":\"y\",\"showticklabels\":false,\"title\":{\"text\":\"\"}},\"yaxis7\":{\"anchor\":\"x7\",\"domain\":[0.1275,0.235],\"matches\":\"y\",\"showticklabels\":false,\"title\":{\"text\":\"\"}},\"yaxis8\":{\"anchor\":\"x8\",\"domain\":[0.1275,0.235],\"matches\":\"y\",\"showticklabels\":false,\"title\":{\"text\":\"\"}},\"yaxis9\":{\"anchor\":\"x9\",\"domain\":[0.255,0.3625],\"matches\":\"y\",\"title\":{\"text\":\"\"}}},                        {\"responsive\": true}                    ).then(function(){\n",
       "                            \n",
       "var gd = document.getElementById('2dd5f1ae-cabd-4f7d-b9b6-81b5ae9b281d');\n",
       "var x = new MutationObserver(function (mutations, observer) {{\n",
       "        var display = window.getComputedStyle(gd).display;\n",
       "        if (!display || display === 'none') {{\n",
       "            console.log([gd, 'removed!']);\n",
       "            Plotly.purge(gd);\n",
       "            observer.disconnect();\n",
       "        }}\n",
       "}});\n",
       "\n",
       "// Listen for the removal of the full notebook cells\n",
       "var notebookContainer = gd.closest('#notebook-container');\n",
       "if (notebookContainer) {{\n",
       "    x.observe(notebookContainer, {childList: true});\n",
       "}}\n",
       "\n",
       "// Listen for the clearing of the current output cell\n",
       "var outputEl = gd.closest('.output');\n",
       "if (outputEl) {{\n",
       "    x.observe(outputEl, {childList: true});\n",
       "}}\n",
       "\n",
       "                        })                };                });            </script>        </div>"
      ]
     },
     "metadata": {},
     "output_type": "display_data"
    }
   ],
   "source": [
    "fig1 = px.scatter(ord_temp_meta_df, x = \"time\", y = \"mt_pseudotime\", color = \"community\", \n",
    "                  color_discrete_map = community_colors, opacity = 0.8,\n",
    "                  facet_col = 'subjectID', facet_col_wrap = 4,\n",
    "                  facet_row_spacing = 0.02, facet_col_spacing = 0.02,\n",
    "                  width = 800, height = 700)\n",
    "\n",
    "for axis in fig1.layout:\n",
    "    if type(fig1.layout[axis]) == go.layout.YAxis:\n",
    "        fig1.layout[axis].title.text = ''\n",
    "        \n",
    "fig1.update_layout(\n",
    "    annotations = list(fig1.layout.annotations) + \n",
    "    [go.layout.Annotation(x = -0.07, y = 0.5, font = dict(size = 14),\n",
    "            showarrow = False, text = \"Pseudotime\", textangle = -90, xref = \"paper\", yref = \"paper\")])\n",
    "\n",
    "fig1.update_traces(marker = dict(size = 8, line = dict(width = 2, color = 'DarkSlateGrey')),\n",
    "                  selector = dict(mode = 'markers'))\n",
    "        \n",
    "        \n",
    "fig1.show() "
   ]
  },
  {
   "cell_type": "code",
   "execution_count": 49,
   "id": "8ff8d0b8",
   "metadata": {},
   "outputs": [
    {
     "data": {
      "application/vnd.plotly.v1+json": {
       "config": {
        "plotlyServerURL": "https://plot.ly"
       },
       "data": [
        {
         "hovertemplate": "subjectID=20<br>time=%{x}<br>mt_pseudotime=%{y}<extra></extra>",
         "legendgroup": "",
         "line": {
          "color": "rgb(76,114,176)",
          "dash": "solid"
         },
         "mode": "lines",
         "name": "",
         "orientation": "v",
         "showlegend": false,
         "type": "scatter",
         "x": [
          1,
          5,
          26,
          8,
          12,
          33,
          96,
          19,
          92,
          99,
          22,
          29,
          36,
          40,
          43,
          47,
          50,
          57,
          61,
          71,
          103,
          106,
          64,
          68,
          75,
          78,
          82,
          85,
          89
         ],
         "xaxis": "x29",
         "y": [
          0.6411687135696411,
          0.4349069595336914,
          0.4349069595336914,
          0.3661706447601318,
          0.3661706447601318,
          0.3661706447601318,
          0.3661706447601318,
          0.282631516456604,
          0.282631516456604,
          0.282631516456604,
          0.1097342967987061,
          0.9442244172096252,
          0.2401484251022339,
          null,
          null,
          null,
          0.27245032787323,
          0.2690752744674683,
          0.2598756551742554,
          0.2598756551742554,
          0.2598756551742554,
          0.2598756551742554,
          0.2493546009063721,
          null,
          0.262010931968689,
          0.262010931968689,
          0.6654341220855713,
          0.8456554412841797,
          null
         ],
         "yaxis": "y29"
        },
        {
         "hovertemplate": "subjectID=21<br>time=%{x}<br>mt_pseudotime=%{y}<extra></extra>",
         "legendgroup": "",
         "line": {
          "color": "rgb(76,114,176)",
          "dash": "solid"
         },
         "mode": "lines",
         "name": "",
         "orientation": "v",
         "showlegend": false,
         "type": "scatter",
         "x": [
          107,
          57,
          79,
          22,
          29,
          61,
          83,
          86,
          90,
          104,
          111,
          64,
          15,
          19,
          40,
          76,
          72,
          43,
          54,
          93,
          97,
          26,
          5,
          1,
          100,
          12,
          50,
          36,
          8,
          33
         ],
         "xaxis": "x30",
         "y": [
          0.6411687135696411,
          0.4349069595336914,
          0.4349069595336914,
          0.3661706447601318,
          0.3661706447601318,
          0.3661706447601318,
          0.3661706447601318,
          0.3661706447601318,
          0.3661706447601318,
          0.3661706447601318,
          0.3661706447601318,
          0.2401484251022339,
          null,
          null,
          0.27245032787323,
          0.27245032787323,
          0.2598756551742554,
          0.262010931968689,
          0.262010931968689,
          0.262010931968689,
          0.262010931968689,
          null,
          0.4575515985488892,
          0.3302075266838074,
          0.3302075266838074,
          0.2400784492492676,
          0.2400784492492676,
          0.7705563902854919,
          0.09192442893981934,
          0.8566378355026245
         ],
         "yaxis": "y30"
        },
        {
         "hovertemplate": "subjectID=11<br>time=%{x}<br>mt_pseudotime=%{y}<extra></extra>",
         "legendgroup": "",
         "line": {
          "color": "rgb(76,114,176)",
          "dash": "solid"
         },
         "mode": "lines",
         "name": "",
         "orientation": "v",
         "showlegend": false,
         "type": "scatter",
         "x": [
          99,
          85,
          19,
          26,
          40,
          12,
          15,
          33,
          47,
          57,
          50,
          61,
          64,
          68,
          75,
          106,
          110,
          1,
          5,
          8,
          92,
          22,
          29,
          43,
          54,
          71,
          78,
          103,
          82,
          89,
          96
         ],
         "xaxis": "x31",
         "y": [
          0.4349069595336914,
          0.2401484251022339,
          0.2690752744674683,
          0.2598756551742554,
          0.2598756551742554,
          0.262010931968689,
          0.262010931968689,
          0.6944100856781006,
          0.6944100856781006,
          0.6944100856781006,
          0.9847783446311951,
          0.9847783446311951,
          0.9847783446311951,
          0.9847783446311951,
          0.9847783446311951,
          0.9847783446311951,
          0.9847783446311951,
          null,
          0.5099396109580994,
          0.2504851222038269,
          0.2504851222038269,
          0.2630480527877808,
          0.3523566722869873,
          0.4975216388702393,
          0.4975216388702393,
          0.8325881361961365,
          0.8325881361961365,
          0.8325881361961365,
          0.3796529173851013,
          0.4619441628456116,
          0.2761101126670837
         ],
         "yaxis": "y31"
        },
        {
         "hovertemplate": "subjectID=17<br>time=%{x}<br>mt_pseudotime=%{y}<extra></extra>",
         "legendgroup": "",
         "line": {
          "color": "rgb(76,114,176)",
          "dash": "solid"
         },
         "mode": "lines",
         "name": "",
         "orientation": "v",
         "showlegend": false,
         "type": "scatter",
         "x": [
          82,
          1,
          8,
          29,
          85,
          61,
          12,
          50,
          71,
          33,
          36,
          96,
          99,
          92,
          94,
          43,
          64,
          5,
          15,
          22,
          26,
          47,
          68,
          106,
          54,
          75,
          103,
          110
         ],
         "xaxis": "x32",
         "y": [
          0.4349069595336914,
          0.3661706447601318,
          0.3661706447601318,
          0.3661706447601318,
          0.6654341220855713,
          0.9847783446311951,
          0.3523566722869873,
          0.3523566722869873,
          0.3523566722869873,
          0.2761101126670837,
          0.2761101126670837,
          0.2761101126670837,
          0.2761101126670837,
          0.9108473062515259,
          0.9108473062515259,
          0.4575515985488892,
          0.9899440407752991,
          0.3984122276306152,
          0.2953194379806519,
          0.2953194379806519,
          0.2953194379806519,
          0.2953194379806519,
          0.2953194379806519,
          0.2953194379806519,
          0.917597770690918,
          0.3349648714065552,
          0.294378399848938,
          0.294378399848938
         ],
         "yaxis": "y32"
        },
        {
         "hovertemplate": "subjectID=12<br>time=%{x}<br>mt_pseudotime=%{y}<extra></extra>",
         "legendgroup": "",
         "line": {
          "color": "rgb(76,114,176)",
          "dash": "solid"
         },
         "mode": "lines",
         "name": "",
         "orientation": "v",
         "showlegend": false,
         "type": "scatter",
         "x": [
          22,
          40,
          68,
          85,
          89,
          47,
          92,
          75,
          103,
          110,
          78,
          82,
          1,
          29,
          99,
          5,
          8,
          12,
          61,
          15,
          19,
          36,
          43,
          50,
          54,
          57,
          64,
          106
         ],
         "xaxis": "x25",
         "y": [
          0.3661706447601318,
          0.3661706447601318,
          0.3661706447601318,
          0.3661706447601318,
          0.3661706447601318,
          0.6654341220855713,
          0.6654341220855713,
          0.6944100856781006,
          0.9847783446311951,
          0.9847783446311951,
          0.4975216388702393,
          0.3796529173851013,
          0.9108473062515259,
          0.9108473062515259,
          0.9108473062515259,
          0.9615234136581421,
          0.4575515985488892,
          0.3226763606071472,
          0.3226763606071472,
          0.2344281673431396,
          0.221490740776062,
          0.6301007270812988,
          0.9501603245735168,
          0.9328565001487732,
          0.2743305563926697,
          0.07051962614059448,
          0.3518527150154114,
          0.9856137633323669
         ],
         "yaxis": "y25"
        },
        {
         "hovertemplate": "subjectID=13<br>time=%{x}<br>mt_pseudotime=%{y}<extra></extra>",
         "legendgroup": "",
         "line": {
          "color": "rgb(76,114,176)",
          "dash": "solid"
         },
         "mode": "lines",
         "name": "",
         "orientation": "v",
         "showlegend": false,
         "type": "scatter",
         "x": [
          12,
          82,
          47,
          54,
          68,
          79,
          89,
          96,
          50,
          92,
          8,
          15,
          19,
          5,
          106,
          1,
          22,
          26,
          40,
          64,
          29,
          33,
          36,
          43,
          61,
          71,
          85,
          100,
          103
         ],
         "xaxis": "x26",
         "y": [
          0.3661706447601318,
          0.282631516456604,
          0.8571332693099976,
          0.8571332693099976,
          0.232918381690979,
          null,
          null,
          null,
          0.8325881361961365,
          0.8325881361961365,
          0.4619441628456116,
          0.4619441628456116,
          0.4619441628456116,
          0.3226763606071472,
          0.6301007270812988,
          0.2306427955627441,
          0.3977048397064209,
          0.3977048397064209,
          0.3977048397064209,
          0.3977048397064209,
          0.2519773244857788,
          0.2519773244857788,
          0.2519773244857788,
          0.2519773244857788,
          0.2845251560211182,
          0.2878804802894592,
          null,
          null,
          0.9295538663864136
         ],
         "yaxis": "y26"
        },
        {
         "hovertemplate": "subjectID=1<br>time=%{x}<br>mt_pseudotime=%{y}<extra></extra>",
         "legendgroup": "",
         "line": {
          "color": "rgb(76,114,176)",
          "dash": "solid"
         },
         "mode": "lines",
         "name": "",
         "orientation": "v",
         "showlegend": false,
         "type": "scatter",
         "x": [
          57,
          48,
          106,
          108,
          8,
          13,
          15,
          36,
          50,
          55,
          64,
          71,
          76,
          78,
          83,
          97,
          99,
          104,
          90,
          43,
          20,
          85,
          6,
          41,
          69,
          35,
          1,
          29,
          62
         ],
         "xaxis": "x27",
         "y": [
          0.3661706447601318,
          0.8571332693099976,
          0.8571332693099976,
          0.8571332693099976,
          0.9847783446311951,
          0.9847783446311951,
          0.9847783446311951,
          0.9847783446311951,
          0.9847783446311951,
          0.9847783446311951,
          0.9847783446311951,
          0.9847783446311951,
          0.9847783446311951,
          0.9847783446311951,
          0.9847783446311951,
          0.9847783446311951,
          0.9847783446311951,
          0.9847783446311951,
          null,
          0.5099396109580994,
          0.8325881361961365,
          0.6301007270812988,
          0.9856137633323669,
          0.9856137633323669,
          0.9856137633323669,
          0.9672801494598389,
          0.2866359949111938,
          null,
          0.9882131814956665
         ],
         "yaxis": "y27"
        },
        {
         "hovertemplate": "subjectID=14<br>time=%{x}<br>mt_pseudotime=%{y}<extra></extra>",
         "legendgroup": "",
         "line": {
          "color": "rgb(76,114,176)",
          "dash": "solid"
         },
         "mode": "lines",
         "name": "",
         "orientation": "v",
         "showlegend": false,
         "type": "scatter",
         "x": [
          12,
          85,
          92,
          96,
          106,
          110,
          8,
          22,
          1,
          5,
          15,
          19,
          26,
          29,
          43,
          50,
          64,
          89,
          103,
          47,
          54,
          68,
          82,
          57,
          61,
          75,
          71,
          78
         ],
         "xaxis": "x28",
         "y": [
          0.3661706447601318,
          0.3661706447601318,
          0.3661706447601318,
          0.3661706447601318,
          0.3661706447601318,
          0.3661706447601318,
          0.7339422702789307,
          0.3226763606071472,
          0.9037297368049622,
          0.3302075266838074,
          0.2400784492492676,
          0.2400784492492676,
          0.2400784492492676,
          0.2400784492492676,
          0.2400784492492676,
          0.2400784492492676,
          0.2400784492492676,
          0.2400784492492676,
          0.2400784492492676,
          0.1127375960350037,
          0.1127375960350037,
          0.1127375960350037,
          0.1127375960350037,
          0.1091346740722656,
          0.1091346740722656,
          0.1091346740722656,
          0.0143362283706665,
          0.1723558902740479
         ],
         "yaxis": "y28"
        },
        {
         "hovertemplate": "subjectID=18<br>time=%{x}<br>mt_pseudotime=%{y}<extra></extra>",
         "legendgroup": "",
         "line": {
          "color": "rgb(76,114,176)",
          "dash": "solid"
         },
         "mode": "lines",
         "name": "",
         "orientation": "v",
         "showlegend": false,
         "type": "scatter",
         "x": [
          36,
          54,
          61,
          71,
          75,
          85,
          92,
          106,
          57,
          40,
          43,
          82,
          110,
          5,
          15,
          26,
          47,
          50,
          64,
          78,
          89,
          99,
          103,
          19,
          1,
          12,
          22,
          8,
          29,
          33,
          96
         ],
         "xaxis": "x21",
         "y": [
          0.3661706447601318,
          0.3661706447601318,
          0.3661706447601318,
          0.3661706447601318,
          0.3661706447601318,
          0.3661706447601318,
          0.3661706447601318,
          0.3661706447601318,
          0.6654341220855713,
          0.4575515985488892,
          0.4575515985488892,
          0.3226763606071472,
          0.3977048397064209,
          0.2400784492492676,
          0.2400784492492676,
          0.2400784492492676,
          0.2400784492492676,
          0.2400784492492676,
          0.2400784492492676,
          0.2400784492492676,
          0.2400784492492676,
          0.2400784492492676,
          0.2400784492492676,
          0.0143362283706665,
          0.02359592914581299,
          0.02359592914581299,
          0.02359592914581299,
          0.7412224411964417,
          0.502534031867981,
          0.4906532764434814,
          0.4364956617355347
         ],
         "yaxis": "y21"
        },
        {
         "hovertemplate": "subjectID=15<br>time=%{x}<br>mt_pseudotime=%{y}<extra></extra>",
         "legendgroup": "",
         "line": {
          "color": "rgb(76,114,176)",
          "dash": "solid"
         },
         "mode": "lines",
         "name": "",
         "orientation": "v",
         "showlegend": false,
         "type": "scatter",
         "x": [
          8,
          5,
          12,
          50,
          110,
          57,
          61,
          85,
          89,
          92,
          26,
          68,
          1,
          82,
          106,
          33,
          78,
          96,
          64,
          36,
          40,
          15,
          71,
          75,
          22,
          43,
          47,
          99,
          103
         ],
         "xaxis": "x22",
         "y": [
          0.3661706447601318,
          0.2401484251022339,
          0.2401484251022339,
          0.2401484251022339,
          0.2401484251022339,
          null,
          null,
          0.27245032787323,
          0.2690752744674683,
          0.2690752744674683,
          0.2598756551742554,
          0.2598756551742554,
          0.2493546009063721,
          0.2493546009063721,
          0.2493546009063721,
          null,
          0.2538706064224243,
          0.2630480527877808,
          0.4975216388702393,
          0.4619441628456116,
          0.4619441628456116,
          0.1723558902740479,
          0.5964940786361694,
          0.02359592914581299,
          null,
          0.2246870994567871,
          0.2246870994567871,
          0.2246870994567871,
          0.2246870994567871
         ],
         "yaxis": "y22"
        },
        {
         "hovertemplate": "subjectID=19<br>time=%{x}<br>mt_pseudotime=%{y}<extra></extra>",
         "legendgroup": "",
         "line": {
          "color": "rgb(76,114,176)",
          "dash": "solid"
         },
         "mode": "lines",
         "name": "",
         "orientation": "v",
         "showlegend": false,
         "type": "scatter",
         "x": [
          19,
          31,
          36,
          75,
          96,
          99,
          108,
          103,
          85,
          6,
          57,
          92,
          106,
          29,
          40,
          43,
          78,
          22,
          8,
          12,
          15,
          33,
          38,
          47,
          50,
          61,
          71,
          89,
          82,
          1,
          54,
          26,
          64
         ],
         "xaxis": "x23",
         "y": [
          0.3661706447601318,
          0.3661706447601318,
          0.3661706447601318,
          0.3661706447601318,
          0.3661706447601318,
          0.3661706447601318,
          0.6654341220855713,
          0.232918381690979,
          0.4575515985488892,
          0.221490740776062,
          0.221490740776062,
          0.221490740776062,
          0.6301007270812988,
          0.3518527150154114,
          0.2306427955627441,
          0.2306427955627441,
          0.2306427955627441,
          0.2845251560211182,
          0.2400784492492676,
          0.2400784492492676,
          0.2400784492492676,
          0.2400784492492676,
          0.2400784492492676,
          0.2400784492492676,
          0.2400784492492676,
          0.2400784492492676,
          0.2400784492492676,
          0.2400784492492676,
          0.1723558902740479,
          0.5966441631317139,
          0.5966441631317139,
          0.5535305738449097,
          0.03441989421844482
         ],
         "yaxis": "y23"
        },
        {
         "hovertemplate": "subjectID=16<br>time=%{x}<br>mt_pseudotime=%{y}<extra></extra>",
         "legendgroup": "",
         "line": {
          "color": "rgb(76,114,176)",
          "dash": "solid"
         },
         "mode": "lines",
         "name": "",
         "orientation": "v",
         "showlegend": false,
         "type": "scatter",
         "x": [
          57,
          94,
          110,
          106,
          19,
          92,
          33,
          47,
          50,
          54,
          61,
          96,
          1,
          29,
          43,
          26,
          5,
          8,
          36,
          40,
          12,
          15,
          78,
          82,
          85,
          103,
          89,
          75,
          22
         ],
         "xaxis": "x24",
         "y": [
          0.3661706447601318,
          0.3661706447601318,
          0.3661706447601318,
          0.282631516456604,
          null,
          0.27245032787323,
          0.2598756551742554,
          0.2598756551742554,
          0.2598756551742554,
          0.2598756551742554,
          0.2598756551742554,
          0.2598756551742554,
          null,
          0.262010931968689,
          0.262010931968689,
          null,
          null,
          null,
          null,
          0.2630480527877808,
          0.3523566722869873,
          0.3523566722869873,
          0.3523566722869873,
          0.3523566722869873,
          0.3523566722869873,
          0.3523566722869873,
          0.2953194379806519,
          0.294378399848938,
          null
         ],
         "yaxis": "y24"
        },
        {
         "hovertemplate": "subjectID=10<br>time=%{x}<br>mt_pseudotime=%{y}<extra></extra>",
         "legendgroup": "",
         "line": {
          "color": "rgb(76,114,176)",
          "dash": "solid"
         },
         "mode": "lines",
         "name": "",
         "orientation": "v",
         "showlegend": false,
         "type": "scatter",
         "x": [
          50,
          36,
          1,
          8,
          22,
          5,
          19,
          26,
          12,
          15,
          33,
          29,
          40,
          43,
          47,
          54,
          57,
          96,
          61,
          78,
          89,
          106,
          110,
          64,
          68,
          71,
          75,
          92,
          85,
          99
         ],
         "xaxis": "x17",
         "y": [
          null,
          null,
          0.27245032787323,
          null,
          0.262010931968689,
          null,
          null,
          null,
          null,
          null,
          null,
          0.2538706064224243,
          null,
          null,
          0.7339422702789307,
          null,
          0.6944100856781006,
          0.6944100856781006,
          0.8571332693099976,
          0.8571332693099976,
          0.8571332693099976,
          0.8571332693099976,
          0.8571332693099976,
          0.9847783446311951,
          0.9847783446311951,
          0.9847783446311951,
          0.9847783446311951,
          0.9847783446311951,
          0.9304115772247314,
          0.9164401888847351
         ],
         "yaxis": "y17"
        },
        {
         "hovertemplate": "subjectID=29<br>time=%{x}<br>mt_pseudotime=%{y}<extra></extra>",
         "legendgroup": "",
         "line": {
          "color": "rgb(76,114,176)",
          "dash": "solid"
         },
         "mode": "lines",
         "name": "",
         "orientation": "v",
         "showlegend": false,
         "type": "scatter",
         "x": [
          12,
          19,
          26,
          47,
          61,
          5,
          8,
          22,
          64,
          99,
          106,
          1,
          50,
          15,
          41,
          43,
          71,
          75,
          85,
          29,
          33,
          89,
          92,
          36,
          54,
          57,
          69,
          78,
          110,
          82,
          103
         ],
         "xaxis": "x18",
         "y": [
          null,
          0.2152771949768066,
          0.2152771949768066,
          0.2152771949768066,
          0.2152771949768066,
          0.2399383783340454,
          0.2399383783340454,
          0.2399383783340454,
          0.2399383783340454,
          0.2399383783340454,
          0.2399383783340454,
          0.360440731048584,
          0.360440731048584,
          0.2245948910713196,
          0.2245948910713196,
          0.2245948910713196,
          0.2245948910713196,
          0.2245948910713196,
          0.2245948910713196,
          0.481661856174469,
          0.3644739389419556,
          0.3644739389419556,
          0.3644739389419556,
          0.4133042097091675,
          0.3621440529823303,
          0.3268196582794189,
          0.4851283431053162,
          0.3685682415962219,
          0.3685682415962219,
          0.4537988901138306,
          0.3534717559814453
         ],
         "yaxis": "y18"
        },
        {
         "hovertemplate": "subjectID=31<br>time=%{x}<br>mt_pseudotime=%{y}<extra></extra>",
         "legendgroup": "",
         "line": {
          "color": "rgb(76,114,176)",
          "dash": "solid"
         },
         "mode": "lines",
         "name": "",
         "orientation": "v",
         "showlegend": false,
         "type": "scatter",
         "x": [
          12,
          50,
          92,
          1,
          22,
          57,
          99,
          106,
          96,
          43,
          29,
          33,
          85,
          8,
          15,
          19,
          26,
          36,
          40,
          47,
          54,
          64,
          68,
          71,
          75,
          82,
          89,
          103,
          110
         ],
         "xaxis": "x19",
         "y": [
          0.6654341220855713,
          0.3911725878715515,
          0.6282166242599487,
          0.360440731048584,
          0.2245948910713196,
          0.4133042097091675,
          0.3621440529823303,
          0.4851283431053162,
          0.4537988901138306,
          null,
          0.5797845125198364,
          0.5797845125198364,
          0.5797845125198364,
          0.5331777334213257,
          null,
          0.5066603422164917,
          0.3250495195388794,
          0.5881200432777405,
          null,
          0.514268159866333,
          0.4133954644203186,
          null,
          0.5898922681808472,
          0.4631807804107666,
          0.4739229679107666,
          0.5211609601974487,
          0.5963584184646606,
          0.3500816226005554,
          null
         ],
         "yaxis": "y19"
        },
        {
         "hovertemplate": "subjectID=25<br>time=%{x}<br>mt_pseudotime=%{y}<extra></extra>",
         "legendgroup": "",
         "line": {
          "color": "rgb(76,114,176)",
          "dash": "solid"
         },
         "mode": "lines",
         "name": "",
         "orientation": "v",
         "showlegend": false,
         "type": "scatter",
         "x": [
          22,
          57,
          61,
          85,
          92,
          96,
          26,
          8,
          12,
          15,
          19,
          29,
          43,
          54,
          68,
          75,
          83,
          99,
          103,
          1,
          47,
          78,
          106,
          110,
          5,
          33,
          36,
          40,
          50,
          64,
          71,
          89
         ],
         "xaxis": "x20",
         "y": [
          0.6654341220855713,
          0.6654341220855713,
          0.6654341220855713,
          0.6654341220855713,
          0.6654341220855713,
          0.6654341220855713,
          0.8946021199226379,
          0.8522374033927917,
          0.8522374033927917,
          0.8522374033927917,
          0.8522374033927917,
          0.8522374033927917,
          0.8522374033927917,
          0.8522374033927917,
          0.8522374033927917,
          0.8522374033927917,
          0.8522374033927917,
          0.8522374033927917,
          0.8522374033927917,
          0.6282166242599487,
          0.6282166242599487,
          0.6282166242599487,
          0.6282166242599487,
          0.6282166242599487,
          0.5605032444000244,
          null,
          null,
          null,
          0.6776688098907471,
          0.7155181765556335,
          0.8983145356178284,
          null
         ],
         "yaxis": "y20"
        },
        {
         "hovertemplate": "subjectID=23<br>time=%{x}<br>mt_pseudotime=%{y}<extra></extra>",
         "legendgroup": "",
         "line": {
          "color": "rgb(76,114,176)",
          "dash": "solid"
         },
         "mode": "lines",
         "name": "",
         "orientation": "v",
         "showlegend": false,
         "type": "scatter",
         "x": [
          36,
          54,
          1,
          5,
          8,
          26,
          29,
          48,
          61,
          64,
          78,
          82,
          85,
          110,
          12,
          15,
          19,
          40,
          50,
          71,
          99,
          22,
          42,
          33,
          57,
          89,
          96,
          103
         ],
         "xaxis": "x13",
         "y": [
          0.7339422702789307,
          0.7339422702789307,
          0.6697742938995361,
          0.6697742938995361,
          0.6697742938995361,
          0.6697742938995361,
          0.6697742938995361,
          0.6697742938995361,
          0.6697742938995361,
          0.6697742938995361,
          0.6697742938995361,
          0.6697742938995361,
          0.6697742938995361,
          0.6697742938995361,
          0.6415138244628906,
          0.6415138244628906,
          0.6415138244628906,
          0.6415138244628906,
          0.6415138244628906,
          0.6415138244628906,
          0.8257339596748352,
          0.5977327227592468,
          0.5977327227592468,
          0.6253159642219543,
          0.5309501886367798,
          0.7931357622146606,
          0.7621912360191345,
          0.8343095183372498
         ],
         "yaxis": "y13"
        },
        {
         "hovertemplate": "subjectID=27<br>time=%{x}<br>mt_pseudotime=%{y}<extra></extra>",
         "legendgroup": "",
         "line": {
          "color": "rgb(76,114,176)",
          "dash": "solid"
         },
         "mode": "lines",
         "name": "",
         "orientation": "v",
         "showlegend": false,
         "type": "scatter",
         "x": [
          8,
          96,
          103,
          33,
          54,
          89,
          22,
          29,
          36,
          61,
          71,
          1,
          5,
          12,
          15,
          19,
          26,
          40,
          43,
          47,
          82,
          50,
          92,
          64,
          68,
          75,
          78,
          85
         ],
         "xaxis": "x14",
         "y": [
          0.6944100856781006,
          0.4857938289642334,
          0.2399383783340454,
          null,
          null,
          null,
          null,
          null,
          0.6301007270812988,
          null,
          null,
          0.9702640771865845,
          0.9883174300193787,
          0.3793215751647949,
          null,
          0.4436368942260742,
          null,
          0.6373237371444702,
          null,
          0.7705563902854919,
          0.7705563902854919,
          0.5797845125198364,
          0.5797845125198364,
          null,
          null,
          0.9250571131706238,
          0.917554497718811,
          0.5964940786361694
         ],
         "yaxis": "y14"
        },
        {
         "hovertemplate": "subjectID=8<br>time=%{x}<br>mt_pseudotime=%{y}<extra></extra>",
         "legendgroup": "",
         "line": {
          "color": "rgb(76,114,176)",
          "dash": "solid"
         },
         "mode": "lines",
         "name": "",
         "orientation": "v",
         "showlegend": false,
         "type": "scatter",
         "x": [
          26,
          1,
          5,
          54,
          8,
          36,
          64,
          96,
          99,
          103,
          12,
          40,
          43,
          106,
          23,
          85,
          19,
          57,
          78,
          15,
          29,
          75,
          33,
          61,
          68,
          89,
          92,
          47,
          50,
          71,
          82,
          110
         ],
         "xaxis": "x15",
         "y": [
          0.6944100856781006,
          0.8571332693099976,
          0.8571332693099976,
          0.8571332693099976,
          0.9847783446311951,
          0.9847783446311951,
          0.9847783446311951,
          0.9847783446311951,
          0.9847783446311951,
          0.9847783446311951,
          0.9164401888847351,
          0.9164401888847351,
          0.9164401888847351,
          0.9164401888847351,
          0.9501603245735168,
          0.9856137633323669,
          0.9892255663871765,
          0.7705563902854919,
          0.917554497718811,
          0.9480988383293152,
          0.8621475100517273,
          0.8621475100517273,
          0.9899440407752991,
          0.9899440407752991,
          0.9899440407752991,
          0.9899440407752991,
          0.9899440407752991,
          0.9871427416801453,
          0.9871427416801453,
          0.9478358626365662,
          0.9786516427993774,
          0.9786516427993774
         ],
         "yaxis": "y15"
        },
        {
         "hovertemplate": "subjectID=2<br>time=%{x}<br>mt_pseudotime=%{y}<extra></extra>",
         "legendgroup": "",
         "line": {
          "color": "rgb(76,114,176)",
          "dash": "solid"
         },
         "mode": "lines",
         "name": "",
         "orientation": "v",
         "showlegend": false,
         "type": "scatter",
         "x": [
          36,
          69,
          97,
          106,
          5,
          15,
          19,
          34,
          47,
          50,
          54,
          57,
          61,
          64,
          71,
          75,
          78,
          89,
          99,
          110,
          40,
          8,
          22,
          92,
          29,
          26,
          1,
          85,
          103,
          12
         ],
         "xaxis": "x16",
         "y": [
          0.6944100856781006,
          0.8571332693099976,
          0.8571332693099976,
          0.8571332693099976,
          0.9847783446311951,
          0.9847783446311951,
          0.9847783446311951,
          0.9847783446311951,
          0.9847783446311951,
          0.9847783446311951,
          0.9847783446311951,
          0.9847783446311951,
          0.9847783446311951,
          0.9847783446311951,
          0.9847783446311951,
          0.9847783446311951,
          0.9847783446311951,
          0.9847783446311951,
          0.9847783446311951,
          0.9847783446311951,
          0.9164401888847351,
          0.5099396109580994,
          0.5099396109580994,
          0.5099396109580994,
          0.4975216388702393,
          0.8325881361961365,
          0.9856137633323669,
          0.6373237371444702,
          0.9899440407752991,
          0.8935299515724182
         ],
         "yaxis": "y16"
        },
        {
         "hovertemplate": "subjectID=9<br>time=%{x}<br>mt_pseudotime=%{y}<extra></extra>",
         "legendgroup": "",
         "line": {
          "color": "rgb(76,114,176)",
          "dash": "solid"
         },
         "mode": "lines",
         "name": "",
         "orientation": "v",
         "showlegend": false,
         "type": "scatter",
         "x": [
          4,
          39,
          1,
          18,
          22,
          29,
          32,
          36,
          46,
          50,
          53,
          57,
          64,
          67,
          71,
          74,
          88,
          92,
          95,
          99,
          85,
          81,
          78,
          25,
          60
         ],
         "xaxis": "x9",
         "y": [
          0.8571332693099976,
          0.8571332693099976,
          0.9847783446311951,
          0.9847783446311951,
          0.9847783446311951,
          0.9847783446311951,
          0.9847783446311951,
          0.9847783446311951,
          0.9847783446311951,
          0.9847783446311951,
          0.9847783446311951,
          0.9847783446311951,
          0.9847783446311951,
          0.9847783446311951,
          0.9847783446311951,
          0.9847783446311951,
          0.9847783446311951,
          0.9847783446311951,
          0.9847783446311951,
          0.9847783446311951,
          0.5099396109580994,
          0.6301007270812988,
          0.9856137633323669,
          0.9528641104698181,
          0.9528641104698181
         ],
         "yaxis": "y9"
        },
        {
         "hovertemplate": "subjectID=7<br>time=%{x}<br>mt_pseudotime=%{y}<extra></extra>",
         "legendgroup": "",
         "line": {
          "color": "rgb(76,114,176)",
          "dash": "solid"
         },
         "mode": "lines",
         "name": "",
         "orientation": "v",
         "showlegend": false,
         "type": "scatter",
         "x": [
          40,
          93,
          13,
          15,
          54,
          57,
          61,
          64,
          68,
          75,
          85,
          103,
          43,
          26,
          33,
          36,
          78,
          96,
          99,
          19,
          22,
          89,
          106,
          5,
          1,
          29,
          52
         ],
         "xaxis": "x10",
         "y": [
          0.8571332693099976,
          0.8571332693099976,
          0.9847783446311951,
          0.9847783446311951,
          0.9847783446311951,
          0.9847783446311951,
          0.9847783446311951,
          0.9847783446311951,
          0.9847783446311951,
          0.9847783446311951,
          0.9847783446311951,
          0.9847783446311951,
          0.9328565001487732,
          0.9856137633323669,
          0.9856137633323669,
          0.9856137633323669,
          0.9856137633323669,
          0.9856137633323669,
          0.9856137633323669,
          0.9892255663871765,
          0.9892255663871765,
          0.9892255663871765,
          0.9250571131706238,
          0.9478358626365662,
          0.7412224411964417,
          0.83652663230896,
          0.9626392722129822
         ],
         "yaxis": "y10"
        },
        {
         "hovertemplate": "subjectID=5<br>time=%{x}<br>mt_pseudotime=%{y}<extra></extra>",
         "legendgroup": "",
         "line": {
          "color": "rgb(76,114,176)",
          "dash": "solid"
         },
         "mode": "lines",
         "name": "",
         "orientation": "v",
         "showlegend": false,
         "type": "scatter",
         "x": [
          12,
          15,
          26,
          29,
          36,
          40,
          43,
          103,
          99,
          2,
          8,
          19,
          50,
          68,
          75,
          90,
          92,
          1,
          85,
          6,
          47,
          57,
          61,
          78,
          82,
          33,
          54,
          71,
          96
         ],
         "xaxis": "x11",
         "y": [
          0.9847783446311951,
          0.9847783446311951,
          0.9847783446311951,
          0.9847783446311951,
          0.9847783446311951,
          0.9847783446311951,
          0.9847783446311951,
          0.9847783446311951,
          0.9328565001487732,
          0.9856137633323669,
          0.9856137633323669,
          0.9856137633323669,
          0.9856137633323669,
          0.9856137633323669,
          0.9856137633323669,
          0.9856137633323669,
          0.9856137633323669,
          0.9528641104698181,
          0.9528641104698181,
          0.9892255663871765,
          0.9892255663871765,
          0.9892255663871765,
          0.9892255663871765,
          0.9892255663871765,
          0.9892255663871765,
          0.9672801494598389,
          0.6392096877098083,
          0.985307514667511,
          0.9839872717857361
         ],
         "yaxis": "y11"
        },
        {
         "hovertemplate": "subjectID=6<br>time=%{x}<br>mt_pseudotime=%{y}<extra></extra>",
         "legendgroup": "",
         "line": {
          "color": "rgb(76,114,176)",
          "dash": "solid"
         },
         "mode": "lines",
         "name": "",
         "orientation": "v",
         "showlegend": false,
         "type": "scatter",
         "x": [
          4,
          25,
          29,
          18,
          32,
          43,
          78,
          92,
          99,
          39,
          57,
          60,
          85,
          95,
          102,
          1,
          11,
          15,
          46,
          53,
          74,
          106,
          8,
          36,
          67,
          71,
          64
         ],
         "xaxis": "x12",
         "y": [
          0.9847783446311951,
          0.9856137633323669,
          0.9856137633323669,
          0.9892255663871765,
          0.9892255663871765,
          0.9892255663871765,
          0.9892255663871765,
          0.9892255663871765,
          0.9892255663871765,
          0.9882131814956665,
          0.9882131814956665,
          0.9882131814956665,
          0.9882131814956665,
          0.9882131814956665,
          0.9882131814956665,
          0.9899440407752991,
          0.9899440407752991,
          0.9899440407752991,
          0.9899440407752991,
          0.9899440407752991,
          0.9899440407752991,
          0.9899440407752991,
          0.9871427416801453,
          0.9478358626365662,
          0.9478358626365662,
          0.9478358626365662,
          0.9701946973800659
         ],
         "yaxis": "y12"
        },
        {
         "hovertemplate": "subjectID=4<br>time=%{x}<br>mt_pseudotime=%{y}<extra></extra>",
         "legendgroup": "",
         "line": {
          "color": "rgb(76,114,176)",
          "dash": "solid"
         },
         "mode": "lines",
         "name": "",
         "orientation": "v",
         "showlegend": false,
         "type": "scatter",
         "x": [
          5,
          8,
          19,
          22,
          26,
          29,
          50,
          64,
          68,
          71,
          75,
          78,
          82,
          84,
          89,
          103,
          105,
          15,
          36,
          43,
          47,
          33,
          1,
          40,
          12,
          54,
          92
         ],
         "xaxis": "x5",
         "y": [
          0.9847783446311951,
          0.9847783446311951,
          0.9847783446311951,
          0.9847783446311951,
          0.9847783446311951,
          0.9847783446311951,
          0.9847783446311951,
          0.9847783446311951,
          0.9847783446311951,
          0.9847783446311951,
          0.9847783446311951,
          0.9847783446311951,
          0.9847783446311951,
          0.9847783446311951,
          0.9847783446311951,
          0.9847783446311951,
          0.9847783446311951,
          0.9856137633323669,
          0.9856137633323669,
          0.9892255663871765,
          0.9892255663871765,
          0.9672801494598389,
          0.9882131814956665,
          0.9882131814956665,
          0.9899440407752991,
          0.9871427416801453,
          0.9701946973800659
         ],
         "yaxis": "y5"
        },
        {
         "hovertemplate": "subjectID=30<br>time=%{x}<br>mt_pseudotime=%{y}<extra></extra>",
         "legendgroup": "",
         "line": {
          "color": "rgb(76,114,176)",
          "dash": "solid"
         },
         "mode": "lines",
         "name": "",
         "orientation": "v",
         "showlegend": false,
         "type": "scatter",
         "x": [
          96,
          103,
          61,
          19,
          8,
          12,
          88,
          6,
          110,
          89,
          54,
          68,
          22,
          71,
          35,
          26,
          29,
          37,
          79,
          64,
          1,
          40,
          16,
          43,
          82,
          85,
          92,
          100,
          107
         ],
         "xaxis": "x6",
         "y": [
          0.9847783446311951,
          0.9847783446311951,
          0.5990453958511353,
          0.3229622840881348,
          0.5282155275344849,
          0.3911725878715515,
          0.3911725878715515,
          null,
          null,
          null,
          null,
          0.360440731048584,
          0.2245948910713196,
          0.2245948910713196,
          0.3621440529823303,
          0.3685682415962219,
          0.3534717559814453,
          0.3534717559814453,
          0.3534717559814453,
          0.4436368942260742,
          0.5797845125198364,
          0.4739229679107666,
          0.3500816226005554,
          0.3500816226005554,
          0.477703332901001,
          0.8541720509529114,
          0.4823392629623413,
          null,
          null
         ],
         "yaxis": "y6"
        },
        {
         "hovertemplate": "subjectID=3<br>time=%{x}<br>mt_pseudotime=%{y}<extra></extra>",
         "legendgroup": "",
         "line": {
          "color": "rgb(76,114,176)",
          "dash": "solid"
         },
         "mode": "lines",
         "name": "",
         "orientation": "v",
         "showlegend": false,
         "type": "scatter",
         "x": [
          5,
          8,
          12,
          15,
          19,
          22,
          26,
          29,
          33,
          36,
          40,
          43,
          50,
          54,
          57,
          61,
          64,
          71,
          75,
          78,
          82,
          85,
          89,
          90,
          99,
          106,
          110,
          1,
          68,
          96
         ],
         "xaxis": "x7",
         "y": [
          0.9847783446311951,
          0.9847783446311951,
          0.9847783446311951,
          0.9847783446311951,
          0.9847783446311951,
          0.9847783446311951,
          0.9847783446311951,
          0.9847783446311951,
          0.9847783446311951,
          0.9847783446311951,
          0.9847783446311951,
          0.9847783446311951,
          0.9847783446311951,
          0.9847783446311951,
          0.9847783446311951,
          0.9847783446311951,
          0.9847783446311951,
          0.9847783446311951,
          0.9847783446311951,
          0.9847783446311951,
          0.9847783446311951,
          0.9847783446311951,
          0.9847783446311951,
          0.9847783446311951,
          0.9847783446311951,
          0.9847783446311951,
          0.9847783446311951,
          0.9673410654067993,
          0.9821034669876099,
          0.9693013429641724
         ],
         "yaxis": "y7"
        },
        {
         "hovertemplate": "subjectID=22<br>time=%{x}<br>mt_pseudotime=%{y}<extra></extra>",
         "legendgroup": "",
         "line": {
          "color": "rgb(76,114,176)",
          "dash": "solid"
         },
         "mode": "lines",
         "name": "",
         "orientation": "v",
         "showlegend": false,
         "type": "scatter",
         "x": [
          1,
          12,
          15,
          19,
          22,
          26,
          29,
          46,
          49,
          53,
          56,
          63,
          67,
          70,
          74,
          84,
          95,
          5,
          42,
          60,
          81,
          33,
          35,
          39,
          88,
          91,
          98,
          101,
          77,
          105,
          109
         ],
         "xaxis": "x8",
         "y": [
          0.6697742938995361,
          0.6697742938995361,
          0.6697742938995361,
          0.6697742938995361,
          0.6697742938995361,
          0.6697742938995361,
          0.6697742938995361,
          0.6697742938995361,
          0.6697742938995361,
          0.6697742938995361,
          0.6697742938995361,
          0.6697742938995361,
          0.6697742938995361,
          0.6697742938995361,
          0.6697742938995361,
          0.6697742938995361,
          0.6697742938995361,
          0.7611137628555298,
          0.7611137628555298,
          0.7611137628555298,
          0.7611137628555298,
          0.6415138244628906,
          0.6415138244628906,
          0.6415138244628906,
          0.6415138244628906,
          0.6415138244628906,
          0.6415138244628906,
          0.6415138244628906,
          0.8257339596748352,
          0.8946021199226379,
          0.8946021199226379
         ],
         "yaxis": "y8"
        },
        {
         "hovertemplate": "subjectID=24<br>time=%{x}<br>mt_pseudotime=%{y}<extra></extra>",
         "legendgroup": "",
         "line": {
          "color": "rgb(76,114,176)",
          "dash": "solid"
         },
         "mode": "lines",
         "name": "",
         "orientation": "v",
         "showlegend": false,
         "type": "scatter",
         "x": [
          33,
          85,
          1,
          43,
          92,
          19,
          36,
          78,
          8,
          15,
          22,
          26,
          29,
          47,
          50,
          54,
          57,
          103,
          106,
          110,
          65,
          61,
          12,
          40,
          82,
          96,
          99,
          89
         ],
         "xaxis": "x",
         "y": [
          0.8257339596748352,
          0.8257339596748352,
          0.6282166242599487,
          0.6282166242599487,
          0.6282166242599487,
          0.530521810054779,
          0.5605032444000244,
          0.5605032444000244,
          0.478721559047699,
          0.478721559047699,
          0.478721559047699,
          0.478721559047699,
          0.478721559047699,
          0.478721559047699,
          0.478721559047699,
          0.478721559047699,
          0.478721559047699,
          0.478721559047699,
          0.478721559047699,
          0.478721559047699,
          0.8521263599395752,
          0.9250571131706238,
          0.5583375692367554,
          0.5583375692367554,
          0.5583375692367554,
          0.5583375692367554,
          0.5583375692367554,
          0.8257129192352295
         ],
         "yaxis": "y"
        },
        {
         "hovertemplate": "subjectID=26<br>time=%{x}<br>mt_pseudotime=%{y}<extra></extra>",
         "legendgroup": "",
         "line": {
          "color": "rgb(76,114,176)",
          "dash": "solid"
         },
         "mode": "lines",
         "name": "",
         "orientation": "v",
         "showlegend": false,
         "type": "scatter",
         "x": [
          106,
          82,
          36,
          1,
          57,
          89,
          5,
          12,
          8,
          61,
          15,
          19,
          33,
          22,
          26,
          29,
          40,
          43,
          47,
          50,
          54,
          64,
          68,
          75,
          78,
          71,
          85,
          92,
          103,
          110
         ],
         "xaxis": "x2",
         "y": [
          0.8946021199226379,
          0.5990453958511353,
          null,
          0.8522374033927917,
          0.8522374033927917,
          0.8522374033927917,
          0.916901171207428,
          0.916901171207428,
          0.6282166242599487,
          0.6282166242599487,
          0.530521810054779,
          0.5605032444000244,
          0.5605032444000244,
          0.3464263081550598,
          0.4607802629470825,
          0.478721559047699,
          0.232918381690979,
          null,
          null,
          null,
          null,
          0.5769237279891968,
          null,
          null,
          null,
          null,
          0.8521263599395752,
          0.8953598141670227,
          0.8953598141670227,
          0.915606677532196
         ],
         "yaxis": "y2"
        },
        {
         "hovertemplate": "subjectID=28<br>time=%{x}<br>mt_pseudotime=%{y}<extra></extra>",
         "legendgroup": "",
         "line": {
          "color": "rgb(76,114,176)",
          "dash": "solid"
         },
         "mode": "lines",
         "name": "",
         "orientation": "v",
         "showlegend": false,
         "type": "scatter",
         "x": [
          1,
          8,
          33,
          50,
          68,
          99,
          106,
          111,
          5,
          12,
          19,
          82,
          15,
          22,
          78,
          26,
          29,
          89,
          36,
          57,
          85,
          96,
          40,
          64,
          43,
          47,
          71,
          75,
          103,
          54,
          61,
          92
         ],
         "xaxis": "x3",
         "y": [
          0.4857938289642334,
          0.4857938289642334,
          0.4857938289642334,
          0.4857938289642334,
          0.4857938289642334,
          0.4857938289642334,
          0.4857938289642334,
          0.4857938289642334,
          0.5990453958511353,
          0.3229622840881348,
          0.3229622840881348,
          0.3229622840881348,
          0.2152771949768066,
          0.2152771949768066,
          0.2152771949768066,
          0.2052018642425537,
          0.5282155275344849,
          0.5282155275344849,
          0.3911725878715515,
          0.3911725878715515,
          0.3911725878715515,
          0.3911725878715515,
          null,
          null,
          0.5428323745727539,
          0.3677183985710144,
          0.3677183985710144,
          0.3677183985710144,
          0.3677183985710144,
          0.2399383783340454,
          0.3752960562705994,
          null
         ],
         "yaxis": "y3"
        },
        {
         "hovertemplate": "subjectID=32<br>time=%{x}<br>mt_pseudotime=%{y}<extra></extra>",
         "legendgroup": "",
         "line": {
          "color": "rgb(76,114,176)",
          "dash": "solid"
         },
         "mode": "lines",
         "name": "",
         "orientation": "v",
         "showlegend": false,
         "type": "scatter",
         "x": [
          98,
          105,
          109,
          102,
          18,
          77,
          1,
          32,
          5,
          56,
          28,
          59,
          8,
          67,
          14,
          81,
          21,
          35,
          42,
          46,
          53,
          49,
          63,
          95,
          74,
          84,
          88,
          91
         ],
         "xaxis": "x4",
         "y": [
          0.2152771949768066,
          0.2152771949768066,
          0.2152771949768066,
          0.2052018642425537,
          0.6282166242599487,
          0.530521810054779,
          0.5605032444000244,
          0.9108473062515259,
          0.9250571131706238,
          0.9478358626365662,
          0.917597770690918,
          0.5583375692367554,
          0.9303717613220215,
          0.9303717613220215,
          0.6840965151786804,
          0.6840965151786804,
          0.5725469589233398,
          0.9433797597885132,
          0.9724705815315247,
          0.8874986171722412,
          0.8874986171722412,
          0.8558571338653564,
          0.3651754856109619,
          0.3651754856109619,
          0.966052770614624,
          0.2514879107475281,
          0.2514879107475281,
          0.3674241900444031
         ],
         "yaxis": "y4"
        }
       ],
       "layout": {
        "annotations": [
         {
          "font": {},
          "showarrow": false,
          "text": "subjectID=24",
          "x": 0.1175,
          "xanchor": "center",
          "xref": "paper",
          "y": 0.1075,
          "yanchor": "bottom",
          "yref": "paper"
         },
         {
          "font": {},
          "showarrow": false,
          "text": "subjectID=26",
          "x": 0.3725,
          "xanchor": "center",
          "xref": "paper",
          "y": 0.1075,
          "yanchor": "bottom",
          "yref": "paper"
         },
         {
          "font": {},
          "showarrow": false,
          "text": "subjectID=28",
          "x": 0.6275,
          "xanchor": "center",
          "xref": "paper",
          "y": 0.1075,
          "yanchor": "bottom",
          "yref": "paper"
         },
         {
          "font": {},
          "showarrow": false,
          "text": "subjectID=32",
          "x": 0.8824999999999998,
          "xanchor": "center",
          "xref": "paper",
          "y": 0.1075,
          "yanchor": "bottom",
          "yref": "paper"
         },
         {
          "font": {},
          "showarrow": false,
          "text": "subjectID=4",
          "x": 0.1175,
          "xanchor": "center",
          "xref": "paper",
          "y": 0.235,
          "yanchor": "bottom",
          "yref": "paper"
         },
         {
          "font": {},
          "showarrow": false,
          "text": "subjectID=30",
          "x": 0.3725,
          "xanchor": "center",
          "xref": "paper",
          "y": 0.235,
          "yanchor": "bottom",
          "yref": "paper"
         },
         {
          "font": {},
          "showarrow": false,
          "text": "subjectID=3",
          "x": 0.6275,
          "xanchor": "center",
          "xref": "paper",
          "y": 0.235,
          "yanchor": "bottom",
          "yref": "paper"
         },
         {
          "font": {},
          "showarrow": false,
          "text": "subjectID=22",
          "x": 0.8824999999999998,
          "xanchor": "center",
          "xref": "paper",
          "y": 0.235,
          "yanchor": "bottom",
          "yref": "paper"
         },
         {
          "font": {},
          "showarrow": false,
          "text": "subjectID=9",
          "x": 0.1175,
          "xanchor": "center",
          "xref": "paper",
          "y": 0.3625,
          "yanchor": "bottom",
          "yref": "paper"
         },
         {
          "font": {},
          "showarrow": false,
          "text": "subjectID=7",
          "x": 0.3725,
          "xanchor": "center",
          "xref": "paper",
          "y": 0.3625,
          "yanchor": "bottom",
          "yref": "paper"
         },
         {
          "font": {},
          "showarrow": false,
          "text": "subjectID=5",
          "x": 0.6275,
          "xanchor": "center",
          "xref": "paper",
          "y": 0.3625,
          "yanchor": "bottom",
          "yref": "paper"
         },
         {
          "font": {},
          "showarrow": false,
          "text": "subjectID=6",
          "x": 0.8824999999999998,
          "xanchor": "center",
          "xref": "paper",
          "y": 0.3625,
          "yanchor": "bottom",
          "yref": "paper"
         },
         {
          "font": {},
          "showarrow": false,
          "text": "subjectID=23",
          "x": 0.1175,
          "xanchor": "center",
          "xref": "paper",
          "y": 0.49,
          "yanchor": "bottom",
          "yref": "paper"
         },
         {
          "font": {},
          "showarrow": false,
          "text": "subjectID=27",
          "x": 0.3725,
          "xanchor": "center",
          "xref": "paper",
          "y": 0.49,
          "yanchor": "bottom",
          "yref": "paper"
         },
         {
          "font": {},
          "showarrow": false,
          "text": "subjectID=8",
          "x": 0.6275,
          "xanchor": "center",
          "xref": "paper",
          "y": 0.49,
          "yanchor": "bottom",
          "yref": "paper"
         },
         {
          "font": {},
          "showarrow": false,
          "text": "subjectID=2",
          "x": 0.8824999999999998,
          "xanchor": "center",
          "xref": "paper",
          "y": 0.49,
          "yanchor": "bottom",
          "yref": "paper"
         },
         {
          "font": {},
          "showarrow": false,
          "text": "subjectID=10",
          "x": 0.1175,
          "xanchor": "center",
          "xref": "paper",
          "y": 0.6175,
          "yanchor": "bottom",
          "yref": "paper"
         },
         {
          "font": {},
          "showarrow": false,
          "text": "subjectID=29",
          "x": 0.3725,
          "xanchor": "center",
          "xref": "paper",
          "y": 0.6175,
          "yanchor": "bottom",
          "yref": "paper"
         },
         {
          "font": {},
          "showarrow": false,
          "text": "subjectID=31",
          "x": 0.6275,
          "xanchor": "center",
          "xref": "paper",
          "y": 0.6175,
          "yanchor": "bottom",
          "yref": "paper"
         },
         {
          "font": {},
          "showarrow": false,
          "text": "subjectID=25",
          "x": 0.8824999999999998,
          "xanchor": "center",
          "xref": "paper",
          "y": 0.6175,
          "yanchor": "bottom",
          "yref": "paper"
         },
         {
          "font": {},
          "showarrow": false,
          "text": "subjectID=18",
          "x": 0.1175,
          "xanchor": "center",
          "xref": "paper",
          "y": 0.745,
          "yanchor": "bottom",
          "yref": "paper"
         },
         {
          "font": {},
          "showarrow": false,
          "text": "subjectID=15",
          "x": 0.3725,
          "xanchor": "center",
          "xref": "paper",
          "y": 0.745,
          "yanchor": "bottom",
          "yref": "paper"
         },
         {
          "font": {},
          "showarrow": false,
          "text": "subjectID=19",
          "x": 0.6275,
          "xanchor": "center",
          "xref": "paper",
          "y": 0.745,
          "yanchor": "bottom",
          "yref": "paper"
         },
         {
          "font": {},
          "showarrow": false,
          "text": "subjectID=16",
          "x": 0.8824999999999998,
          "xanchor": "center",
          "xref": "paper",
          "y": 0.745,
          "yanchor": "bottom",
          "yref": "paper"
         },
         {
          "font": {},
          "showarrow": false,
          "text": "subjectID=12",
          "x": 0.1175,
          "xanchor": "center",
          "xref": "paper",
          "y": 0.8725,
          "yanchor": "bottom",
          "yref": "paper"
         },
         {
          "font": {},
          "showarrow": false,
          "text": "subjectID=13",
          "x": 0.3725,
          "xanchor": "center",
          "xref": "paper",
          "y": 0.8725,
          "yanchor": "bottom",
          "yref": "paper"
         },
         {
          "font": {},
          "showarrow": false,
          "text": "subjectID=1",
          "x": 0.6275,
          "xanchor": "center",
          "xref": "paper",
          "y": 0.8725,
          "yanchor": "bottom",
          "yref": "paper"
         },
         {
          "font": {},
          "showarrow": false,
          "text": "subjectID=14",
          "x": 0.8824999999999998,
          "xanchor": "center",
          "xref": "paper",
          "y": 0.8725,
          "yanchor": "bottom",
          "yref": "paper"
         },
         {
          "font": {},
          "showarrow": false,
          "text": "subjectID=20",
          "x": 0.1175,
          "xanchor": "center",
          "xref": "paper",
          "y": 1,
          "yanchor": "bottom",
          "yref": "paper"
         },
         {
          "font": {},
          "showarrow": false,
          "text": "subjectID=21",
          "x": 0.3725,
          "xanchor": "center",
          "xref": "paper",
          "y": 1,
          "yanchor": "bottom",
          "yref": "paper"
         },
         {
          "font": {},
          "showarrow": false,
          "text": "subjectID=11",
          "x": 0.6275,
          "xanchor": "center",
          "xref": "paper",
          "y": 1,
          "yanchor": "bottom",
          "yref": "paper"
         },
         {
          "font": {},
          "showarrow": false,
          "text": "subjectID=17",
          "x": 0.8824999999999998,
          "xanchor": "center",
          "xref": "paper",
          "y": 1,
          "yanchor": "bottom",
          "yref": "paper"
         }
        ],
        "height": 700,
        "legend": {
         "tracegroupgap": 0
        },
        "margin": {
         "t": 60
        },
        "template": {
         "data": {
          "bar": [
           {
            "error_x": {
             "color": "rgb(36,36,36)"
            },
            "error_y": {
             "color": "rgb(36,36,36)"
            },
            "marker": {
             "line": {
              "color": "rgb(234,234,242)",
              "width": 0.5
             },
             "pattern": {
              "fillmode": "overlay",
              "size": 10,
              "solidity": 0.2
             }
            },
            "type": "bar"
           }
          ],
          "barpolar": [
           {
            "marker": {
             "line": {
              "color": "rgb(234,234,242)",
              "width": 0.5
             },
             "pattern": {
              "fillmode": "overlay",
              "size": 10,
              "solidity": 0.2
             }
            },
            "type": "barpolar"
           }
          ],
          "carpet": [
           {
            "aaxis": {
             "endlinecolor": "rgb(36,36,36)",
             "gridcolor": "white",
             "linecolor": "white",
             "minorgridcolor": "white",
             "startlinecolor": "rgb(36,36,36)"
            },
            "baxis": {
             "endlinecolor": "rgb(36,36,36)",
             "gridcolor": "white",
             "linecolor": "white",
             "minorgridcolor": "white",
             "startlinecolor": "rgb(36,36,36)"
            },
            "type": "carpet"
           }
          ],
          "choropleth": [
           {
            "colorbar": {
             "outlinewidth": 0,
             "tickcolor": "rgb(36,36,36)",
             "ticklen": 8,
             "ticks": "outside",
             "tickwidth": 2
            },
            "type": "choropleth"
           }
          ],
          "contour": [
           {
            "colorbar": {
             "outlinewidth": 0,
             "tickcolor": "rgb(36,36,36)",
             "ticklen": 8,
             "ticks": "outside",
             "tickwidth": 2
            },
            "colorscale": [
             [
              0,
              "rgb(2,4,25)"
             ],
             [
              0.06274509803921569,
              "rgb(24,15,41)"
             ],
             [
              0.12549019607843137,
              "rgb(47,23,57)"
             ],
             [
              0.18823529411764706,
              "rgb(71,28,72)"
             ],
             [
              0.25098039215686274,
              "rgb(97,30,82)"
             ],
             [
              0.3137254901960784,
              "rgb(123,30,89)"
             ],
             [
              0.3764705882352941,
              "rgb(150,27,91)"
             ],
             [
              0.4392156862745098,
              "rgb(177,22,88)"
             ],
             [
              0.5019607843137255,
              "rgb(203,26,79)"
             ],
             [
              0.5647058823529412,
              "rgb(223,47,67)"
             ],
             [
              0.6274509803921569,
              "rgb(236,76,61)"
             ],
             [
              0.6901960784313725,
              "rgb(242,107,73)"
             ],
             [
              0.7529411764705882,
              "rgb(244,135,95)"
             ],
             [
              0.8156862745098039,
              "rgb(245,162,122)"
             ],
             [
              0.8784313725490196,
              "rgb(246,188,153)"
             ],
             [
              0.9411764705882353,
              "rgb(247,212,187)"
             ],
             [
              1,
              "rgb(250,234,220)"
             ]
            ],
            "type": "contour"
           }
          ],
          "contourcarpet": [
           {
            "colorbar": {
             "outlinewidth": 0,
             "tickcolor": "rgb(36,36,36)",
             "ticklen": 8,
             "ticks": "outside",
             "tickwidth": 2
            },
            "type": "contourcarpet"
           }
          ],
          "heatmap": [
           {
            "colorbar": {
             "outlinewidth": 0,
             "tickcolor": "rgb(36,36,36)",
             "ticklen": 8,
             "ticks": "outside",
             "tickwidth": 2
            },
            "colorscale": [
             [
              0,
              "rgb(2,4,25)"
             ],
             [
              0.06274509803921569,
              "rgb(24,15,41)"
             ],
             [
              0.12549019607843137,
              "rgb(47,23,57)"
             ],
             [
              0.18823529411764706,
              "rgb(71,28,72)"
             ],
             [
              0.25098039215686274,
              "rgb(97,30,82)"
             ],
             [
              0.3137254901960784,
              "rgb(123,30,89)"
             ],
             [
              0.3764705882352941,
              "rgb(150,27,91)"
             ],
             [
              0.4392156862745098,
              "rgb(177,22,88)"
             ],
             [
              0.5019607843137255,
              "rgb(203,26,79)"
             ],
             [
              0.5647058823529412,
              "rgb(223,47,67)"
             ],
             [
              0.6274509803921569,
              "rgb(236,76,61)"
             ],
             [
              0.6901960784313725,
              "rgb(242,107,73)"
             ],
             [
              0.7529411764705882,
              "rgb(244,135,95)"
             ],
             [
              0.8156862745098039,
              "rgb(245,162,122)"
             ],
             [
              0.8784313725490196,
              "rgb(246,188,153)"
             ],
             [
              0.9411764705882353,
              "rgb(247,212,187)"
             ],
             [
              1,
              "rgb(250,234,220)"
             ]
            ],
            "type": "heatmap"
           }
          ],
          "heatmapgl": [
           {
            "colorbar": {
             "outlinewidth": 0,
             "tickcolor": "rgb(36,36,36)",
             "ticklen": 8,
             "ticks": "outside",
             "tickwidth": 2
            },
            "colorscale": [
             [
              0,
              "rgb(2,4,25)"
             ],
             [
              0.06274509803921569,
              "rgb(24,15,41)"
             ],
             [
              0.12549019607843137,
              "rgb(47,23,57)"
             ],
             [
              0.18823529411764706,
              "rgb(71,28,72)"
             ],
             [
              0.25098039215686274,
              "rgb(97,30,82)"
             ],
             [
              0.3137254901960784,
              "rgb(123,30,89)"
             ],
             [
              0.3764705882352941,
              "rgb(150,27,91)"
             ],
             [
              0.4392156862745098,
              "rgb(177,22,88)"
             ],
             [
              0.5019607843137255,
              "rgb(203,26,79)"
             ],
             [
              0.5647058823529412,
              "rgb(223,47,67)"
             ],
             [
              0.6274509803921569,
              "rgb(236,76,61)"
             ],
             [
              0.6901960784313725,
              "rgb(242,107,73)"
             ],
             [
              0.7529411764705882,
              "rgb(244,135,95)"
             ],
             [
              0.8156862745098039,
              "rgb(245,162,122)"
             ],
             [
              0.8784313725490196,
              "rgb(246,188,153)"
             ],
             [
              0.9411764705882353,
              "rgb(247,212,187)"
             ],
             [
              1,
              "rgb(250,234,220)"
             ]
            ],
            "type": "heatmapgl"
           }
          ],
          "histogram": [
           {
            "marker": {
             "pattern": {
              "fillmode": "overlay",
              "size": 10,
              "solidity": 0.2
             }
            },
            "type": "histogram"
           }
          ],
          "histogram2d": [
           {
            "colorbar": {
             "outlinewidth": 0,
             "tickcolor": "rgb(36,36,36)",
             "ticklen": 8,
             "ticks": "outside",
             "tickwidth": 2
            },
            "colorscale": [
             [
              0,
              "rgb(2,4,25)"
             ],
             [
              0.06274509803921569,
              "rgb(24,15,41)"
             ],
             [
              0.12549019607843137,
              "rgb(47,23,57)"
             ],
             [
              0.18823529411764706,
              "rgb(71,28,72)"
             ],
             [
              0.25098039215686274,
              "rgb(97,30,82)"
             ],
             [
              0.3137254901960784,
              "rgb(123,30,89)"
             ],
             [
              0.3764705882352941,
              "rgb(150,27,91)"
             ],
             [
              0.4392156862745098,
              "rgb(177,22,88)"
             ],
             [
              0.5019607843137255,
              "rgb(203,26,79)"
             ],
             [
              0.5647058823529412,
              "rgb(223,47,67)"
             ],
             [
              0.6274509803921569,
              "rgb(236,76,61)"
             ],
             [
              0.6901960784313725,
              "rgb(242,107,73)"
             ],
             [
              0.7529411764705882,
              "rgb(244,135,95)"
             ],
             [
              0.8156862745098039,
              "rgb(245,162,122)"
             ],
             [
              0.8784313725490196,
              "rgb(246,188,153)"
             ],
             [
              0.9411764705882353,
              "rgb(247,212,187)"
             ],
             [
              1,
              "rgb(250,234,220)"
             ]
            ],
            "type": "histogram2d"
           }
          ],
          "histogram2dcontour": [
           {
            "colorbar": {
             "outlinewidth": 0,
             "tickcolor": "rgb(36,36,36)",
             "ticklen": 8,
             "ticks": "outside",
             "tickwidth": 2
            },
            "colorscale": [
             [
              0,
              "rgb(2,4,25)"
             ],
             [
              0.06274509803921569,
              "rgb(24,15,41)"
             ],
             [
              0.12549019607843137,
              "rgb(47,23,57)"
             ],
             [
              0.18823529411764706,
              "rgb(71,28,72)"
             ],
             [
              0.25098039215686274,
              "rgb(97,30,82)"
             ],
             [
              0.3137254901960784,
              "rgb(123,30,89)"
             ],
             [
              0.3764705882352941,
              "rgb(150,27,91)"
             ],
             [
              0.4392156862745098,
              "rgb(177,22,88)"
             ],
             [
              0.5019607843137255,
              "rgb(203,26,79)"
             ],
             [
              0.5647058823529412,
              "rgb(223,47,67)"
             ],
             [
              0.6274509803921569,
              "rgb(236,76,61)"
             ],
             [
              0.6901960784313725,
              "rgb(242,107,73)"
             ],
             [
              0.7529411764705882,
              "rgb(244,135,95)"
             ],
             [
              0.8156862745098039,
              "rgb(245,162,122)"
             ],
             [
              0.8784313725490196,
              "rgb(246,188,153)"
             ],
             [
              0.9411764705882353,
              "rgb(247,212,187)"
             ],
             [
              1,
              "rgb(250,234,220)"
             ]
            ],
            "type": "histogram2dcontour"
           }
          ],
          "mesh3d": [
           {
            "colorbar": {
             "outlinewidth": 0,
             "tickcolor": "rgb(36,36,36)",
             "ticklen": 8,
             "ticks": "outside",
             "tickwidth": 2
            },
            "type": "mesh3d"
           }
          ],
          "parcoords": [
           {
            "line": {
             "colorbar": {
              "outlinewidth": 0,
              "tickcolor": "rgb(36,36,36)",
              "ticklen": 8,
              "ticks": "outside",
              "tickwidth": 2
             }
            },
            "type": "parcoords"
           }
          ],
          "pie": [
           {
            "automargin": true,
            "type": "pie"
           }
          ],
          "scatter": [
           {
            "marker": {
             "colorbar": {
              "outlinewidth": 0,
              "tickcolor": "rgb(36,36,36)",
              "ticklen": 8,
              "ticks": "outside",
              "tickwidth": 2
             }
            },
            "type": "scatter"
           }
          ],
          "scatter3d": [
           {
            "line": {
             "colorbar": {
              "outlinewidth": 0,
              "tickcolor": "rgb(36,36,36)",
              "ticklen": 8,
              "ticks": "outside",
              "tickwidth": 2
             }
            },
            "marker": {
             "colorbar": {
              "outlinewidth": 0,
              "tickcolor": "rgb(36,36,36)",
              "ticklen": 8,
              "ticks": "outside",
              "tickwidth": 2
             }
            },
            "type": "scatter3d"
           }
          ],
          "scattercarpet": [
           {
            "marker": {
             "colorbar": {
              "outlinewidth": 0,
              "tickcolor": "rgb(36,36,36)",
              "ticklen": 8,
              "ticks": "outside",
              "tickwidth": 2
             }
            },
            "type": "scattercarpet"
           }
          ],
          "scattergeo": [
           {
            "marker": {
             "colorbar": {
              "outlinewidth": 0,
              "tickcolor": "rgb(36,36,36)",
              "ticklen": 8,
              "ticks": "outside",
              "tickwidth": 2
             }
            },
            "type": "scattergeo"
           }
          ],
          "scattergl": [
           {
            "marker": {
             "colorbar": {
              "outlinewidth": 0,
              "tickcolor": "rgb(36,36,36)",
              "ticklen": 8,
              "ticks": "outside",
              "tickwidth": 2
             }
            },
            "type": "scattergl"
           }
          ],
          "scattermapbox": [
           {
            "marker": {
             "colorbar": {
              "outlinewidth": 0,
              "tickcolor": "rgb(36,36,36)",
              "ticklen": 8,
              "ticks": "outside",
              "tickwidth": 2
             }
            },
            "type": "scattermapbox"
           }
          ],
          "scatterpolar": [
           {
            "marker": {
             "colorbar": {
              "outlinewidth": 0,
              "tickcolor": "rgb(36,36,36)",
              "ticklen": 8,
              "ticks": "outside",
              "tickwidth": 2
             }
            },
            "type": "scatterpolar"
           }
          ],
          "scatterpolargl": [
           {
            "marker": {
             "colorbar": {
              "outlinewidth": 0,
              "tickcolor": "rgb(36,36,36)",
              "ticklen": 8,
              "ticks": "outside",
              "tickwidth": 2
             }
            },
            "type": "scatterpolargl"
           }
          ],
          "scatterternary": [
           {
            "marker": {
             "colorbar": {
              "outlinewidth": 0,
              "tickcolor": "rgb(36,36,36)",
              "ticklen": 8,
              "ticks": "outside",
              "tickwidth": 2
             }
            },
            "type": "scatterternary"
           }
          ],
          "surface": [
           {
            "colorbar": {
             "outlinewidth": 0,
             "tickcolor": "rgb(36,36,36)",
             "ticklen": 8,
             "ticks": "outside",
             "tickwidth": 2
            },
            "colorscale": [
             [
              0,
              "rgb(2,4,25)"
             ],
             [
              0.06274509803921569,
              "rgb(24,15,41)"
             ],
             [
              0.12549019607843137,
              "rgb(47,23,57)"
             ],
             [
              0.18823529411764706,
              "rgb(71,28,72)"
             ],
             [
              0.25098039215686274,
              "rgb(97,30,82)"
             ],
             [
              0.3137254901960784,
              "rgb(123,30,89)"
             ],
             [
              0.3764705882352941,
              "rgb(150,27,91)"
             ],
             [
              0.4392156862745098,
              "rgb(177,22,88)"
             ],
             [
              0.5019607843137255,
              "rgb(203,26,79)"
             ],
             [
              0.5647058823529412,
              "rgb(223,47,67)"
             ],
             [
              0.6274509803921569,
              "rgb(236,76,61)"
             ],
             [
              0.6901960784313725,
              "rgb(242,107,73)"
             ],
             [
              0.7529411764705882,
              "rgb(244,135,95)"
             ],
             [
              0.8156862745098039,
              "rgb(245,162,122)"
             ],
             [
              0.8784313725490196,
              "rgb(246,188,153)"
             ],
             [
              0.9411764705882353,
              "rgb(247,212,187)"
             ],
             [
              1,
              "rgb(250,234,220)"
             ]
            ],
            "type": "surface"
           }
          ],
          "table": [
           {
            "cells": {
             "fill": {
              "color": "rgb(231,231,240)"
             },
             "line": {
              "color": "white"
             }
            },
            "header": {
             "fill": {
              "color": "rgb(183,183,191)"
             },
             "line": {
              "color": "white"
             }
            },
            "type": "table"
           }
          ]
         },
         "layout": {
          "annotationdefaults": {
           "arrowcolor": "rgb(67,103,167)"
          },
          "autotypenumbers": "strict",
          "coloraxis": {
           "colorbar": {
            "outlinewidth": 0,
            "tickcolor": "rgb(36,36,36)",
            "ticklen": 8,
            "ticks": "outside",
            "tickwidth": 2
           }
          },
          "colorscale": {
           "sequential": [
            [
             0,
             "rgb(2,4,25)"
            ],
            [
             0.06274509803921569,
             "rgb(24,15,41)"
            ],
            [
             0.12549019607843137,
             "rgb(47,23,57)"
            ],
            [
             0.18823529411764706,
             "rgb(71,28,72)"
            ],
            [
             0.25098039215686274,
             "rgb(97,30,82)"
            ],
            [
             0.3137254901960784,
             "rgb(123,30,89)"
            ],
            [
             0.3764705882352941,
             "rgb(150,27,91)"
            ],
            [
             0.4392156862745098,
             "rgb(177,22,88)"
            ],
            [
             0.5019607843137255,
             "rgb(203,26,79)"
            ],
            [
             0.5647058823529412,
             "rgb(223,47,67)"
            ],
            [
             0.6274509803921569,
             "rgb(236,76,61)"
            ],
            [
             0.6901960784313725,
             "rgb(242,107,73)"
            ],
            [
             0.7529411764705882,
             "rgb(244,135,95)"
            ],
            [
             0.8156862745098039,
             "rgb(245,162,122)"
            ],
            [
             0.8784313725490196,
             "rgb(246,188,153)"
            ],
            [
             0.9411764705882353,
             "rgb(247,212,187)"
            ],
            [
             1,
             "rgb(250,234,220)"
            ]
           ],
           "sequentialminus": [
            [
             0,
             "rgb(2,4,25)"
            ],
            [
             0.06274509803921569,
             "rgb(24,15,41)"
            ],
            [
             0.12549019607843137,
             "rgb(47,23,57)"
            ],
            [
             0.18823529411764706,
             "rgb(71,28,72)"
            ],
            [
             0.25098039215686274,
             "rgb(97,30,82)"
            ],
            [
             0.3137254901960784,
             "rgb(123,30,89)"
            ],
            [
             0.3764705882352941,
             "rgb(150,27,91)"
            ],
            [
             0.4392156862745098,
             "rgb(177,22,88)"
            ],
            [
             0.5019607843137255,
             "rgb(203,26,79)"
            ],
            [
             0.5647058823529412,
             "rgb(223,47,67)"
            ],
            [
             0.6274509803921569,
             "rgb(236,76,61)"
            ],
            [
             0.6901960784313725,
             "rgb(242,107,73)"
            ],
            [
             0.7529411764705882,
             "rgb(244,135,95)"
            ],
            [
             0.8156862745098039,
             "rgb(245,162,122)"
            ],
            [
             0.8784313725490196,
             "rgb(246,188,153)"
            ],
            [
             0.9411764705882353,
             "rgb(247,212,187)"
            ],
            [
             1,
             "rgb(250,234,220)"
            ]
           ]
          },
          "colorway": [
           "rgb(76,114,176)",
           "rgb(221,132,82)",
           "rgb(85,168,104)",
           "rgb(196,78,82)",
           "rgb(129,114,179)",
           "rgb(147,120,96)",
           "rgb(218,139,195)",
           "rgb(140,140,140)",
           "rgb(204,185,116)",
           "rgb(100,181,205)"
          ],
          "font": {
           "color": "rgb(36,36,36)"
          },
          "geo": {
           "bgcolor": "white",
           "lakecolor": "white",
           "landcolor": "rgb(234,234,242)",
           "showlakes": true,
           "showland": true,
           "subunitcolor": "white"
          },
          "hoverlabel": {
           "align": "left"
          },
          "hovermode": "closest",
          "paper_bgcolor": "white",
          "plot_bgcolor": "rgb(234,234,242)",
          "polar": {
           "angularaxis": {
            "gridcolor": "white",
            "linecolor": "white",
            "showgrid": true,
            "ticks": ""
           },
           "bgcolor": "rgb(234,234,242)",
           "radialaxis": {
            "gridcolor": "white",
            "linecolor": "white",
            "showgrid": true,
            "ticks": ""
           }
          },
          "scene": {
           "xaxis": {
            "backgroundcolor": "rgb(234,234,242)",
            "gridcolor": "white",
            "gridwidth": 2,
            "linecolor": "white",
            "showbackground": true,
            "showgrid": true,
            "ticks": "",
            "zerolinecolor": "white"
           },
           "yaxis": {
            "backgroundcolor": "rgb(234,234,242)",
            "gridcolor": "white",
            "gridwidth": 2,
            "linecolor": "white",
            "showbackground": true,
            "showgrid": true,
            "ticks": "",
            "zerolinecolor": "white"
           },
           "zaxis": {
            "backgroundcolor": "rgb(234,234,242)",
            "gridcolor": "white",
            "gridwidth": 2,
            "linecolor": "white",
            "showbackground": true,
            "showgrid": true,
            "ticks": "",
            "zerolinecolor": "white"
           }
          },
          "shapedefaults": {
           "fillcolor": "rgb(67,103,167)",
           "line": {
            "width": 0
           },
           "opacity": 0.5
          },
          "ternary": {
           "aaxis": {
            "gridcolor": "white",
            "linecolor": "white",
            "showgrid": true,
            "ticks": ""
           },
           "baxis": {
            "gridcolor": "white",
            "linecolor": "white",
            "showgrid": true,
            "ticks": ""
           },
           "bgcolor": "rgb(234,234,242)",
           "caxis": {
            "gridcolor": "white",
            "linecolor": "white",
            "showgrid": true,
            "ticks": ""
           }
          },
          "xaxis": {
           "automargin": true,
           "gridcolor": "white",
           "linecolor": "white",
           "showgrid": true,
           "ticks": "",
           "title": {
            "standoff": 15
           },
           "zerolinecolor": "white"
          },
          "yaxis": {
           "automargin": true,
           "gridcolor": "white",
           "linecolor": "white",
           "showgrid": true,
           "ticks": "",
           "title": {
            "standoff": 15
           },
           "zerolinecolor": "white"
          }
         }
        },
        "width": 800,
        "xaxis": {
         "anchor": "y",
         "domain": [
          0,
          0.235
         ],
         "title": {
          "text": "time"
         }
        },
        "xaxis10": {
         "anchor": "y10",
         "domain": [
          0.255,
          0.49
         ],
         "matches": "x",
         "showticklabels": false
        },
        "xaxis11": {
         "anchor": "y11",
         "domain": [
          0.51,
          0.745
         ],
         "matches": "x",
         "showticklabels": false
        },
        "xaxis12": {
         "anchor": "y12",
         "domain": [
          0.7649999999999999,
          0.9999999999999999
         ],
         "matches": "x",
         "showticklabels": false
        },
        "xaxis13": {
         "anchor": "y13",
         "domain": [
          0,
          0.235
         ],
         "matches": "x",
         "showticklabels": false
        },
        "xaxis14": {
         "anchor": "y14",
         "domain": [
          0.255,
          0.49
         ],
         "matches": "x",
         "showticklabels": false
        },
        "xaxis15": {
         "anchor": "y15",
         "domain": [
          0.51,
          0.745
         ],
         "matches": "x",
         "showticklabels": false
        },
        "xaxis16": {
         "anchor": "y16",
         "domain": [
          0.7649999999999999,
          0.9999999999999999
         ],
         "matches": "x",
         "showticklabels": false
        },
        "xaxis17": {
         "anchor": "y17",
         "domain": [
          0,
          0.235
         ],
         "matches": "x",
         "showticklabels": false
        },
        "xaxis18": {
         "anchor": "y18",
         "domain": [
          0.255,
          0.49
         ],
         "matches": "x",
         "showticklabels": false
        },
        "xaxis19": {
         "anchor": "y19",
         "domain": [
          0.51,
          0.745
         ],
         "matches": "x",
         "showticklabels": false
        },
        "xaxis2": {
         "anchor": "y2",
         "domain": [
          0.255,
          0.49
         ],
         "matches": "x",
         "title": {
          "text": "time"
         }
        },
        "xaxis20": {
         "anchor": "y20",
         "domain": [
          0.7649999999999999,
          0.9999999999999999
         ],
         "matches": "x",
         "showticklabels": false
        },
        "xaxis21": {
         "anchor": "y21",
         "domain": [
          0,
          0.235
         ],
         "matches": "x",
         "showticklabels": false
        },
        "xaxis22": {
         "anchor": "y22",
         "domain": [
          0.255,
          0.49
         ],
         "matches": "x",
         "showticklabels": false
        },
        "xaxis23": {
         "anchor": "y23",
         "domain": [
          0.51,
          0.745
         ],
         "matches": "x",
         "showticklabels": false
        },
        "xaxis24": {
         "anchor": "y24",
         "domain": [
          0.7649999999999999,
          0.9999999999999999
         ],
         "matches": "x",
         "showticklabels": false
        },
        "xaxis25": {
         "anchor": "y25",
         "domain": [
          0,
          0.235
         ],
         "matches": "x",
         "showticklabels": false
        },
        "xaxis26": {
         "anchor": "y26",
         "domain": [
          0.255,
          0.49
         ],
         "matches": "x",
         "showticklabels": false
        },
        "xaxis27": {
         "anchor": "y27",
         "domain": [
          0.51,
          0.745
         ],
         "matches": "x",
         "showticklabels": false
        },
        "xaxis28": {
         "anchor": "y28",
         "domain": [
          0.7649999999999999,
          0.9999999999999999
         ],
         "matches": "x",
         "showticklabels": false
        },
        "xaxis29": {
         "anchor": "y29",
         "domain": [
          0,
          0.235
         ],
         "matches": "x",
         "showticklabels": false
        },
        "xaxis3": {
         "anchor": "y3",
         "domain": [
          0.51,
          0.745
         ],
         "matches": "x",
         "title": {
          "text": "time"
         }
        },
        "xaxis30": {
         "anchor": "y30",
         "domain": [
          0.255,
          0.49
         ],
         "matches": "x",
         "showticklabels": false
        },
        "xaxis31": {
         "anchor": "y31",
         "domain": [
          0.51,
          0.745
         ],
         "matches": "x",
         "showticklabels": false
        },
        "xaxis32": {
         "anchor": "y32",
         "domain": [
          0.7649999999999999,
          0.9999999999999999
         ],
         "matches": "x",
         "showticklabels": false
        },
        "xaxis4": {
         "anchor": "y4",
         "domain": [
          0.7649999999999999,
          0.9999999999999999
         ],
         "matches": "x",
         "title": {
          "text": "time"
         }
        },
        "xaxis5": {
         "anchor": "y5",
         "domain": [
          0,
          0.235
         ],
         "matches": "x",
         "showticklabels": false
        },
        "xaxis6": {
         "anchor": "y6",
         "domain": [
          0.255,
          0.49
         ],
         "matches": "x",
         "showticklabels": false
        },
        "xaxis7": {
         "anchor": "y7",
         "domain": [
          0.51,
          0.745
         ],
         "matches": "x",
         "showticklabels": false
        },
        "xaxis8": {
         "anchor": "y8",
         "domain": [
          0.7649999999999999,
          0.9999999999999999
         ],
         "matches": "x",
         "showticklabels": false
        },
        "xaxis9": {
         "anchor": "y9",
         "domain": [
          0,
          0.235
         ],
         "matches": "x",
         "showticklabels": false
        },
        "yaxis": {
         "anchor": "x",
         "domain": [
          0,
          0.1075
         ],
         "title": {
          "text": ""
         }
        },
        "yaxis10": {
         "anchor": "x10",
         "domain": [
          0.255,
          0.3625
         ],
         "matches": "y",
         "showticklabels": false,
         "title": {
          "text": ""
         }
        },
        "yaxis11": {
         "anchor": "x11",
         "domain": [
          0.255,
          0.3625
         ],
         "matches": "y",
         "showticklabels": false,
         "title": {
          "text": ""
         }
        },
        "yaxis12": {
         "anchor": "x12",
         "domain": [
          0.255,
          0.3625
         ],
         "matches": "y",
         "showticklabels": false,
         "title": {
          "text": ""
         }
        },
        "yaxis13": {
         "anchor": "x13",
         "domain": [
          0.3825,
          0.49
         ],
         "matches": "y",
         "title": {
          "text": ""
         }
        },
        "yaxis14": {
         "anchor": "x14",
         "domain": [
          0.3825,
          0.49
         ],
         "matches": "y",
         "showticklabels": false,
         "title": {
          "text": ""
         }
        },
        "yaxis15": {
         "anchor": "x15",
         "domain": [
          0.3825,
          0.49
         ],
         "matches": "y",
         "showticklabels": false,
         "title": {
          "text": ""
         }
        },
        "yaxis16": {
         "anchor": "x16",
         "domain": [
          0.3825,
          0.49
         ],
         "matches": "y",
         "showticklabels": false,
         "title": {
          "text": ""
         }
        },
        "yaxis17": {
         "anchor": "x17",
         "domain": [
          0.51,
          0.6175
         ],
         "matches": "y",
         "title": {
          "text": ""
         }
        },
        "yaxis18": {
         "anchor": "x18",
         "domain": [
          0.51,
          0.6175
         ],
         "matches": "y",
         "showticklabels": false,
         "title": {
          "text": ""
         }
        },
        "yaxis19": {
         "anchor": "x19",
         "domain": [
          0.51,
          0.6175
         ],
         "matches": "y",
         "showticklabels": false,
         "title": {
          "text": ""
         }
        },
        "yaxis2": {
         "anchor": "x2",
         "domain": [
          0,
          0.1075
         ],
         "matches": "y",
         "showticklabels": false,
         "title": {
          "text": ""
         }
        },
        "yaxis20": {
         "anchor": "x20",
         "domain": [
          0.51,
          0.6175
         ],
         "matches": "y",
         "showticklabels": false,
         "title": {
          "text": ""
         }
        },
        "yaxis21": {
         "anchor": "x21",
         "domain": [
          0.6375,
          0.745
         ],
         "matches": "y",
         "title": {
          "text": ""
         }
        },
        "yaxis22": {
         "anchor": "x22",
         "domain": [
          0.6375,
          0.745
         ],
         "matches": "y",
         "showticklabels": false,
         "title": {
          "text": ""
         }
        },
        "yaxis23": {
         "anchor": "x23",
         "domain": [
          0.6375,
          0.745
         ],
         "matches": "y",
         "showticklabels": false,
         "title": {
          "text": ""
         }
        },
        "yaxis24": {
         "anchor": "x24",
         "domain": [
          0.6375,
          0.745
         ],
         "matches": "y",
         "showticklabels": false,
         "title": {
          "text": ""
         }
        },
        "yaxis25": {
         "anchor": "x25",
         "domain": [
          0.765,
          0.8725
         ],
         "matches": "y",
         "title": {
          "text": ""
         }
        },
        "yaxis26": {
         "anchor": "x26",
         "domain": [
          0.765,
          0.8725
         ],
         "matches": "y",
         "showticklabels": false,
         "title": {
          "text": ""
         }
        },
        "yaxis27": {
         "anchor": "x27",
         "domain": [
          0.765,
          0.8725
         ],
         "matches": "y",
         "showticklabels": false,
         "title": {
          "text": ""
         }
        },
        "yaxis28": {
         "anchor": "x28",
         "domain": [
          0.765,
          0.8725
         ],
         "matches": "y",
         "showticklabels": false,
         "title": {
          "text": ""
         }
        },
        "yaxis29": {
         "anchor": "x29",
         "domain": [
          0.8925000000000001,
          1
         ],
         "matches": "y",
         "title": {
          "text": ""
         }
        },
        "yaxis3": {
         "anchor": "x3",
         "domain": [
          0,
          0.1075
         ],
         "matches": "y",
         "showticklabels": false,
         "title": {
          "text": ""
         }
        },
        "yaxis30": {
         "anchor": "x30",
         "domain": [
          0.8925000000000001,
          1
         ],
         "matches": "y",
         "showticklabels": false,
         "title": {
          "text": ""
         }
        },
        "yaxis31": {
         "anchor": "x31",
         "domain": [
          0.8925000000000001,
          1
         ],
         "matches": "y",
         "showticklabels": false,
         "title": {
          "text": ""
         }
        },
        "yaxis32": {
         "anchor": "x32",
         "domain": [
          0.8925000000000001,
          1
         ],
         "matches": "y",
         "showticklabels": false,
         "title": {
          "text": ""
         }
        },
        "yaxis4": {
         "anchor": "x4",
         "domain": [
          0,
          0.1075
         ],
         "matches": "y",
         "showticklabels": false,
         "title": {
          "text": ""
         }
        },
        "yaxis5": {
         "anchor": "x5",
         "domain": [
          0.1275,
          0.235
         ],
         "matches": "y",
         "title": {
          "text": ""
         }
        },
        "yaxis6": {
         "anchor": "x6",
         "domain": [
          0.1275,
          0.235
         ],
         "matches": "y",
         "showticklabels": false,
         "title": {
          "text": ""
         }
        },
        "yaxis7": {
         "anchor": "x7",
         "domain": [
          0.1275,
          0.235
         ],
         "matches": "y",
         "showticklabels": false,
         "title": {
          "text": ""
         }
        },
        "yaxis8": {
         "anchor": "x8",
         "domain": [
          0.1275,
          0.235
         ],
         "matches": "y",
         "showticklabels": false,
         "title": {
          "text": ""
         }
        },
        "yaxis9": {
         "anchor": "x9",
         "domain": [
          0.255,
          0.3625
         ],
         "matches": "y",
         "title": {
          "text": ""
         }
        }
       }
      },
      "text/html": [
       "<div>                            <div id=\"903e8d56-be19-46af-a2eb-904546c6a5f4\" class=\"plotly-graph-div\" style=\"height:700px; width:800px;\"></div>            <script type=\"text/javascript\">                require([\"plotly\"], function(Plotly) {                    window.PLOTLYENV=window.PLOTLYENV || {};                                    if (document.getElementById(\"903e8d56-be19-46af-a2eb-904546c6a5f4\")) {                    Plotly.newPlot(                        \"903e8d56-be19-46af-a2eb-904546c6a5f4\",                        [{\"hovertemplate\":\"subjectID=20<br>time=%{x}<br>mt_pseudotime=%{y}<extra></extra>\",\"legendgroup\":\"\",\"line\":{\"color\":\"rgb(76,114,176)\",\"dash\":\"solid\"},\"mode\":\"lines\",\"name\":\"\",\"orientation\":\"v\",\"showlegend\":false,\"type\":\"scatter\",\"x\":[1,5,26,8,12,33,96,19,92,99,22,29,36,40,43,47,50,57,61,71,103,106,64,68,75,78,82,85,89],\"xaxis\":\"x29\",\"y\":[0.6411687135696411,0.4349069595336914,0.4349069595336914,0.3661706447601318,0.3661706447601318,0.3661706447601318,0.3661706447601318,0.282631516456604,0.282631516456604,0.282631516456604,0.1097342967987061,0.9442244172096252,0.2401484251022339,null,null,null,0.27245032787323,0.2690752744674683,0.2598756551742554,0.2598756551742554,0.2598756551742554,0.2598756551742554,0.2493546009063721,null,0.262010931968689,0.262010931968689,0.6654341220855713,0.8456554412841797,null],\"yaxis\":\"y29\"},{\"hovertemplate\":\"subjectID=21<br>time=%{x}<br>mt_pseudotime=%{y}<extra></extra>\",\"legendgroup\":\"\",\"line\":{\"color\":\"rgb(76,114,176)\",\"dash\":\"solid\"},\"mode\":\"lines\",\"name\":\"\",\"orientation\":\"v\",\"showlegend\":false,\"type\":\"scatter\",\"x\":[107,57,79,22,29,61,83,86,90,104,111,64,15,19,40,76,72,43,54,93,97,26,5,1,100,12,50,36,8,33],\"xaxis\":\"x30\",\"y\":[0.6411687135696411,0.4349069595336914,0.4349069595336914,0.3661706447601318,0.3661706447601318,0.3661706447601318,0.3661706447601318,0.3661706447601318,0.3661706447601318,0.3661706447601318,0.3661706447601318,0.2401484251022339,null,null,0.27245032787323,0.27245032787323,0.2598756551742554,0.262010931968689,0.262010931968689,0.262010931968689,0.262010931968689,null,0.4575515985488892,0.3302075266838074,0.3302075266838074,0.2400784492492676,0.2400784492492676,0.7705563902854919,0.09192442893981934,0.8566378355026245],\"yaxis\":\"y30\"},{\"hovertemplate\":\"subjectID=11<br>time=%{x}<br>mt_pseudotime=%{y}<extra></extra>\",\"legendgroup\":\"\",\"line\":{\"color\":\"rgb(76,114,176)\",\"dash\":\"solid\"},\"mode\":\"lines\",\"name\":\"\",\"orientation\":\"v\",\"showlegend\":false,\"type\":\"scatter\",\"x\":[99,85,19,26,40,12,15,33,47,57,50,61,64,68,75,106,110,1,5,8,92,22,29,43,54,71,78,103,82,89,96],\"xaxis\":\"x31\",\"y\":[0.4349069595336914,0.2401484251022339,0.2690752744674683,0.2598756551742554,0.2598756551742554,0.262010931968689,0.262010931968689,0.6944100856781006,0.6944100856781006,0.6944100856781006,0.9847783446311951,0.9847783446311951,0.9847783446311951,0.9847783446311951,0.9847783446311951,0.9847783446311951,0.9847783446311951,null,0.5099396109580994,0.2504851222038269,0.2504851222038269,0.2630480527877808,0.3523566722869873,0.4975216388702393,0.4975216388702393,0.8325881361961365,0.8325881361961365,0.8325881361961365,0.3796529173851013,0.4619441628456116,0.2761101126670837],\"yaxis\":\"y31\"},{\"hovertemplate\":\"subjectID=17<br>time=%{x}<br>mt_pseudotime=%{y}<extra></extra>\",\"legendgroup\":\"\",\"line\":{\"color\":\"rgb(76,114,176)\",\"dash\":\"solid\"},\"mode\":\"lines\",\"name\":\"\",\"orientation\":\"v\",\"showlegend\":false,\"type\":\"scatter\",\"x\":[82,1,8,29,85,61,12,50,71,33,36,96,99,92,94,43,64,5,15,22,26,47,68,106,54,75,103,110],\"xaxis\":\"x32\",\"y\":[0.4349069595336914,0.3661706447601318,0.3661706447601318,0.3661706447601318,0.6654341220855713,0.9847783446311951,0.3523566722869873,0.3523566722869873,0.3523566722869873,0.2761101126670837,0.2761101126670837,0.2761101126670837,0.2761101126670837,0.9108473062515259,0.9108473062515259,0.4575515985488892,0.9899440407752991,0.3984122276306152,0.2953194379806519,0.2953194379806519,0.2953194379806519,0.2953194379806519,0.2953194379806519,0.2953194379806519,0.917597770690918,0.3349648714065552,0.294378399848938,0.294378399848938],\"yaxis\":\"y32\"},{\"hovertemplate\":\"subjectID=12<br>time=%{x}<br>mt_pseudotime=%{y}<extra></extra>\",\"legendgroup\":\"\",\"line\":{\"color\":\"rgb(76,114,176)\",\"dash\":\"solid\"},\"mode\":\"lines\",\"name\":\"\",\"orientation\":\"v\",\"showlegend\":false,\"type\":\"scatter\",\"x\":[22,40,68,85,89,47,92,75,103,110,78,82,1,29,99,5,8,12,61,15,19,36,43,50,54,57,64,106],\"xaxis\":\"x25\",\"y\":[0.3661706447601318,0.3661706447601318,0.3661706447601318,0.3661706447601318,0.3661706447601318,0.6654341220855713,0.6654341220855713,0.6944100856781006,0.9847783446311951,0.9847783446311951,0.4975216388702393,0.3796529173851013,0.9108473062515259,0.9108473062515259,0.9108473062515259,0.9615234136581421,0.4575515985488892,0.3226763606071472,0.3226763606071472,0.2344281673431396,0.221490740776062,0.6301007270812988,0.9501603245735168,0.9328565001487732,0.2743305563926697,0.07051962614059448,0.3518527150154114,0.9856137633323669],\"yaxis\":\"y25\"},{\"hovertemplate\":\"subjectID=13<br>time=%{x}<br>mt_pseudotime=%{y}<extra></extra>\",\"legendgroup\":\"\",\"line\":{\"color\":\"rgb(76,114,176)\",\"dash\":\"solid\"},\"mode\":\"lines\",\"name\":\"\",\"orientation\":\"v\",\"showlegend\":false,\"type\":\"scatter\",\"x\":[12,82,47,54,68,79,89,96,50,92,8,15,19,5,106,1,22,26,40,64,29,33,36,43,61,71,85,100,103],\"xaxis\":\"x26\",\"y\":[0.3661706447601318,0.282631516456604,0.8571332693099976,0.8571332693099976,0.232918381690979,null,null,null,0.8325881361961365,0.8325881361961365,0.4619441628456116,0.4619441628456116,0.4619441628456116,0.3226763606071472,0.6301007270812988,0.2306427955627441,0.3977048397064209,0.3977048397064209,0.3977048397064209,0.3977048397064209,0.2519773244857788,0.2519773244857788,0.2519773244857788,0.2519773244857788,0.2845251560211182,0.2878804802894592,null,null,0.9295538663864136],\"yaxis\":\"y26\"},{\"hovertemplate\":\"subjectID=1<br>time=%{x}<br>mt_pseudotime=%{y}<extra></extra>\",\"legendgroup\":\"\",\"line\":{\"color\":\"rgb(76,114,176)\",\"dash\":\"solid\"},\"mode\":\"lines\",\"name\":\"\",\"orientation\":\"v\",\"showlegend\":false,\"type\":\"scatter\",\"x\":[57,48,106,108,8,13,15,36,50,55,64,71,76,78,83,97,99,104,90,43,20,85,6,41,69,35,1,29,62],\"xaxis\":\"x27\",\"y\":[0.3661706447601318,0.8571332693099976,0.8571332693099976,0.8571332693099976,0.9847783446311951,0.9847783446311951,0.9847783446311951,0.9847783446311951,0.9847783446311951,0.9847783446311951,0.9847783446311951,0.9847783446311951,0.9847783446311951,0.9847783446311951,0.9847783446311951,0.9847783446311951,0.9847783446311951,0.9847783446311951,null,0.5099396109580994,0.8325881361961365,0.6301007270812988,0.9856137633323669,0.9856137633323669,0.9856137633323669,0.9672801494598389,0.2866359949111938,null,0.9882131814956665],\"yaxis\":\"y27\"},{\"hovertemplate\":\"subjectID=14<br>time=%{x}<br>mt_pseudotime=%{y}<extra></extra>\",\"legendgroup\":\"\",\"line\":{\"color\":\"rgb(76,114,176)\",\"dash\":\"solid\"},\"mode\":\"lines\",\"name\":\"\",\"orientation\":\"v\",\"showlegend\":false,\"type\":\"scatter\",\"x\":[12,85,92,96,106,110,8,22,1,5,15,19,26,29,43,50,64,89,103,47,54,68,82,57,61,75,71,78],\"xaxis\":\"x28\",\"y\":[0.3661706447601318,0.3661706447601318,0.3661706447601318,0.3661706447601318,0.3661706447601318,0.3661706447601318,0.7339422702789307,0.3226763606071472,0.9037297368049622,0.3302075266838074,0.2400784492492676,0.2400784492492676,0.2400784492492676,0.2400784492492676,0.2400784492492676,0.2400784492492676,0.2400784492492676,0.2400784492492676,0.2400784492492676,0.1127375960350037,0.1127375960350037,0.1127375960350037,0.1127375960350037,0.1091346740722656,0.1091346740722656,0.1091346740722656,0.0143362283706665,0.1723558902740479],\"yaxis\":\"y28\"},{\"hovertemplate\":\"subjectID=18<br>time=%{x}<br>mt_pseudotime=%{y}<extra></extra>\",\"legendgroup\":\"\",\"line\":{\"color\":\"rgb(76,114,176)\",\"dash\":\"solid\"},\"mode\":\"lines\",\"name\":\"\",\"orientation\":\"v\",\"showlegend\":false,\"type\":\"scatter\",\"x\":[36,54,61,71,75,85,92,106,57,40,43,82,110,5,15,26,47,50,64,78,89,99,103,19,1,12,22,8,29,33,96],\"xaxis\":\"x21\",\"y\":[0.3661706447601318,0.3661706447601318,0.3661706447601318,0.3661706447601318,0.3661706447601318,0.3661706447601318,0.3661706447601318,0.3661706447601318,0.6654341220855713,0.4575515985488892,0.4575515985488892,0.3226763606071472,0.3977048397064209,0.2400784492492676,0.2400784492492676,0.2400784492492676,0.2400784492492676,0.2400784492492676,0.2400784492492676,0.2400784492492676,0.2400784492492676,0.2400784492492676,0.2400784492492676,0.0143362283706665,0.02359592914581299,0.02359592914581299,0.02359592914581299,0.7412224411964417,0.502534031867981,0.4906532764434814,0.4364956617355347],\"yaxis\":\"y21\"},{\"hovertemplate\":\"subjectID=15<br>time=%{x}<br>mt_pseudotime=%{y}<extra></extra>\",\"legendgroup\":\"\",\"line\":{\"color\":\"rgb(76,114,176)\",\"dash\":\"solid\"},\"mode\":\"lines\",\"name\":\"\",\"orientation\":\"v\",\"showlegend\":false,\"type\":\"scatter\",\"x\":[8,5,12,50,110,57,61,85,89,92,26,68,1,82,106,33,78,96,64,36,40,15,71,75,22,43,47,99,103],\"xaxis\":\"x22\",\"y\":[0.3661706447601318,0.2401484251022339,0.2401484251022339,0.2401484251022339,0.2401484251022339,null,null,0.27245032787323,0.2690752744674683,0.2690752744674683,0.2598756551742554,0.2598756551742554,0.2493546009063721,0.2493546009063721,0.2493546009063721,null,0.2538706064224243,0.2630480527877808,0.4975216388702393,0.4619441628456116,0.4619441628456116,0.1723558902740479,0.5964940786361694,0.02359592914581299,null,0.2246870994567871,0.2246870994567871,0.2246870994567871,0.2246870994567871],\"yaxis\":\"y22\"},{\"hovertemplate\":\"subjectID=19<br>time=%{x}<br>mt_pseudotime=%{y}<extra></extra>\",\"legendgroup\":\"\",\"line\":{\"color\":\"rgb(76,114,176)\",\"dash\":\"solid\"},\"mode\":\"lines\",\"name\":\"\",\"orientation\":\"v\",\"showlegend\":false,\"type\":\"scatter\",\"x\":[19,31,36,75,96,99,108,103,85,6,57,92,106,29,40,43,78,22,8,12,15,33,38,47,50,61,71,89,82,1,54,26,64],\"xaxis\":\"x23\",\"y\":[0.3661706447601318,0.3661706447601318,0.3661706447601318,0.3661706447601318,0.3661706447601318,0.3661706447601318,0.6654341220855713,0.232918381690979,0.4575515985488892,0.221490740776062,0.221490740776062,0.221490740776062,0.6301007270812988,0.3518527150154114,0.2306427955627441,0.2306427955627441,0.2306427955627441,0.2845251560211182,0.2400784492492676,0.2400784492492676,0.2400784492492676,0.2400784492492676,0.2400784492492676,0.2400784492492676,0.2400784492492676,0.2400784492492676,0.2400784492492676,0.2400784492492676,0.1723558902740479,0.5966441631317139,0.5966441631317139,0.5535305738449097,0.03441989421844482],\"yaxis\":\"y23\"},{\"hovertemplate\":\"subjectID=16<br>time=%{x}<br>mt_pseudotime=%{y}<extra></extra>\",\"legendgroup\":\"\",\"line\":{\"color\":\"rgb(76,114,176)\",\"dash\":\"solid\"},\"mode\":\"lines\",\"name\":\"\",\"orientation\":\"v\",\"showlegend\":false,\"type\":\"scatter\",\"x\":[57,94,110,106,19,92,33,47,50,54,61,96,1,29,43,26,5,8,36,40,12,15,78,82,85,103,89,75,22],\"xaxis\":\"x24\",\"y\":[0.3661706447601318,0.3661706447601318,0.3661706447601318,0.282631516456604,null,0.27245032787323,0.2598756551742554,0.2598756551742554,0.2598756551742554,0.2598756551742554,0.2598756551742554,0.2598756551742554,null,0.262010931968689,0.262010931968689,null,null,null,null,0.2630480527877808,0.3523566722869873,0.3523566722869873,0.3523566722869873,0.3523566722869873,0.3523566722869873,0.3523566722869873,0.2953194379806519,0.294378399848938,null],\"yaxis\":\"y24\"},{\"hovertemplate\":\"subjectID=10<br>time=%{x}<br>mt_pseudotime=%{y}<extra></extra>\",\"legendgroup\":\"\",\"line\":{\"color\":\"rgb(76,114,176)\",\"dash\":\"solid\"},\"mode\":\"lines\",\"name\":\"\",\"orientation\":\"v\",\"showlegend\":false,\"type\":\"scatter\",\"x\":[50,36,1,8,22,5,19,26,12,15,33,29,40,43,47,54,57,96,61,78,89,106,110,64,68,71,75,92,85,99],\"xaxis\":\"x17\",\"y\":[null,null,0.27245032787323,null,0.262010931968689,null,null,null,null,null,null,0.2538706064224243,null,null,0.7339422702789307,null,0.6944100856781006,0.6944100856781006,0.8571332693099976,0.8571332693099976,0.8571332693099976,0.8571332693099976,0.8571332693099976,0.9847783446311951,0.9847783446311951,0.9847783446311951,0.9847783446311951,0.9847783446311951,0.9304115772247314,0.9164401888847351],\"yaxis\":\"y17\"},{\"hovertemplate\":\"subjectID=29<br>time=%{x}<br>mt_pseudotime=%{y}<extra></extra>\",\"legendgroup\":\"\",\"line\":{\"color\":\"rgb(76,114,176)\",\"dash\":\"solid\"},\"mode\":\"lines\",\"name\":\"\",\"orientation\":\"v\",\"showlegend\":false,\"type\":\"scatter\",\"x\":[12,19,26,47,61,5,8,22,64,99,106,1,50,15,41,43,71,75,85,29,33,89,92,36,54,57,69,78,110,82,103],\"xaxis\":\"x18\",\"y\":[null,0.2152771949768066,0.2152771949768066,0.2152771949768066,0.2152771949768066,0.2399383783340454,0.2399383783340454,0.2399383783340454,0.2399383783340454,0.2399383783340454,0.2399383783340454,0.360440731048584,0.360440731048584,0.2245948910713196,0.2245948910713196,0.2245948910713196,0.2245948910713196,0.2245948910713196,0.2245948910713196,0.481661856174469,0.3644739389419556,0.3644739389419556,0.3644739389419556,0.4133042097091675,0.3621440529823303,0.3268196582794189,0.4851283431053162,0.3685682415962219,0.3685682415962219,0.4537988901138306,0.3534717559814453],\"yaxis\":\"y18\"},{\"hovertemplate\":\"subjectID=31<br>time=%{x}<br>mt_pseudotime=%{y}<extra></extra>\",\"legendgroup\":\"\",\"line\":{\"color\":\"rgb(76,114,176)\",\"dash\":\"solid\"},\"mode\":\"lines\",\"name\":\"\",\"orientation\":\"v\",\"showlegend\":false,\"type\":\"scatter\",\"x\":[12,50,92,1,22,57,99,106,96,43,29,33,85,8,15,19,26,36,40,47,54,64,68,71,75,82,89,103,110],\"xaxis\":\"x19\",\"y\":[0.6654341220855713,0.3911725878715515,0.6282166242599487,0.360440731048584,0.2245948910713196,0.4133042097091675,0.3621440529823303,0.4851283431053162,0.4537988901138306,null,0.5797845125198364,0.5797845125198364,0.5797845125198364,0.5331777334213257,null,0.5066603422164917,0.3250495195388794,0.5881200432777405,null,0.514268159866333,0.4133954644203186,null,0.5898922681808472,0.4631807804107666,0.4739229679107666,0.5211609601974487,0.5963584184646606,0.3500816226005554,null],\"yaxis\":\"y19\"},{\"hovertemplate\":\"subjectID=25<br>time=%{x}<br>mt_pseudotime=%{y}<extra></extra>\",\"legendgroup\":\"\",\"line\":{\"color\":\"rgb(76,114,176)\",\"dash\":\"solid\"},\"mode\":\"lines\",\"name\":\"\",\"orientation\":\"v\",\"showlegend\":false,\"type\":\"scatter\",\"x\":[22,57,61,85,92,96,26,8,12,15,19,29,43,54,68,75,83,99,103,1,47,78,106,110,5,33,36,40,50,64,71,89],\"xaxis\":\"x20\",\"y\":[0.6654341220855713,0.6654341220855713,0.6654341220855713,0.6654341220855713,0.6654341220855713,0.6654341220855713,0.8946021199226379,0.8522374033927917,0.8522374033927917,0.8522374033927917,0.8522374033927917,0.8522374033927917,0.8522374033927917,0.8522374033927917,0.8522374033927917,0.8522374033927917,0.8522374033927917,0.8522374033927917,0.8522374033927917,0.6282166242599487,0.6282166242599487,0.6282166242599487,0.6282166242599487,0.6282166242599487,0.5605032444000244,null,null,null,0.6776688098907471,0.7155181765556335,0.8983145356178284,null],\"yaxis\":\"y20\"},{\"hovertemplate\":\"subjectID=23<br>time=%{x}<br>mt_pseudotime=%{y}<extra></extra>\",\"legendgroup\":\"\",\"line\":{\"color\":\"rgb(76,114,176)\",\"dash\":\"solid\"},\"mode\":\"lines\",\"name\":\"\",\"orientation\":\"v\",\"showlegend\":false,\"type\":\"scatter\",\"x\":[36,54,1,5,8,26,29,48,61,64,78,82,85,110,12,15,19,40,50,71,99,22,42,33,57,89,96,103],\"xaxis\":\"x13\",\"y\":[0.7339422702789307,0.7339422702789307,0.6697742938995361,0.6697742938995361,0.6697742938995361,0.6697742938995361,0.6697742938995361,0.6697742938995361,0.6697742938995361,0.6697742938995361,0.6697742938995361,0.6697742938995361,0.6697742938995361,0.6697742938995361,0.6415138244628906,0.6415138244628906,0.6415138244628906,0.6415138244628906,0.6415138244628906,0.6415138244628906,0.8257339596748352,0.5977327227592468,0.5977327227592468,0.6253159642219543,0.5309501886367798,0.7931357622146606,0.7621912360191345,0.8343095183372498],\"yaxis\":\"y13\"},{\"hovertemplate\":\"subjectID=27<br>time=%{x}<br>mt_pseudotime=%{y}<extra></extra>\",\"legendgroup\":\"\",\"line\":{\"color\":\"rgb(76,114,176)\",\"dash\":\"solid\"},\"mode\":\"lines\",\"name\":\"\",\"orientation\":\"v\",\"showlegend\":false,\"type\":\"scatter\",\"x\":[8,96,103,33,54,89,22,29,36,61,71,1,5,12,15,19,26,40,43,47,82,50,92,64,68,75,78,85],\"xaxis\":\"x14\",\"y\":[0.6944100856781006,0.4857938289642334,0.2399383783340454,null,null,null,null,null,0.6301007270812988,null,null,0.9702640771865845,0.9883174300193787,0.3793215751647949,null,0.4436368942260742,null,0.6373237371444702,null,0.7705563902854919,0.7705563902854919,0.5797845125198364,0.5797845125198364,null,null,0.9250571131706238,0.917554497718811,0.5964940786361694],\"yaxis\":\"y14\"},{\"hovertemplate\":\"subjectID=8<br>time=%{x}<br>mt_pseudotime=%{y}<extra></extra>\",\"legendgroup\":\"\",\"line\":{\"color\":\"rgb(76,114,176)\",\"dash\":\"solid\"},\"mode\":\"lines\",\"name\":\"\",\"orientation\":\"v\",\"showlegend\":false,\"type\":\"scatter\",\"x\":[26,1,5,54,8,36,64,96,99,103,12,40,43,106,23,85,19,57,78,15,29,75,33,61,68,89,92,47,50,71,82,110],\"xaxis\":\"x15\",\"y\":[0.6944100856781006,0.8571332693099976,0.8571332693099976,0.8571332693099976,0.9847783446311951,0.9847783446311951,0.9847783446311951,0.9847783446311951,0.9847783446311951,0.9847783446311951,0.9164401888847351,0.9164401888847351,0.9164401888847351,0.9164401888847351,0.9501603245735168,0.9856137633323669,0.9892255663871765,0.7705563902854919,0.917554497718811,0.9480988383293152,0.8621475100517273,0.8621475100517273,0.9899440407752991,0.9899440407752991,0.9899440407752991,0.9899440407752991,0.9899440407752991,0.9871427416801453,0.9871427416801453,0.9478358626365662,0.9786516427993774,0.9786516427993774],\"yaxis\":\"y15\"},{\"hovertemplate\":\"subjectID=2<br>time=%{x}<br>mt_pseudotime=%{y}<extra></extra>\",\"legendgroup\":\"\",\"line\":{\"color\":\"rgb(76,114,176)\",\"dash\":\"solid\"},\"mode\":\"lines\",\"name\":\"\",\"orientation\":\"v\",\"showlegend\":false,\"type\":\"scatter\",\"x\":[36,69,97,106,5,15,19,34,47,50,54,57,61,64,71,75,78,89,99,110,40,8,22,92,29,26,1,85,103,12],\"xaxis\":\"x16\",\"y\":[0.6944100856781006,0.8571332693099976,0.8571332693099976,0.8571332693099976,0.9847783446311951,0.9847783446311951,0.9847783446311951,0.9847783446311951,0.9847783446311951,0.9847783446311951,0.9847783446311951,0.9847783446311951,0.9847783446311951,0.9847783446311951,0.9847783446311951,0.9847783446311951,0.9847783446311951,0.9847783446311951,0.9847783446311951,0.9847783446311951,0.9164401888847351,0.5099396109580994,0.5099396109580994,0.5099396109580994,0.4975216388702393,0.8325881361961365,0.9856137633323669,0.6373237371444702,0.9899440407752991,0.8935299515724182],\"yaxis\":\"y16\"},{\"hovertemplate\":\"subjectID=9<br>time=%{x}<br>mt_pseudotime=%{y}<extra></extra>\",\"legendgroup\":\"\",\"line\":{\"color\":\"rgb(76,114,176)\",\"dash\":\"solid\"},\"mode\":\"lines\",\"name\":\"\",\"orientation\":\"v\",\"showlegend\":false,\"type\":\"scatter\",\"x\":[4,39,1,18,22,29,32,36,46,50,53,57,64,67,71,74,88,92,95,99,85,81,78,25,60],\"xaxis\":\"x9\",\"y\":[0.8571332693099976,0.8571332693099976,0.9847783446311951,0.9847783446311951,0.9847783446311951,0.9847783446311951,0.9847783446311951,0.9847783446311951,0.9847783446311951,0.9847783446311951,0.9847783446311951,0.9847783446311951,0.9847783446311951,0.9847783446311951,0.9847783446311951,0.9847783446311951,0.9847783446311951,0.9847783446311951,0.9847783446311951,0.9847783446311951,0.5099396109580994,0.6301007270812988,0.9856137633323669,0.9528641104698181,0.9528641104698181],\"yaxis\":\"y9\"},{\"hovertemplate\":\"subjectID=7<br>time=%{x}<br>mt_pseudotime=%{y}<extra></extra>\",\"legendgroup\":\"\",\"line\":{\"color\":\"rgb(76,114,176)\",\"dash\":\"solid\"},\"mode\":\"lines\",\"name\":\"\",\"orientation\":\"v\",\"showlegend\":false,\"type\":\"scatter\",\"x\":[40,93,13,15,54,57,61,64,68,75,85,103,43,26,33,36,78,96,99,19,22,89,106,5,1,29,52],\"xaxis\":\"x10\",\"y\":[0.8571332693099976,0.8571332693099976,0.9847783446311951,0.9847783446311951,0.9847783446311951,0.9847783446311951,0.9847783446311951,0.9847783446311951,0.9847783446311951,0.9847783446311951,0.9847783446311951,0.9847783446311951,0.9328565001487732,0.9856137633323669,0.9856137633323669,0.9856137633323669,0.9856137633323669,0.9856137633323669,0.9856137633323669,0.9892255663871765,0.9892255663871765,0.9892255663871765,0.9250571131706238,0.9478358626365662,0.7412224411964417,0.83652663230896,0.9626392722129822],\"yaxis\":\"y10\"},{\"hovertemplate\":\"subjectID=5<br>time=%{x}<br>mt_pseudotime=%{y}<extra></extra>\",\"legendgroup\":\"\",\"line\":{\"color\":\"rgb(76,114,176)\",\"dash\":\"solid\"},\"mode\":\"lines\",\"name\":\"\",\"orientation\":\"v\",\"showlegend\":false,\"type\":\"scatter\",\"x\":[12,15,26,29,36,40,43,103,99,2,8,19,50,68,75,90,92,1,85,6,47,57,61,78,82,33,54,71,96],\"xaxis\":\"x11\",\"y\":[0.9847783446311951,0.9847783446311951,0.9847783446311951,0.9847783446311951,0.9847783446311951,0.9847783446311951,0.9847783446311951,0.9847783446311951,0.9328565001487732,0.9856137633323669,0.9856137633323669,0.9856137633323669,0.9856137633323669,0.9856137633323669,0.9856137633323669,0.9856137633323669,0.9856137633323669,0.9528641104698181,0.9528641104698181,0.9892255663871765,0.9892255663871765,0.9892255663871765,0.9892255663871765,0.9892255663871765,0.9892255663871765,0.9672801494598389,0.6392096877098083,0.985307514667511,0.9839872717857361],\"yaxis\":\"y11\"},{\"hovertemplate\":\"subjectID=6<br>time=%{x}<br>mt_pseudotime=%{y}<extra></extra>\",\"legendgroup\":\"\",\"line\":{\"color\":\"rgb(76,114,176)\",\"dash\":\"solid\"},\"mode\":\"lines\",\"name\":\"\",\"orientation\":\"v\",\"showlegend\":false,\"type\":\"scatter\",\"x\":[4,25,29,18,32,43,78,92,99,39,57,60,85,95,102,1,11,15,46,53,74,106,8,36,67,71,64],\"xaxis\":\"x12\",\"y\":[0.9847783446311951,0.9856137633323669,0.9856137633323669,0.9892255663871765,0.9892255663871765,0.9892255663871765,0.9892255663871765,0.9892255663871765,0.9892255663871765,0.9882131814956665,0.9882131814956665,0.9882131814956665,0.9882131814956665,0.9882131814956665,0.9882131814956665,0.9899440407752991,0.9899440407752991,0.9899440407752991,0.9899440407752991,0.9899440407752991,0.9899440407752991,0.9899440407752991,0.9871427416801453,0.9478358626365662,0.9478358626365662,0.9478358626365662,0.9701946973800659],\"yaxis\":\"y12\"},{\"hovertemplate\":\"subjectID=4<br>time=%{x}<br>mt_pseudotime=%{y}<extra></extra>\",\"legendgroup\":\"\",\"line\":{\"color\":\"rgb(76,114,176)\",\"dash\":\"solid\"},\"mode\":\"lines\",\"name\":\"\",\"orientation\":\"v\",\"showlegend\":false,\"type\":\"scatter\",\"x\":[5,8,19,22,26,29,50,64,68,71,75,78,82,84,89,103,105,15,36,43,47,33,1,40,12,54,92],\"xaxis\":\"x5\",\"y\":[0.9847783446311951,0.9847783446311951,0.9847783446311951,0.9847783446311951,0.9847783446311951,0.9847783446311951,0.9847783446311951,0.9847783446311951,0.9847783446311951,0.9847783446311951,0.9847783446311951,0.9847783446311951,0.9847783446311951,0.9847783446311951,0.9847783446311951,0.9847783446311951,0.9847783446311951,0.9856137633323669,0.9856137633323669,0.9892255663871765,0.9892255663871765,0.9672801494598389,0.9882131814956665,0.9882131814956665,0.9899440407752991,0.9871427416801453,0.9701946973800659],\"yaxis\":\"y5\"},{\"hovertemplate\":\"subjectID=30<br>time=%{x}<br>mt_pseudotime=%{y}<extra></extra>\",\"legendgroup\":\"\",\"line\":{\"color\":\"rgb(76,114,176)\",\"dash\":\"solid\"},\"mode\":\"lines\",\"name\":\"\",\"orientation\":\"v\",\"showlegend\":false,\"type\":\"scatter\",\"x\":[96,103,61,19,8,12,88,6,110,89,54,68,22,71,35,26,29,37,79,64,1,40,16,43,82,85,92,100,107],\"xaxis\":\"x6\",\"y\":[0.9847783446311951,0.9847783446311951,0.5990453958511353,0.3229622840881348,0.5282155275344849,0.3911725878715515,0.3911725878715515,null,null,null,null,0.360440731048584,0.2245948910713196,0.2245948910713196,0.3621440529823303,0.3685682415962219,0.3534717559814453,0.3534717559814453,0.3534717559814453,0.4436368942260742,0.5797845125198364,0.4739229679107666,0.3500816226005554,0.3500816226005554,0.477703332901001,0.8541720509529114,0.4823392629623413,null,null],\"yaxis\":\"y6\"},{\"hovertemplate\":\"subjectID=3<br>time=%{x}<br>mt_pseudotime=%{y}<extra></extra>\",\"legendgroup\":\"\",\"line\":{\"color\":\"rgb(76,114,176)\",\"dash\":\"solid\"},\"mode\":\"lines\",\"name\":\"\",\"orientation\":\"v\",\"showlegend\":false,\"type\":\"scatter\",\"x\":[5,8,12,15,19,22,26,29,33,36,40,43,50,54,57,61,64,71,75,78,82,85,89,90,99,106,110,1,68,96],\"xaxis\":\"x7\",\"y\":[0.9847783446311951,0.9847783446311951,0.9847783446311951,0.9847783446311951,0.9847783446311951,0.9847783446311951,0.9847783446311951,0.9847783446311951,0.9847783446311951,0.9847783446311951,0.9847783446311951,0.9847783446311951,0.9847783446311951,0.9847783446311951,0.9847783446311951,0.9847783446311951,0.9847783446311951,0.9847783446311951,0.9847783446311951,0.9847783446311951,0.9847783446311951,0.9847783446311951,0.9847783446311951,0.9847783446311951,0.9847783446311951,0.9847783446311951,0.9847783446311951,0.9673410654067993,0.9821034669876099,0.9693013429641724],\"yaxis\":\"y7\"},{\"hovertemplate\":\"subjectID=22<br>time=%{x}<br>mt_pseudotime=%{y}<extra></extra>\",\"legendgroup\":\"\",\"line\":{\"color\":\"rgb(76,114,176)\",\"dash\":\"solid\"},\"mode\":\"lines\",\"name\":\"\",\"orientation\":\"v\",\"showlegend\":false,\"type\":\"scatter\",\"x\":[1,12,15,19,22,26,29,46,49,53,56,63,67,70,74,84,95,5,42,60,81,33,35,39,88,91,98,101,77,105,109],\"xaxis\":\"x8\",\"y\":[0.6697742938995361,0.6697742938995361,0.6697742938995361,0.6697742938995361,0.6697742938995361,0.6697742938995361,0.6697742938995361,0.6697742938995361,0.6697742938995361,0.6697742938995361,0.6697742938995361,0.6697742938995361,0.6697742938995361,0.6697742938995361,0.6697742938995361,0.6697742938995361,0.6697742938995361,0.7611137628555298,0.7611137628555298,0.7611137628555298,0.7611137628555298,0.6415138244628906,0.6415138244628906,0.6415138244628906,0.6415138244628906,0.6415138244628906,0.6415138244628906,0.6415138244628906,0.8257339596748352,0.8946021199226379,0.8946021199226379],\"yaxis\":\"y8\"},{\"hovertemplate\":\"subjectID=24<br>time=%{x}<br>mt_pseudotime=%{y}<extra></extra>\",\"legendgroup\":\"\",\"line\":{\"color\":\"rgb(76,114,176)\",\"dash\":\"solid\"},\"mode\":\"lines\",\"name\":\"\",\"orientation\":\"v\",\"showlegend\":false,\"type\":\"scatter\",\"x\":[33,85,1,43,92,19,36,78,8,15,22,26,29,47,50,54,57,103,106,110,65,61,12,40,82,96,99,89],\"xaxis\":\"x\",\"y\":[0.8257339596748352,0.8257339596748352,0.6282166242599487,0.6282166242599487,0.6282166242599487,0.530521810054779,0.5605032444000244,0.5605032444000244,0.478721559047699,0.478721559047699,0.478721559047699,0.478721559047699,0.478721559047699,0.478721559047699,0.478721559047699,0.478721559047699,0.478721559047699,0.478721559047699,0.478721559047699,0.478721559047699,0.8521263599395752,0.9250571131706238,0.5583375692367554,0.5583375692367554,0.5583375692367554,0.5583375692367554,0.5583375692367554,0.8257129192352295],\"yaxis\":\"y\"},{\"hovertemplate\":\"subjectID=26<br>time=%{x}<br>mt_pseudotime=%{y}<extra></extra>\",\"legendgroup\":\"\",\"line\":{\"color\":\"rgb(76,114,176)\",\"dash\":\"solid\"},\"mode\":\"lines\",\"name\":\"\",\"orientation\":\"v\",\"showlegend\":false,\"type\":\"scatter\",\"x\":[106,82,36,1,57,89,5,12,8,61,15,19,33,22,26,29,40,43,47,50,54,64,68,75,78,71,85,92,103,110],\"xaxis\":\"x2\",\"y\":[0.8946021199226379,0.5990453958511353,null,0.8522374033927917,0.8522374033927917,0.8522374033927917,0.916901171207428,0.916901171207428,0.6282166242599487,0.6282166242599487,0.530521810054779,0.5605032444000244,0.5605032444000244,0.3464263081550598,0.4607802629470825,0.478721559047699,0.232918381690979,null,null,null,null,0.5769237279891968,null,null,null,null,0.8521263599395752,0.8953598141670227,0.8953598141670227,0.915606677532196],\"yaxis\":\"y2\"},{\"hovertemplate\":\"subjectID=28<br>time=%{x}<br>mt_pseudotime=%{y}<extra></extra>\",\"legendgroup\":\"\",\"line\":{\"color\":\"rgb(76,114,176)\",\"dash\":\"solid\"},\"mode\":\"lines\",\"name\":\"\",\"orientation\":\"v\",\"showlegend\":false,\"type\":\"scatter\",\"x\":[1,8,33,50,68,99,106,111,5,12,19,82,15,22,78,26,29,89,36,57,85,96,40,64,43,47,71,75,103,54,61,92],\"xaxis\":\"x3\",\"y\":[0.4857938289642334,0.4857938289642334,0.4857938289642334,0.4857938289642334,0.4857938289642334,0.4857938289642334,0.4857938289642334,0.4857938289642334,0.5990453958511353,0.3229622840881348,0.3229622840881348,0.3229622840881348,0.2152771949768066,0.2152771949768066,0.2152771949768066,0.2052018642425537,0.5282155275344849,0.5282155275344849,0.3911725878715515,0.3911725878715515,0.3911725878715515,0.3911725878715515,null,null,0.5428323745727539,0.3677183985710144,0.3677183985710144,0.3677183985710144,0.3677183985710144,0.2399383783340454,0.3752960562705994,null],\"yaxis\":\"y3\"},{\"hovertemplate\":\"subjectID=32<br>time=%{x}<br>mt_pseudotime=%{y}<extra></extra>\",\"legendgroup\":\"\",\"line\":{\"color\":\"rgb(76,114,176)\",\"dash\":\"solid\"},\"mode\":\"lines\",\"name\":\"\",\"orientation\":\"v\",\"showlegend\":false,\"type\":\"scatter\",\"x\":[98,105,109,102,18,77,1,32,5,56,28,59,8,67,14,81,21,35,42,46,53,49,63,95,74,84,88,91],\"xaxis\":\"x4\",\"y\":[0.2152771949768066,0.2152771949768066,0.2152771949768066,0.2052018642425537,0.6282166242599487,0.530521810054779,0.5605032444000244,0.9108473062515259,0.9250571131706238,0.9478358626365662,0.917597770690918,0.5583375692367554,0.9303717613220215,0.9303717613220215,0.6840965151786804,0.6840965151786804,0.5725469589233398,0.9433797597885132,0.9724705815315247,0.8874986171722412,0.8874986171722412,0.8558571338653564,0.3651754856109619,0.3651754856109619,0.966052770614624,0.2514879107475281,0.2514879107475281,0.3674241900444031],\"yaxis\":\"y4\"}],                        {\"annotations\":[{\"font\":{},\"showarrow\":false,\"text\":\"subjectID=24\",\"x\":0.1175,\"xanchor\":\"center\",\"xref\":\"paper\",\"y\":0.1075,\"yanchor\":\"bottom\",\"yref\":\"paper\"},{\"font\":{},\"showarrow\":false,\"text\":\"subjectID=26\",\"x\":0.3725,\"xanchor\":\"center\",\"xref\":\"paper\",\"y\":0.1075,\"yanchor\":\"bottom\",\"yref\":\"paper\"},{\"font\":{},\"showarrow\":false,\"text\":\"subjectID=28\",\"x\":0.6275,\"xanchor\":\"center\",\"xref\":\"paper\",\"y\":0.1075,\"yanchor\":\"bottom\",\"yref\":\"paper\"},{\"font\":{},\"showarrow\":false,\"text\":\"subjectID=32\",\"x\":0.8824999999999998,\"xanchor\":\"center\",\"xref\":\"paper\",\"y\":0.1075,\"yanchor\":\"bottom\",\"yref\":\"paper\"},{\"font\":{},\"showarrow\":false,\"text\":\"subjectID=4\",\"x\":0.1175,\"xanchor\":\"center\",\"xref\":\"paper\",\"y\":0.235,\"yanchor\":\"bottom\",\"yref\":\"paper\"},{\"font\":{},\"showarrow\":false,\"text\":\"subjectID=30\",\"x\":0.3725,\"xanchor\":\"center\",\"xref\":\"paper\",\"y\":0.235,\"yanchor\":\"bottom\",\"yref\":\"paper\"},{\"font\":{},\"showarrow\":false,\"text\":\"subjectID=3\",\"x\":0.6275,\"xanchor\":\"center\",\"xref\":\"paper\",\"y\":0.235,\"yanchor\":\"bottom\",\"yref\":\"paper\"},{\"font\":{},\"showarrow\":false,\"text\":\"subjectID=22\",\"x\":0.8824999999999998,\"xanchor\":\"center\",\"xref\":\"paper\",\"y\":0.235,\"yanchor\":\"bottom\",\"yref\":\"paper\"},{\"font\":{},\"showarrow\":false,\"text\":\"subjectID=9\",\"x\":0.1175,\"xanchor\":\"center\",\"xref\":\"paper\",\"y\":0.3625,\"yanchor\":\"bottom\",\"yref\":\"paper\"},{\"font\":{},\"showarrow\":false,\"text\":\"subjectID=7\",\"x\":0.3725,\"xanchor\":\"center\",\"xref\":\"paper\",\"y\":0.3625,\"yanchor\":\"bottom\",\"yref\":\"paper\"},{\"font\":{},\"showarrow\":false,\"text\":\"subjectID=5\",\"x\":0.6275,\"xanchor\":\"center\",\"xref\":\"paper\",\"y\":0.3625,\"yanchor\":\"bottom\",\"yref\":\"paper\"},{\"font\":{},\"showarrow\":false,\"text\":\"subjectID=6\",\"x\":0.8824999999999998,\"xanchor\":\"center\",\"xref\":\"paper\",\"y\":0.3625,\"yanchor\":\"bottom\",\"yref\":\"paper\"},{\"font\":{},\"showarrow\":false,\"text\":\"subjectID=23\",\"x\":0.1175,\"xanchor\":\"center\",\"xref\":\"paper\",\"y\":0.49,\"yanchor\":\"bottom\",\"yref\":\"paper\"},{\"font\":{},\"showarrow\":false,\"text\":\"subjectID=27\",\"x\":0.3725,\"xanchor\":\"center\",\"xref\":\"paper\",\"y\":0.49,\"yanchor\":\"bottom\",\"yref\":\"paper\"},{\"font\":{},\"showarrow\":false,\"text\":\"subjectID=8\",\"x\":0.6275,\"xanchor\":\"center\",\"xref\":\"paper\",\"y\":0.49,\"yanchor\":\"bottom\",\"yref\":\"paper\"},{\"font\":{},\"showarrow\":false,\"text\":\"subjectID=2\",\"x\":0.8824999999999998,\"xanchor\":\"center\",\"xref\":\"paper\",\"y\":0.49,\"yanchor\":\"bottom\",\"yref\":\"paper\"},{\"font\":{},\"showarrow\":false,\"text\":\"subjectID=10\",\"x\":0.1175,\"xanchor\":\"center\",\"xref\":\"paper\",\"y\":0.6175,\"yanchor\":\"bottom\",\"yref\":\"paper\"},{\"font\":{},\"showarrow\":false,\"text\":\"subjectID=29\",\"x\":0.3725,\"xanchor\":\"center\",\"xref\":\"paper\",\"y\":0.6175,\"yanchor\":\"bottom\",\"yref\":\"paper\"},{\"font\":{},\"showarrow\":false,\"text\":\"subjectID=31\",\"x\":0.6275,\"xanchor\":\"center\",\"xref\":\"paper\",\"y\":0.6175,\"yanchor\":\"bottom\",\"yref\":\"paper\"},{\"font\":{},\"showarrow\":false,\"text\":\"subjectID=25\",\"x\":0.8824999999999998,\"xanchor\":\"center\",\"xref\":\"paper\",\"y\":0.6175,\"yanchor\":\"bottom\",\"yref\":\"paper\"},{\"font\":{},\"showarrow\":false,\"text\":\"subjectID=18\",\"x\":0.1175,\"xanchor\":\"center\",\"xref\":\"paper\",\"y\":0.745,\"yanchor\":\"bottom\",\"yref\":\"paper\"},{\"font\":{},\"showarrow\":false,\"text\":\"subjectID=15\",\"x\":0.3725,\"xanchor\":\"center\",\"xref\":\"paper\",\"y\":0.745,\"yanchor\":\"bottom\",\"yref\":\"paper\"},{\"font\":{},\"showarrow\":false,\"text\":\"subjectID=19\",\"x\":0.6275,\"xanchor\":\"center\",\"xref\":\"paper\",\"y\":0.745,\"yanchor\":\"bottom\",\"yref\":\"paper\"},{\"font\":{},\"showarrow\":false,\"text\":\"subjectID=16\",\"x\":0.8824999999999998,\"xanchor\":\"center\",\"xref\":\"paper\",\"y\":0.745,\"yanchor\":\"bottom\",\"yref\":\"paper\"},{\"font\":{},\"showarrow\":false,\"text\":\"subjectID=12\",\"x\":0.1175,\"xanchor\":\"center\",\"xref\":\"paper\",\"y\":0.8725,\"yanchor\":\"bottom\",\"yref\":\"paper\"},{\"font\":{},\"showarrow\":false,\"text\":\"subjectID=13\",\"x\":0.3725,\"xanchor\":\"center\",\"xref\":\"paper\",\"y\":0.8725,\"yanchor\":\"bottom\",\"yref\":\"paper\"},{\"font\":{},\"showarrow\":false,\"text\":\"subjectID=1\",\"x\":0.6275,\"xanchor\":\"center\",\"xref\":\"paper\",\"y\":0.8725,\"yanchor\":\"bottom\",\"yref\":\"paper\"},{\"font\":{},\"showarrow\":false,\"text\":\"subjectID=14\",\"x\":0.8824999999999998,\"xanchor\":\"center\",\"xref\":\"paper\",\"y\":0.8725,\"yanchor\":\"bottom\",\"yref\":\"paper\"},{\"font\":{},\"showarrow\":false,\"text\":\"subjectID=20\",\"x\":0.1175,\"xanchor\":\"center\",\"xref\":\"paper\",\"y\":1.0,\"yanchor\":\"bottom\",\"yref\":\"paper\"},{\"font\":{},\"showarrow\":false,\"text\":\"subjectID=21\",\"x\":0.3725,\"xanchor\":\"center\",\"xref\":\"paper\",\"y\":1.0,\"yanchor\":\"bottom\",\"yref\":\"paper\"},{\"font\":{},\"showarrow\":false,\"text\":\"subjectID=11\",\"x\":0.6275,\"xanchor\":\"center\",\"xref\":\"paper\",\"y\":1.0,\"yanchor\":\"bottom\",\"yref\":\"paper\"},{\"font\":{},\"showarrow\":false,\"text\":\"subjectID=17\",\"x\":0.8824999999999998,\"xanchor\":\"center\",\"xref\":\"paper\",\"y\":1.0,\"yanchor\":\"bottom\",\"yref\":\"paper\"}],\"height\":700,\"legend\":{\"tracegroupgap\":0},\"margin\":{\"t\":60},\"template\":{\"data\":{\"bar\":[{\"error_x\":{\"color\":\"rgb(36,36,36)\"},\"error_y\":{\"color\":\"rgb(36,36,36)\"},\"marker\":{\"line\":{\"color\":\"rgb(234,234,242)\",\"width\":0.5},\"pattern\":{\"fillmode\":\"overlay\",\"size\":10,\"solidity\":0.2}},\"type\":\"bar\"}],\"barpolar\":[{\"marker\":{\"line\":{\"color\":\"rgb(234,234,242)\",\"width\":0.5},\"pattern\":{\"fillmode\":\"overlay\",\"size\":10,\"solidity\":0.2}},\"type\":\"barpolar\"}],\"carpet\":[{\"aaxis\":{\"endlinecolor\":\"rgb(36,36,36)\",\"gridcolor\":\"white\",\"linecolor\":\"white\",\"minorgridcolor\":\"white\",\"startlinecolor\":\"rgb(36,36,36)\"},\"baxis\":{\"endlinecolor\":\"rgb(36,36,36)\",\"gridcolor\":\"white\",\"linecolor\":\"white\",\"minorgridcolor\":\"white\",\"startlinecolor\":\"rgb(36,36,36)\"},\"type\":\"carpet\"}],\"choropleth\":[{\"colorbar\":{\"outlinewidth\":0,\"tickcolor\":\"rgb(36,36,36)\",\"ticklen\":8,\"ticks\":\"outside\",\"tickwidth\":2},\"type\":\"choropleth\"}],\"contour\":[{\"colorbar\":{\"outlinewidth\":0,\"tickcolor\":\"rgb(36,36,36)\",\"ticklen\":8,\"ticks\":\"outside\",\"tickwidth\":2},\"colorscale\":[[0.0,\"rgb(2,4,25)\"],[0.06274509803921569,\"rgb(24,15,41)\"],[0.12549019607843137,\"rgb(47,23,57)\"],[0.18823529411764706,\"rgb(71,28,72)\"],[0.25098039215686274,\"rgb(97,30,82)\"],[0.3137254901960784,\"rgb(123,30,89)\"],[0.3764705882352941,\"rgb(150,27,91)\"],[0.4392156862745098,\"rgb(177,22,88)\"],[0.5019607843137255,\"rgb(203,26,79)\"],[0.5647058823529412,\"rgb(223,47,67)\"],[0.6274509803921569,\"rgb(236,76,61)\"],[0.6901960784313725,\"rgb(242,107,73)\"],[0.7529411764705882,\"rgb(244,135,95)\"],[0.8156862745098039,\"rgb(245,162,122)\"],[0.8784313725490196,\"rgb(246,188,153)\"],[0.9411764705882353,\"rgb(247,212,187)\"],[1.0,\"rgb(250,234,220)\"]],\"type\":\"contour\"}],\"contourcarpet\":[{\"colorbar\":{\"outlinewidth\":0,\"tickcolor\":\"rgb(36,36,36)\",\"ticklen\":8,\"ticks\":\"outside\",\"tickwidth\":2},\"type\":\"contourcarpet\"}],\"heatmap\":[{\"colorbar\":{\"outlinewidth\":0,\"tickcolor\":\"rgb(36,36,36)\",\"ticklen\":8,\"ticks\":\"outside\",\"tickwidth\":2},\"colorscale\":[[0.0,\"rgb(2,4,25)\"],[0.06274509803921569,\"rgb(24,15,41)\"],[0.12549019607843137,\"rgb(47,23,57)\"],[0.18823529411764706,\"rgb(71,28,72)\"],[0.25098039215686274,\"rgb(97,30,82)\"],[0.3137254901960784,\"rgb(123,30,89)\"],[0.3764705882352941,\"rgb(150,27,91)\"],[0.4392156862745098,\"rgb(177,22,88)\"],[0.5019607843137255,\"rgb(203,26,79)\"],[0.5647058823529412,\"rgb(223,47,67)\"],[0.6274509803921569,\"rgb(236,76,61)\"],[0.6901960784313725,\"rgb(242,107,73)\"],[0.7529411764705882,\"rgb(244,135,95)\"],[0.8156862745098039,\"rgb(245,162,122)\"],[0.8784313725490196,\"rgb(246,188,153)\"],[0.9411764705882353,\"rgb(247,212,187)\"],[1.0,\"rgb(250,234,220)\"]],\"type\":\"heatmap\"}],\"heatmapgl\":[{\"colorbar\":{\"outlinewidth\":0,\"tickcolor\":\"rgb(36,36,36)\",\"ticklen\":8,\"ticks\":\"outside\",\"tickwidth\":2},\"colorscale\":[[0.0,\"rgb(2,4,25)\"],[0.06274509803921569,\"rgb(24,15,41)\"],[0.12549019607843137,\"rgb(47,23,57)\"],[0.18823529411764706,\"rgb(71,28,72)\"],[0.25098039215686274,\"rgb(97,30,82)\"],[0.3137254901960784,\"rgb(123,30,89)\"],[0.3764705882352941,\"rgb(150,27,91)\"],[0.4392156862745098,\"rgb(177,22,88)\"],[0.5019607843137255,\"rgb(203,26,79)\"],[0.5647058823529412,\"rgb(223,47,67)\"],[0.6274509803921569,\"rgb(236,76,61)\"],[0.6901960784313725,\"rgb(242,107,73)\"],[0.7529411764705882,\"rgb(244,135,95)\"],[0.8156862745098039,\"rgb(245,162,122)\"],[0.8784313725490196,\"rgb(246,188,153)\"],[0.9411764705882353,\"rgb(247,212,187)\"],[1.0,\"rgb(250,234,220)\"]],\"type\":\"heatmapgl\"}],\"histogram\":[{\"marker\":{\"pattern\":{\"fillmode\":\"overlay\",\"size\":10,\"solidity\":0.2}},\"type\":\"histogram\"}],\"histogram2d\":[{\"colorbar\":{\"outlinewidth\":0,\"tickcolor\":\"rgb(36,36,36)\",\"ticklen\":8,\"ticks\":\"outside\",\"tickwidth\":2},\"colorscale\":[[0.0,\"rgb(2,4,25)\"],[0.06274509803921569,\"rgb(24,15,41)\"],[0.12549019607843137,\"rgb(47,23,57)\"],[0.18823529411764706,\"rgb(71,28,72)\"],[0.25098039215686274,\"rgb(97,30,82)\"],[0.3137254901960784,\"rgb(123,30,89)\"],[0.3764705882352941,\"rgb(150,27,91)\"],[0.4392156862745098,\"rgb(177,22,88)\"],[0.5019607843137255,\"rgb(203,26,79)\"],[0.5647058823529412,\"rgb(223,47,67)\"],[0.6274509803921569,\"rgb(236,76,61)\"],[0.6901960784313725,\"rgb(242,107,73)\"],[0.7529411764705882,\"rgb(244,135,95)\"],[0.8156862745098039,\"rgb(245,162,122)\"],[0.8784313725490196,\"rgb(246,188,153)\"],[0.9411764705882353,\"rgb(247,212,187)\"],[1.0,\"rgb(250,234,220)\"]],\"type\":\"histogram2d\"}],\"histogram2dcontour\":[{\"colorbar\":{\"outlinewidth\":0,\"tickcolor\":\"rgb(36,36,36)\",\"ticklen\":8,\"ticks\":\"outside\",\"tickwidth\":2},\"colorscale\":[[0.0,\"rgb(2,4,25)\"],[0.06274509803921569,\"rgb(24,15,41)\"],[0.12549019607843137,\"rgb(47,23,57)\"],[0.18823529411764706,\"rgb(71,28,72)\"],[0.25098039215686274,\"rgb(97,30,82)\"],[0.3137254901960784,\"rgb(123,30,89)\"],[0.3764705882352941,\"rgb(150,27,91)\"],[0.4392156862745098,\"rgb(177,22,88)\"],[0.5019607843137255,\"rgb(203,26,79)\"],[0.5647058823529412,\"rgb(223,47,67)\"],[0.6274509803921569,\"rgb(236,76,61)\"],[0.6901960784313725,\"rgb(242,107,73)\"],[0.7529411764705882,\"rgb(244,135,95)\"],[0.8156862745098039,\"rgb(245,162,122)\"],[0.8784313725490196,\"rgb(246,188,153)\"],[0.9411764705882353,\"rgb(247,212,187)\"],[1.0,\"rgb(250,234,220)\"]],\"type\":\"histogram2dcontour\"}],\"mesh3d\":[{\"colorbar\":{\"outlinewidth\":0,\"tickcolor\":\"rgb(36,36,36)\",\"ticklen\":8,\"ticks\":\"outside\",\"tickwidth\":2},\"type\":\"mesh3d\"}],\"parcoords\":[{\"line\":{\"colorbar\":{\"outlinewidth\":0,\"tickcolor\":\"rgb(36,36,36)\",\"ticklen\":8,\"ticks\":\"outside\",\"tickwidth\":2}},\"type\":\"parcoords\"}],\"pie\":[{\"automargin\":true,\"type\":\"pie\"}],\"scatter\":[{\"marker\":{\"colorbar\":{\"outlinewidth\":0,\"tickcolor\":\"rgb(36,36,36)\",\"ticklen\":8,\"ticks\":\"outside\",\"tickwidth\":2}},\"type\":\"scatter\"}],\"scatter3d\":[{\"line\":{\"colorbar\":{\"outlinewidth\":0,\"tickcolor\":\"rgb(36,36,36)\",\"ticklen\":8,\"ticks\":\"outside\",\"tickwidth\":2}},\"marker\":{\"colorbar\":{\"outlinewidth\":0,\"tickcolor\":\"rgb(36,36,36)\",\"ticklen\":8,\"ticks\":\"outside\",\"tickwidth\":2}},\"type\":\"scatter3d\"}],\"scattercarpet\":[{\"marker\":{\"colorbar\":{\"outlinewidth\":0,\"tickcolor\":\"rgb(36,36,36)\",\"ticklen\":8,\"ticks\":\"outside\",\"tickwidth\":2}},\"type\":\"scattercarpet\"}],\"scattergeo\":[{\"marker\":{\"colorbar\":{\"outlinewidth\":0,\"tickcolor\":\"rgb(36,36,36)\",\"ticklen\":8,\"ticks\":\"outside\",\"tickwidth\":2}},\"type\":\"scattergeo\"}],\"scattergl\":[{\"marker\":{\"colorbar\":{\"outlinewidth\":0,\"tickcolor\":\"rgb(36,36,36)\",\"ticklen\":8,\"ticks\":\"outside\",\"tickwidth\":2}},\"type\":\"scattergl\"}],\"scattermapbox\":[{\"marker\":{\"colorbar\":{\"outlinewidth\":0,\"tickcolor\":\"rgb(36,36,36)\",\"ticklen\":8,\"ticks\":\"outside\",\"tickwidth\":2}},\"type\":\"scattermapbox\"}],\"scatterpolar\":[{\"marker\":{\"colorbar\":{\"outlinewidth\":0,\"tickcolor\":\"rgb(36,36,36)\",\"ticklen\":8,\"ticks\":\"outside\",\"tickwidth\":2}},\"type\":\"scatterpolar\"}],\"scatterpolargl\":[{\"marker\":{\"colorbar\":{\"outlinewidth\":0,\"tickcolor\":\"rgb(36,36,36)\",\"ticklen\":8,\"ticks\":\"outside\",\"tickwidth\":2}},\"type\":\"scatterpolargl\"}],\"scatterternary\":[{\"marker\":{\"colorbar\":{\"outlinewidth\":0,\"tickcolor\":\"rgb(36,36,36)\",\"ticklen\":8,\"ticks\":\"outside\",\"tickwidth\":2}},\"type\":\"scatterternary\"}],\"surface\":[{\"colorbar\":{\"outlinewidth\":0,\"tickcolor\":\"rgb(36,36,36)\",\"ticklen\":8,\"ticks\":\"outside\",\"tickwidth\":2},\"colorscale\":[[0.0,\"rgb(2,4,25)\"],[0.06274509803921569,\"rgb(24,15,41)\"],[0.12549019607843137,\"rgb(47,23,57)\"],[0.18823529411764706,\"rgb(71,28,72)\"],[0.25098039215686274,\"rgb(97,30,82)\"],[0.3137254901960784,\"rgb(123,30,89)\"],[0.3764705882352941,\"rgb(150,27,91)\"],[0.4392156862745098,\"rgb(177,22,88)\"],[0.5019607843137255,\"rgb(203,26,79)\"],[0.5647058823529412,\"rgb(223,47,67)\"],[0.6274509803921569,\"rgb(236,76,61)\"],[0.6901960784313725,\"rgb(242,107,73)\"],[0.7529411764705882,\"rgb(244,135,95)\"],[0.8156862745098039,\"rgb(245,162,122)\"],[0.8784313725490196,\"rgb(246,188,153)\"],[0.9411764705882353,\"rgb(247,212,187)\"],[1.0,\"rgb(250,234,220)\"]],\"type\":\"surface\"}],\"table\":[{\"cells\":{\"fill\":{\"color\":\"rgb(231,231,240)\"},\"line\":{\"color\":\"white\"}},\"header\":{\"fill\":{\"color\":\"rgb(183,183,191)\"},\"line\":{\"color\":\"white\"}},\"type\":\"table\"}]},\"layout\":{\"annotationdefaults\":{\"arrowcolor\":\"rgb(67,103,167)\"},\"autotypenumbers\":\"strict\",\"coloraxis\":{\"colorbar\":{\"outlinewidth\":0,\"tickcolor\":\"rgb(36,36,36)\",\"ticklen\":8,\"ticks\":\"outside\",\"tickwidth\":2}},\"colorscale\":{\"sequential\":[[0.0,\"rgb(2,4,25)\"],[0.06274509803921569,\"rgb(24,15,41)\"],[0.12549019607843137,\"rgb(47,23,57)\"],[0.18823529411764706,\"rgb(71,28,72)\"],[0.25098039215686274,\"rgb(97,30,82)\"],[0.3137254901960784,\"rgb(123,30,89)\"],[0.3764705882352941,\"rgb(150,27,91)\"],[0.4392156862745098,\"rgb(177,22,88)\"],[0.5019607843137255,\"rgb(203,26,79)\"],[0.5647058823529412,\"rgb(223,47,67)\"],[0.6274509803921569,\"rgb(236,76,61)\"],[0.6901960784313725,\"rgb(242,107,73)\"],[0.7529411764705882,\"rgb(244,135,95)\"],[0.8156862745098039,\"rgb(245,162,122)\"],[0.8784313725490196,\"rgb(246,188,153)\"],[0.9411764705882353,\"rgb(247,212,187)\"],[1.0,\"rgb(250,234,220)\"]],\"sequentialminus\":[[0.0,\"rgb(2,4,25)\"],[0.06274509803921569,\"rgb(24,15,41)\"],[0.12549019607843137,\"rgb(47,23,57)\"],[0.18823529411764706,\"rgb(71,28,72)\"],[0.25098039215686274,\"rgb(97,30,82)\"],[0.3137254901960784,\"rgb(123,30,89)\"],[0.3764705882352941,\"rgb(150,27,91)\"],[0.4392156862745098,\"rgb(177,22,88)\"],[0.5019607843137255,\"rgb(203,26,79)\"],[0.5647058823529412,\"rgb(223,47,67)\"],[0.6274509803921569,\"rgb(236,76,61)\"],[0.6901960784313725,\"rgb(242,107,73)\"],[0.7529411764705882,\"rgb(244,135,95)\"],[0.8156862745098039,\"rgb(245,162,122)\"],[0.8784313725490196,\"rgb(246,188,153)\"],[0.9411764705882353,\"rgb(247,212,187)\"],[1.0,\"rgb(250,234,220)\"]]},\"colorway\":[\"rgb(76,114,176)\",\"rgb(221,132,82)\",\"rgb(85,168,104)\",\"rgb(196,78,82)\",\"rgb(129,114,179)\",\"rgb(147,120,96)\",\"rgb(218,139,195)\",\"rgb(140,140,140)\",\"rgb(204,185,116)\",\"rgb(100,181,205)\"],\"font\":{\"color\":\"rgb(36,36,36)\"},\"geo\":{\"bgcolor\":\"white\",\"lakecolor\":\"white\",\"landcolor\":\"rgb(234,234,242)\",\"showlakes\":true,\"showland\":true,\"subunitcolor\":\"white\"},\"hoverlabel\":{\"align\":\"left\"},\"hovermode\":\"closest\",\"paper_bgcolor\":\"white\",\"plot_bgcolor\":\"rgb(234,234,242)\",\"polar\":{\"angularaxis\":{\"gridcolor\":\"white\",\"linecolor\":\"white\",\"showgrid\":true,\"ticks\":\"\"},\"bgcolor\":\"rgb(234,234,242)\",\"radialaxis\":{\"gridcolor\":\"white\",\"linecolor\":\"white\",\"showgrid\":true,\"ticks\":\"\"}},\"scene\":{\"xaxis\":{\"backgroundcolor\":\"rgb(234,234,242)\",\"gridcolor\":\"white\",\"gridwidth\":2,\"linecolor\":\"white\",\"showbackground\":true,\"showgrid\":true,\"ticks\":\"\",\"zerolinecolor\":\"white\"},\"yaxis\":{\"backgroundcolor\":\"rgb(234,234,242)\",\"gridcolor\":\"white\",\"gridwidth\":2,\"linecolor\":\"white\",\"showbackground\":true,\"showgrid\":true,\"ticks\":\"\",\"zerolinecolor\":\"white\"},\"zaxis\":{\"backgroundcolor\":\"rgb(234,234,242)\",\"gridcolor\":\"white\",\"gridwidth\":2,\"linecolor\":\"white\",\"showbackground\":true,\"showgrid\":true,\"ticks\":\"\",\"zerolinecolor\":\"white\"}},\"shapedefaults\":{\"fillcolor\":\"rgb(67,103,167)\",\"line\":{\"width\":0},\"opacity\":0.5},\"ternary\":{\"aaxis\":{\"gridcolor\":\"white\",\"linecolor\":\"white\",\"showgrid\":true,\"ticks\":\"\"},\"baxis\":{\"gridcolor\":\"white\",\"linecolor\":\"white\",\"showgrid\":true,\"ticks\":\"\"},\"bgcolor\":\"rgb(234,234,242)\",\"caxis\":{\"gridcolor\":\"white\",\"linecolor\":\"white\",\"showgrid\":true,\"ticks\":\"\"}},\"xaxis\":{\"automargin\":true,\"gridcolor\":\"white\",\"linecolor\":\"white\",\"showgrid\":true,\"ticks\":\"\",\"title\":{\"standoff\":15},\"zerolinecolor\":\"white\"},\"yaxis\":{\"automargin\":true,\"gridcolor\":\"white\",\"linecolor\":\"white\",\"showgrid\":true,\"ticks\":\"\",\"title\":{\"standoff\":15},\"zerolinecolor\":\"white\"}}},\"width\":800,\"xaxis\":{\"anchor\":\"y\",\"domain\":[0.0,0.235],\"title\":{\"text\":\"time\"}},\"xaxis10\":{\"anchor\":\"y10\",\"domain\":[0.255,0.49],\"matches\":\"x\",\"showticklabels\":false},\"xaxis11\":{\"anchor\":\"y11\",\"domain\":[0.51,0.745],\"matches\":\"x\",\"showticklabels\":false},\"xaxis12\":{\"anchor\":\"y12\",\"domain\":[0.7649999999999999,0.9999999999999999],\"matches\":\"x\",\"showticklabels\":false},\"xaxis13\":{\"anchor\":\"y13\",\"domain\":[0.0,0.235],\"matches\":\"x\",\"showticklabels\":false},\"xaxis14\":{\"anchor\":\"y14\",\"domain\":[0.255,0.49],\"matches\":\"x\",\"showticklabels\":false},\"xaxis15\":{\"anchor\":\"y15\",\"domain\":[0.51,0.745],\"matches\":\"x\",\"showticklabels\":false},\"xaxis16\":{\"anchor\":\"y16\",\"domain\":[0.7649999999999999,0.9999999999999999],\"matches\":\"x\",\"showticklabels\":false},\"xaxis17\":{\"anchor\":\"y17\",\"domain\":[0.0,0.235],\"matches\":\"x\",\"showticklabels\":false},\"xaxis18\":{\"anchor\":\"y18\",\"domain\":[0.255,0.49],\"matches\":\"x\",\"showticklabels\":false},\"xaxis19\":{\"anchor\":\"y19\",\"domain\":[0.51,0.745],\"matches\":\"x\",\"showticklabels\":false},\"xaxis2\":{\"anchor\":\"y2\",\"domain\":[0.255,0.49],\"matches\":\"x\",\"title\":{\"text\":\"time\"}},\"xaxis20\":{\"anchor\":\"y20\",\"domain\":[0.7649999999999999,0.9999999999999999],\"matches\":\"x\",\"showticklabels\":false},\"xaxis21\":{\"anchor\":\"y21\",\"domain\":[0.0,0.235],\"matches\":\"x\",\"showticklabels\":false},\"xaxis22\":{\"anchor\":\"y22\",\"domain\":[0.255,0.49],\"matches\":\"x\",\"showticklabels\":false},\"xaxis23\":{\"anchor\":\"y23\",\"domain\":[0.51,0.745],\"matches\":\"x\",\"showticklabels\":false},\"xaxis24\":{\"anchor\":\"y24\",\"domain\":[0.7649999999999999,0.9999999999999999],\"matches\":\"x\",\"showticklabels\":false},\"xaxis25\":{\"anchor\":\"y25\",\"domain\":[0.0,0.235],\"matches\":\"x\",\"showticklabels\":false},\"xaxis26\":{\"anchor\":\"y26\",\"domain\":[0.255,0.49],\"matches\":\"x\",\"showticklabels\":false},\"xaxis27\":{\"anchor\":\"y27\",\"domain\":[0.51,0.745],\"matches\":\"x\",\"showticklabels\":false},\"xaxis28\":{\"anchor\":\"y28\",\"domain\":[0.7649999999999999,0.9999999999999999],\"matches\":\"x\",\"showticklabels\":false},\"xaxis29\":{\"anchor\":\"y29\",\"domain\":[0.0,0.235],\"matches\":\"x\",\"showticklabels\":false},\"xaxis3\":{\"anchor\":\"y3\",\"domain\":[0.51,0.745],\"matches\":\"x\",\"title\":{\"text\":\"time\"}},\"xaxis30\":{\"anchor\":\"y30\",\"domain\":[0.255,0.49],\"matches\":\"x\",\"showticklabels\":false},\"xaxis31\":{\"anchor\":\"y31\",\"domain\":[0.51,0.745],\"matches\":\"x\",\"showticklabels\":false},\"xaxis32\":{\"anchor\":\"y32\",\"domain\":[0.7649999999999999,0.9999999999999999],\"matches\":\"x\",\"showticklabels\":false},\"xaxis4\":{\"anchor\":\"y4\",\"domain\":[0.7649999999999999,0.9999999999999999],\"matches\":\"x\",\"title\":{\"text\":\"time\"}},\"xaxis5\":{\"anchor\":\"y5\",\"domain\":[0.0,0.235],\"matches\":\"x\",\"showticklabels\":false},\"xaxis6\":{\"anchor\":\"y6\",\"domain\":[0.255,0.49],\"matches\":\"x\",\"showticklabels\":false},\"xaxis7\":{\"anchor\":\"y7\",\"domain\":[0.51,0.745],\"matches\":\"x\",\"showticklabels\":false},\"xaxis8\":{\"anchor\":\"y8\",\"domain\":[0.7649999999999999,0.9999999999999999],\"matches\":\"x\",\"showticklabels\":false},\"xaxis9\":{\"anchor\":\"y9\",\"domain\":[0.0,0.235],\"matches\":\"x\",\"showticklabels\":false},\"yaxis\":{\"anchor\":\"x\",\"domain\":[0.0,0.1075],\"title\":{\"text\":\"\"}},\"yaxis10\":{\"anchor\":\"x10\",\"domain\":[0.255,0.3625],\"matches\":\"y\",\"showticklabels\":false,\"title\":{\"text\":\"\"}},\"yaxis11\":{\"anchor\":\"x11\",\"domain\":[0.255,0.3625],\"matches\":\"y\",\"showticklabels\":false,\"title\":{\"text\":\"\"}},\"yaxis12\":{\"anchor\":\"x12\",\"domain\":[0.255,0.3625],\"matches\":\"y\",\"showticklabels\":false,\"title\":{\"text\":\"\"}},\"yaxis13\":{\"anchor\":\"x13\",\"domain\":[0.3825,0.49],\"matches\":\"y\",\"title\":{\"text\":\"\"}},\"yaxis14\":{\"anchor\":\"x14\",\"domain\":[0.3825,0.49],\"matches\":\"y\",\"showticklabels\":false,\"title\":{\"text\":\"\"}},\"yaxis15\":{\"anchor\":\"x15\",\"domain\":[0.3825,0.49],\"matches\":\"y\",\"showticklabels\":false,\"title\":{\"text\":\"\"}},\"yaxis16\":{\"anchor\":\"x16\",\"domain\":[0.3825,0.49],\"matches\":\"y\",\"showticklabels\":false,\"title\":{\"text\":\"\"}},\"yaxis17\":{\"anchor\":\"x17\",\"domain\":[0.51,0.6175],\"matches\":\"y\",\"title\":{\"text\":\"\"}},\"yaxis18\":{\"anchor\":\"x18\",\"domain\":[0.51,0.6175],\"matches\":\"y\",\"showticklabels\":false,\"title\":{\"text\":\"\"}},\"yaxis19\":{\"anchor\":\"x19\",\"domain\":[0.51,0.6175],\"matches\":\"y\",\"showticklabels\":false,\"title\":{\"text\":\"\"}},\"yaxis2\":{\"anchor\":\"x2\",\"domain\":[0.0,0.1075],\"matches\":\"y\",\"showticklabels\":false,\"title\":{\"text\":\"\"}},\"yaxis20\":{\"anchor\":\"x20\",\"domain\":[0.51,0.6175],\"matches\":\"y\",\"showticklabels\":false,\"title\":{\"text\":\"\"}},\"yaxis21\":{\"anchor\":\"x21\",\"domain\":[0.6375,0.745],\"matches\":\"y\",\"title\":{\"text\":\"\"}},\"yaxis22\":{\"anchor\":\"x22\",\"domain\":[0.6375,0.745],\"matches\":\"y\",\"showticklabels\":false,\"title\":{\"text\":\"\"}},\"yaxis23\":{\"anchor\":\"x23\",\"domain\":[0.6375,0.745],\"matches\":\"y\",\"showticklabels\":false,\"title\":{\"text\":\"\"}},\"yaxis24\":{\"anchor\":\"x24\",\"domain\":[0.6375,0.745],\"matches\":\"y\",\"showticklabels\":false,\"title\":{\"text\":\"\"}},\"yaxis25\":{\"anchor\":\"x25\",\"domain\":[0.765,0.8725],\"matches\":\"y\",\"title\":{\"text\":\"\"}},\"yaxis26\":{\"anchor\":\"x26\",\"domain\":[0.765,0.8725],\"matches\":\"y\",\"showticklabels\":false,\"title\":{\"text\":\"\"}},\"yaxis27\":{\"anchor\":\"x27\",\"domain\":[0.765,0.8725],\"matches\":\"y\",\"showticklabels\":false,\"title\":{\"text\":\"\"}},\"yaxis28\":{\"anchor\":\"x28\",\"domain\":[0.765,0.8725],\"matches\":\"y\",\"showticklabels\":false,\"title\":{\"text\":\"\"}},\"yaxis29\":{\"anchor\":\"x29\",\"domain\":[0.8925000000000001,1.0],\"matches\":\"y\",\"title\":{\"text\":\"\"}},\"yaxis3\":{\"anchor\":\"x3\",\"domain\":[0.0,0.1075],\"matches\":\"y\",\"showticklabels\":false,\"title\":{\"text\":\"\"}},\"yaxis30\":{\"anchor\":\"x30\",\"domain\":[0.8925000000000001,1.0],\"matches\":\"y\",\"showticklabels\":false,\"title\":{\"text\":\"\"}},\"yaxis31\":{\"anchor\":\"x31\",\"domain\":[0.8925000000000001,1.0],\"matches\":\"y\",\"showticklabels\":false,\"title\":{\"text\":\"\"}},\"yaxis32\":{\"anchor\":\"x32\",\"domain\":[0.8925000000000001,1.0],\"matches\":\"y\",\"showticklabels\":false,\"title\":{\"text\":\"\"}},\"yaxis4\":{\"anchor\":\"x4\",\"domain\":[0.0,0.1075],\"matches\":\"y\",\"showticklabels\":false,\"title\":{\"text\":\"\"}},\"yaxis5\":{\"anchor\":\"x5\",\"domain\":[0.1275,0.235],\"matches\":\"y\",\"title\":{\"text\":\"\"}},\"yaxis6\":{\"anchor\":\"x6\",\"domain\":[0.1275,0.235],\"matches\":\"y\",\"showticklabels\":false,\"title\":{\"text\":\"\"}},\"yaxis7\":{\"anchor\":\"x7\",\"domain\":[0.1275,0.235],\"matches\":\"y\",\"showticklabels\":false,\"title\":{\"text\":\"\"}},\"yaxis8\":{\"anchor\":\"x8\",\"domain\":[0.1275,0.235],\"matches\":\"y\",\"showticklabels\":false,\"title\":{\"text\":\"\"}},\"yaxis9\":{\"anchor\":\"x9\",\"domain\":[0.255,0.3625],\"matches\":\"y\",\"title\":{\"text\":\"\"}}},                        {\"responsive\": true}                    ).then(function(){\n",
       "                            \n",
       "var gd = document.getElementById('903e8d56-be19-46af-a2eb-904546c6a5f4');\n",
       "var x = new MutationObserver(function (mutations, observer) {{\n",
       "        var display = window.getComputedStyle(gd).display;\n",
       "        if (!display || display === 'none') {{\n",
       "            console.log([gd, 'removed!']);\n",
       "            Plotly.purge(gd);\n",
       "            observer.disconnect();\n",
       "        }}\n",
       "}});\n",
       "\n",
       "// Listen for the removal of the full notebook cells\n",
       "var notebookContainer = gd.closest('#notebook-container');\n",
       "if (notebookContainer) {{\n",
       "    x.observe(notebookContainer, {childList: true});\n",
       "}}\n",
       "\n",
       "// Listen for the clearing of the current output cell\n",
       "var outputEl = gd.closest('.output');\n",
       "if (outputEl) {{\n",
       "    x.observe(outputEl, {childList: true});\n",
       "}}\n",
       "\n",
       "                        })                };                });            </script>        </div>"
      ]
     },
     "metadata": {},
     "output_type": "display_data"
    }
   ],
   "source": [
    "fig2 = px.line(ord_temp_meta_df, x = \"time\", y = \"mt_pseudotime\", \n",
    "                  facet_col = 'subjectID', facet_col_wrap = 4,\n",
    "                  facet_row_spacing = 0.02, facet_col_spacing = 0.02,\n",
    "                  width = 800, height = 700)\n",
    "\n",
    "for axis in fig2.layout:\n",
    "    if type(fig2.layout[axis]) == go.layout.YAxis:\n",
    "        fig2.layout[axis].title.text = ''\n",
    "        \n",
    "fig1.update_layout(\n",
    "    annotations = list(fig2.layout.annotations) + \n",
    "    [go.layout.Annotation(x = -0.07, y = 0.5, font = dict(size = 14),\n",
    "            showarrow = False, text = \"Pseudotime\", textangle = -90, xref = \"paper\", yref = \"paper\")])        \n",
    "        \n",
    "fig2.show() "
   ]
  },
  {
   "cell_type": "markdown",
   "id": "3660b691",
   "metadata": {},
   "source": [
    "#### Change branches to unique for chr plots"
   ]
  },
  {
   "cell_type": "code",
   "execution_count": null,
   "id": "05d32c7c",
   "metadata": {},
   "outputs": [],
   "source": [
    "def get_partial_pseudotime(df, leiden_lst, column_name):\n",
    "    full_column_name = 'mt_branch_' + column_name\n",
    "    df[full_column_name] = [df.loc[index, 'mt_pseudotime'] if df.loc[index, 'leiden_anno'] in leiden_lst\n",
    "                           else np.nan\n",
    "                           for index in df.index]\n",
    "\n",
    "    return df"
   ]
  },
  {
   "cell_type": "code",
   "execution_count": null,
   "id": "9d2336e4",
   "metadata": {},
   "outputs": [],
   "source": [
    "def get_unique(df):\n",
    "    new_df = df[['leiden_anno', 'mt_pseudotime', 'time', 'subjectID', 'nugent', 'community']]\n",
    "    \n",
    "    ## Branch columns\n",
    "    new_df = get_partial_pseudotime(new_df, [3, 0], 'I/IV') \n",
    "    new_df = get_partial_pseudotime(new_df, [6], 'II/IV')\n",
    "    new_df = get_partial_pseudotime(new_df, [9, 8, 1, 7], 'III/IV')\n",
    "    new_df = get_partial_pseudotime(new_df, [12], 'V/IV')\n",
    "    new_df = get_partial_pseudotime(new_df, [10], 'III/V')\n",
    "    new_df = get_partial_pseudotime(new_df, [11, 13], 'I/III')\n",
    "    new_df = get_partial_pseudotime(new_df, [4, 5, 2, 14], 'IV')\n",
    "\n",
    "    return new_df"
   ]
  },
  {
   "cell_type": "code",
   "execution_count": null,
   "id": "2fbdb6c2",
   "metadata": {},
   "outputs": [],
   "source": [
    "bc_ps_unique_df = get_unique(bc_ps_df)\n",
    "print(bc_ps_unique_df.info())\n",
    "\n",
    "display(bc_ps_unique_df)"
   ]
  },
  {
   "cell_type": "code",
   "execution_count": null,
   "id": "7bd178e3",
   "metadata": {},
   "outputs": [],
   "source": [
    "euc_ps_unique_df = get_unique(euc_ps_df)\n",
    "print(euc_ps_unique_df.info())"
   ]
  },
  {
   "cell_type": "markdown",
   "id": "139035c8",
   "metadata": {},
   "source": [
    "#### Plot with shape as branch"
   ]
  },
  {
   "cell_type": "code",
   "execution_count": null,
   "id": "86be8ed3",
   "metadata": {},
   "outputs": [],
   "source": [
    "def get_ps_to_ch_shape(df):\n",
    "    grouped = df.groupby('subjectID')\n",
    "    rowlength = int(grouped.ngroups/4)\n",
    "    branch_cols = [col for col in df.columns if col.startswith('mt_branch_')]\n",
    "    \n",
    "    fig, axs = plt.subplots(figsize = (9, 15), nrows = rowlength, ncols = 4, sharey = True, sharex = True) \n",
    "    \n",
    "    targets = zip(grouped.groups.keys(), axs.flatten())\n",
    "    \n",
    "    for i, (key, ax) in enumerate(targets):       \n",
    "        temp_df = grouped.get_group(key)\n",
    "        sort_df = temp_df.sort_values('time')\n",
    "        ax.plot(sort_df['time'], sort_df['mt_pseudotime'], color = 'black', zorder = -1, linewidth = 0.7)\n",
    "        for col, shape in branch_markers.items():\n",
    "            col_temp_df = temp_df[['time', 'community', col]].dropna()\n",
    "            ax.scatter(x = col_temp_df['time'], y = col_temp_df[col],\n",
    "              c = col_temp_df.loc[:, 'community'].map(community_colors), \n",
    "              alpha = 0.6, s = 90, edgecolor = 'black', marker = shape)\n",
    "\n",
    "        ax.text(0.07, 0.1, key.replace('subID_', ''), ha = 'center', va = 'center', transform = ax.transAxes)\n",
    "        ax.legend().remove()\n",
    "        ax.tick_params(axis = 'both', which = 'major', labelsize = 12)\n",
    "    \n",
    "    handles_community = [Line2D([0], [0], marker = 'o', color = 'w', markerfacecolor = v, label = k, markersize = 15) \n",
    "               for k, v in community_colors.items()]\n",
    "    handles_branch = [Line2D([0], [0], marker = v, color = 'black', linestyle = 'None', label = k.replace('mt_branch_', ''), \n",
    "               markersize = 11.5) \n",
    "               for k, v in branch_markers.items()]\n",
    "    fig.legend(title = 'Community \\n state type', handles = handles_community, bbox_to_anchor = (0.79, 0.85), \n",
    "               loc = 'upper left', fontsize = 13, title_fontsize = 15)\n",
    "    fig.legend(title = 'Branch', handles = handles_branch, bbox_to_anchor = (0.79, 0.6), \n",
    "               loc = 'upper left', fontsize = 13, title_fontsize = 15)\n",
    "    \n",
    "    fig.text(0.5, 0.02, 'Chronological time (days)', ha = 'center', size = 18)\n",
    "    fig.text(0.03, 0.45, 'Pseudotimetime', va = 'center', rotation = 'vertical', size = 18)\n",
    "    \n",
    "    fig.subplots_adjust(left = 0.125, right = 0.79, bottom = 0.05, top = 0.9, wspace = 0.08, hspace = 0.08)\n",
    "\n",
    "    return fig"
   ]
  },
  {
   "cell_type": "code",
   "execution_count": null,
   "id": "773c5907",
   "metadata": {},
   "outputs": [],
   "source": [
    "bc_fig_shape = get_ps_to_ch_shape(bc_ps_unique_df)"
   ]
  },
  {
   "cell_type": "code",
   "execution_count": null,
   "id": "bdbe3a61",
   "metadata": {},
   "outputs": [],
   "source": [
    "euc_fig_shape = get_ps_to_ch_shape(euc_ps_unique_df)"
   ]
  },
  {
   "cell_type": "code",
   "execution_count": null,
   "id": "ef253335",
   "metadata": {},
   "outputs": [],
   "source": [
    "bc_shape_path = ps_file_path + 'Gajer2012_knn_figures/' + 'bc_ps_by_branch.png'\n",
    "bc_fig_shape.savefig(bc_shape_path, dpi = 500)\n",
    "\n",
    "euc_shape_path = ps_file_path + 'Gajer2012_knn_figures/' + 'euc_ps_by_branch.png'\n",
    "euc_fig_shape.savefig(euc_shape_path, dpi = 500)"
   ]
  },
  {
   "cell_type": "markdown",
   "id": "9fc06c78",
   "metadata": {},
   "source": [
    "#### Shannon diversity index to pseudotime"
   ]
  },
  {
   "cell_type": "code",
   "execution_count": null,
   "id": "1f99c3e7",
   "metadata": {},
   "outputs": [],
   "source": [
    "def get_shannon(df):\n",
    "    shannon_vec = alpha_diversity(counts = df.values, metric = 'shannon')\n",
    "    shannon_df = pd.DataFrame(shannon_vec, columns = ['shannon_index'])\n",
    "    shannon_df = shannon_df.set_index(df.index)\n",
    "    \n",
    "    return shannon_df"
   ]
  },
  {
   "cell_type": "code",
   "execution_count": null,
   "id": "853ccb6c",
   "metadata": {},
   "outputs": [],
   "source": [
    "def get_reg(x, y):\n",
    "    z = np.polyfit(x, y, 1)\n",
    "    p = np.poly1d(z)\n",
    "   \n",
    "    correlation = np.corrcoef(x, y)[0,1]\n",
    "    SSreg = correlation**2\n",
    "    \n",
    "    return p, round(SSreg, 4)"
   ]
  },
  {
   "cell_type": "code",
   "execution_count": null,
   "id": "8a962ce4",
   "metadata": {},
   "outputs": [],
   "source": [
    "def get_pseudo_vs_time_plots(df, y_col_name, ps_x_col_name, ch_x_col_name):\n",
    "    ## Variables\n",
    "    figsize_x = 8\n",
    "    figsize_y = 25\n",
    "    ax_size = 15\n",
    "    lab_size = 18\n",
    "    point_size = 130\n",
    "    leg_size = 12\n",
    "    \n",
    "    ## DF variables\n",
    "    df.replace([np.inf, -np.inf], np.nan, inplace = True)\n",
    "    branch_col_lst = [col for col in df.columns if 'mt_branch_' in col and 'IV' in col and 'IV/IV' not in col]\n",
    "    nrow_subplots = len(branch_col_lst)\n",
    "    \n",
    "    ##\n",
    "    figure, axs = plt.subplots(nrow_subplots, 1, sharey = True, figsize = (figsize_x, figsize_y))\n",
    "    community_colors = {'I':'crimson', 'II':'orange', 'III':'chocolate', 'V':'gold', \n",
    "              'IV':'steelblue', 'IV-A':'aqua', 'IV-B':'springgreen'}\n",
    "    \n",
    "    ## Plots\n",
    "    for i in range(0, nrow_subplots):\n",
    "        # Order x, y arrays\n",
    "        curr_df = df[df[branch_col_lst[i]].notna()]\n",
    "        curr_df = curr_df[curr_df[y_col_name].notna()]\n",
    "        curr_df = curr_df[~ curr_df['community'].isin(['IV-A', 'IV-B'])]\n",
    "        \n",
    "        ps_y_label_name = y_col_name.replace('_', ' ') + ' ' + branch_col_lst[i].replace('mt_branch_', '')\n",
    "        ps_x = np.array(curr_df.loc[:, branch_col_lst[i]])\n",
    "        y = np.array(curr_df.loc[:, y_col_name])\n",
    "        \n",
    "        ######### Pseudotime plot\n",
    "        ax1 = axs[i]\n",
    "        ps_sc = ax1.scatter(ps_x, y,\n",
    "                   c = curr_df['community'].map(community_colors),\n",
    "                   s = point_size, edgecolor = 'black', alpha = 0.6)\n",
    "        ax1.set_ylabel(ps_y_label_name, size = lab_size)\n",
    "        ax1.tick_params(axis = 'both', which = 'major', labelsize = ax_size)\n",
    "        \n",
    "        if i == nrow_subplots - 1:\n",
    "            ax1.set_xlabel('Pseudotime', size = lab_size)\n",
    "        if i == 0:\n",
    "            handles = [Line2D([0], [0], marker = 'o', color = 'w', markerfacecolor = v, label = k, markersize = leg_size) \n",
    "            for k, v in community_colors.items()]\n",
    "            ax1.legend(title = 'Community state type', handles = handles, loc = 'upper left')\n",
    "        \n",
    "        # Add reggression line and R squared\n",
    "        ps_p, ps_r = get_reg(ps_x, y)\n",
    "        ax1.plot(ps_x, ps_p(ps_x), \"r-o\", c = 'black', linewidth = 0.8, markersize = 2) \n",
    "        \n",
    "        ps_r_squared = 'R^2 = ' + str(ps_r)\n",
    "        ax1.annotate(ps_r_squared, xy = (1, 0), xycoords = 'axes fraction', fontsize = lab_size,\n",
    "                xytext = (-5, 5), textcoords = 'offset points',\n",
    "                ha = 'right', va = 'bottom')\n",
    "    \n",
    "    return figure"
   ]
  },
  {
   "cell_type": "code",
   "execution_count": null,
   "id": "0b934249",
   "metadata": {},
   "outputs": [],
   "source": [
    "shannon_df = get_shannon(temp_df)\n",
    "bc_meta_df = bc_ps_df.merge(shannon_df, left_index = True, right_index = True)\n",
    "euc_meta_df = euc_ps_df.merge(shannon_df, left_index = True, right_index = True)"
   ]
  },
  {
   "cell_type": "code",
   "execution_count": null,
   "id": "586f0f35",
   "metadata": {},
   "outputs": [],
   "source": [
    "bc_shannon_fig = get_pseudo_vs_time_plots(bc_meta_df, 'shannon_index', 'mt_pseudotime', 'time')\n",
    "bc_path = ps_file_path + 'Shannon_Figures_16082021/' + 'shannon_fig_matplotlib_bc_knn_30082021.png'\n",
    "bc_shannon_fig.savefig(bc_path, dpi = 500)"
   ]
  },
  {
   "cell_type": "code",
   "execution_count": null,
   "id": "be18cfbc",
   "metadata": {},
   "outputs": [],
   "source": [
    "euc_shannon_fig = get_pseudo_vs_time_plots(euc_meta_df, 'shannon_index', 'mt_pseudotime', 'time')\n",
    "euc_path = ps_file_path + 'Shannon_Figures_16082021/' + 'shannon_fig_matplotlib_euc_knn_30082021.png'\n",
    "euc_shannon_fig.savefig(euc_path, dpi = 500)"
   ]
  },
  {
   "cell_type": "code",
   "execution_count": null,
   "id": "27b9a588",
   "metadata": {},
   "outputs": [],
   "source": []
  }
 ],
 "metadata": {
  "kernelspec": {
   "display_name": "Python 3",
   "language": "python",
   "name": "python3"
  },
  "language_info": {
   "codemirror_mode": {
    "name": "ipython",
    "version": 3
   },
   "file_extension": ".py",
   "mimetype": "text/x-python",
   "name": "python",
   "nbconvert_exporter": "python",
   "pygments_lexer": "ipython3",
   "version": "3.7.10"
  }
 },
 "nbformat": 4,
 "nbformat_minor": 5
}
