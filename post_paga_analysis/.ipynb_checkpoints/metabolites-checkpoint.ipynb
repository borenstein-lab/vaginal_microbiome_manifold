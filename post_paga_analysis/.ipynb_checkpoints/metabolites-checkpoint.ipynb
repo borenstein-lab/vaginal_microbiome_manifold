{
 "cells": [
  {
   "cell_type": "code",
   "execution_count": 1,
   "id": "1969ad7c",
   "metadata": {},
   "outputs": [],
   "source": [
    "from os.path import join\n",
    "import pandas as pd\n",
    "import xlsxwriter\n",
    "import openpyxl\n",
    "import os\n",
    "import numpy as np\n",
    "import itertools\n",
    "import itertools as it\n",
    "import scipy.stats as stats\n",
    "from scipy.stats import ks_2samp\n",
    "from sklearn.model_selection import train_test_split\n",
    "from sklearn.linear_model import LogisticRegression\n",
    "from sklearn import metrics\n",
    "from pandas import Series, ExcelWriter\n",
    "import csv\n",
    "import plotly.express as px\n",
    "import matplotlib.pyplot as plt"
   ]
  },
  {
   "cell_type": "code",
   "execution_count": 4,
   "id": "ef33ac4c",
   "metadata": {},
   "outputs": [],
   "source": [
    "import sys  \n",
    "sys.path.insert(0, '../my_packages')\n",
    "import paga_res"
   ]
  },
  {
   "cell_type": "markdown",
   "id": "192c50ab",
   "metadata": {},
   "source": [
    "#### Variables"
   ]
  },
  {
   "cell_type": "code",
   "execution_count": 6,
   "id": "70bb9b19",
   "metadata": {},
   "outputs": [],
   "source": [
    "top_path = 'C:/Users/morts/Documents/TAU/Manifold_Project/Data/'\n",
    "\n",
    "metabolic_path = top_path + 'SPECIFIC_PAPERS/Use_UAB/Borgogna_et_al.2021/'\n",
    "metabolic_filename = metabolic_path + 'meta_MT.xlsx'\n",
    "\n",
    "ps_path = 'C:/Users/morts/Documents/TAU/Manifold_Project/Data/Serrano_Ravel13_Ravel11_Carter22/ps_res/'\n",
    "\n",
    "ps_file_name = top_path + 'Serrano_Ravel13_Ravel11_Carter22/ps_res/ps_res_16052023.xlsx'\n",
    "\n",
    "sheet_abun = 'abundance'\n",
    "sheet_meta = 'meta'\n",
    "sheet_umap = 'umap'\n",
    "sheet_pcoa = 'pcoa'\n",
    "\n",
    "# nn_file_name = ps_path + 'out_NN/NN_res_29012023.xlsx'\n"
   ]
  },
  {
   "cell_type": "markdown",
   "id": "7a8fd901",
   "metadata": {},
   "source": [
    "#### Load data"
   ]
  },
  {
   "cell_type": "code",
   "execution_count": 7,
   "id": "8e78a386",
   "metadata": {},
   "outputs": [
    {
     "name": "stdout",
     "output_type": "stream",
     "text": [
      "(119, 13)\n",
      "(7842, 31)\n"
     ]
    }
   ],
   "source": [
    "metabolic_meta = pd.read_excel(metabolic_filename, sheet_name = 'meta', index_col = 0)\n",
    "ps_meta = pd.read_excel(ps_file_name, sheet_name = 'meta', index_col = 0)\n",
    "# nn_meta = pd.read_excel(nn_file_name, sheet_name = 'meta', index_col = 0)\n",
    "print(metabolic_meta.shape)\n",
    "print(ps_meta.shape)"
   ]
  },
  {
   "cell_type": "code",
   "execution_count": 8,
   "id": "cbbc1210",
   "metadata": {},
   "outputs": [],
   "source": [
    "met_cols = [col for col in metabolic_meta.columns if 'ine' in col]\n",
    "met_cols.append('total')"
   ]
  },
  {
   "cell_type": "code",
   "execution_count": 9,
   "id": "3f1d820c",
   "metadata": {},
   "outputs": [],
   "source": [
    "ps_meta = ps_meta.merge(metabolic_meta[met_cols], left_on = 'sampleID', right_index = True)\n",
    "ps_meta['high_ps'] = np.where(ps_meta['mt_pseudotime'] >= 0.9, 1, 0)"
   ]
  },
  {
   "cell_type": "code",
   "execution_count": 10,
   "id": "b578a6f6",
   "metadata": {},
   "outputs": [
    {
     "data": {
      "text/plain": [
       "Index(['sampleID', 'subjectID', 'day', 'week', 'time', 'ph', 'nugent', 'menst',\n",
       "       'subCST', 'CST', 'score', 'db', 'nugnet', 'VAG_IRR', 'VAG_ITCH',\n",
       "       'VAG_ODOR', 'age', 'ethnicity', 'symptoms', 'ABV', 'SBV',\n",
       "       'BV_medication', 'shannon_index', 'whiff', 'clue', 'vag_fluid',\n",
       "       'BV_status', 'BV_bin', 'root', 'dpt_pseudotime', 'mt_pseudotime',\n",
       "       'Cadaverine', 'Putrescine', 'Spermidine', 'Spermine', 'Tyramine',\n",
       "       'total', 'high_ps'],\n",
       "      dtype='object')"
      ]
     },
     "execution_count": 10,
     "metadata": {},
     "output_type": "execute_result"
    }
   ],
   "source": [
    "ps_meta.columns"
   ]
  },
  {
   "cell_type": "code",
   "execution_count": 11,
   "id": "56392acd",
   "metadata": {},
   "outputs": [
    {
     "data": {
      "text/html": [
       "<div>\n",
       "<style scoped>\n",
       "    .dataframe tbody tr th:only-of-type {\n",
       "        vertical-align: middle;\n",
       "    }\n",
       "\n",
       "    .dataframe tbody tr th {\n",
       "        vertical-align: top;\n",
       "    }\n",
       "\n",
       "    .dataframe thead th {\n",
       "        text-align: right;\n",
       "    }\n",
       "</style>\n",
       "<table border=\"1\" class=\"dataframe\">\n",
       "  <thead>\n",
       "    <tr style=\"text-align: right;\">\n",
       "      <th></th>\n",
       "      <th>sampleID</th>\n",
       "      <th>subjectID</th>\n",
       "      <th>day</th>\n",
       "      <th>week</th>\n",
       "      <th>time</th>\n",
       "      <th>ph</th>\n",
       "      <th>nugent</th>\n",
       "      <th>menst</th>\n",
       "      <th>subCST</th>\n",
       "      <th>CST</th>\n",
       "      <th>...</th>\n",
       "      <th>root</th>\n",
       "      <th>dpt_pseudotime</th>\n",
       "      <th>mt_pseudotime</th>\n",
       "      <th>Cadaverine</th>\n",
       "      <th>Putrescine</th>\n",
       "      <th>Spermidine</th>\n",
       "      <th>Spermine</th>\n",
       "      <th>Tyramine</th>\n",
       "      <th>total</th>\n",
       "      <th>high_ps</th>\n",
       "    </tr>\n",
       "  </thead>\n",
       "  <tbody>\n",
       "    <tr>\n",
       "      <th>SRR13552767</th>\n",
       "      <td>UAB041_4_3</td>\n",
       "      <td>UAB041</td>\n",
       "      <td>3.0</td>\n",
       "      <td>4.0</td>\n",
       "      <td>24.0</td>\n",
       "      <td>4.7</td>\n",
       "      <td>2.0</td>\n",
       "      <td>NaN</td>\n",
       "      <td>III-B</td>\n",
       "      <td>III</td>\n",
       "      <td>...</td>\n",
       "      <td>reg</td>\n",
       "      <td>0.120098</td>\n",
       "      <td>0.879902</td>\n",
       "      <td>29.57</td>\n",
       "      <td>47.50</td>\n",
       "      <td>3.16</td>\n",
       "      <td>0.59</td>\n",
       "      <td>0.97</td>\n",
       "      <td>78.04</td>\n",
       "      <td>0</td>\n",
       "    </tr>\n",
       "    <tr>\n",
       "      <th>SRR13552768</th>\n",
       "      <td>UAB041_4_1</td>\n",
       "      <td>UAB041</td>\n",
       "      <td>1.0</td>\n",
       "      <td>4.0</td>\n",
       "      <td>22.0</td>\n",
       "      <td>4.7</td>\n",
       "      <td>3.0</td>\n",
       "      <td>1.0</td>\n",
       "      <td>III-B</td>\n",
       "      <td>III</td>\n",
       "      <td>...</td>\n",
       "      <td>reg</td>\n",
       "      <td>0.107971</td>\n",
       "      <td>0.892029</td>\n",
       "      <td>56.56</td>\n",
       "      <td>51.38</td>\n",
       "      <td>0.45</td>\n",
       "      <td>0.59</td>\n",
       "      <td>3.84</td>\n",
       "      <td>111.78</td>\n",
       "      <td>0</td>\n",
       "    </tr>\n",
       "    <tr>\n",
       "      <th>SRR13552770</th>\n",
       "      <td>UAB041_3_4</td>\n",
       "      <td>UAB041</td>\n",
       "      <td>4.0</td>\n",
       "      <td>3.0</td>\n",
       "      <td>18.0</td>\n",
       "      <td>7.0</td>\n",
       "      <td>6.0</td>\n",
       "      <td>2.0</td>\n",
       "      <td>III-B</td>\n",
       "      <td>III</td>\n",
       "      <td>...</td>\n",
       "      <td>reg</td>\n",
       "      <td>0.125645</td>\n",
       "      <td>0.874355</td>\n",
       "      <td>34.75</td>\n",
       "      <td>23.47</td>\n",
       "      <td>0.31</td>\n",
       "      <td>0.59</td>\n",
       "      <td>1.77</td>\n",
       "      <td>59.99</td>\n",
       "      <td>0</td>\n",
       "    </tr>\n",
       "    <tr>\n",
       "      <th>SRR13536579</th>\n",
       "      <td>UAB013_8_7</td>\n",
       "      <td>UAB013</td>\n",
       "      <td>7.0</td>\n",
       "      <td>8.0</td>\n",
       "      <td>56.0</td>\n",
       "      <td>5.8</td>\n",
       "      <td>3.0</td>\n",
       "      <td>NaN</td>\n",
       "      <td>III-B</td>\n",
       "      <td>III</td>\n",
       "      <td>...</td>\n",
       "      <td>reg</td>\n",
       "      <td>0.043210</td>\n",
       "      <td>0.956790</td>\n",
       "      <td>4.71</td>\n",
       "      <td>4.47</td>\n",
       "      <td>0.15</td>\n",
       "      <td>0.59</td>\n",
       "      <td>0.58</td>\n",
       "      <td>9.76</td>\n",
       "      <td>1</td>\n",
       "    </tr>\n",
       "    <tr>\n",
       "      <th>SRR13536278</th>\n",
       "      <td>UAB076_7_6</td>\n",
       "      <td>UAB076</td>\n",
       "      <td>6.0</td>\n",
       "      <td>7.0</td>\n",
       "      <td>48.0</td>\n",
       "      <td>4.7</td>\n",
       "      <td>9.0</td>\n",
       "      <td>NaN</td>\n",
       "      <td>IV-B</td>\n",
       "      <td>IV-B</td>\n",
       "      <td>...</td>\n",
       "      <td>reg</td>\n",
       "      <td>0.035700</td>\n",
       "      <td>0.964300</td>\n",
       "      <td>28.28</td>\n",
       "      <td>60.81</td>\n",
       "      <td>0.15</td>\n",
       "      <td>0.59</td>\n",
       "      <td>1.47</td>\n",
       "      <td>90.56</td>\n",
       "      <td>1</td>\n",
       "    </tr>\n",
       "    <tr>\n",
       "      <th>...</th>\n",
       "      <td>...</td>\n",
       "      <td>...</td>\n",
       "      <td>...</td>\n",
       "      <td>...</td>\n",
       "      <td>...</td>\n",
       "      <td>...</td>\n",
       "      <td>...</td>\n",
       "      <td>...</td>\n",
       "      <td>...</td>\n",
       "      <td>...</td>\n",
       "      <td>...</td>\n",
       "      <td>...</td>\n",
       "      <td>...</td>\n",
       "      <td>...</td>\n",
       "      <td>...</td>\n",
       "      <td>...</td>\n",
       "      <td>...</td>\n",
       "      <td>...</td>\n",
       "      <td>...</td>\n",
       "      <td>...</td>\n",
       "      <td>...</td>\n",
       "    </tr>\n",
       "    <tr>\n",
       "      <th>SRR905035</th>\n",
       "      <td>UAB040_8_4</td>\n",
       "      <td>UAB040</td>\n",
       "      <td>4.0</td>\n",
       "      <td>8.0</td>\n",
       "      <td>49.0</td>\n",
       "      <td>4.7</td>\n",
       "      <td>NaN</td>\n",
       "      <td>NaN</td>\n",
       "      <td>IV-B</td>\n",
       "      <td>IV-B</td>\n",
       "      <td>...</td>\n",
       "      <td>reg</td>\n",
       "      <td>0.097453</td>\n",
       "      <td>0.902547</td>\n",
       "      <td>767.07</td>\n",
       "      <td>809.58</td>\n",
       "      <td>9.76</td>\n",
       "      <td>0.59</td>\n",
       "      <td>95.19</td>\n",
       "      <td>1671.84</td>\n",
       "      <td>1</td>\n",
       "    </tr>\n",
       "    <tr>\n",
       "      <th>SRR905037</th>\n",
       "      <td>UAB040_8_6</td>\n",
       "      <td>UAB040</td>\n",
       "      <td>6.0</td>\n",
       "      <td>8.0</td>\n",
       "      <td>51.0</td>\n",
       "      <td>5.0</td>\n",
       "      <td>NaN</td>\n",
       "      <td>1.0</td>\n",
       "      <td>IV-B</td>\n",
       "      <td>IV-B</td>\n",
       "      <td>...</td>\n",
       "      <td>reg</td>\n",
       "      <td>0.053879</td>\n",
       "      <td>0.946121</td>\n",
       "      <td>73.75</td>\n",
       "      <td>65.43</td>\n",
       "      <td>0.15</td>\n",
       "      <td>0.59</td>\n",
       "      <td>21.81</td>\n",
       "      <td>160.99</td>\n",
       "      <td>1</td>\n",
       "    </tr>\n",
       "    <tr>\n",
       "      <th>SRR904472</th>\n",
       "      <td>UAB015_8_7</td>\n",
       "      <td>UAB015</td>\n",
       "      <td>7.0</td>\n",
       "      <td>8.0</td>\n",
       "      <td>49.0</td>\n",
       "      <td>4.4</td>\n",
       "      <td>NaN</td>\n",
       "      <td>1.0</td>\n",
       "      <td>III-A</td>\n",
       "      <td>III</td>\n",
       "      <td>...</td>\n",
       "      <td>reg</td>\n",
       "      <td>0.420258</td>\n",
       "      <td>0.579742</td>\n",
       "      <td>3.07</td>\n",
       "      <td>2.59</td>\n",
       "      <td>0.15</td>\n",
       "      <td>0.59</td>\n",
       "      <td>0.72</td>\n",
       "      <td>6.38</td>\n",
       "      <td>0</td>\n",
       "    </tr>\n",
       "    <tr>\n",
       "      <th>SRR904473</th>\n",
       "      <td>UAB015_9_1</td>\n",
       "      <td>UAB015</td>\n",
       "      <td>1.0</td>\n",
       "      <td>9.0</td>\n",
       "      <td>50.0</td>\n",
       "      <td>5.3</td>\n",
       "      <td>NaN</td>\n",
       "      <td>1.0</td>\n",
       "      <td>III-B</td>\n",
       "      <td>III</td>\n",
       "      <td>...</td>\n",
       "      <td>reg</td>\n",
       "      <td>0.104510</td>\n",
       "      <td>0.895490</td>\n",
       "      <td>11.15</td>\n",
       "      <td>6.76</td>\n",
       "      <td>0.15</td>\n",
       "      <td>0.59</td>\n",
       "      <td>0.95</td>\n",
       "      <td>18.86</td>\n",
       "      <td>0</td>\n",
       "    </tr>\n",
       "    <tr>\n",
       "      <th>SRR904492</th>\n",
       "      <td>UAB015_9_7</td>\n",
       "      <td>UAB015</td>\n",
       "      <td>7.0</td>\n",
       "      <td>9.0</td>\n",
       "      <td>55.0</td>\n",
       "      <td>5.5</td>\n",
       "      <td>NaN</td>\n",
       "      <td>3.0</td>\n",
       "      <td>III-B</td>\n",
       "      <td>III</td>\n",
       "      <td>...</td>\n",
       "      <td>reg</td>\n",
       "      <td>0.108655</td>\n",
       "      <td>0.891345</td>\n",
       "      <td>43.44</td>\n",
       "      <td>48.24</td>\n",
       "      <td>0.15</td>\n",
       "      <td>0.59</td>\n",
       "      <td>2.44</td>\n",
       "      <td>94.12</td>\n",
       "      <td>0</td>\n",
       "    </tr>\n",
       "  </tbody>\n",
       "</table>\n",
       "<p>77 rows × 38 columns</p>\n",
       "</div>"
      ],
      "text/plain": [
       "               sampleID subjectID  day  week  time   ph  nugent  menst subCST  \\\n",
       "SRR13552767  UAB041_4_3    UAB041  3.0   4.0  24.0  4.7     2.0    NaN  III-B   \n",
       "SRR13552768  UAB041_4_1    UAB041  1.0   4.0  22.0  4.7     3.0    1.0  III-B   \n",
       "SRR13552770  UAB041_3_4    UAB041  4.0   3.0  18.0  7.0     6.0    2.0  III-B   \n",
       "SRR13536579  UAB013_8_7    UAB013  7.0   8.0  56.0  5.8     3.0    NaN  III-B   \n",
       "SRR13536278  UAB076_7_6    UAB076  6.0   7.0  48.0  4.7     9.0    NaN   IV-B   \n",
       "...                 ...       ...  ...   ...   ...  ...     ...    ...    ...   \n",
       "SRR905035    UAB040_8_4    UAB040  4.0   8.0  49.0  4.7     NaN    NaN   IV-B   \n",
       "SRR905037    UAB040_8_6    UAB040  6.0   8.0  51.0  5.0     NaN    1.0   IV-B   \n",
       "SRR904472    UAB015_8_7    UAB015  7.0   8.0  49.0  4.4     NaN    1.0  III-A   \n",
       "SRR904473    UAB015_9_1    UAB015  1.0   9.0  50.0  5.3     NaN    1.0  III-B   \n",
       "SRR904492    UAB015_9_7    UAB015  7.0   9.0  55.0  5.5     NaN    3.0  III-B   \n",
       "\n",
       "              CST  ...  root dpt_pseudotime  mt_pseudotime  Cadaverine  \\\n",
       "SRR13552767   III  ...   reg       0.120098       0.879902       29.57   \n",
       "SRR13552768   III  ...   reg       0.107971       0.892029       56.56   \n",
       "SRR13552770   III  ...   reg       0.125645       0.874355       34.75   \n",
       "SRR13536579   III  ...   reg       0.043210       0.956790        4.71   \n",
       "SRR13536278  IV-B  ...   reg       0.035700       0.964300       28.28   \n",
       "...           ...  ...   ...            ...            ...         ...   \n",
       "SRR905035    IV-B  ...   reg       0.097453       0.902547      767.07   \n",
       "SRR905037    IV-B  ...   reg       0.053879       0.946121       73.75   \n",
       "SRR904472     III  ...   reg       0.420258       0.579742        3.07   \n",
       "SRR904473     III  ...   reg       0.104510       0.895490       11.15   \n",
       "SRR904492     III  ...   reg       0.108655       0.891345       43.44   \n",
       "\n",
       "             Putrescine  Spermidine  Spermine Tyramine    total  high_ps  \n",
       "SRR13552767       47.50        3.16      0.59     0.97    78.04        0  \n",
       "SRR13552768       51.38        0.45      0.59     3.84   111.78        0  \n",
       "SRR13552770       23.47        0.31      0.59     1.77    59.99        0  \n",
       "SRR13536579        4.47        0.15      0.59     0.58     9.76        1  \n",
       "SRR13536278       60.81        0.15      0.59     1.47    90.56        1  \n",
       "...                 ...         ...       ...      ...      ...      ...  \n",
       "SRR905035        809.58        9.76      0.59    95.19  1671.84        1  \n",
       "SRR905037         65.43        0.15      0.59    21.81   160.99        1  \n",
       "SRR904472          2.59        0.15      0.59     0.72     6.38        0  \n",
       "SRR904473          6.76        0.15      0.59     0.95    18.86        0  \n",
       "SRR904492         48.24        0.15      0.59     2.44    94.12        0  \n",
       "\n",
       "[77 rows x 38 columns]"
      ]
     },
     "execution_count": 11,
     "metadata": {},
     "output_type": "execute_result"
    }
   ],
   "source": [
    "ps_meta"
   ]
  },
  {
   "cell_type": "code",
   "execution_count": 29,
   "id": "61379f82",
   "metadata": {},
   "outputs": [],
   "source": [
    "dict_menst = {'meta': ps_meta[['subjectID', 'mt_pseudotime', 'Cadaverine', 'Putrescine', 'Spermidine', 'Spermine', 'Tyramine', 'total', 'high_ps']]}\n",
    "menst_path = ps_path + 'metabolites_with_ps.xlsx'\n",
    "paga_res.save_excel(menst_path, dict_menst)"
   ]
  },
  {
   "cell_type": "markdown",
   "id": "a6ba2cec",
   "metadata": {},
   "source": [
    "#### Statistics"
   ]
  },
  {
   "cell_type": "code",
   "execution_count": 15,
   "id": "87a8bf2a",
   "metadata": {},
   "outputs": [],
   "source": [
    "def get_wilcox(df, x, y, alt):\n",
    "    temp_df = df[[x, y]]\n",
    "    group0 = temp_df[y][temp_df[x] == 0].tolist()\n",
    "    group1 = temp_df[y][temp_df[x] == 1].tolist()\n",
    "    \n",
    "    # Check normality\n",
    "    norm_pval0 = stats.kstest(group0, 'norm').pvalue\n",
    "    norm_pval1 = stats.kstest(group1, 'norm').pvalue\n",
    "\n",
    "    # Check difference between distributions\n",
    "    dist_pval = ks_2samp(group0, group1).pvalue\n",
    "    \n",
    "    print('group0 not normal dist (<0.05): ', str(norm_pval0))\n",
    "    print('group1 not normal dist (<0.05): ', str(norm_pval1))\n",
    "    print('not same dist (<0.05): ', str(dist_pval))\n",
    "    \n",
    "    ## groups do not come from the same distribution or not normal\n",
    "    if norm_pval0 < 0.05 or norm_pval1 < 0.05 or dist_pval < 0.05: \n",
    "        p_val = stats.mannwhitneyu(group0, group1, alternative = alt)\n",
    "\n",
    "    ## groups come from the same distribution and normal\n",
    "    else: \n",
    "        p_val = stats.ttest_ind(group0, group1)\n",
    "    print(p_val)\n",
    "    \n",
    "    return p_val[1]\n",
    "\n",
    "def get_box(df, x, y, alt):\n",
    "    fig = px.box(df, x = x, y = y, width = 500, height = 350)\n",
    "    for s in df[x].unique():\n",
    "        fig.add_annotation(x = s,\n",
    "                           y = df[df[x] == s][y].max(),\n",
    "                           text = str(len(df[df[x] == s][x])),\n",
    "                           yshift = 10,\n",
    "                           showarrow = False)\n",
    "#     fig.show()\n",
    "    \n",
    "    results = 0\n",
    "    if len(df[x].unique()) == 2:\n",
    "        results = get_wilcox(df, x, y, alt)\n",
    "    \n",
    "    return fig, results\n",
    "\n",
    "def get_scatter(df, x, y):\n",
    "    fig = px.scatter(df, x = x, y = y, trendline = 'ols', width = 600, height = 400)\n",
    "    fig.show()\n",
    "    \n",
    "    results = px.get_trendline_results(fig)\n",
    "    \n",
    "    display(results.iloc[0][\"px_fit_results\"].params)\n",
    "    display(results.iloc[0][\"px_fit_results\"].summary())\n",
    "\n",
    "    return fig, results\n",
    "\n",
    "def get_plot(df, x, y, nona, func, alt):\n",
    "    if nona:\n",
    "        df_nona = df[df[x].notna()]\n",
    "    else:\n",
    "        df[x] = df[x].fillna(0)\n",
    "        df_nona = df\n",
    "    \n",
    "    fig, results = func(df_nona, x, y, alt)\n",
    "    \n",
    "    return fig, results"
   ]
  },
  {
   "cell_type": "code",
   "execution_count": 23,
   "id": "a184aaa2",
   "metadata": {},
   "outputs": [
    {
     "name": "stdout",
     "output_type": "stream",
     "text": [
      "group0 not normal dist (<0.05):  7.781989355895707e-60\n",
      "group1 not normal dist (<0.05):  7.606867162621322e-153\n",
      "not same dist (<0.05):  9.576217300710788e-05\n",
      "MannwhitneyuResult(statistic=255.0, pvalue=0.00012933457460819912)\n"
     ]
    },
    {
     "data": {
      "application/vnd.plotly.v1+json": {
       "config": {
        "plotlyServerURL": "https://plot.ly"
       },
       "data": [
        {
         "alignmentgroup": "True",
         "hovertemplate": "high_ps=%{x}<br>Cadaverine=%{y}<extra></extra>",
         "legendgroup": "",
         "marker": {
          "color": "#636efa"
         },
         "name": "",
         "notched": false,
         "offsetgroup": "",
         "orientation": "v",
         "showlegend": false,
         "type": "box",
         "x": [
          0,
          0,
          0,
          1,
          1,
          1,
          0,
          1,
          1,
          1,
          1,
          1,
          1,
          1,
          1,
          1,
          1,
          1,
          1,
          1,
          1,
          1,
          1,
          1,
          1,
          1,
          1,
          1,
          0,
          1,
          1,
          1,
          0,
          0,
          1,
          1,
          1,
          0,
          0,
          1,
          1,
          1,
          0,
          0,
          1,
          1,
          1,
          1,
          1,
          0,
          1,
          1,
          1,
          1,
          1,
          1,
          1,
          1,
          0,
          1,
          1,
          1,
          1,
          1,
          0,
          1,
          1,
          1,
          0,
          0,
          1,
          0,
          1,
          1,
          0,
          0,
          0
         ],
         "x0": " ",
         "xaxis": "x",
         "y": [
          29.57,
          56.56,
          34.75,
          4.71,
          28.28,
          119.96,
          674.65,
          4990.55,
          103.51,
          113.3,
          126.98,
          75.6,
          28.46,
          122.36,
          3.31,
          41.03,
          13.05,
          43.99,
          16.01,
          439.91,
          59.33,
          1388.11,
          707.92,
          221.8,
          887.21,
          1144.13,
          61.74,
          2.86,
          7.21,
          1574.8,
          746.73,
          155.08,
          7.36,
          13.96,
          558.2,
          966.69,
          9.26,
          13.6,
          632.14,
          11.13,
          491.66,
          168.39,
          5.12,
          6.93,
          11.24,
          75.04,
          60.63,
          134.01,
          694.98,
          5.88,
          133.08,
          524.93,
          391.85,
          67.46,
          608.11,
          741.19,
          22.73,
          192.23,
          159.51,
          977.78,
          229.2,
          31.61,
          208.86,
          510.15,
          6.62,
          92.79,
          828.06,
          234.74,
          397.4,
          9.2,
          1162.61,
          31.24,
          767.07,
          73.75,
          3.07,
          11.15,
          43.44
         ],
         "y0": " ",
         "yaxis": "y"
        }
       ],
       "layout": {
        "annotations": [
         {
          "showarrow": false,
          "text": "20",
          "x": 0,
          "y": 674.65,
          "yshift": 10
         },
         {
          "showarrow": false,
          "text": "57",
          "x": 1,
          "y": 4990.55,
          "yshift": 10
         }
        ],
        "boxmode": "group",
        "height": 350,
        "legend": {
         "tracegroupgap": 0
        },
        "margin": {
         "t": 60
        },
        "template": {
         "data": {
          "bar": [
           {
            "error_x": {
             "color": "#2a3f5f"
            },
            "error_y": {
             "color": "#2a3f5f"
            },
            "marker": {
             "line": {
              "color": "#E5ECF6",
              "width": 0.5
             },
             "pattern": {
              "fillmode": "overlay",
              "size": 10,
              "solidity": 0.2
             }
            },
            "type": "bar"
           }
          ],
          "barpolar": [
           {
            "marker": {
             "line": {
              "color": "#E5ECF6",
              "width": 0.5
             },
             "pattern": {
              "fillmode": "overlay",
              "size": 10,
              "solidity": 0.2
             }
            },
            "type": "barpolar"
           }
          ],
          "carpet": [
           {
            "aaxis": {
             "endlinecolor": "#2a3f5f",
             "gridcolor": "white",
             "linecolor": "white",
             "minorgridcolor": "white",
             "startlinecolor": "#2a3f5f"
            },
            "baxis": {
             "endlinecolor": "#2a3f5f",
             "gridcolor": "white",
             "linecolor": "white",
             "minorgridcolor": "white",
             "startlinecolor": "#2a3f5f"
            },
            "type": "carpet"
           }
          ],
          "choropleth": [
           {
            "colorbar": {
             "outlinewidth": 0,
             "ticks": ""
            },
            "type": "choropleth"
           }
          ],
          "contour": [
           {
            "colorbar": {
             "outlinewidth": 0,
             "ticks": ""
            },
            "colorscale": [
             [
              0,
              "#0d0887"
             ],
             [
              0.1111111111111111,
              "#46039f"
             ],
             [
              0.2222222222222222,
              "#7201a8"
             ],
             [
              0.3333333333333333,
              "#9c179e"
             ],
             [
              0.4444444444444444,
              "#bd3786"
             ],
             [
              0.5555555555555556,
              "#d8576b"
             ],
             [
              0.6666666666666666,
              "#ed7953"
             ],
             [
              0.7777777777777778,
              "#fb9f3a"
             ],
             [
              0.8888888888888888,
              "#fdca26"
             ],
             [
              1,
              "#f0f921"
             ]
            ],
            "type": "contour"
           }
          ],
          "contourcarpet": [
           {
            "colorbar": {
             "outlinewidth": 0,
             "ticks": ""
            },
            "type": "contourcarpet"
           }
          ],
          "heatmap": [
           {
            "colorbar": {
             "outlinewidth": 0,
             "ticks": ""
            },
            "colorscale": [
             [
              0,
              "#0d0887"
             ],
             [
              0.1111111111111111,
              "#46039f"
             ],
             [
              0.2222222222222222,
              "#7201a8"
             ],
             [
              0.3333333333333333,
              "#9c179e"
             ],
             [
              0.4444444444444444,
              "#bd3786"
             ],
             [
              0.5555555555555556,
              "#d8576b"
             ],
             [
              0.6666666666666666,
              "#ed7953"
             ],
             [
              0.7777777777777778,
              "#fb9f3a"
             ],
             [
              0.8888888888888888,
              "#fdca26"
             ],
             [
              1,
              "#f0f921"
             ]
            ],
            "type": "heatmap"
           }
          ],
          "heatmapgl": [
           {
            "colorbar": {
             "outlinewidth": 0,
             "ticks": ""
            },
            "colorscale": [
             [
              0,
              "#0d0887"
             ],
             [
              0.1111111111111111,
              "#46039f"
             ],
             [
              0.2222222222222222,
              "#7201a8"
             ],
             [
              0.3333333333333333,
              "#9c179e"
             ],
             [
              0.4444444444444444,
              "#bd3786"
             ],
             [
              0.5555555555555556,
              "#d8576b"
             ],
             [
              0.6666666666666666,
              "#ed7953"
             ],
             [
              0.7777777777777778,
              "#fb9f3a"
             ],
             [
              0.8888888888888888,
              "#fdca26"
             ],
             [
              1,
              "#f0f921"
             ]
            ],
            "type": "heatmapgl"
           }
          ],
          "histogram": [
           {
            "marker": {
             "pattern": {
              "fillmode": "overlay",
              "size": 10,
              "solidity": 0.2
             }
            },
            "type": "histogram"
           }
          ],
          "histogram2d": [
           {
            "colorbar": {
             "outlinewidth": 0,
             "ticks": ""
            },
            "colorscale": [
             [
              0,
              "#0d0887"
             ],
             [
              0.1111111111111111,
              "#46039f"
             ],
             [
              0.2222222222222222,
              "#7201a8"
             ],
             [
              0.3333333333333333,
              "#9c179e"
             ],
             [
              0.4444444444444444,
              "#bd3786"
             ],
             [
              0.5555555555555556,
              "#d8576b"
             ],
             [
              0.6666666666666666,
              "#ed7953"
             ],
             [
              0.7777777777777778,
              "#fb9f3a"
             ],
             [
              0.8888888888888888,
              "#fdca26"
             ],
             [
              1,
              "#f0f921"
             ]
            ],
            "type": "histogram2d"
           }
          ],
          "histogram2dcontour": [
           {
            "colorbar": {
             "outlinewidth": 0,
             "ticks": ""
            },
            "colorscale": [
             [
              0,
              "#0d0887"
             ],
             [
              0.1111111111111111,
              "#46039f"
             ],
             [
              0.2222222222222222,
              "#7201a8"
             ],
             [
              0.3333333333333333,
              "#9c179e"
             ],
             [
              0.4444444444444444,
              "#bd3786"
             ],
             [
              0.5555555555555556,
              "#d8576b"
             ],
             [
              0.6666666666666666,
              "#ed7953"
             ],
             [
              0.7777777777777778,
              "#fb9f3a"
             ],
             [
              0.8888888888888888,
              "#fdca26"
             ],
             [
              1,
              "#f0f921"
             ]
            ],
            "type": "histogram2dcontour"
           }
          ],
          "mesh3d": [
           {
            "colorbar": {
             "outlinewidth": 0,
             "ticks": ""
            },
            "type": "mesh3d"
           }
          ],
          "parcoords": [
           {
            "line": {
             "colorbar": {
              "outlinewidth": 0,
              "ticks": ""
             }
            },
            "type": "parcoords"
           }
          ],
          "pie": [
           {
            "automargin": true,
            "type": "pie"
           }
          ],
          "scatter": [
           {
            "marker": {
             "colorbar": {
              "outlinewidth": 0,
              "ticks": ""
             }
            },
            "type": "scatter"
           }
          ],
          "scatter3d": [
           {
            "line": {
             "colorbar": {
              "outlinewidth": 0,
              "ticks": ""
             }
            },
            "marker": {
             "colorbar": {
              "outlinewidth": 0,
              "ticks": ""
             }
            },
            "type": "scatter3d"
           }
          ],
          "scattercarpet": [
           {
            "marker": {
             "colorbar": {
              "outlinewidth": 0,
              "ticks": ""
             }
            },
            "type": "scattercarpet"
           }
          ],
          "scattergeo": [
           {
            "marker": {
             "colorbar": {
              "outlinewidth": 0,
              "ticks": ""
             }
            },
            "type": "scattergeo"
           }
          ],
          "scattergl": [
           {
            "marker": {
             "colorbar": {
              "outlinewidth": 0,
              "ticks": ""
             }
            },
            "type": "scattergl"
           }
          ],
          "scattermapbox": [
           {
            "marker": {
             "colorbar": {
              "outlinewidth": 0,
              "ticks": ""
             }
            },
            "type": "scattermapbox"
           }
          ],
          "scatterpolar": [
           {
            "marker": {
             "colorbar": {
              "outlinewidth": 0,
              "ticks": ""
             }
            },
            "type": "scatterpolar"
           }
          ],
          "scatterpolargl": [
           {
            "marker": {
             "colorbar": {
              "outlinewidth": 0,
              "ticks": ""
             }
            },
            "type": "scatterpolargl"
           }
          ],
          "scatterternary": [
           {
            "marker": {
             "colorbar": {
              "outlinewidth": 0,
              "ticks": ""
             }
            },
            "type": "scatterternary"
           }
          ],
          "surface": [
           {
            "colorbar": {
             "outlinewidth": 0,
             "ticks": ""
            },
            "colorscale": [
             [
              0,
              "#0d0887"
             ],
             [
              0.1111111111111111,
              "#46039f"
             ],
             [
              0.2222222222222222,
              "#7201a8"
             ],
             [
              0.3333333333333333,
              "#9c179e"
             ],
             [
              0.4444444444444444,
              "#bd3786"
             ],
             [
              0.5555555555555556,
              "#d8576b"
             ],
             [
              0.6666666666666666,
              "#ed7953"
             ],
             [
              0.7777777777777778,
              "#fb9f3a"
             ],
             [
              0.8888888888888888,
              "#fdca26"
             ],
             [
              1,
              "#f0f921"
             ]
            ],
            "type": "surface"
           }
          ],
          "table": [
           {
            "cells": {
             "fill": {
              "color": "#EBF0F8"
             },
             "line": {
              "color": "white"
             }
            },
            "header": {
             "fill": {
              "color": "#C8D4E3"
             },
             "line": {
              "color": "white"
             }
            },
            "type": "table"
           }
          ]
         },
         "layout": {
          "annotationdefaults": {
           "arrowcolor": "#2a3f5f",
           "arrowhead": 0,
           "arrowwidth": 1
          },
          "autotypenumbers": "strict",
          "coloraxis": {
           "colorbar": {
            "outlinewidth": 0,
            "ticks": ""
           }
          },
          "colorscale": {
           "diverging": [
            [
             0,
             "#8e0152"
            ],
            [
             0.1,
             "#c51b7d"
            ],
            [
             0.2,
             "#de77ae"
            ],
            [
             0.3,
             "#f1b6da"
            ],
            [
             0.4,
             "#fde0ef"
            ],
            [
             0.5,
             "#f7f7f7"
            ],
            [
             0.6,
             "#e6f5d0"
            ],
            [
             0.7,
             "#b8e186"
            ],
            [
             0.8,
             "#7fbc41"
            ],
            [
             0.9,
             "#4d9221"
            ],
            [
             1,
             "#276419"
            ]
           ],
           "sequential": [
            [
             0,
             "#0d0887"
            ],
            [
             0.1111111111111111,
             "#46039f"
            ],
            [
             0.2222222222222222,
             "#7201a8"
            ],
            [
             0.3333333333333333,
             "#9c179e"
            ],
            [
             0.4444444444444444,
             "#bd3786"
            ],
            [
             0.5555555555555556,
             "#d8576b"
            ],
            [
             0.6666666666666666,
             "#ed7953"
            ],
            [
             0.7777777777777778,
             "#fb9f3a"
            ],
            [
             0.8888888888888888,
             "#fdca26"
            ],
            [
             1,
             "#f0f921"
            ]
           ],
           "sequentialminus": [
            [
             0,
             "#0d0887"
            ],
            [
             0.1111111111111111,
             "#46039f"
            ],
            [
             0.2222222222222222,
             "#7201a8"
            ],
            [
             0.3333333333333333,
             "#9c179e"
            ],
            [
             0.4444444444444444,
             "#bd3786"
            ],
            [
             0.5555555555555556,
             "#d8576b"
            ],
            [
             0.6666666666666666,
             "#ed7953"
            ],
            [
             0.7777777777777778,
             "#fb9f3a"
            ],
            [
             0.8888888888888888,
             "#fdca26"
            ],
            [
             1,
             "#f0f921"
            ]
           ]
          },
          "colorway": [
           "#636efa",
           "#EF553B",
           "#00cc96",
           "#ab63fa",
           "#FFA15A",
           "#19d3f3",
           "#FF6692",
           "#B6E880",
           "#FF97FF",
           "#FECB52"
          ],
          "font": {
           "color": "#2a3f5f"
          },
          "geo": {
           "bgcolor": "white",
           "lakecolor": "white",
           "landcolor": "#E5ECF6",
           "showlakes": true,
           "showland": true,
           "subunitcolor": "white"
          },
          "hoverlabel": {
           "align": "left"
          },
          "hovermode": "closest",
          "mapbox": {
           "style": "light"
          },
          "paper_bgcolor": "white",
          "plot_bgcolor": "#E5ECF6",
          "polar": {
           "angularaxis": {
            "gridcolor": "white",
            "linecolor": "white",
            "ticks": ""
           },
           "bgcolor": "#E5ECF6",
           "radialaxis": {
            "gridcolor": "white",
            "linecolor": "white",
            "ticks": ""
           }
          },
          "scene": {
           "xaxis": {
            "backgroundcolor": "#E5ECF6",
            "gridcolor": "white",
            "gridwidth": 2,
            "linecolor": "white",
            "showbackground": true,
            "ticks": "",
            "zerolinecolor": "white"
           },
           "yaxis": {
            "backgroundcolor": "#E5ECF6",
            "gridcolor": "white",
            "gridwidth": 2,
            "linecolor": "white",
            "showbackground": true,
            "ticks": "",
            "zerolinecolor": "white"
           },
           "zaxis": {
            "backgroundcolor": "#E5ECF6",
            "gridcolor": "white",
            "gridwidth": 2,
            "linecolor": "white",
            "showbackground": true,
            "ticks": "",
            "zerolinecolor": "white"
           }
          },
          "shapedefaults": {
           "line": {
            "color": "#2a3f5f"
           }
          },
          "ternary": {
           "aaxis": {
            "gridcolor": "white",
            "linecolor": "white",
            "ticks": ""
           },
           "baxis": {
            "gridcolor": "white",
            "linecolor": "white",
            "ticks": ""
           },
           "bgcolor": "#E5ECF6",
           "caxis": {
            "gridcolor": "white",
            "linecolor": "white",
            "ticks": ""
           }
          },
          "title": {
           "x": 0.05
          },
          "xaxis": {
           "automargin": true,
           "gridcolor": "white",
           "linecolor": "white",
           "ticks": "",
           "title": {
            "standoff": 15
           },
           "zerolinecolor": "white",
           "zerolinewidth": 2
          },
          "yaxis": {
           "automargin": true,
           "gridcolor": "white",
           "linecolor": "white",
           "ticks": "",
           "title": {
            "standoff": 15
           },
           "zerolinecolor": "white",
           "zerolinewidth": 2
          }
         }
        },
        "width": 500,
        "xaxis": {
         "anchor": "y",
         "domain": [
          0,
          1
         ],
         "title": {
          "text": "high_ps"
         }
        },
        "yaxis": {
         "anchor": "x",
         "domain": [
          0,
          1
         ],
         "title": {
          "text": "Cadaverine"
         }
        }
       }
      },
      "text/html": [
       "<div>                            <div id=\"fa39e219-9563-41f4-93b6-17bb89b209a8\" class=\"plotly-graph-div\" style=\"height:350px; width:500px;\"></div>            <script type=\"text/javascript\">                require([\"plotly\"], function(Plotly) {                    window.PLOTLYENV=window.PLOTLYENV || {};                                    if (document.getElementById(\"fa39e219-9563-41f4-93b6-17bb89b209a8\")) {                    Plotly.newPlot(                        \"fa39e219-9563-41f4-93b6-17bb89b209a8\",                        [{\"alignmentgroup\":\"True\",\"hovertemplate\":\"high_ps=%{x}<br>Cadaverine=%{y}<extra></extra>\",\"legendgroup\":\"\",\"marker\":{\"color\":\"#636efa\"},\"name\":\"\",\"notched\":false,\"offsetgroup\":\"\",\"orientation\":\"v\",\"showlegend\":false,\"x\":[0,0,0,1,1,1,0,1,1,1,1,1,1,1,1,1,1,1,1,1,1,1,1,1,1,1,1,1,0,1,1,1,0,0,1,1,1,0,0,1,1,1,0,0,1,1,1,1,1,0,1,1,1,1,1,1,1,1,0,1,1,1,1,1,0,1,1,1,0,0,1,0,1,1,0,0,0],\"x0\":\" \",\"xaxis\":\"x\",\"y\":[29.57,56.56,34.75,4.71,28.28,119.96,674.65,4990.55,103.51,113.3,126.98,75.6,28.46,122.36,3.31,41.03,13.05,43.99,16.01,439.91,59.33,1388.11,707.92,221.8,887.21,1144.13,61.74,2.86,7.21,1574.8,746.73,155.08,7.36,13.96,558.2,966.69,9.26,13.6,632.14,11.13,491.66,168.39,5.12,6.93,11.24,75.04,60.63,134.01,694.98,5.88,133.08,524.93,391.85,67.46,608.11,741.19,22.73,192.23,159.51,977.78,229.2,31.61,208.86,510.15,6.62,92.79,828.06,234.74,397.4,9.2,1162.61,31.24,767.07,73.75,3.07,11.15,43.44],\"y0\":\" \",\"yaxis\":\"y\",\"type\":\"box\"}],                        {\"template\":{\"data\":{\"bar\":[{\"error_x\":{\"color\":\"#2a3f5f\"},\"error_y\":{\"color\":\"#2a3f5f\"},\"marker\":{\"line\":{\"color\":\"#E5ECF6\",\"width\":0.5},\"pattern\":{\"fillmode\":\"overlay\",\"size\":10,\"solidity\":0.2}},\"type\":\"bar\"}],\"barpolar\":[{\"marker\":{\"line\":{\"color\":\"#E5ECF6\",\"width\":0.5},\"pattern\":{\"fillmode\":\"overlay\",\"size\":10,\"solidity\":0.2}},\"type\":\"barpolar\"}],\"carpet\":[{\"aaxis\":{\"endlinecolor\":\"#2a3f5f\",\"gridcolor\":\"white\",\"linecolor\":\"white\",\"minorgridcolor\":\"white\",\"startlinecolor\":\"#2a3f5f\"},\"baxis\":{\"endlinecolor\":\"#2a3f5f\",\"gridcolor\":\"white\",\"linecolor\":\"white\",\"minorgridcolor\":\"white\",\"startlinecolor\":\"#2a3f5f\"},\"type\":\"carpet\"}],\"choropleth\":[{\"colorbar\":{\"outlinewidth\":0,\"ticks\":\"\"},\"type\":\"choropleth\"}],\"contour\":[{\"colorbar\":{\"outlinewidth\":0,\"ticks\":\"\"},\"colorscale\":[[0.0,\"#0d0887\"],[0.1111111111111111,\"#46039f\"],[0.2222222222222222,\"#7201a8\"],[0.3333333333333333,\"#9c179e\"],[0.4444444444444444,\"#bd3786\"],[0.5555555555555556,\"#d8576b\"],[0.6666666666666666,\"#ed7953\"],[0.7777777777777778,\"#fb9f3a\"],[0.8888888888888888,\"#fdca26\"],[1.0,\"#f0f921\"]],\"type\":\"contour\"}],\"contourcarpet\":[{\"colorbar\":{\"outlinewidth\":0,\"ticks\":\"\"},\"type\":\"contourcarpet\"}],\"heatmap\":[{\"colorbar\":{\"outlinewidth\":0,\"ticks\":\"\"},\"colorscale\":[[0.0,\"#0d0887\"],[0.1111111111111111,\"#46039f\"],[0.2222222222222222,\"#7201a8\"],[0.3333333333333333,\"#9c179e\"],[0.4444444444444444,\"#bd3786\"],[0.5555555555555556,\"#d8576b\"],[0.6666666666666666,\"#ed7953\"],[0.7777777777777778,\"#fb9f3a\"],[0.8888888888888888,\"#fdca26\"],[1.0,\"#f0f921\"]],\"type\":\"heatmap\"}],\"heatmapgl\":[{\"colorbar\":{\"outlinewidth\":0,\"ticks\":\"\"},\"colorscale\":[[0.0,\"#0d0887\"],[0.1111111111111111,\"#46039f\"],[0.2222222222222222,\"#7201a8\"],[0.3333333333333333,\"#9c179e\"],[0.4444444444444444,\"#bd3786\"],[0.5555555555555556,\"#d8576b\"],[0.6666666666666666,\"#ed7953\"],[0.7777777777777778,\"#fb9f3a\"],[0.8888888888888888,\"#fdca26\"],[1.0,\"#f0f921\"]],\"type\":\"heatmapgl\"}],\"histogram\":[{\"marker\":{\"pattern\":{\"fillmode\":\"overlay\",\"size\":10,\"solidity\":0.2}},\"type\":\"histogram\"}],\"histogram2d\":[{\"colorbar\":{\"outlinewidth\":0,\"ticks\":\"\"},\"colorscale\":[[0.0,\"#0d0887\"],[0.1111111111111111,\"#46039f\"],[0.2222222222222222,\"#7201a8\"],[0.3333333333333333,\"#9c179e\"],[0.4444444444444444,\"#bd3786\"],[0.5555555555555556,\"#d8576b\"],[0.6666666666666666,\"#ed7953\"],[0.7777777777777778,\"#fb9f3a\"],[0.8888888888888888,\"#fdca26\"],[1.0,\"#f0f921\"]],\"type\":\"histogram2d\"}],\"histogram2dcontour\":[{\"colorbar\":{\"outlinewidth\":0,\"ticks\":\"\"},\"colorscale\":[[0.0,\"#0d0887\"],[0.1111111111111111,\"#46039f\"],[0.2222222222222222,\"#7201a8\"],[0.3333333333333333,\"#9c179e\"],[0.4444444444444444,\"#bd3786\"],[0.5555555555555556,\"#d8576b\"],[0.6666666666666666,\"#ed7953\"],[0.7777777777777778,\"#fb9f3a\"],[0.8888888888888888,\"#fdca26\"],[1.0,\"#f0f921\"]],\"type\":\"histogram2dcontour\"}],\"mesh3d\":[{\"colorbar\":{\"outlinewidth\":0,\"ticks\":\"\"},\"type\":\"mesh3d\"}],\"parcoords\":[{\"line\":{\"colorbar\":{\"outlinewidth\":0,\"ticks\":\"\"}},\"type\":\"parcoords\"}],\"pie\":[{\"automargin\":true,\"type\":\"pie\"}],\"scatter\":[{\"marker\":{\"colorbar\":{\"outlinewidth\":0,\"ticks\":\"\"}},\"type\":\"scatter\"}],\"scatter3d\":[{\"line\":{\"colorbar\":{\"outlinewidth\":0,\"ticks\":\"\"}},\"marker\":{\"colorbar\":{\"outlinewidth\":0,\"ticks\":\"\"}},\"type\":\"scatter3d\"}],\"scattercarpet\":[{\"marker\":{\"colorbar\":{\"outlinewidth\":0,\"ticks\":\"\"}},\"type\":\"scattercarpet\"}],\"scattergeo\":[{\"marker\":{\"colorbar\":{\"outlinewidth\":0,\"ticks\":\"\"}},\"type\":\"scattergeo\"}],\"scattergl\":[{\"marker\":{\"colorbar\":{\"outlinewidth\":0,\"ticks\":\"\"}},\"type\":\"scattergl\"}],\"scattermapbox\":[{\"marker\":{\"colorbar\":{\"outlinewidth\":0,\"ticks\":\"\"}},\"type\":\"scattermapbox\"}],\"scatterpolar\":[{\"marker\":{\"colorbar\":{\"outlinewidth\":0,\"ticks\":\"\"}},\"type\":\"scatterpolar\"}],\"scatterpolargl\":[{\"marker\":{\"colorbar\":{\"outlinewidth\":0,\"ticks\":\"\"}},\"type\":\"scatterpolargl\"}],\"scatterternary\":[{\"marker\":{\"colorbar\":{\"outlinewidth\":0,\"ticks\":\"\"}},\"type\":\"scatterternary\"}],\"surface\":[{\"colorbar\":{\"outlinewidth\":0,\"ticks\":\"\"},\"colorscale\":[[0.0,\"#0d0887\"],[0.1111111111111111,\"#46039f\"],[0.2222222222222222,\"#7201a8\"],[0.3333333333333333,\"#9c179e\"],[0.4444444444444444,\"#bd3786\"],[0.5555555555555556,\"#d8576b\"],[0.6666666666666666,\"#ed7953\"],[0.7777777777777778,\"#fb9f3a\"],[0.8888888888888888,\"#fdca26\"],[1.0,\"#f0f921\"]],\"type\":\"surface\"}],\"table\":[{\"cells\":{\"fill\":{\"color\":\"#EBF0F8\"},\"line\":{\"color\":\"white\"}},\"header\":{\"fill\":{\"color\":\"#C8D4E3\"},\"line\":{\"color\":\"white\"}},\"type\":\"table\"}]},\"layout\":{\"annotationdefaults\":{\"arrowcolor\":\"#2a3f5f\",\"arrowhead\":0,\"arrowwidth\":1},\"autotypenumbers\":\"strict\",\"coloraxis\":{\"colorbar\":{\"outlinewidth\":0,\"ticks\":\"\"}},\"colorscale\":{\"diverging\":[[0,\"#8e0152\"],[0.1,\"#c51b7d\"],[0.2,\"#de77ae\"],[0.3,\"#f1b6da\"],[0.4,\"#fde0ef\"],[0.5,\"#f7f7f7\"],[0.6,\"#e6f5d0\"],[0.7,\"#b8e186\"],[0.8,\"#7fbc41\"],[0.9,\"#4d9221\"],[1,\"#276419\"]],\"sequential\":[[0.0,\"#0d0887\"],[0.1111111111111111,\"#46039f\"],[0.2222222222222222,\"#7201a8\"],[0.3333333333333333,\"#9c179e\"],[0.4444444444444444,\"#bd3786\"],[0.5555555555555556,\"#d8576b\"],[0.6666666666666666,\"#ed7953\"],[0.7777777777777778,\"#fb9f3a\"],[0.8888888888888888,\"#fdca26\"],[1.0,\"#f0f921\"]],\"sequentialminus\":[[0.0,\"#0d0887\"],[0.1111111111111111,\"#46039f\"],[0.2222222222222222,\"#7201a8\"],[0.3333333333333333,\"#9c179e\"],[0.4444444444444444,\"#bd3786\"],[0.5555555555555556,\"#d8576b\"],[0.6666666666666666,\"#ed7953\"],[0.7777777777777778,\"#fb9f3a\"],[0.8888888888888888,\"#fdca26\"],[1.0,\"#f0f921\"]]},\"colorway\":[\"#636efa\",\"#EF553B\",\"#00cc96\",\"#ab63fa\",\"#FFA15A\",\"#19d3f3\",\"#FF6692\",\"#B6E880\",\"#FF97FF\",\"#FECB52\"],\"font\":{\"color\":\"#2a3f5f\"},\"geo\":{\"bgcolor\":\"white\",\"lakecolor\":\"white\",\"landcolor\":\"#E5ECF6\",\"showlakes\":true,\"showland\":true,\"subunitcolor\":\"white\"},\"hoverlabel\":{\"align\":\"left\"},\"hovermode\":\"closest\",\"mapbox\":{\"style\":\"light\"},\"paper_bgcolor\":\"white\",\"plot_bgcolor\":\"#E5ECF6\",\"polar\":{\"angularaxis\":{\"gridcolor\":\"white\",\"linecolor\":\"white\",\"ticks\":\"\"},\"bgcolor\":\"#E5ECF6\",\"radialaxis\":{\"gridcolor\":\"white\",\"linecolor\":\"white\",\"ticks\":\"\"}},\"scene\":{\"xaxis\":{\"backgroundcolor\":\"#E5ECF6\",\"gridcolor\":\"white\",\"gridwidth\":2,\"linecolor\":\"white\",\"showbackground\":true,\"ticks\":\"\",\"zerolinecolor\":\"white\"},\"yaxis\":{\"backgroundcolor\":\"#E5ECF6\",\"gridcolor\":\"white\",\"gridwidth\":2,\"linecolor\":\"white\",\"showbackground\":true,\"ticks\":\"\",\"zerolinecolor\":\"white\"},\"zaxis\":{\"backgroundcolor\":\"#E5ECF6\",\"gridcolor\":\"white\",\"gridwidth\":2,\"linecolor\":\"white\",\"showbackground\":true,\"ticks\":\"\",\"zerolinecolor\":\"white\"}},\"shapedefaults\":{\"line\":{\"color\":\"#2a3f5f\"}},\"ternary\":{\"aaxis\":{\"gridcolor\":\"white\",\"linecolor\":\"white\",\"ticks\":\"\"},\"baxis\":{\"gridcolor\":\"white\",\"linecolor\":\"white\",\"ticks\":\"\"},\"bgcolor\":\"#E5ECF6\",\"caxis\":{\"gridcolor\":\"white\",\"linecolor\":\"white\",\"ticks\":\"\"}},\"title\":{\"x\":0.05},\"xaxis\":{\"automargin\":true,\"gridcolor\":\"white\",\"linecolor\":\"white\",\"ticks\":\"\",\"title\":{\"standoff\":15},\"zerolinecolor\":\"white\",\"zerolinewidth\":2},\"yaxis\":{\"automargin\":true,\"gridcolor\":\"white\",\"linecolor\":\"white\",\"ticks\":\"\",\"title\":{\"standoff\":15},\"zerolinecolor\":\"white\",\"zerolinewidth\":2}}},\"xaxis\":{\"anchor\":\"y\",\"domain\":[0.0,1.0],\"title\":{\"text\":\"high_ps\"}},\"yaxis\":{\"anchor\":\"x\",\"domain\":[0.0,1.0],\"title\":{\"text\":\"Cadaverine\"}},\"legend\":{\"tracegroupgap\":0},\"margin\":{\"t\":60},\"boxmode\":\"group\",\"height\":350,\"width\":500,\"annotations\":[{\"showarrow\":false,\"text\":\"20\",\"x\":0,\"y\":674.65,\"yshift\":10},{\"showarrow\":false,\"text\":\"57\",\"x\":1,\"y\":4990.55,\"yshift\":10}]},                        {\"responsive\": true}                    ).then(function(){\n",
       "                            \n",
       "var gd = document.getElementById('fa39e219-9563-41f4-93b6-17bb89b209a8');\n",
       "var x = new MutationObserver(function (mutations, observer) {{\n",
       "        var display = window.getComputedStyle(gd).display;\n",
       "        if (!display || display === 'none') {{\n",
       "            console.log([gd, 'removed!']);\n",
       "            Plotly.purge(gd);\n",
       "            observer.disconnect();\n",
       "        }}\n",
       "}});\n",
       "\n",
       "// Listen for the removal of the full notebook cells\n",
       "var notebookContainer = gd.closest('#notebook-container');\n",
       "if (notebookContainer) {{\n",
       "    x.observe(notebookContainer, {childList: true});\n",
       "}}\n",
       "\n",
       "// Listen for the clearing of the current output cell\n",
       "var outputEl = gd.closest('.output');\n",
       "if (outputEl) {{\n",
       "    x.observe(outputEl, {childList: true});\n",
       "}}\n",
       "\n",
       "                        })                };                });            </script>        </div>"
      ]
     },
     "metadata": {},
     "output_type": "display_data"
    }
   ],
   "source": [
    "fig, res = get_box(ps_meta, \"high_ps\", met_cols[0], 'less')\n",
    "fig.show()"
   ]
  },
  {
   "cell_type": "code",
   "execution_count": 18,
   "id": "caec2e89",
   "metadata": {},
   "outputs": [
    {
     "data": {
      "application/vnd.plotly.v1+json": {
       "config": {
        "plotlyServerURL": "https://plot.ly"
       },
       "data": [
        {
         "hovertemplate": "mt_pseudotime=%{x}<br>Cadaverine=%{y}<extra></extra>",
         "legendgroup": "",
         "marker": {
          "color": "#636efa",
          "symbol": "circle"
         },
         "mode": "markers",
         "name": "",
         "orientation": "v",
         "showlegend": false,
         "type": "scatter",
         "x": [
          0.8799020051956177,
          0.8920292854309082,
          0.8743549585342407,
          0.9567903280258179,
          0.9642995595932007,
          0.9620394110679626,
          0.8925490975379944,
          0.9527746438980103,
          0.9643940925598145,
          0.9732742309570312,
          0.9606308937072754,
          0.9828097820281982,
          0.9838706254959106,
          0.9858161211013794,
          0.9692190885543823,
          0.9868467450141907,
          0.9856506586074829,
          0.9899482727050781,
          0.9592912197113037,
          0.9717116355895996,
          0.983200192451477,
          0.9410915970802307,
          0.925829291343689,
          0.9496437907218933,
          0.9826381802558899,
          0.9505642056465149,
          0.9589903354644775,
          0.9602111577987671,
          0.713648796081543,
          0.9821724891662598,
          0.9805237054824829,
          0.9485534429550171,
          0.8244394659996033,
          0.6763060688972473,
          0.9829191565513611,
          0.9485945701599121,
          0.9098255634307861,
          0.8792712092399597,
          0.8884400725364685,
          0.9206034541130066,
          0.9327671527862549,
          0.9105855822563171,
          0.5331885814666748,
          0.5789303779602051,
          0.9933618307113647,
          0.9572737216949463,
          0.9637969136238098,
          0.9775466322898865,
          0.9603840708732605,
          0.6290696859359741,
          0.9524903893470764,
          0.985560417175293,
          0.9523338079452515,
          0.958648145198822,
          0.9551749229431152,
          0.9236049056053162,
          0.9664146304130554,
          0.9800079464912415,
          0.8855528831481934,
          0.9424340724945068,
          0.9789375066757202,
          0.9710575342178345,
          0.9190828204154968,
          0.9319037199020386,
          0.1550630331039429,
          0.9622014760971069,
          0.9312166571617126,
          0.9745890498161316,
          0.2217786312103271,
          0.5760035514831543,
          0.980627715587616,
          0.5971457958221436,
          0.9025468826293945,
          0.946121335029602,
          0.579742431640625,
          0.8954900503158569,
          0.8913447260856628
         ],
         "xaxis": "x",
         "y": [
          29.57,
          56.56,
          34.75,
          4.71,
          28.28,
          119.96,
          674.65,
          4990.55,
          103.51,
          113.3,
          126.98,
          75.6,
          28.46,
          122.36,
          3.31,
          41.03,
          13.05,
          43.99,
          16.01,
          439.91,
          59.33,
          1388.11,
          707.92,
          221.8,
          887.21,
          1144.13,
          61.74,
          2.86,
          7.21,
          1574.8,
          746.73,
          155.08,
          7.36,
          13.96,
          558.2,
          966.69,
          9.26,
          13.6,
          632.14,
          11.13,
          491.66,
          168.39,
          5.12,
          6.93,
          11.24,
          75.04,
          60.63,
          134.01,
          694.98,
          5.88,
          133.08,
          524.93,
          391.85,
          67.46,
          608.11,
          741.19,
          22.73,
          192.23,
          159.51,
          977.78,
          229.2,
          31.61,
          208.86,
          510.15,
          6.62,
          92.79,
          828.06,
          234.74,
          397.4,
          9.2,
          1162.61,
          31.24,
          767.07,
          73.75,
          3.07,
          11.15,
          43.44
         ],
         "yaxis": "y"
        },
        {
         "hovertemplate": "<b>OLS trendline</b><br>Cadaverine = 617.243 * mt_pseudotime + -208.906<br>R<sup>2</sup>=0.022926<br><br>mt_pseudotime=%{x}<br>Cadaverine=%{y} <b>(trend)</b><extra></extra>",
         "legendgroup": "",
         "marker": {
          "color": "#636efa",
          "symbol": "circle"
         },
         "mode": "lines",
         "name": "",
         "showlegend": false,
         "type": "scatter",
         "x": [
          0.1550630331039429,
          0.2217786312103271,
          0.5331885814666748,
          0.5760035514831543,
          0.5789303779602051,
          0.579742431640625,
          0.5971457958221436,
          0.6290696859359741,
          0.6763060688972473,
          0.713648796081543,
          0.8244394659996033,
          0.8743549585342407,
          0.8792712092399597,
          0.8799020051956177,
          0.8855528831481934,
          0.8884400725364685,
          0.8913447260856628,
          0.8920292854309082,
          0.8925490975379944,
          0.8954900503158569,
          0.9025468826293945,
          0.9098255634307861,
          0.9105855822563171,
          0.9190828204154968,
          0.9206034541130066,
          0.9236049056053162,
          0.925829291343689,
          0.9312166571617126,
          0.9319037199020386,
          0.9327671527862549,
          0.9410915970802307,
          0.9424340724945068,
          0.946121335029602,
          0.9485534429550171,
          0.9485945701599121,
          0.9496437907218933,
          0.9505642056465149,
          0.9523338079452515,
          0.9524903893470764,
          0.9527746438980103,
          0.9551749229431152,
          0.9567903280258179,
          0.9572737216949463,
          0.958648145198822,
          0.9589903354644775,
          0.9592912197113037,
          0.9602111577987671,
          0.9603840708732605,
          0.9606308937072754,
          0.9620394110679626,
          0.9622014760971069,
          0.9637969136238098,
          0.9642995595932007,
          0.9643940925598145,
          0.9664146304130554,
          0.9692190885543823,
          0.9710575342178345,
          0.9717116355895996,
          0.9732742309570312,
          0.9745890498161316,
          0.9775466322898865,
          0.9789375066757202,
          0.9800079464912415,
          0.9805237054824829,
          0.980627715587616,
          0.9821724891662598,
          0.9826381802558899,
          0.9828097820281982,
          0.9829191565513611,
          0.983200192451477,
          0.9838706254959106,
          0.985560417175293,
          0.9856506586074829,
          0.9858161211013794,
          0.9868467450141907,
          0.9899482727050781,
          0.9933618307113647
         ],
         "xaxis": "x",
         "y": [
          -113.1939883669807,
          -72.01425416198322,
          120.2013497497015,
          146.6285891857045,
          148.43515226555442,
          148.93638669451897,
          159.678490964122,
          179.38328784806524,
          208.5396133605628,
          231.58914935493286,
          299.97391197587615,
          330.78389904981657,
          333.81842025764286,
          334.20777462946705,
          337.6957393441186,
          339.4778367094016,
          341.27071370531326,
          341.6932531516328,
          342.0141035226692,
          343.82938596244753,
          348.185166128539,
          352.6778807151094,
          353.1469969954769,
          358.39185754988,
          359.3304580160973,
          361.18308286232,
          362.55606933138404,
          365.8813830323501,
          366.30546768169495,
          366.83841556322614,
          371.97662031833613,
          372.80525383592044,
          375.08119072997545,
          376.58239225959016,
          376.60777773786265,
          377.2554017581991,
          377.82352140382966,
          378.91579598996657,
          379.01244476014335,
          379.1878988846099,
          380.66945426147447,
          381.66655169936337,
          381.96492304543665,
          382.81327629686746,
          383.0244908342049,
          383.2102095216251,
          383.77803484286994,
          383.88476422325937,
          384.037113883443,
          384.9065113284564,
          385.00654482906964,
          385.9913174333044,
          386.30157212645304,
          386.35992193593177,
          387.6070847300796,
          389.3381168144315,
          390.4728844837638,
          390.87662395994244,
          391.8411249721073,
          392.652687675317,
          394.47823467804903,
          395.3367421207889,
          395.99746357629203,
          396.3158121900494,
          396.3800116966953,
          397.33351233494204,
          397.62095688819363,
          397.7268768765223,
          397.79438753250804,
          397.9678549673706,
          398.3816750537618,
          399.42468709583056,
          399.4803879858374,
          399.58251854769924,
          400.21866391699064,
          402.1330600936767,
          404.2400547903003
         ],
         "yaxis": "y"
        }
       ],
       "layout": {
        "height": 400,
        "legend": {
         "tracegroupgap": 0
        },
        "margin": {
         "t": 60
        },
        "template": {
         "data": {
          "bar": [
           {
            "error_x": {
             "color": "#2a3f5f"
            },
            "error_y": {
             "color": "#2a3f5f"
            },
            "marker": {
             "line": {
              "color": "#E5ECF6",
              "width": 0.5
             },
             "pattern": {
              "fillmode": "overlay",
              "size": 10,
              "solidity": 0.2
             }
            },
            "type": "bar"
           }
          ],
          "barpolar": [
           {
            "marker": {
             "line": {
              "color": "#E5ECF6",
              "width": 0.5
             },
             "pattern": {
              "fillmode": "overlay",
              "size": 10,
              "solidity": 0.2
             }
            },
            "type": "barpolar"
           }
          ],
          "carpet": [
           {
            "aaxis": {
             "endlinecolor": "#2a3f5f",
             "gridcolor": "white",
             "linecolor": "white",
             "minorgridcolor": "white",
             "startlinecolor": "#2a3f5f"
            },
            "baxis": {
             "endlinecolor": "#2a3f5f",
             "gridcolor": "white",
             "linecolor": "white",
             "minorgridcolor": "white",
             "startlinecolor": "#2a3f5f"
            },
            "type": "carpet"
           }
          ],
          "choropleth": [
           {
            "colorbar": {
             "outlinewidth": 0,
             "ticks": ""
            },
            "type": "choropleth"
           }
          ],
          "contour": [
           {
            "colorbar": {
             "outlinewidth": 0,
             "ticks": ""
            },
            "colorscale": [
             [
              0,
              "#0d0887"
             ],
             [
              0.1111111111111111,
              "#46039f"
             ],
             [
              0.2222222222222222,
              "#7201a8"
             ],
             [
              0.3333333333333333,
              "#9c179e"
             ],
             [
              0.4444444444444444,
              "#bd3786"
             ],
             [
              0.5555555555555556,
              "#d8576b"
             ],
             [
              0.6666666666666666,
              "#ed7953"
             ],
             [
              0.7777777777777778,
              "#fb9f3a"
             ],
             [
              0.8888888888888888,
              "#fdca26"
             ],
             [
              1,
              "#f0f921"
             ]
            ],
            "type": "contour"
           }
          ],
          "contourcarpet": [
           {
            "colorbar": {
             "outlinewidth": 0,
             "ticks": ""
            },
            "type": "contourcarpet"
           }
          ],
          "heatmap": [
           {
            "colorbar": {
             "outlinewidth": 0,
             "ticks": ""
            },
            "colorscale": [
             [
              0,
              "#0d0887"
             ],
             [
              0.1111111111111111,
              "#46039f"
             ],
             [
              0.2222222222222222,
              "#7201a8"
             ],
             [
              0.3333333333333333,
              "#9c179e"
             ],
             [
              0.4444444444444444,
              "#bd3786"
             ],
             [
              0.5555555555555556,
              "#d8576b"
             ],
             [
              0.6666666666666666,
              "#ed7953"
             ],
             [
              0.7777777777777778,
              "#fb9f3a"
             ],
             [
              0.8888888888888888,
              "#fdca26"
             ],
             [
              1,
              "#f0f921"
             ]
            ],
            "type": "heatmap"
           }
          ],
          "heatmapgl": [
           {
            "colorbar": {
             "outlinewidth": 0,
             "ticks": ""
            },
            "colorscale": [
             [
              0,
              "#0d0887"
             ],
             [
              0.1111111111111111,
              "#46039f"
             ],
             [
              0.2222222222222222,
              "#7201a8"
             ],
             [
              0.3333333333333333,
              "#9c179e"
             ],
             [
              0.4444444444444444,
              "#bd3786"
             ],
             [
              0.5555555555555556,
              "#d8576b"
             ],
             [
              0.6666666666666666,
              "#ed7953"
             ],
             [
              0.7777777777777778,
              "#fb9f3a"
             ],
             [
              0.8888888888888888,
              "#fdca26"
             ],
             [
              1,
              "#f0f921"
             ]
            ],
            "type": "heatmapgl"
           }
          ],
          "histogram": [
           {
            "marker": {
             "pattern": {
              "fillmode": "overlay",
              "size": 10,
              "solidity": 0.2
             }
            },
            "type": "histogram"
           }
          ],
          "histogram2d": [
           {
            "colorbar": {
             "outlinewidth": 0,
             "ticks": ""
            },
            "colorscale": [
             [
              0,
              "#0d0887"
             ],
             [
              0.1111111111111111,
              "#46039f"
             ],
             [
              0.2222222222222222,
              "#7201a8"
             ],
             [
              0.3333333333333333,
              "#9c179e"
             ],
             [
              0.4444444444444444,
              "#bd3786"
             ],
             [
              0.5555555555555556,
              "#d8576b"
             ],
             [
              0.6666666666666666,
              "#ed7953"
             ],
             [
              0.7777777777777778,
              "#fb9f3a"
             ],
             [
              0.8888888888888888,
              "#fdca26"
             ],
             [
              1,
              "#f0f921"
             ]
            ],
            "type": "histogram2d"
           }
          ],
          "histogram2dcontour": [
           {
            "colorbar": {
             "outlinewidth": 0,
             "ticks": ""
            },
            "colorscale": [
             [
              0,
              "#0d0887"
             ],
             [
              0.1111111111111111,
              "#46039f"
             ],
             [
              0.2222222222222222,
              "#7201a8"
             ],
             [
              0.3333333333333333,
              "#9c179e"
             ],
             [
              0.4444444444444444,
              "#bd3786"
             ],
             [
              0.5555555555555556,
              "#d8576b"
             ],
             [
              0.6666666666666666,
              "#ed7953"
             ],
             [
              0.7777777777777778,
              "#fb9f3a"
             ],
             [
              0.8888888888888888,
              "#fdca26"
             ],
             [
              1,
              "#f0f921"
             ]
            ],
            "type": "histogram2dcontour"
           }
          ],
          "mesh3d": [
           {
            "colorbar": {
             "outlinewidth": 0,
             "ticks": ""
            },
            "type": "mesh3d"
           }
          ],
          "parcoords": [
           {
            "line": {
             "colorbar": {
              "outlinewidth": 0,
              "ticks": ""
             }
            },
            "type": "parcoords"
           }
          ],
          "pie": [
           {
            "automargin": true,
            "type": "pie"
           }
          ],
          "scatter": [
           {
            "marker": {
             "colorbar": {
              "outlinewidth": 0,
              "ticks": ""
             }
            },
            "type": "scatter"
           }
          ],
          "scatter3d": [
           {
            "line": {
             "colorbar": {
              "outlinewidth": 0,
              "ticks": ""
             }
            },
            "marker": {
             "colorbar": {
              "outlinewidth": 0,
              "ticks": ""
             }
            },
            "type": "scatter3d"
           }
          ],
          "scattercarpet": [
           {
            "marker": {
             "colorbar": {
              "outlinewidth": 0,
              "ticks": ""
             }
            },
            "type": "scattercarpet"
           }
          ],
          "scattergeo": [
           {
            "marker": {
             "colorbar": {
              "outlinewidth": 0,
              "ticks": ""
             }
            },
            "type": "scattergeo"
           }
          ],
          "scattergl": [
           {
            "marker": {
             "colorbar": {
              "outlinewidth": 0,
              "ticks": ""
             }
            },
            "type": "scattergl"
           }
          ],
          "scattermapbox": [
           {
            "marker": {
             "colorbar": {
              "outlinewidth": 0,
              "ticks": ""
             }
            },
            "type": "scattermapbox"
           }
          ],
          "scatterpolar": [
           {
            "marker": {
             "colorbar": {
              "outlinewidth": 0,
              "ticks": ""
             }
            },
            "type": "scatterpolar"
           }
          ],
          "scatterpolargl": [
           {
            "marker": {
             "colorbar": {
              "outlinewidth": 0,
              "ticks": ""
             }
            },
            "type": "scatterpolargl"
           }
          ],
          "scatterternary": [
           {
            "marker": {
             "colorbar": {
              "outlinewidth": 0,
              "ticks": ""
             }
            },
            "type": "scatterternary"
           }
          ],
          "surface": [
           {
            "colorbar": {
             "outlinewidth": 0,
             "ticks": ""
            },
            "colorscale": [
             [
              0,
              "#0d0887"
             ],
             [
              0.1111111111111111,
              "#46039f"
             ],
             [
              0.2222222222222222,
              "#7201a8"
             ],
             [
              0.3333333333333333,
              "#9c179e"
             ],
             [
              0.4444444444444444,
              "#bd3786"
             ],
             [
              0.5555555555555556,
              "#d8576b"
             ],
             [
              0.6666666666666666,
              "#ed7953"
             ],
             [
              0.7777777777777778,
              "#fb9f3a"
             ],
             [
              0.8888888888888888,
              "#fdca26"
             ],
             [
              1,
              "#f0f921"
             ]
            ],
            "type": "surface"
           }
          ],
          "table": [
           {
            "cells": {
             "fill": {
              "color": "#EBF0F8"
             },
             "line": {
              "color": "white"
             }
            },
            "header": {
             "fill": {
              "color": "#C8D4E3"
             },
             "line": {
              "color": "white"
             }
            },
            "type": "table"
           }
          ]
         },
         "layout": {
          "annotationdefaults": {
           "arrowcolor": "#2a3f5f",
           "arrowhead": 0,
           "arrowwidth": 1
          },
          "autotypenumbers": "strict",
          "coloraxis": {
           "colorbar": {
            "outlinewidth": 0,
            "ticks": ""
           }
          },
          "colorscale": {
           "diverging": [
            [
             0,
             "#8e0152"
            ],
            [
             0.1,
             "#c51b7d"
            ],
            [
             0.2,
             "#de77ae"
            ],
            [
             0.3,
             "#f1b6da"
            ],
            [
             0.4,
             "#fde0ef"
            ],
            [
             0.5,
             "#f7f7f7"
            ],
            [
             0.6,
             "#e6f5d0"
            ],
            [
             0.7,
             "#b8e186"
            ],
            [
             0.8,
             "#7fbc41"
            ],
            [
             0.9,
             "#4d9221"
            ],
            [
             1,
             "#276419"
            ]
           ],
           "sequential": [
            [
             0,
             "#0d0887"
            ],
            [
             0.1111111111111111,
             "#46039f"
            ],
            [
             0.2222222222222222,
             "#7201a8"
            ],
            [
             0.3333333333333333,
             "#9c179e"
            ],
            [
             0.4444444444444444,
             "#bd3786"
            ],
            [
             0.5555555555555556,
             "#d8576b"
            ],
            [
             0.6666666666666666,
             "#ed7953"
            ],
            [
             0.7777777777777778,
             "#fb9f3a"
            ],
            [
             0.8888888888888888,
             "#fdca26"
            ],
            [
             1,
             "#f0f921"
            ]
           ],
           "sequentialminus": [
            [
             0,
             "#0d0887"
            ],
            [
             0.1111111111111111,
             "#46039f"
            ],
            [
             0.2222222222222222,
             "#7201a8"
            ],
            [
             0.3333333333333333,
             "#9c179e"
            ],
            [
             0.4444444444444444,
             "#bd3786"
            ],
            [
             0.5555555555555556,
             "#d8576b"
            ],
            [
             0.6666666666666666,
             "#ed7953"
            ],
            [
             0.7777777777777778,
             "#fb9f3a"
            ],
            [
             0.8888888888888888,
             "#fdca26"
            ],
            [
             1,
             "#f0f921"
            ]
           ]
          },
          "colorway": [
           "#636efa",
           "#EF553B",
           "#00cc96",
           "#ab63fa",
           "#FFA15A",
           "#19d3f3",
           "#FF6692",
           "#B6E880",
           "#FF97FF",
           "#FECB52"
          ],
          "font": {
           "color": "#2a3f5f"
          },
          "geo": {
           "bgcolor": "white",
           "lakecolor": "white",
           "landcolor": "#E5ECF6",
           "showlakes": true,
           "showland": true,
           "subunitcolor": "white"
          },
          "hoverlabel": {
           "align": "left"
          },
          "hovermode": "closest",
          "mapbox": {
           "style": "light"
          },
          "paper_bgcolor": "white",
          "plot_bgcolor": "#E5ECF6",
          "polar": {
           "angularaxis": {
            "gridcolor": "white",
            "linecolor": "white",
            "ticks": ""
           },
           "bgcolor": "#E5ECF6",
           "radialaxis": {
            "gridcolor": "white",
            "linecolor": "white",
            "ticks": ""
           }
          },
          "scene": {
           "xaxis": {
            "backgroundcolor": "#E5ECF6",
            "gridcolor": "white",
            "gridwidth": 2,
            "linecolor": "white",
            "showbackground": true,
            "ticks": "",
            "zerolinecolor": "white"
           },
           "yaxis": {
            "backgroundcolor": "#E5ECF6",
            "gridcolor": "white",
            "gridwidth": 2,
            "linecolor": "white",
            "showbackground": true,
            "ticks": "",
            "zerolinecolor": "white"
           },
           "zaxis": {
            "backgroundcolor": "#E5ECF6",
            "gridcolor": "white",
            "gridwidth": 2,
            "linecolor": "white",
            "showbackground": true,
            "ticks": "",
            "zerolinecolor": "white"
           }
          },
          "shapedefaults": {
           "line": {
            "color": "#2a3f5f"
           }
          },
          "ternary": {
           "aaxis": {
            "gridcolor": "white",
            "linecolor": "white",
            "ticks": ""
           },
           "baxis": {
            "gridcolor": "white",
            "linecolor": "white",
            "ticks": ""
           },
           "bgcolor": "#E5ECF6",
           "caxis": {
            "gridcolor": "white",
            "linecolor": "white",
            "ticks": ""
           }
          },
          "title": {
           "x": 0.05
          },
          "xaxis": {
           "automargin": true,
           "gridcolor": "white",
           "linecolor": "white",
           "ticks": "",
           "title": {
            "standoff": 15
           },
           "zerolinecolor": "white",
           "zerolinewidth": 2
          },
          "yaxis": {
           "automargin": true,
           "gridcolor": "white",
           "linecolor": "white",
           "ticks": "",
           "title": {
            "standoff": 15
           },
           "zerolinecolor": "white",
           "zerolinewidth": 2
          }
         }
        },
        "width": 600,
        "xaxis": {
         "anchor": "y",
         "domain": [
          0,
          1
         ],
         "title": {
          "text": "mt_pseudotime"
         }
        },
        "yaxis": {
         "anchor": "x",
         "domain": [
          0,
          1
         ],
         "title": {
          "text": "Cadaverine"
         }
        }
       }
      },
      "text/html": [
       "<div>                            <div id=\"e26f0a84-065a-42ca-856a-5d72dcede98b\" class=\"plotly-graph-div\" style=\"height:400px; width:600px;\"></div>            <script type=\"text/javascript\">                require([\"plotly\"], function(Plotly) {                    window.PLOTLYENV=window.PLOTLYENV || {};                                    if (document.getElementById(\"e26f0a84-065a-42ca-856a-5d72dcede98b\")) {                    Plotly.newPlot(                        \"e26f0a84-065a-42ca-856a-5d72dcede98b\",                        [{\"hovertemplate\":\"mt_pseudotime=%{x}<br>Cadaverine=%{y}<extra></extra>\",\"legendgroup\":\"\",\"marker\":{\"color\":\"#636efa\",\"symbol\":\"circle\"},\"mode\":\"markers\",\"name\":\"\",\"orientation\":\"v\",\"showlegend\":false,\"x\":[0.8799020051956177,0.8920292854309082,0.8743549585342407,0.9567903280258179,0.9642995595932007,0.9620394110679626,0.8925490975379944,0.9527746438980103,0.9643940925598145,0.9732742309570312,0.9606308937072754,0.9828097820281982,0.9838706254959106,0.9858161211013794,0.9692190885543823,0.9868467450141907,0.9856506586074829,0.9899482727050781,0.9592912197113037,0.9717116355895996,0.983200192451477,0.9410915970802307,0.925829291343689,0.9496437907218933,0.9826381802558899,0.9505642056465149,0.9589903354644775,0.9602111577987671,0.713648796081543,0.9821724891662598,0.9805237054824829,0.9485534429550171,0.8244394659996033,0.6763060688972473,0.9829191565513611,0.9485945701599121,0.9098255634307861,0.8792712092399597,0.8884400725364685,0.9206034541130066,0.9327671527862549,0.9105855822563171,0.5331885814666748,0.5789303779602051,0.9933618307113647,0.9572737216949463,0.9637969136238098,0.9775466322898865,0.9603840708732605,0.6290696859359741,0.9524903893470764,0.985560417175293,0.9523338079452515,0.958648145198822,0.9551749229431152,0.9236049056053162,0.9664146304130554,0.9800079464912415,0.8855528831481934,0.9424340724945068,0.9789375066757202,0.9710575342178345,0.9190828204154968,0.9319037199020386,0.1550630331039429,0.9622014760971069,0.9312166571617126,0.9745890498161316,0.2217786312103271,0.5760035514831543,0.980627715587616,0.5971457958221436,0.9025468826293945,0.946121335029602,0.579742431640625,0.8954900503158569,0.8913447260856628],\"xaxis\":\"x\",\"y\":[29.57,56.56,34.75,4.71,28.28,119.96,674.65,4990.55,103.51,113.3,126.98,75.6,28.46,122.36,3.31,41.03,13.05,43.99,16.01,439.91,59.33,1388.11,707.92,221.8,887.21,1144.13,61.74,2.86,7.21,1574.8,746.73,155.08,7.36,13.96,558.2,966.69,9.26,13.6,632.14,11.13,491.66,168.39,5.12,6.93,11.24,75.04,60.63,134.01,694.98,5.88,133.08,524.93,391.85,67.46,608.11,741.19,22.73,192.23,159.51,977.78,229.2,31.61,208.86,510.15,6.62,92.79,828.06,234.74,397.4,9.2,1162.61,31.24,767.07,73.75,3.07,11.15,43.44],\"yaxis\":\"y\",\"type\":\"scatter\"},{\"hovertemplate\":\"<b>OLS trendline</b><br>Cadaverine = 617.243 * mt_pseudotime + -208.906<br>R<sup>2</sup>=0.022926<br><br>mt_pseudotime=%{x}<br>Cadaverine=%{y} <b>(trend)</b><extra></extra>\",\"legendgroup\":\"\",\"marker\":{\"color\":\"#636efa\",\"symbol\":\"circle\"},\"mode\":\"lines\",\"name\":\"\",\"showlegend\":false,\"x\":[0.1550630331039429,0.2217786312103271,0.5331885814666748,0.5760035514831543,0.5789303779602051,0.579742431640625,0.5971457958221436,0.6290696859359741,0.6763060688972473,0.713648796081543,0.8244394659996033,0.8743549585342407,0.8792712092399597,0.8799020051956177,0.8855528831481934,0.8884400725364685,0.8913447260856628,0.8920292854309082,0.8925490975379944,0.8954900503158569,0.9025468826293945,0.9098255634307861,0.9105855822563171,0.9190828204154968,0.9206034541130066,0.9236049056053162,0.925829291343689,0.9312166571617126,0.9319037199020386,0.9327671527862549,0.9410915970802307,0.9424340724945068,0.946121335029602,0.9485534429550171,0.9485945701599121,0.9496437907218933,0.9505642056465149,0.9523338079452515,0.9524903893470764,0.9527746438980103,0.9551749229431152,0.9567903280258179,0.9572737216949463,0.958648145198822,0.9589903354644775,0.9592912197113037,0.9602111577987671,0.9603840708732605,0.9606308937072754,0.9620394110679626,0.9622014760971069,0.9637969136238098,0.9642995595932007,0.9643940925598145,0.9664146304130554,0.9692190885543823,0.9710575342178345,0.9717116355895996,0.9732742309570312,0.9745890498161316,0.9775466322898865,0.9789375066757202,0.9800079464912415,0.9805237054824829,0.980627715587616,0.9821724891662598,0.9826381802558899,0.9828097820281982,0.9829191565513611,0.983200192451477,0.9838706254959106,0.985560417175293,0.9856506586074829,0.9858161211013794,0.9868467450141907,0.9899482727050781,0.9933618307113647],\"xaxis\":\"x\",\"y\":[-113.1939883669807,-72.01425416198322,120.2013497497015,146.6285891857045,148.43515226555442,148.93638669451897,159.678490964122,179.38328784806524,208.5396133605628,231.58914935493286,299.97391197587615,330.78389904981657,333.81842025764286,334.20777462946705,337.6957393441186,339.4778367094016,341.27071370531326,341.6932531516328,342.0141035226692,343.82938596244753,348.185166128539,352.6778807151094,353.1469969954769,358.39185754988,359.3304580160973,361.18308286232,362.55606933138404,365.8813830323501,366.30546768169495,366.83841556322614,371.97662031833613,372.80525383592044,375.08119072997545,376.58239225959016,376.60777773786265,377.2554017581991,377.82352140382966,378.91579598996657,379.01244476014335,379.1878988846099,380.66945426147447,381.66655169936337,381.96492304543665,382.81327629686746,383.0244908342049,383.2102095216251,383.77803484286994,383.88476422325937,384.037113883443,384.9065113284564,385.00654482906964,385.9913174333044,386.30157212645304,386.35992193593177,387.6070847300796,389.3381168144315,390.4728844837638,390.87662395994244,391.8411249721073,392.652687675317,394.47823467804903,395.3367421207889,395.99746357629203,396.3158121900494,396.3800116966953,397.33351233494204,397.62095688819363,397.7268768765223,397.79438753250804,397.9678549673706,398.3816750537618,399.42468709583056,399.4803879858374,399.58251854769924,400.21866391699064,402.1330600936767,404.2400547903003],\"yaxis\":\"y\",\"type\":\"scatter\"}],                        {\"template\":{\"data\":{\"bar\":[{\"error_x\":{\"color\":\"#2a3f5f\"},\"error_y\":{\"color\":\"#2a3f5f\"},\"marker\":{\"line\":{\"color\":\"#E5ECF6\",\"width\":0.5},\"pattern\":{\"fillmode\":\"overlay\",\"size\":10,\"solidity\":0.2}},\"type\":\"bar\"}],\"barpolar\":[{\"marker\":{\"line\":{\"color\":\"#E5ECF6\",\"width\":0.5},\"pattern\":{\"fillmode\":\"overlay\",\"size\":10,\"solidity\":0.2}},\"type\":\"barpolar\"}],\"carpet\":[{\"aaxis\":{\"endlinecolor\":\"#2a3f5f\",\"gridcolor\":\"white\",\"linecolor\":\"white\",\"minorgridcolor\":\"white\",\"startlinecolor\":\"#2a3f5f\"},\"baxis\":{\"endlinecolor\":\"#2a3f5f\",\"gridcolor\":\"white\",\"linecolor\":\"white\",\"minorgridcolor\":\"white\",\"startlinecolor\":\"#2a3f5f\"},\"type\":\"carpet\"}],\"choropleth\":[{\"colorbar\":{\"outlinewidth\":0,\"ticks\":\"\"},\"type\":\"choropleth\"}],\"contour\":[{\"colorbar\":{\"outlinewidth\":0,\"ticks\":\"\"},\"colorscale\":[[0.0,\"#0d0887\"],[0.1111111111111111,\"#46039f\"],[0.2222222222222222,\"#7201a8\"],[0.3333333333333333,\"#9c179e\"],[0.4444444444444444,\"#bd3786\"],[0.5555555555555556,\"#d8576b\"],[0.6666666666666666,\"#ed7953\"],[0.7777777777777778,\"#fb9f3a\"],[0.8888888888888888,\"#fdca26\"],[1.0,\"#f0f921\"]],\"type\":\"contour\"}],\"contourcarpet\":[{\"colorbar\":{\"outlinewidth\":0,\"ticks\":\"\"},\"type\":\"contourcarpet\"}],\"heatmap\":[{\"colorbar\":{\"outlinewidth\":0,\"ticks\":\"\"},\"colorscale\":[[0.0,\"#0d0887\"],[0.1111111111111111,\"#46039f\"],[0.2222222222222222,\"#7201a8\"],[0.3333333333333333,\"#9c179e\"],[0.4444444444444444,\"#bd3786\"],[0.5555555555555556,\"#d8576b\"],[0.6666666666666666,\"#ed7953\"],[0.7777777777777778,\"#fb9f3a\"],[0.8888888888888888,\"#fdca26\"],[1.0,\"#f0f921\"]],\"type\":\"heatmap\"}],\"heatmapgl\":[{\"colorbar\":{\"outlinewidth\":0,\"ticks\":\"\"},\"colorscale\":[[0.0,\"#0d0887\"],[0.1111111111111111,\"#46039f\"],[0.2222222222222222,\"#7201a8\"],[0.3333333333333333,\"#9c179e\"],[0.4444444444444444,\"#bd3786\"],[0.5555555555555556,\"#d8576b\"],[0.6666666666666666,\"#ed7953\"],[0.7777777777777778,\"#fb9f3a\"],[0.8888888888888888,\"#fdca26\"],[1.0,\"#f0f921\"]],\"type\":\"heatmapgl\"}],\"histogram\":[{\"marker\":{\"pattern\":{\"fillmode\":\"overlay\",\"size\":10,\"solidity\":0.2}},\"type\":\"histogram\"}],\"histogram2d\":[{\"colorbar\":{\"outlinewidth\":0,\"ticks\":\"\"},\"colorscale\":[[0.0,\"#0d0887\"],[0.1111111111111111,\"#46039f\"],[0.2222222222222222,\"#7201a8\"],[0.3333333333333333,\"#9c179e\"],[0.4444444444444444,\"#bd3786\"],[0.5555555555555556,\"#d8576b\"],[0.6666666666666666,\"#ed7953\"],[0.7777777777777778,\"#fb9f3a\"],[0.8888888888888888,\"#fdca26\"],[1.0,\"#f0f921\"]],\"type\":\"histogram2d\"}],\"histogram2dcontour\":[{\"colorbar\":{\"outlinewidth\":0,\"ticks\":\"\"},\"colorscale\":[[0.0,\"#0d0887\"],[0.1111111111111111,\"#46039f\"],[0.2222222222222222,\"#7201a8\"],[0.3333333333333333,\"#9c179e\"],[0.4444444444444444,\"#bd3786\"],[0.5555555555555556,\"#d8576b\"],[0.6666666666666666,\"#ed7953\"],[0.7777777777777778,\"#fb9f3a\"],[0.8888888888888888,\"#fdca26\"],[1.0,\"#f0f921\"]],\"type\":\"histogram2dcontour\"}],\"mesh3d\":[{\"colorbar\":{\"outlinewidth\":0,\"ticks\":\"\"},\"type\":\"mesh3d\"}],\"parcoords\":[{\"line\":{\"colorbar\":{\"outlinewidth\":0,\"ticks\":\"\"}},\"type\":\"parcoords\"}],\"pie\":[{\"automargin\":true,\"type\":\"pie\"}],\"scatter\":[{\"marker\":{\"colorbar\":{\"outlinewidth\":0,\"ticks\":\"\"}},\"type\":\"scatter\"}],\"scatter3d\":[{\"line\":{\"colorbar\":{\"outlinewidth\":0,\"ticks\":\"\"}},\"marker\":{\"colorbar\":{\"outlinewidth\":0,\"ticks\":\"\"}},\"type\":\"scatter3d\"}],\"scattercarpet\":[{\"marker\":{\"colorbar\":{\"outlinewidth\":0,\"ticks\":\"\"}},\"type\":\"scattercarpet\"}],\"scattergeo\":[{\"marker\":{\"colorbar\":{\"outlinewidth\":0,\"ticks\":\"\"}},\"type\":\"scattergeo\"}],\"scattergl\":[{\"marker\":{\"colorbar\":{\"outlinewidth\":0,\"ticks\":\"\"}},\"type\":\"scattergl\"}],\"scattermapbox\":[{\"marker\":{\"colorbar\":{\"outlinewidth\":0,\"ticks\":\"\"}},\"type\":\"scattermapbox\"}],\"scatterpolar\":[{\"marker\":{\"colorbar\":{\"outlinewidth\":0,\"ticks\":\"\"}},\"type\":\"scatterpolar\"}],\"scatterpolargl\":[{\"marker\":{\"colorbar\":{\"outlinewidth\":0,\"ticks\":\"\"}},\"type\":\"scatterpolargl\"}],\"scatterternary\":[{\"marker\":{\"colorbar\":{\"outlinewidth\":0,\"ticks\":\"\"}},\"type\":\"scatterternary\"}],\"surface\":[{\"colorbar\":{\"outlinewidth\":0,\"ticks\":\"\"},\"colorscale\":[[0.0,\"#0d0887\"],[0.1111111111111111,\"#46039f\"],[0.2222222222222222,\"#7201a8\"],[0.3333333333333333,\"#9c179e\"],[0.4444444444444444,\"#bd3786\"],[0.5555555555555556,\"#d8576b\"],[0.6666666666666666,\"#ed7953\"],[0.7777777777777778,\"#fb9f3a\"],[0.8888888888888888,\"#fdca26\"],[1.0,\"#f0f921\"]],\"type\":\"surface\"}],\"table\":[{\"cells\":{\"fill\":{\"color\":\"#EBF0F8\"},\"line\":{\"color\":\"white\"}},\"header\":{\"fill\":{\"color\":\"#C8D4E3\"},\"line\":{\"color\":\"white\"}},\"type\":\"table\"}]},\"layout\":{\"annotationdefaults\":{\"arrowcolor\":\"#2a3f5f\",\"arrowhead\":0,\"arrowwidth\":1},\"autotypenumbers\":\"strict\",\"coloraxis\":{\"colorbar\":{\"outlinewidth\":0,\"ticks\":\"\"}},\"colorscale\":{\"diverging\":[[0,\"#8e0152\"],[0.1,\"#c51b7d\"],[0.2,\"#de77ae\"],[0.3,\"#f1b6da\"],[0.4,\"#fde0ef\"],[0.5,\"#f7f7f7\"],[0.6,\"#e6f5d0\"],[0.7,\"#b8e186\"],[0.8,\"#7fbc41\"],[0.9,\"#4d9221\"],[1,\"#276419\"]],\"sequential\":[[0.0,\"#0d0887\"],[0.1111111111111111,\"#46039f\"],[0.2222222222222222,\"#7201a8\"],[0.3333333333333333,\"#9c179e\"],[0.4444444444444444,\"#bd3786\"],[0.5555555555555556,\"#d8576b\"],[0.6666666666666666,\"#ed7953\"],[0.7777777777777778,\"#fb9f3a\"],[0.8888888888888888,\"#fdca26\"],[1.0,\"#f0f921\"]],\"sequentialminus\":[[0.0,\"#0d0887\"],[0.1111111111111111,\"#46039f\"],[0.2222222222222222,\"#7201a8\"],[0.3333333333333333,\"#9c179e\"],[0.4444444444444444,\"#bd3786\"],[0.5555555555555556,\"#d8576b\"],[0.6666666666666666,\"#ed7953\"],[0.7777777777777778,\"#fb9f3a\"],[0.8888888888888888,\"#fdca26\"],[1.0,\"#f0f921\"]]},\"colorway\":[\"#636efa\",\"#EF553B\",\"#00cc96\",\"#ab63fa\",\"#FFA15A\",\"#19d3f3\",\"#FF6692\",\"#B6E880\",\"#FF97FF\",\"#FECB52\"],\"font\":{\"color\":\"#2a3f5f\"},\"geo\":{\"bgcolor\":\"white\",\"lakecolor\":\"white\",\"landcolor\":\"#E5ECF6\",\"showlakes\":true,\"showland\":true,\"subunitcolor\":\"white\"},\"hoverlabel\":{\"align\":\"left\"},\"hovermode\":\"closest\",\"mapbox\":{\"style\":\"light\"},\"paper_bgcolor\":\"white\",\"plot_bgcolor\":\"#E5ECF6\",\"polar\":{\"angularaxis\":{\"gridcolor\":\"white\",\"linecolor\":\"white\",\"ticks\":\"\"},\"bgcolor\":\"#E5ECF6\",\"radialaxis\":{\"gridcolor\":\"white\",\"linecolor\":\"white\",\"ticks\":\"\"}},\"scene\":{\"xaxis\":{\"backgroundcolor\":\"#E5ECF6\",\"gridcolor\":\"white\",\"gridwidth\":2,\"linecolor\":\"white\",\"showbackground\":true,\"ticks\":\"\",\"zerolinecolor\":\"white\"},\"yaxis\":{\"backgroundcolor\":\"#E5ECF6\",\"gridcolor\":\"white\",\"gridwidth\":2,\"linecolor\":\"white\",\"showbackground\":true,\"ticks\":\"\",\"zerolinecolor\":\"white\"},\"zaxis\":{\"backgroundcolor\":\"#E5ECF6\",\"gridcolor\":\"white\",\"gridwidth\":2,\"linecolor\":\"white\",\"showbackground\":true,\"ticks\":\"\",\"zerolinecolor\":\"white\"}},\"shapedefaults\":{\"line\":{\"color\":\"#2a3f5f\"}},\"ternary\":{\"aaxis\":{\"gridcolor\":\"white\",\"linecolor\":\"white\",\"ticks\":\"\"},\"baxis\":{\"gridcolor\":\"white\",\"linecolor\":\"white\",\"ticks\":\"\"},\"bgcolor\":\"#E5ECF6\",\"caxis\":{\"gridcolor\":\"white\",\"linecolor\":\"white\",\"ticks\":\"\"}},\"title\":{\"x\":0.05},\"xaxis\":{\"automargin\":true,\"gridcolor\":\"white\",\"linecolor\":\"white\",\"ticks\":\"\",\"title\":{\"standoff\":15},\"zerolinecolor\":\"white\",\"zerolinewidth\":2},\"yaxis\":{\"automargin\":true,\"gridcolor\":\"white\",\"linecolor\":\"white\",\"ticks\":\"\",\"title\":{\"standoff\":15},\"zerolinecolor\":\"white\",\"zerolinewidth\":2}}},\"xaxis\":{\"anchor\":\"y\",\"domain\":[0.0,1.0],\"title\":{\"text\":\"mt_pseudotime\"}},\"yaxis\":{\"anchor\":\"x\",\"domain\":[0.0,1.0],\"title\":{\"text\":\"Cadaverine\"}},\"legend\":{\"tracegroupgap\":0},\"margin\":{\"t\":60},\"height\":400,\"width\":600},                        {\"responsive\": true}                    ).then(function(){\n",
       "                            \n",
       "var gd = document.getElementById('e26f0a84-065a-42ca-856a-5d72dcede98b');\n",
       "var x = new MutationObserver(function (mutations, observer) {{\n",
       "        var display = window.getComputedStyle(gd).display;\n",
       "        if (!display || display === 'none') {{\n",
       "            console.log([gd, 'removed!']);\n",
       "            Plotly.purge(gd);\n",
       "            observer.disconnect();\n",
       "        }}\n",
       "}});\n",
       "\n",
       "// Listen for the removal of the full notebook cells\n",
       "var notebookContainer = gd.closest('#notebook-container');\n",
       "if (notebookContainer) {{\n",
       "    x.observe(notebookContainer, {childList: true});\n",
       "}}\n",
       "\n",
       "// Listen for the clearing of the current output cell\n",
       "var outputEl = gd.closest('.output');\n",
       "if (outputEl) {{\n",
       "    x.observe(outputEl, {childList: true});\n",
       "}}\n",
       "\n",
       "                        })                };                });            </script>        </div>"
      ]
     },
     "metadata": {},
     "output_type": "display_data"
    },
    {
     "data": {
      "text/plain": [
       "array([-208.90555612,  617.24297426])"
      ]
     },
     "metadata": {},
     "output_type": "display_data"
    },
    {
     "data": {
      "text/html": [
       "<table class=\"simpletable\">\n",
       "<caption>OLS Regression Results</caption>\n",
       "<tr>\n",
       "  <th>Dep. Variable:</th>            <td>y</td>        <th>  R-squared:         </th> <td>   0.023</td>\n",
       "</tr>\n",
       "<tr>\n",
       "  <th>Model:</th>                   <td>OLS</td>       <th>  Adj. R-squared:    </th> <td>   0.010</td>\n",
       "</tr>\n",
       "<tr>\n",
       "  <th>Method:</th>             <td>Least Squares</td>  <th>  F-statistic:       </th> <td>   1.760</td>\n",
       "</tr>\n",
       "<tr>\n",
       "  <th>Date:</th>             <td>Wed, 17 May 2023</td> <th>  Prob (F-statistic):</th>  <td> 0.189</td> \n",
       "</tr>\n",
       "<tr>\n",
       "  <th>Time:</th>                 <td>13:46:11</td>     <th>  Log-Likelihood:    </th> <td> -606.81</td>\n",
       "</tr>\n",
       "<tr>\n",
       "  <th>No. Observations:</th>      <td>    77</td>      <th>  AIC:               </th> <td>   1218.</td>\n",
       "</tr>\n",
       "<tr>\n",
       "  <th>Df Residuals:</th>          <td>    75</td>      <th>  BIC:               </th> <td>   1222.</td>\n",
       "</tr>\n",
       "<tr>\n",
       "  <th>Df Model:</th>              <td>     1</td>      <th>                     </th>     <td> </td>   \n",
       "</tr>\n",
       "<tr>\n",
       "  <th>Covariance Type:</th>      <td>nonrobust</td>    <th>                     </th>     <td> </td>   \n",
       "</tr>\n",
       "</table>\n",
       "<table class=\"simpletable\">\n",
       "<tr>\n",
       "    <td></td>       <th>coef</th>     <th>std err</th>      <th>t</th>      <th>P>|t|</th>  <th>[0.025</th>    <th>0.975]</th>  \n",
       "</tr>\n",
       "<tr>\n",
       "  <th>const</th> <td> -208.9056</td> <td>  421.966</td> <td>   -0.495</td> <td> 0.622</td> <td>-1049.504</td> <td>  631.693</td>\n",
       "</tr>\n",
       "<tr>\n",
       "  <th>x1</th>    <td>  617.2430</td> <td>  465.296</td> <td>    1.327</td> <td> 0.189</td> <td> -309.674</td> <td> 1544.160</td>\n",
       "</tr>\n",
       "</table>\n",
       "<table class=\"simpletable\">\n",
       "<tr>\n",
       "  <th>Omnibus:</th>       <td>118.642</td> <th>  Durbin-Watson:     </th> <td>   1.754</td>\n",
       "</tr>\n",
       "<tr>\n",
       "  <th>Prob(Omnibus):</th> <td> 0.000</td>  <th>  Jarque-Bera (JB):  </th> <td>3676.035</td>\n",
       "</tr>\n",
       "<tr>\n",
       "  <th>Skew:</th>          <td> 5.017</td>  <th>  Prob(JB):          </th> <td>    0.00</td>\n",
       "</tr>\n",
       "<tr>\n",
       "  <th>Kurtosis:</th>      <td>35.328</td>  <th>  Cond. No.          </th> <td>    11.4</td>\n",
       "</tr>\n",
       "</table><br/><br/>Notes:<br/>[1] Standard Errors assume that the covariance matrix of the errors is correctly specified."
      ],
      "text/plain": [
       "<class 'statsmodels.iolib.summary.Summary'>\n",
       "\"\"\"\n",
       "                            OLS Regression Results                            \n",
       "==============================================================================\n",
       "Dep. Variable:                      y   R-squared:                       0.023\n",
       "Model:                            OLS   Adj. R-squared:                  0.010\n",
       "Method:                 Least Squares   F-statistic:                     1.760\n",
       "Date:                Wed, 17 May 2023   Prob (F-statistic):              0.189\n",
       "Time:                        13:46:11   Log-Likelihood:                -606.81\n",
       "No. Observations:                  77   AIC:                             1218.\n",
       "Df Residuals:                      75   BIC:                             1222.\n",
       "Df Model:                           1                                         \n",
       "Covariance Type:            nonrobust                                         \n",
       "==============================================================================\n",
       "                 coef    std err          t      P>|t|      [0.025      0.975]\n",
       "------------------------------------------------------------------------------\n",
       "const       -208.9056    421.966     -0.495      0.622   -1049.504     631.693\n",
       "x1           617.2430    465.296      1.327      0.189    -309.674    1544.160\n",
       "==============================================================================\n",
       "Omnibus:                      118.642   Durbin-Watson:                   1.754\n",
       "Prob(Omnibus):                  0.000   Jarque-Bera (JB):             3676.035\n",
       "Skew:                           5.017   Prob(JB):                         0.00\n",
       "Kurtosis:                      35.328   Cond. No.                         11.4\n",
       "==============================================================================\n",
       "\n",
       "Notes:\n",
       "[1] Standard Errors assume that the covariance matrix of the errors is correctly specified.\n",
       "\"\"\""
      ]
     },
     "metadata": {},
     "output_type": "display_data"
    },
    {
     "data": {
      "text/plain": [
       "(Figure({\n",
       "     'data': [{'hovertemplate': 'mt_pseudotime=%{x}<br>Cadaverine=%{y}<extra></extra>',\n",
       "               'legendgroup': '',\n",
       "               'marker': {'color': '#636efa', 'symbol': 'circle'},\n",
       "               'mode': 'markers',\n",
       "               'name': '',\n",
       "               'orientation': 'v',\n",
       "               'showlegend': False,\n",
       "               'type': 'scatter',\n",
       "               'x': array([0.87990201, 0.89202929, 0.87435496, 0.95679033, 0.96429956, 0.96203941,\n",
       "                           0.8925491 , 0.95277464, 0.96439409, 0.97327423, 0.96063089, 0.98280978,\n",
       "                           0.98387063, 0.98581612, 0.96921909, 0.98684675, 0.98565066, 0.98994827,\n",
       "                           0.95929122, 0.97171164, 0.98320019, 0.9410916 , 0.92582929, 0.94964379,\n",
       "                           0.98263818, 0.95056421, 0.95899034, 0.96021116, 0.7136488 , 0.98217249,\n",
       "                           0.98052371, 0.94855344, 0.82443947, 0.67630607, 0.98291916, 0.94859457,\n",
       "                           0.90982556, 0.87927121, 0.88844007, 0.92060345, 0.93276715, 0.91058558,\n",
       "                           0.53318858, 0.57893038, 0.99336183, 0.95727372, 0.96379691, 0.97754663,\n",
       "                           0.96038407, 0.62906969, 0.95249039, 0.98556042, 0.95233381, 0.95864815,\n",
       "                           0.95517492, 0.92360491, 0.96641463, 0.98000795, 0.88555288, 0.94243407,\n",
       "                           0.97893751, 0.97105753, 0.91908282, 0.93190372, 0.15506303, 0.96220148,\n",
       "                           0.93121666, 0.97458905, 0.22177863, 0.57600355, 0.98062772, 0.5971458 ,\n",
       "                           0.90254688, 0.94612134, 0.57974243, 0.89549005, 0.89134473]),\n",
       "               'xaxis': 'x',\n",
       "               'y': array([2.95700e+01, 5.65600e+01, 3.47500e+01, 4.71000e+00, 2.82800e+01,\n",
       "                           1.19960e+02, 6.74650e+02, 4.99055e+03, 1.03510e+02, 1.13300e+02,\n",
       "                           1.26980e+02, 7.56000e+01, 2.84600e+01, 1.22360e+02, 3.31000e+00,\n",
       "                           4.10300e+01, 1.30500e+01, 4.39900e+01, 1.60100e+01, 4.39910e+02,\n",
       "                           5.93300e+01, 1.38811e+03, 7.07920e+02, 2.21800e+02, 8.87210e+02,\n",
       "                           1.14413e+03, 6.17400e+01, 2.86000e+00, 7.21000e+00, 1.57480e+03,\n",
       "                           7.46730e+02, 1.55080e+02, 7.36000e+00, 1.39600e+01, 5.58200e+02,\n",
       "                           9.66690e+02, 9.26000e+00, 1.36000e+01, 6.32140e+02, 1.11300e+01,\n",
       "                           4.91660e+02, 1.68390e+02, 5.12000e+00, 6.93000e+00, 1.12400e+01,\n",
       "                           7.50400e+01, 6.06300e+01, 1.34010e+02, 6.94980e+02, 5.88000e+00,\n",
       "                           1.33080e+02, 5.24930e+02, 3.91850e+02, 6.74600e+01, 6.08110e+02,\n",
       "                           7.41190e+02, 2.27300e+01, 1.92230e+02, 1.59510e+02, 9.77780e+02,\n",
       "                           2.29200e+02, 3.16100e+01, 2.08860e+02, 5.10150e+02, 6.62000e+00,\n",
       "                           9.27900e+01, 8.28060e+02, 2.34740e+02, 3.97400e+02, 9.20000e+00,\n",
       "                           1.16261e+03, 3.12400e+01, 7.67070e+02, 7.37500e+01, 3.07000e+00,\n",
       "                           1.11500e+01, 4.34400e+01]),\n",
       "               'yaxis': 'y'},\n",
       "              {'hovertemplate': ('<b>OLS trendline</b><br>Cadave' ... ' <b>(trend)</b><extra></extra>'),\n",
       "               'legendgroup': '',\n",
       "               'marker': {'color': '#636efa', 'symbol': 'circle'},\n",
       "               'mode': 'lines',\n",
       "               'name': '',\n",
       "               'showlegend': False,\n",
       "               'type': 'scatter',\n",
       "               'x': array([0.15506303, 0.22177863, 0.53318858, 0.57600355, 0.57893038, 0.57974243,\n",
       "                           0.5971458 , 0.62906969, 0.67630607, 0.7136488 , 0.82443947, 0.87435496,\n",
       "                           0.87927121, 0.87990201, 0.88555288, 0.88844007, 0.89134473, 0.89202929,\n",
       "                           0.8925491 , 0.89549005, 0.90254688, 0.90982556, 0.91058558, 0.91908282,\n",
       "                           0.92060345, 0.92360491, 0.92582929, 0.93121666, 0.93190372, 0.93276715,\n",
       "                           0.9410916 , 0.94243407, 0.94612134, 0.94855344, 0.94859457, 0.94964379,\n",
       "                           0.95056421, 0.95233381, 0.95249039, 0.95277464, 0.95517492, 0.95679033,\n",
       "                           0.95727372, 0.95864815, 0.95899034, 0.95929122, 0.96021116, 0.96038407,\n",
       "                           0.96063089, 0.96203941, 0.96220148, 0.96379691, 0.96429956, 0.96439409,\n",
       "                           0.96641463, 0.96921909, 0.97105753, 0.97171164, 0.97327423, 0.97458905,\n",
       "                           0.97754663, 0.97893751, 0.98000795, 0.98052371, 0.98062772, 0.98217249,\n",
       "                           0.98263818, 0.98280978, 0.98291916, 0.98320019, 0.98387063, 0.98556042,\n",
       "                           0.98565066, 0.98581612, 0.98684675, 0.98994827, 0.99336183]),\n",
       "               'xaxis': 'x',\n",
       "               'y': array([-113.19398837,  -72.01425416,  120.20134975,  146.62858919,\n",
       "                            148.43515227,  148.93638669,  159.67849096,  179.38328785,\n",
       "                            208.53961336,  231.58914935,  299.97391198,  330.78389905,\n",
       "                            333.81842026,  334.20777463,  337.69573934,  339.47783671,\n",
       "                            341.27071371,  341.69325315,  342.01410352,  343.82938596,\n",
       "                            348.18516613,  352.67788072,  353.146997  ,  358.39185755,\n",
       "                            359.33045802,  361.18308286,  362.55606933,  365.88138303,\n",
       "                            366.30546768,  366.83841556,  371.97662032,  372.80525384,\n",
       "                            375.08119073,  376.58239226,  376.60777774,  377.25540176,\n",
       "                            377.8235214 ,  378.91579599,  379.01244476,  379.18789888,\n",
       "                            380.66945426,  381.6665517 ,  381.96492305,  382.8132763 ,\n",
       "                            383.02449083,  383.21020952,  383.77803484,  383.88476422,\n",
       "                            384.03711388,  384.90651133,  385.00654483,  385.99131743,\n",
       "                            386.30157213,  386.35992194,  387.60708473,  389.33811681,\n",
       "                            390.47288448,  390.87662396,  391.84112497,  392.65268768,\n",
       "                            394.47823468,  395.33674212,  395.99746358,  396.31581219,\n",
       "                            396.3800117 ,  397.33351233,  397.62095689,  397.72687688,\n",
       "                            397.79438753,  397.96785497,  398.38167505,  399.4246871 ,\n",
       "                            399.48038799,  399.58251855,  400.21866392,  402.13306009,\n",
       "                            404.24005479]),\n",
       "               'yaxis': 'y'}],\n",
       "     'layout': {'height': 400,\n",
       "                'legend': {'tracegroupgap': 0},\n",
       "                'margin': {'t': 60},\n",
       "                'template': '...',\n",
       "                'width': 600,\n",
       "                'xaxis': {'anchor': 'y', 'domain': [0.0, 1.0], 'title': {'text': 'mt_pseudotime'}},\n",
       "                'yaxis': {'anchor': 'x', 'domain': [0.0, 1.0], 'title': {'text': 'Cadaverine'}}}\n",
       " }),\n",
       "                                       px_fit_results\n",
       " 0  <statsmodels.regression.linear_model.Regressio...)"
      ]
     },
     "execution_count": 18,
     "metadata": {},
     "output_type": "execute_result"
    }
   ],
   "source": [
    "get_scatter(ps_meta, \"mt_pseudotime\", met_cols[0])"
   ]
  }
 ],
 "metadata": {
  "kernelspec": {
   "display_name": "Python 3",
   "language": "python",
   "name": "python3"
  },
  "language_info": {
   "codemirror_mode": {
    "name": "ipython",
    "version": 3
   },
   "file_extension": ".py",
   "mimetype": "text/x-python",
   "name": "python",
   "nbconvert_exporter": "python",
   "pygments_lexer": "ipython3",
   "version": "3.7.10"
  }
 },
 "nbformat": 4,
 "nbformat_minor": 5
}
