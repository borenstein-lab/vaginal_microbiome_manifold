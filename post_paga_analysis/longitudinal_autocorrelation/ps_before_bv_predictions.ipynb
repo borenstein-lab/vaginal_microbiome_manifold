{
 "cells": [
  {
   "cell_type": "code",
   "execution_count": 1,
   "id": "9710d1df",
   "metadata": {},
   "outputs": [],
   "source": [
    "from sklearn.ensemble import RandomForestRegressor\n",
    "from sklearn.model_selection import RepeatedKFold\n",
    "from sklearn.model_selection import cross_val_score\n",
    "from sklearn.model_selection import LeaveOneGroupOut\n",
    "from sklearn.model_selection import GroupKFold\n",
    "from sklearn import metrics\n",
    "import scipy.stats as stats\n",
    "import random\n",
    "from os.path import join\n",
    "import pandas as pd\n",
    "import xlsxwriter\n",
    "import openpyxl\n",
    "import os\n",
    "import numpy as np\n",
    "from pandas import Series, ExcelWriter\n",
    "import plotly.graph_objects as go\n",
    "import plotly.io as pio\n",
    "import plotly.express as px\n",
    "import matplotlib.pyplot as plt\n",
    "import seaborn as sns\n",
    "import scanpy as sc \n",
    "from anndata import AnnData\n",
    "import warnings\n",
    "warnings.filterwarnings('ignore')"
   ]
  },
  {
   "cell_type": "code",
   "execution_count": 2,
   "id": "adee3c9e",
   "metadata": {},
   "outputs": [],
   "source": [
    "import sys  \n",
    "sys.path.insert(0, '../../my_packages')\n",
    "import dimen_reduc\n",
    "import meta_ord\n",
    "import paga_res\n",
    "import sliding_window\n",
    "import statistic\n",
    "from roc_ps import get_shuffled_df, get_roc#all_func"
   ]
  },
  {
   "cell_type": "markdown",
   "id": "1e22cd7d",
   "metadata": {},
   "source": [
    "#### Variables"
   ]
  },
  {
   "cell_type": "code",
   "execution_count": 8,
   "id": "1427ece0",
   "metadata": {},
   "outputs": [],
   "source": [
    "top_path = 'C:/Users/morts/Documents/TAU/Manifold_Project/Data/Serrano_Ravel13_Ravel11_Carter22/ps_res/res_UMAP_without_srin/'\n",
    "\n",
    "file_name = top_path + 'ps_res_16052023.xlsx'\n",
    "nn_file_name = top_path + 'nn_res_30052023.xlsx'\n",
    "\n",
    "sheet_abun = 'abundance'\n",
    "sheet_meta = 'meta'\n",
    "sheet_umap = 'umap'\n",
    "sheet_pcoa = 'pcoa'"
   ]
  },
  {
   "cell_type": "markdown",
   "id": "d55a5da1",
   "metadata": {},
   "source": [
    "#### Load data"
   ]
  },
  {
   "cell_type": "code",
   "execution_count": 9,
   "id": "0373d9fa",
   "metadata": {},
   "outputs": [
    {
     "name": "stdout",
     "output_type": "stream",
     "text": [
      "(7842, 31)\n",
      "(514, 35)\n"
     ]
    }
   ],
   "source": [
    "meta = pd.read_excel(file_name, sheet_name = sheet_meta, index_col = 0)\n",
    "nn_meta = pd.read_excel(nn_file_name, sheet_name = sheet_meta, index_col = 0)\n",
    "print(meta.shape)\n",
    "print(nn_meta.shape)"
   ]
  },
  {
   "cell_type": "code",
   "execution_count": 10,
   "id": "21a93efd",
   "metadata": {},
   "outputs": [],
   "source": [
    "both_meta = pd.concat([meta, nn_meta])\n",
    "temp_meta = both_meta[both_meta['db'] == \"temp_pyro\"]\n",
    "# temp_meta = both_meta[both_meta['db'].str.contains(\"temp\")]"
   ]
  },
  {
   "cell_type": "code",
   "execution_count": 47,
   "id": "411b65d5",
   "metadata": {},
   "outputs": [],
   "source": [
    "predict_group_size = 4"
   ]
  },
  {
   "cell_type": "code",
   "execution_count": 48,
   "id": "ae269bfe",
   "metadata": {},
   "outputs": [
    {
     "name": "stdout",
     "output_type": "stream",
     "text": [
      "31\n",
      "20\n"
     ]
    }
   ],
   "source": [
    "print(len(temp_meta[temp_meta['BV_bin'] == 1]))\n",
    "print(len(temp_meta[(temp_meta['BV_bin'] == 1) & (temp_meta['time'] > predict_group_size)]))"
   ]
  },
  {
   "cell_type": "markdown",
   "id": "5f3fefa6",
   "metadata": {},
   "source": [
    "#### Order"
   ]
  },
  {
   "cell_type": "markdown",
   "id": "2461f592",
   "metadata": {},
   "source": [
    "##### BV"
   ]
  },
  {
   "cell_type": "code",
   "execution_count": 41,
   "id": "8bce147d",
   "metadata": {},
   "outputs": [],
   "source": [
    "def flatten_lst(lst):\n",
    "    return [item for items in lst for item in items]\n",
    "\n",
    "def select_df_by_indices(df, idx_lsts, bv_next, predict_group_size = 5):\n",
    "    groups_names = [[i] * (predict_group_size - 1) for i, x in enumerate(idx_lsts)]\n",
    "    flatten_idx_lst = flatten_lst(idx_lsts)\n",
    "    flatten_names_lst = flatten_lst(groups_names)\n",
    "    \n",
    "    new_df = df.iloc[flatten_idx_lst]\n",
    "    new_df['group_name'] = flatten_names_lst\n",
    "    new_df['bv_next'] = bv_next\n",
    "    \n",
    "    return new_df"
   ]
  },
  {
   "cell_type": "code",
   "execution_count": 49,
   "id": "47c06aa3",
   "metadata": {},
   "outputs": [],
   "source": [
    "temp_meta_no = temp_meta.sort_values(['subjectID', 'time'], ascending = [True, True]).reset_index()\n",
    "bv_samples_idx = temp_meta_no[(temp_meta_no['BV_bin'] == 1) & (temp_meta_no['time'] > predict_group_size)].index\n",
    "before_bv_lists = [list(range(num - (predict_group_size - 1), num)) for num in bv_samples_idx]\n",
    "before_bv_df = select_df_by_indices(temp_meta_no, before_bv_lists, 1, predict_group_size)"
   ]
  },
  {
   "cell_type": "markdown",
   "id": "3ff0888b",
   "metadata": {},
   "source": [
    "###### Healthy"
   ]
  },
  {
   "cell_type": "code",
   "execution_count": 43,
   "id": "b04df874",
   "metadata": {},
   "outputs": [],
   "source": [
    "idx = (temp_meta_no['BV_bin'].rolling(window = predict_group_size).min() == 0).to_numpy()"
   ]
  },
  {
   "cell_type": "code",
   "execution_count": 44,
   "id": "7f56fc2e",
   "metadata": {},
   "outputs": [],
   "source": [
    "healthy_bin_idx = (temp_meta_no.groupby('subjectID')['BV_bin'].rolling(window = predict_group_size).mean() == 0).to_numpy()\n",
    "healthy_idx = temp_meta_no.iloc[healthy_bin_idx].index\n",
    "filt_healthy_idx = [x for x in healthy_idx if x not in flatten_lst(before_bv_lists)]\n",
    "before_healthy_lists = [list(range(num - (predict_group_size - 1), num)) for num in filt_healthy_idx]\n",
    "before_healthy_df = select_df_by_indices(temp_meta_no, before_healthy_lists, 0, predict_group_size)"
   ]
  },
  {
   "cell_type": "markdown",
   "id": "f8840f49",
   "metadata": {},
   "source": [
    "#### Aggregate "
   ]
  },
  {
   "cell_type": "code",
   "execution_count": 54,
   "id": "badc93d1",
   "metadata": {},
   "outputs": [],
   "source": [
    "def get_agg(df):\n",
    "    agg_df = df.groupby('group_name')['mt_pseudotime'].aggregate(['min', 'max', 'mean', 'std', 'median'])\n",
    "    agg_df['diff'] = agg_df['max'] - agg_df['min']\n",
    "    agg_df['bv_next'] = df.bv_next.unique()[0]\n",
    "    return agg_df"
   ]
  },
  {
   "cell_type": "code",
   "execution_count": 55,
   "id": "d07486f5",
   "metadata": {},
   "outputs": [],
   "source": [
    "agg_bv = get_agg(before_bv_df)\n",
    "agg_healthy = get_agg(before_healthy_df)\n",
    "agg_df = pd.concat([agg_bv, agg_healthy])"
   ]
  },
  {
   "cell_type": "code",
   "execution_count": 45,
   "id": "0ae0f151",
   "metadata": {},
   "outputs": [
    {
     "name": "stdout",
     "output_type": "stream",
     "text": [
      "20\n",
      "1459\n",
      "1.3708019191226868\n"
     ]
    }
   ],
   "source": [
    "print(len(bv_samples_idx))\n",
    "print(len(healthy_idx))\n",
    "print((len(bv_samples_idx) / len(healthy_idx)) * 100)"
   ]
  },
  {
   "cell_type": "markdown",
   "id": "5519629c",
   "metadata": {},
   "source": [
    "#### Plot trends"
   ]
  },
  {
   "cell_type": "code",
   "execution_count": 69,
   "id": "f2f207ac",
   "metadata": {},
   "outputs": [
    {
     "data": {
      "image/png": "[encoded data removed]",
      "text/plain": [
       "<Figure size 432x288 with 1 Axes>"
      ]
     },
     "metadata": {
      "needs_background": "light"
     },
     "output_type": "display_data"
    }
   ],
   "source": [
    "agg_df = temp_meta.groupby('subjectID')['mt_pseudotime'].aggregate(['std'])\n",
    "agg_df.hist(column = 'std')\n",
    "high_std_subjects = agg_df[agg_df['std'] > 0.05].index\n",
    "filt_before_bv_df = before_bv_df[before_bv_df['subjectID'].isin(high_std_subjects)]"
   ]
  },
  {
   "cell_type": "code",
   "execution_count": 70,
   "id": "c51f853e",
   "metadata": {},
   "outputs": [
    {
     "data": {
      "image/png": "[encoded data removed]",
      "text/plain": [
       "<Figure size 576x576 with 12 Axes>"
      ]
     },
     "metadata": {
      "needs_background": "light"
     },
     "output_type": "display_data"
    }
   ],
   "source": [
    "subjects_num = len(filt_before_bv_df.group_name.unique())\n",
    "nrow = 4\n",
    "ncol = subjects_num // nrow\n",
    "fig, axes = plt.subplots(nrow, ncol, figsize=(8, 8), constrained_layout=True)\n",
    "for group, ax in zip(filt_before_bv_df.group_name.unique(), axes.flat):\n",
    "    plot_df = filt_before_bv_df[before_bv_df['group_name'] == group]\n",
    "    subject = plot_df.subjectID.unique()\n",
    "    x = plot_df['time']\n",
    "    y = plot_df['mt_pseudotime']\n",
    "    ax.set_title(subject)\n",
    "    ax.scatter(x, y)\n",
    "    m, b = np.polyfit(x, y, 1)\n",
    "    ax.plot(x, m * x + b, color='red')"
   ]
  },
  {
   "cell_type": "code",
   "execution_count": 24,
   "id": "8965467b",
   "metadata": {},
   "outputs": [
    {
     "data": {
      "text/plain": [
       "16"
      ]
     },
     "execution_count": 24,
     "metadata": {},
     "output_type": "execute_result"
    }
   ],
   "source": [
    "before_bv_df\n",
    "len(before_bv_df.subjectID.unique())"
   ]
  },
  {
   "cell_type": "markdown",
   "id": "2308dd9e",
   "metadata": {},
   "source": [
    "#### roc"
   ]
  },
  {
   "cell_type": "code",
   "execution_count": 352,
   "id": "a0b0a898",
   "metadata": {},
   "outputs": [],
   "source": [
    "def all_func(df, n, pred_col, label_col):\n",
    "    filt_df = df[df[label_col].notna()]\n",
    "    pred_arr = filt_df[pred_col]\n",
    "\n",
    "    shuffled_df = get_shuffled_df(filt_df, n, label_col)\n",
    "    final_df = get_roc(shuffled_df, pred_arr)\n",
    "\n",
    "    return final_df, shuffled_df"
   ]
  },
  {
   "cell_type": "code",
   "execution_count": 353,
   "id": "54364469",
   "metadata": {},
   "outputs": [
    {
     "data": {
      "text/plain": [
       "0.6850250626566416"
      ]
     },
     "execution_count": 353,
     "metadata": {},
     "output_type": "execute_result"
    }
   ],
   "source": [
    "pred_df_bv, shuff = all_func(agg_df, 99, 'median', 'bv_next')\n",
    "pred_df_bv.iloc[0, 2]"
   ]
  },
  {
   "cell_type": "code",
   "execution_count": 323,
   "id": "c9537874",
   "metadata": {},
   "outputs": [],
   "source": [
    "dict_roc = {'bv': pred_df_bv}\n",
    "roc_path = top_path + str(predict_group_size - 1) + 'days_without_bv_diff_05062023.xlsx'\n",
    "paga_res.save_excel(roc_path, dict_roc)\n",
    "print(str(predict_group_size - 1))"
   ]
  },
  {
   "cell_type": "markdown",
   "id": "c991f6cd",
   "metadata": {},
   "source": [
    "#### t-test"
   ]
  },
  {
   "cell_type": "code",
   "execution_count": 302,
   "id": "bee9581d",
   "metadata": {},
   "outputs": [
    {
     "data": {
      "text/plain": [
       "<AxesSubplot:title={'center':'median'}, xlabel='bv_next'>"
      ]
     },
     "execution_count": 302,
     "metadata": {},
     "output_type": "execute_result"
    },
    {
     "data": {
      "image/png": "[encoded data removed]",
      "text/plain": [
       "<Figure size 432x288 with 1 Axes>"
      ]
     },
     "metadata": {
      "needs_background": "light"
     },
     "output_type": "display_data"
    }
   ],
   "source": [
    "agg_df.boxplot(by = 'bv_next', column = 'median')"
   ]
  },
  {
   "cell_type": "code",
   "execution_count": 252,
   "id": "de21f595",
   "metadata": {},
   "outputs": [
    {
     "data": {
      "text/plain": [
       "<AxesSubplot:title={'center':'std'}, xlabel='bv_next'>"
      ]
     },
     "execution_count": 252,
     "metadata": {},
     "output_type": "execute_result"
    },
    {
     "data": {
      "image/png": "[encoded data removed]",
      "text/plain": [
       "<Figure size 432x288 with 1 Axes>"
      ]
     },
     "metadata": {
      "needs_background": "light"
     },
     "output_type": "display_data"
    }
   ],
   "source": [
    "agg_df.boxplot(by = 'bv_next', column = 'std')"
   ]
  }
 ],
 "metadata": {
  "kernelspec": {
   "display_name": "Python 3",
   "language": "python",
   "name": "python3"
  },
  "language_info": {
   "codemirror_mode": {
    "name": "ipython",
    "version": 3
   },
   "file_extension": ".py",
   "mimetype": "text/x-python",
   "name": "python",
   "nbconvert_exporter": "python",
   "pygments_lexer": "ipython3",
   "version": "3.7.10"
  }
 },
 "nbformat": 4,
 "nbformat_minor": 5
}
