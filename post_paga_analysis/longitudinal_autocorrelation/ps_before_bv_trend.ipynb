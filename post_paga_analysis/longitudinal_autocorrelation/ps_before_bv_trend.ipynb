{
 "cells": [
  {
   "cell_type": "code",
   "execution_count": 1,
   "id": "9710d1df",
   "metadata": {},
   "outputs": [],
   "source": [
    "from sklearn.ensemble import RandomForestRegressor\n",
    "from sklearn.model_selection import RepeatedKFold\n",
    "from sklearn.model_selection import cross_val_score\n",
    "from sklearn.model_selection import LeaveOneGroupOut\n",
    "from sklearn.model_selection import GroupKFold\n",
    "from sklearn import metrics\n",
    "import scipy.stats as stats\n",
    "import random\n",
    "from os.path import join\n",
    "import pandas as pd\n",
    "import xlsxwriter\n",
    "import openpyxl\n",
    "import os\n",
    "import numpy as np\n",
    "from pandas import Series, ExcelWriter\n",
    "import plotly.graph_objects as go\n",
    "import plotly.io as pio\n",
    "import plotly.express as px\n",
    "import matplotlib.pyplot as plt\n",
    "import seaborn as sns\n",
    "import scanpy as sc \n",
    "from anndata import AnnData\n",
    "import functools\n",
    "import warnings\n",
    "warnings.filterwarnings('ignore')"
   ]
  },
  {
   "cell_type": "code",
   "execution_count": 2,
   "id": "adee3c9e",
   "metadata": {},
   "outputs": [],
   "source": [
    "import sys  \n",
    "sys.path.insert(0, '../../my_packages')\n",
    "import dimen_reduc\n",
    "import meta_ord\n",
    "import paga_res\n",
    "import sliding_window\n",
    "import statistic\n",
    "from roc_ps import get_shuffled_df, get_roc#all_func"
   ]
  },
  {
   "cell_type": "markdown",
   "id": "1e22cd7d",
   "metadata": {},
   "source": [
    "#### Variables"
   ]
  },
  {
   "cell_type": "code",
   "execution_count": 3,
   "id": "1427ece0",
   "metadata": {},
   "outputs": [],
   "source": [
    "top_path = 'C:/Users/morts/Documents/TAU/Manifold_Project/Data/Serrano_Ravel13_Ravel11_Carter22/ps_res/res_UMAP_without_srin/'\n",
    "\n",
    "file_name = top_path + 'ps_res_16052023.xlsx'\n",
    "nn_file_name = top_path + 'nn_res_30052023.xlsx'\n",
    "\n",
    "sheet_abun = 'abundance'\n",
    "sheet_meta = 'meta'\n",
    "sheet_umap = 'umap'\n",
    "sheet_pcoa = 'pcoa'"
   ]
  },
  {
   "cell_type": "markdown",
   "id": "d55a5da1",
   "metadata": {},
   "source": [
    "#### Load data"
   ]
  },
  {
   "cell_type": "code",
   "execution_count": 4,
   "id": "0373d9fa",
   "metadata": {},
   "outputs": [
    {
     "name": "stdout",
     "output_type": "stream",
     "text": [
      "(7842, 31)\n",
      "(514, 35)\n"
     ]
    }
   ],
   "source": [
    "meta = pd.read_excel(file_name, sheet_name = sheet_meta, index_col = 0)\n",
    "nn_meta = pd.read_excel(nn_file_name, sheet_name = sheet_meta, index_col = 0)\n",
    "print(meta.shape)\n",
    "print(nn_meta.shape)"
   ]
  },
  {
   "cell_type": "code",
   "execution_count": 5,
   "id": "21a93efd",
   "metadata": {},
   "outputs": [],
   "source": [
    "both_meta = pd.concat([meta, nn_meta])\n",
    "temp_meta = both_meta[both_meta['db'] == \"temp_pyro\"]\n",
    "# temp_meta = both_meta[both_meta['db'].str.contains(\"temp\")]"
   ]
  },
  {
   "cell_type": "markdown",
   "id": "012bf24a",
   "metadata": {},
   "source": [
    "#### View std"
   ]
  },
  {
   "cell_type": "code",
   "execution_count": 40,
   "id": "8abaee03",
   "metadata": {},
   "outputs": [
    {
     "data": {
      "image/png": "[encoded data removed]",
      "text/plain": [
       "<Figure size 432x288 with 1 Axes>"
      ]
     },
     "metadata": {
      "needs_background": "light"
     },
     "output_type": "display_data"
    }
   ],
   "source": [
    "agg_df = temp_meta.groupby('subjectID')['mt_pseudotime'].aggregate(['std'])\n",
    "agg_df.hist(column = 'std')\n",
    "std_val = 0.08\n",
    "high_std_subjects = agg_df[agg_df['std'] > std_val].index\n",
    "filt_temp_meta = temp_meta[temp_meta['subjectID'].isin(high_std_subjects)]"
   ]
  },
  {
   "cell_type": "markdown",
   "id": "ef537d3c",
   "metadata": {},
   "source": [
    "#### Functions"
   ]
  },
  {
   "cell_type": "code",
   "execution_count": 80,
   "id": "34fc707d",
   "metadata": {},
   "outputs": [],
   "source": [
    "def flatten_lst(lst):\n",
    "    return [item for items in lst for item in items]\n",
    "\n",
    "def select_df_by_indices(df, idx_lsts, bv_next, predict_group_size = 5):\n",
    "    groups_names = [[i] * (predict_group_size - 1) for i, x in enumerate(idx_lsts)]\n",
    "    flatten_idx_lst = flatten_lst(idx_lsts)\n",
    "    flatten_names_lst = flatten_lst(groups_names)\n",
    "    \n",
    "    new_df = df.iloc[flatten_idx_lst]\n",
    "    new_df['group_name'] = flatten_names_lst\n",
    "    new_df['bv_next'] = bv_next\n",
    "    \n",
    "    return new_df\n",
    "\n",
    "def get_grouped_by_bv(temp_meta, measured_col, predict_group_size, ascending = True):\n",
    "    if ascending:\n",
    "        temp_meta_no = temp_meta.sort_values(['subjectID', 'time'], ascending = [True, True]).reset_index()\n",
    "        samples_idx = temp_meta_no[(temp_meta_no[measured_col] == 1) & (temp_meta_no['time'] > predict_group_size)].index\n",
    "        before_lists = [list(range(num - (predict_group_size - 1), num)) for num in samples_idx]\n",
    "    else:\n",
    "        temp_meta_no = temp_meta.sort_values(['subjectID', 'time'], ascending = [True, False]).reset_index()\n",
    "        samples_idx = temp_meta_no[(temp_meta_no[measured_col] == 1) & (temp_meta_no['time'] > predict_group_size)].index\n",
    "        before_lists = [list(range(num - (predict_group_size - 1), num)) for num in samples_idx]\n",
    "    before_df = select_df_by_indices(temp_meta_no, before_lists, 1, predict_group_size)\n",
    "    \n",
    "    return before_df\n",
    "\n",
    "def get_trend_plot(before_df):\n",
    "    groups_num = len(before_df.group_name.unique())\n",
    "    nrow = 3\n",
    "    ncol = groups_num // nrow\n",
    "    fig, axes = plt.subplots(nrow, ncol, figsize=(6, 6), constrained_layout=True)\n",
    "    for group, ax in zip(before_df.group_name.unique(), axes.flat):\n",
    "        plot_df = before_df[before_df['group_name'] == group]\n",
    "        subject = plot_df.subjectID.unique()\n",
    "        x = plot_df['time']\n",
    "        y = plot_df['mt_pseudotime']\n",
    "        ax.set_title(subject)\n",
    "        ax.scatter(x, y)\n",
    "        m, b = np.polyfit(x, y, 1)\n",
    "        ax.plot(x, m * x + b, color='red')\n",
    "    return fig\n",
    "\n",
    "def all_func(temp_meta, measured_col, predict_group_size):\n",
    "    before_df = get_grouped_by_bv(temp_meta, measured_col, predict_group_size)\n",
    "    fig = get_trend_plot(before_df)\n",
    "    \n",
    "    return before_df, fig"
   ]
  },
  {
   "cell_type": "markdown",
   "id": "af98cd45",
   "metadata": {},
   "source": [
    "#### Run"
   ]
  },
  {
   "cell_type": "code",
   "execution_count": 50,
   "id": "a6b79766",
   "metadata": {},
   "outputs": [
    {
     "name": "stdout",
     "output_type": "stream",
     "text": [
      "31\n",
      "20\n"
     ]
    }
   ],
   "source": [
    "predict_group_size = 5\n",
    "print(len(temp_meta[temp_meta['BV_bin'] == 1]))\n",
    "print(len(temp_meta[(temp_meta['BV_bin'] == 1) & (temp_meta['time'] > predict_group_size)]))"
   ]
  },
  {
   "cell_type": "code",
   "execution_count": 81,
   "id": "380c3335",
   "metadata": {},
   "outputs": [
    {
     "data": {
      "image/png": "[encoded data removed]",
      "text/plain": [
       "<Figure size 432x432 with 9 Axes>"
      ]
     },
     "metadata": {
      "needs_background": "light"
     },
     "output_type": "display_data"
    }
   ],
   "source": [
    "bv_before_df, fig = all_func(filt_temp_meta, 'BV_bin', predict_group_size)"
   ]
  },
  {
   "cell_type": "code",
   "execution_count": null,
   "id": "3e3bf516",
   "metadata": {},
   "outputs": [],
   "source": [
    "med_after_df, fig = all_func(filt_temp_meta, 'BV_medication', predict_group_size, ascending = False)"
   ]
  },
  {
   "cell_type": "code",
   "execution_count": 86,
   "id": "c8cfb24d",
   "metadata": {},
   "outputs": [
    {
     "data": {
      "text/plain": [
       "Int64Index([   0,    1,    2,    4,    5,    6,   47,   48,   49,   50,   51,\n",
       "              52,  112,  113,  114,  115,  116,  117,  329,  515,  516,  517,\n",
       "             518,  519,  520,  521,  522,  523,  764,  765,  766,  767,  768,\n",
       "             769,  770,  803,  804,  805,  806, 1350, 1351, 1352, 1353, 1354,\n",
       "            1355, 1397, 1398, 1399, 1400, 1401, 1402, 1428, 1429, 1430, 1431,\n",
       "            1432, 1433, 1434, 1465, 1466, 1467, 1468, 1469, 1470, 1471, 1529,\n",
       "            1530, 1531, 1532, 1533, 1534],\n",
       "           dtype='int64')"
      ]
     },
     "execution_count": 86,
     "metadata": {},
     "output_type": "execute_result"
    }
   ],
   "source": [
    "[num for i, num in enumerate(samples_idx) if num == samples_idx[i - 1] + 1 ]\n",
    "# [num if num == samples_idx[i - 1] + 1 ]\n",
    "samples_idx"
   ]
  },
  {
   "cell_type": "code",
   "execution_count": 87,
   "id": "569a9a2e",
   "metadata": {},
   "outputs": [
    {
     "name": "stdout",
     "output_type": "stream",
     "text": [
      "Int64Index([   0,    1,    2,    4,    5,    6,   47,   48,   49,   50,   51,\n",
      "              52,  112,  113,  114,  115,  116,  117,  329,  515,  516,  517,\n",
      "             518,  519,  520,  521,  522,  523,  764,  765,  766,  767,  768,\n",
      "             769,  770,  803,  804,  805,  806, 1350, 1351, 1352, 1353, 1354,\n",
      "            1355, 1397, 1398, 1399, 1400, 1401, 1402, 1428, 1429, 1430, 1431,\n",
      "            1432, 1433, 1434, 1465, 1466, 1467, 1468, 1469, 1470, 1471, 1529,\n",
      "            1530, 1531, 1532, 1533, 1534],\n",
      "           dtype='int64')\n",
      "[[0, 1, 2, 3], [1, 2, 3, 4], [2, 3, 4, 5], [4, 5, 6, 7], [5, 6, 7, 8], [6, 7, 8, 9], [47, 48, 49, 50], [48, 49, 50, 51], [49, 50, 51, 52], [50, 51, 52, 53], [51, 52, 53, 54], [52, 53, 54, 55], [112, 113, 114, 115], [113, 114, 115, 116], [114, 115, 116, 117], [115, 116, 117, 118], [116, 117, 118, 119], [117, 118, 119, 120], [329, 330, 331, 332], [515, 516, 517, 518], [516, 517, 518, 519], [517, 518, 519, 520], [518, 519, 520, 521], [519, 520, 521, 522], [520, 521, 522, 523], [521, 522, 523, 524], [522, 523, 524, 525], [523, 524, 525, 526], [764, 765, 766, 767], [765, 766, 767, 768], [766, 767, 768, 769], [767, 768, 769, 770], [768, 769, 770, 771], [769, 770, 771, 772], [770, 771, 772, 773], [803, 804, 805, 806], [804, 805, 806, 807], [805, 806, 807, 808], [806, 807, 808, 809], [1350, 1351, 1352, 1353], [1351, 1352, 1353, 1354], [1352, 1353, 1354, 1355], [1353, 1354, 1355, 1356], [1354, 1355, 1356, 1357], [1355, 1356, 1357, 1358], [1397, 1398, 1399, 1400], [1398, 1399, 1400, 1401], [1399, 1400, 1401, 1402], [1400, 1401, 1402, 1403], [1401, 1402, 1403, 1404], [1402, 1403, 1404, 1405], [1428, 1429, 1430, 1431], [1429, 1430, 1431, 1432], [1430, 1431, 1432, 1433], [1431, 1432, 1433, 1434], [1432, 1433, 1434, 1435], [1433, 1434, 1435, 1436], [1434, 1435, 1436, 1437], [1465, 1466, 1467, 1468], [1466, 1467, 1468, 1469], [1467, 1468, 1469, 1470], [1468, 1469, 1470, 1471], [1469, 1470, 1471, 1472], [1470, 1471, 1472, 1473], [1471, 1472, 1473, 1474], [1529, 1530, 1531, 1532], [1530, 1531, 1532, 1533], [1531, 1532, 1533, 1534], [1532, 1533, 1534, 1535], [1533, 1534, 1535, 1536], [1534, 1535, 1536, 1537]]\n",
      "[[0, 0, 0, 0], [1, 1, 1, 1], [2, 2, 2, 2], [3, 3, 3, 3], [4, 4, 4, 4], [5, 5, 5, 5], [6, 6, 6, 6], [7, 7, 7, 7], [8, 8, 8, 8], [9, 9, 9, 9], [10, 10, 10, 10], [11, 11, 11, 11], [12, 12, 12, 12], [13, 13, 13, 13], [14, 14, 14, 14], [15, 15, 15, 15], [16, 16, 16, 16], [17, 17, 17, 17], [18, 18, 18, 18], [19, 19, 19, 19], [20, 20, 20, 20], [21, 21, 21, 21], [22, 22, 22, 22], [23, 23, 23, 23], [24, 24, 24, 24], [25, 25, 25, 25], [26, 26, 26, 26], [27, 27, 27, 27], [28, 28, 28, 28], [29, 29, 29, 29], [30, 30, 30, 30], [31, 31, 31, 31], [32, 32, 32, 32], [33, 33, 33, 33], [34, 34, 34, 34], [35, 35, 35, 35], [36, 36, 36, 36], [37, 37, 37, 37], [38, 38, 38, 38], [39, 39, 39, 39], [40, 40, 40, 40], [41, 41, 41, 41], [42, 42, 42, 42], [43, 43, 43, 43], [44, 44, 44, 44], [45, 45, 45, 45], [46, 46, 46, 46], [47, 47, 47, 47], [48, 48, 48, 48], [49, 49, 49, 49], [50, 50, 50, 50], [51, 51, 51, 51], [52, 52, 52, 52], [53, 53, 53, 53], [54, 54, 54, 54], [55, 55, 55, 55], [56, 56, 56, 56], [57, 57, 57, 57], [58, 58, 58, 58], [59, 59, 59, 59], [60, 60, 60, 60], [61, 61, 61, 61], [62, 62, 62, 62], [63, 63, 63, 63], [64, 64, 64, 64], [65, 65, 65, 65], [66, 66, 66, 66], [67, 67, 67, 67], [68, 68, 68, 68], [69, 69, 69, 69], [70, 70, 70, 70]]\n"
     ]
    }
   ],
   "source": [
    "measured_col = 'BV_medication'\n",
    "temp_meta_no = temp_meta.sort_values(['subjectID', 'time'], ascending = [True, False]).reset_index()\n",
    "samples_idx = temp_meta_no[(temp_meta_no[measured_col] == 1) & (temp_meta_no['time'] > predict_group_size)].index\n",
    "before_lists = [list(range(num, num + (predict_group_size - 1))) for num in samples_idx]\n",
    "groups_names = [[i] * (predict_group_size - 1) for i, x in enumerate(samples_idx)]\n",
    "print(samples_idx)\n",
    "print(before_lists)\n",
    "print(groups_names)\n",
    "groups_names = [[i] * (predict_group_size - 1) for i, x in enumerate(before_lists)]\n",
    "flatten_idx_lst = flatten_lst(before_lists)\n",
    "flatten_names_lst = flatten_lst(groups_names)\n",
    "\n",
    "new_df = temp_meta_no.iloc[flatten_idx_lst]\n",
    "new_df['group_name'] = flatten_names_lst\n",
    "new_df['bv_next'] = 1"
   ]
  },
  {
   "cell_type": "code",
   "execution_count": 75,
   "id": "315c107e",
   "metadata": {},
   "outputs": [
    {
     "data": {
      "text/html": [
       "<div>\n",
       "<style scoped>\n",
       "    .dataframe tbody tr th:only-of-type {\n",
       "        vertical-align: middle;\n",
       "    }\n",
       "\n",
       "    .dataframe tbody tr th {\n",
       "        vertical-align: top;\n",
       "    }\n",
       "\n",
       "    .dataframe thead th {\n",
       "        text-align: right;\n",
       "    }\n",
       "</style>\n",
       "<table border=\"1\" class=\"dataframe\">\n",
       "  <thead>\n",
       "    <tr style=\"text-align: right;\">\n",
       "      <th></th>\n",
       "      <th>subjectID</th>\n",
       "      <th>time</th>\n",
       "      <th>BV_medication</th>\n",
       "    </tr>\n",
       "  </thead>\n",
       "  <tbody>\n",
       "    <tr>\n",
       "      <th>0</th>\n",
       "      <td>UAB003</td>\n",
       "      <td>59.0</td>\n",
       "      <td>1.0</td>\n",
       "    </tr>\n",
       "    <tr>\n",
       "      <th>1</th>\n",
       "      <td>UAB003</td>\n",
       "      <td>58.0</td>\n",
       "      <td>1.0</td>\n",
       "    </tr>\n",
       "    <tr>\n",
       "      <th>2</th>\n",
       "      <td>UAB003</td>\n",
       "      <td>57.0</td>\n",
       "      <td>1.0</td>\n",
       "    </tr>\n",
       "    <tr>\n",
       "      <th>3</th>\n",
       "      <td>UAB003</td>\n",
       "      <td>56.0</td>\n",
       "      <td>0.0</td>\n",
       "    </tr>\n",
       "    <tr>\n",
       "      <th>4</th>\n",
       "      <td>UAB003</td>\n",
       "      <td>55.0</td>\n",
       "      <td>1.0</td>\n",
       "    </tr>\n",
       "    <tr>\n",
       "      <th>...</th>\n",
       "      <td>...</td>\n",
       "      <td>...</td>\n",
       "      <td>...</td>\n",
       "    </tr>\n",
       "    <tr>\n",
       "      <th>1568</th>\n",
       "      <td>UAB135</td>\n",
       "      <td>5.0</td>\n",
       "      <td>0.0</td>\n",
       "    </tr>\n",
       "    <tr>\n",
       "      <th>1569</th>\n",
       "      <td>UAB135</td>\n",
       "      <td>4.0</td>\n",
       "      <td>0.0</td>\n",
       "    </tr>\n",
       "    <tr>\n",
       "      <th>1570</th>\n",
       "      <td>UAB135</td>\n",
       "      <td>3.0</td>\n",
       "      <td>0.0</td>\n",
       "    </tr>\n",
       "    <tr>\n",
       "      <th>1571</th>\n",
       "      <td>UAB135</td>\n",
       "      <td>2.0</td>\n",
       "      <td>0.0</td>\n",
       "    </tr>\n",
       "    <tr>\n",
       "      <th>1572</th>\n",
       "      <td>UAB135</td>\n",
       "      <td>1.0</td>\n",
       "      <td>0.0</td>\n",
       "    </tr>\n",
       "  </tbody>\n",
       "</table>\n",
       "<p>1573 rows × 3 columns</p>\n",
       "</div>"
      ],
      "text/plain": [
       "     subjectID  time  BV_medication\n",
       "0       UAB003  59.0            1.0\n",
       "1       UAB003  58.0            1.0\n",
       "2       UAB003  57.0            1.0\n",
       "3       UAB003  56.0            0.0\n",
       "4       UAB003  55.0            1.0\n",
       "...        ...   ...            ...\n",
       "1568    UAB135   5.0            0.0\n",
       "1569    UAB135   4.0            0.0\n",
       "1570    UAB135   3.0            0.0\n",
       "1571    UAB135   2.0            0.0\n",
       "1572    UAB135   1.0            0.0\n",
       "\n",
       "[1573 rows x 3 columns]"
      ]
     },
     "execution_count": 75,
     "metadata": {},
     "output_type": "execute_result"
    }
   ],
   "source": [
    "temp_meta_no[['subjectID', 'time', 'BV_medication']]"
   ]
  },
  {
   "cell_type": "code",
   "execution_count": 70,
   "id": "c546033d",
   "metadata": {},
   "outputs": [
    {
     "data": {
      "text/html": [
       "<div>\n",
       "<style scoped>\n",
       "    .dataframe tbody tr th:only-of-type {\n",
       "        vertical-align: middle;\n",
       "    }\n",
       "\n",
       "    .dataframe tbody tr th {\n",
       "        vertical-align: top;\n",
       "    }\n",
       "\n",
       "    .dataframe thead th {\n",
       "        text-align: right;\n",
       "    }\n",
       "</style>\n",
       "<table border=\"1\" class=\"dataframe\">\n",
       "  <thead>\n",
       "    <tr style=\"text-align: right;\">\n",
       "      <th></th>\n",
       "      <th>index</th>\n",
       "      <th>sampleID</th>\n",
       "      <th>subjectID</th>\n",
       "      <th>day</th>\n",
       "      <th>week</th>\n",
       "      <th>time</th>\n",
       "      <th>ph</th>\n",
       "      <th>nugent</th>\n",
       "      <th>menst</th>\n",
       "      <th>subCST</th>\n",
       "      <th>...</th>\n",
       "      <th>BV_bin</th>\n",
       "      <th>root</th>\n",
       "      <th>dpt_pseudotime</th>\n",
       "      <th>mt_pseudotime</th>\n",
       "      <th>closest_sample</th>\n",
       "      <th>distance</th>\n",
       "      <th>closest_subCST</th>\n",
       "      <th>nugent_bin</th>\n",
       "      <th>ph_bin</th>\n",
       "      <th>BV_amsel_bin</th>\n",
       "    </tr>\n",
       "  </thead>\n",
       "  <tbody>\n",
       "    <tr>\n",
       "      <th>0</th>\n",
       "      <td>SRR904058</td>\n",
       "      <td>UAB003_10_3</td>\n",
       "      <td>UAB003</td>\n",
       "      <td>3.0</td>\n",
       "      <td>10.0</td>\n",
       "      <td>59.0</td>\n",
       "      <td>4.0</td>\n",
       "      <td>NaN</td>\n",
       "      <td>NaN</td>\n",
       "      <td>III-B</td>\n",
       "      <td>...</td>\n",
       "      <td>0</td>\n",
       "      <td>reg</td>\n",
       "      <td>0.062693</td>\n",
       "      <td>0.937307</td>\n",
       "      <td>NaN</td>\n",
       "      <td>NaN</td>\n",
       "      <td>NaN</td>\n",
       "      <td>NaN</td>\n",
       "      <td>NaN</td>\n",
       "      <td>NaN</td>\n",
       "    </tr>\n",
       "    <tr>\n",
       "      <th>1</th>\n",
       "      <td>SRR904067</td>\n",
       "      <td>UAB003_10_2</td>\n",
       "      <td>UAB003</td>\n",
       "      <td>2.0</td>\n",
       "      <td>10.0</td>\n",
       "      <td>58.0</td>\n",
       "      <td>4.0</td>\n",
       "      <td>NaN</td>\n",
       "      <td>NaN</td>\n",
       "      <td>III-B</td>\n",
       "      <td>...</td>\n",
       "      <td>0</td>\n",
       "      <td>reg</td>\n",
       "      <td>0.069469</td>\n",
       "      <td>0.930531</td>\n",
       "      <td>NaN</td>\n",
       "      <td>NaN</td>\n",
       "      <td>NaN</td>\n",
       "      <td>NaN</td>\n",
       "      <td>NaN</td>\n",
       "      <td>NaN</td>\n",
       "    </tr>\n",
       "    <tr>\n",
       "      <th>2</th>\n",
       "      <td>SRR904066</td>\n",
       "      <td>UAB003_10_1</td>\n",
       "      <td>UAB003</td>\n",
       "      <td>1.0</td>\n",
       "      <td>10.0</td>\n",
       "      <td>57.0</td>\n",
       "      <td>4.0</td>\n",
       "      <td>NaN</td>\n",
       "      <td>NaN</td>\n",
       "      <td>III-B</td>\n",
       "      <td>...</td>\n",
       "      <td>0</td>\n",
       "      <td>reg</td>\n",
       "      <td>0.053770</td>\n",
       "      <td>0.946230</td>\n",
       "      <td>NaN</td>\n",
       "      <td>NaN</td>\n",
       "      <td>NaN</td>\n",
       "      <td>NaN</td>\n",
       "      <td>NaN</td>\n",
       "      <td>NaN</td>\n",
       "    </tr>\n",
       "    <tr>\n",
       "      <th>3</th>\n",
       "      <td>SRR904065</td>\n",
       "      <td>UAB003_9_7</td>\n",
       "      <td>UAB003</td>\n",
       "      <td>7.0</td>\n",
       "      <td>9.0</td>\n",
       "      <td>56.0</td>\n",
       "      <td>4.0</td>\n",
       "      <td>NaN</td>\n",
       "      <td>NaN</td>\n",
       "      <td>IV-B</td>\n",
       "      <td>...</td>\n",
       "      <td>0</td>\n",
       "      <td>reg</td>\n",
       "      <td>0.049709</td>\n",
       "      <td>0.950291</td>\n",
       "      <td>NaN</td>\n",
       "      <td>NaN</td>\n",
       "      <td>NaN</td>\n",
       "      <td>NaN</td>\n",
       "      <td>NaN</td>\n",
       "      <td>NaN</td>\n",
       "    </tr>\n",
       "    <tr>\n",
       "      <th>4</th>\n",
       "      <td>SRR904064</td>\n",
       "      <td>UAB003_9_6</td>\n",
       "      <td>UAB003</td>\n",
       "      <td>6.0</td>\n",
       "      <td>9.0</td>\n",
       "      <td>55.0</td>\n",
       "      <td>4.0</td>\n",
       "      <td>NaN</td>\n",
       "      <td>NaN</td>\n",
       "      <td>IV-B</td>\n",
       "      <td>...</td>\n",
       "      <td>0</td>\n",
       "      <td>reg</td>\n",
       "      <td>0.098093</td>\n",
       "      <td>0.901907</td>\n",
       "      <td>NaN</td>\n",
       "      <td>NaN</td>\n",
       "      <td>NaN</td>\n",
       "      <td>NaN</td>\n",
       "      <td>NaN</td>\n",
       "      <td>NaN</td>\n",
       "    </tr>\n",
       "    <tr>\n",
       "      <th>...</th>\n",
       "      <td>...</td>\n",
       "      <td>...</td>\n",
       "      <td>...</td>\n",
       "      <td>...</td>\n",
       "      <td>...</td>\n",
       "      <td>...</td>\n",
       "      <td>...</td>\n",
       "      <td>...</td>\n",
       "      <td>...</td>\n",
       "      <td>...</td>\n",
       "      <td>...</td>\n",
       "      <td>...</td>\n",
       "      <td>...</td>\n",
       "      <td>...</td>\n",
       "      <td>...</td>\n",
       "      <td>...</td>\n",
       "      <td>...</td>\n",
       "      <td>...</td>\n",
       "      <td>...</td>\n",
       "      <td>...</td>\n",
       "      <td>...</td>\n",
       "    </tr>\n",
       "    <tr>\n",
       "      <th>1568</th>\n",
       "      <td>SRR906370</td>\n",
       "      <td>UAB135_1_5</td>\n",
       "      <td>UAB135</td>\n",
       "      <td>5.0</td>\n",
       "      <td>1.0</td>\n",
       "      <td>5.0</td>\n",
       "      <td>5.8</td>\n",
       "      <td>NaN</td>\n",
       "      <td>NaN</td>\n",
       "      <td>IV-B</td>\n",
       "      <td>...</td>\n",
       "      <td>0</td>\n",
       "      <td>reg</td>\n",
       "      <td>0.026997</td>\n",
       "      <td>0.973003</td>\n",
       "      <td>NaN</td>\n",
       "      <td>NaN</td>\n",
       "      <td>NaN</td>\n",
       "      <td>NaN</td>\n",
       "      <td>NaN</td>\n",
       "      <td>NaN</td>\n",
       "    </tr>\n",
       "    <tr>\n",
       "      <th>1569</th>\n",
       "      <td>SRR906369</td>\n",
       "      <td>UAB135_1_4</td>\n",
       "      <td>UAB135</td>\n",
       "      <td>4.0</td>\n",
       "      <td>1.0</td>\n",
       "      <td>4.0</td>\n",
       "      <td>5.3</td>\n",
       "      <td>NaN</td>\n",
       "      <td>NaN</td>\n",
       "      <td>IV-B</td>\n",
       "      <td>...</td>\n",
       "      <td>0</td>\n",
       "      <td>reg</td>\n",
       "      <td>0.029423</td>\n",
       "      <td>0.970577</td>\n",
       "      <td>NaN</td>\n",
       "      <td>NaN</td>\n",
       "      <td>NaN</td>\n",
       "      <td>NaN</td>\n",
       "      <td>NaN</td>\n",
       "      <td>NaN</td>\n",
       "    </tr>\n",
       "    <tr>\n",
       "      <th>1570</th>\n",
       "      <td>SRR906379</td>\n",
       "      <td>UAB135_1_3</td>\n",
       "      <td>UAB135</td>\n",
       "      <td>3.0</td>\n",
       "      <td>1.0</td>\n",
       "      <td>3.0</td>\n",
       "      <td>5.5</td>\n",
       "      <td>NaN</td>\n",
       "      <td>NaN</td>\n",
       "      <td>IV-B</td>\n",
       "      <td>...</td>\n",
       "      <td>0</td>\n",
       "      <td>reg</td>\n",
       "      <td>0.030028</td>\n",
       "      <td>0.969972</td>\n",
       "      <td>NaN</td>\n",
       "      <td>NaN</td>\n",
       "      <td>NaN</td>\n",
       "      <td>NaN</td>\n",
       "      <td>NaN</td>\n",
       "      <td>NaN</td>\n",
       "    </tr>\n",
       "    <tr>\n",
       "      <th>1571</th>\n",
       "      <td>SRR906368</td>\n",
       "      <td>UAB135_1_2</td>\n",
       "      <td>UAB135</td>\n",
       "      <td>2.0</td>\n",
       "      <td>1.0</td>\n",
       "      <td>2.0</td>\n",
       "      <td>5.3</td>\n",
       "      <td>NaN</td>\n",
       "      <td>1.0</td>\n",
       "      <td>IV-B</td>\n",
       "      <td>...</td>\n",
       "      <td>0</td>\n",
       "      <td>reg</td>\n",
       "      <td>0.029419</td>\n",
       "      <td>0.970581</td>\n",
       "      <td>NaN</td>\n",
       "      <td>NaN</td>\n",
       "      <td>NaN</td>\n",
       "      <td>NaN</td>\n",
       "      <td>NaN</td>\n",
       "      <td>NaN</td>\n",
       "    </tr>\n",
       "    <tr>\n",
       "      <th>1572</th>\n",
       "      <td>SRR906367</td>\n",
       "      <td>UAB135_1_1</td>\n",
       "      <td>UAB135</td>\n",
       "      <td>1.0</td>\n",
       "      <td>1.0</td>\n",
       "      <td>1.0</td>\n",
       "      <td>5.3</td>\n",
       "      <td>NaN</td>\n",
       "      <td>NaN</td>\n",
       "      <td>III-B</td>\n",
       "      <td>...</td>\n",
       "      <td>1</td>\n",
       "      <td>reg</td>\n",
       "      <td>0.100426</td>\n",
       "      <td>0.899574</td>\n",
       "      <td>NaN</td>\n",
       "      <td>NaN</td>\n",
       "      <td>NaN</td>\n",
       "      <td>NaN</td>\n",
       "      <td>NaN</td>\n",
       "      <td>NaN</td>\n",
       "    </tr>\n",
       "  </tbody>\n",
       "</table>\n",
       "<p>1573 rows × 38 columns</p>\n",
       "</div>"
      ],
      "text/plain": [
       "          index     sampleID subjectID  day  week  time   ph  nugent  menst  \\\n",
       "0     SRR904058  UAB003_10_3    UAB003  3.0  10.0  59.0  4.0     NaN    NaN   \n",
       "1     SRR904067  UAB003_10_2    UAB003  2.0  10.0  58.0  4.0     NaN    NaN   \n",
       "2     SRR904066  UAB003_10_1    UAB003  1.0  10.0  57.0  4.0     NaN    NaN   \n",
       "3     SRR904065   UAB003_9_7    UAB003  7.0   9.0  56.0  4.0     NaN    NaN   \n",
       "4     SRR904064   UAB003_9_6    UAB003  6.0   9.0  55.0  4.0     NaN    NaN   \n",
       "...         ...          ...       ...  ...   ...   ...  ...     ...    ...   \n",
       "1568  SRR906370   UAB135_1_5    UAB135  5.0   1.0   5.0  5.8     NaN    NaN   \n",
       "1569  SRR906369   UAB135_1_4    UAB135  4.0   1.0   4.0  5.3     NaN    NaN   \n",
       "1570  SRR906379   UAB135_1_3    UAB135  3.0   1.0   3.0  5.5     NaN    NaN   \n",
       "1571  SRR906368   UAB135_1_2    UAB135  2.0   1.0   2.0  5.3     NaN    1.0   \n",
       "1572  SRR906367   UAB135_1_1    UAB135  1.0   1.0   1.0  5.3     NaN    NaN   \n",
       "\n",
       "     subCST  ... BV_bin  root dpt_pseudotime  mt_pseudotime  closest_sample  \\\n",
       "0     III-B  ...      0   reg       0.062693       0.937307             NaN   \n",
       "1     III-B  ...      0   reg       0.069469       0.930531             NaN   \n",
       "2     III-B  ...      0   reg       0.053770       0.946230             NaN   \n",
       "3      IV-B  ...      0   reg       0.049709       0.950291             NaN   \n",
       "4      IV-B  ...      0   reg       0.098093       0.901907             NaN   \n",
       "...     ...  ...    ...   ...            ...            ...             ...   \n",
       "1568   IV-B  ...      0   reg       0.026997       0.973003             NaN   \n",
       "1569   IV-B  ...      0   reg       0.029423       0.970577             NaN   \n",
       "1570   IV-B  ...      0   reg       0.030028       0.969972             NaN   \n",
       "1571   IV-B  ...      0   reg       0.029419       0.970581             NaN   \n",
       "1572  III-B  ...      1   reg       0.100426       0.899574             NaN   \n",
       "\n",
       "      distance  closest_subCST  nugent_bin ph_bin  BV_amsel_bin  \n",
       "0          NaN             NaN         NaN    NaN           NaN  \n",
       "1          NaN             NaN         NaN    NaN           NaN  \n",
       "2          NaN             NaN         NaN    NaN           NaN  \n",
       "3          NaN             NaN         NaN    NaN           NaN  \n",
       "4          NaN             NaN         NaN    NaN           NaN  \n",
       "...        ...             ...         ...    ...           ...  \n",
       "1568       NaN             NaN         NaN    NaN           NaN  \n",
       "1569       NaN             NaN         NaN    NaN           NaN  \n",
       "1570       NaN             NaN         NaN    NaN           NaN  \n",
       "1571       NaN             NaN         NaN    NaN           NaN  \n",
       "1572       NaN             NaN         NaN    NaN           NaN  \n",
       "\n",
       "[1573 rows x 38 columns]"
      ]
     },
     "execution_count": 70,
     "metadata": {},
     "output_type": "execute_result"
    }
   ],
   "source": [
    "temp_meta_no"
   ]
  },
  {
   "cell_type": "code",
   "execution_count": 30,
   "id": "720b0d51",
   "metadata": {},
   "outputs": [
    {
     "data": {
      "text/plain": [
       "subjectID\n",
       "UAB003    12.0\n",
       "UAB005     6.0\n",
       "UAB007     0.0\n",
       "UAB012     0.0\n",
       "UAB015     0.0\n",
       "UAB017     1.0\n",
       "UAB023     0.0\n",
       "UAB027     0.0\n",
       "UAB035     9.0\n",
       "UAB040     0.0\n",
       "UAB049     0.0\n",
       "UAB052     0.0\n",
       "UAB053     7.0\n",
       "UAB055     4.0\n",
       "UAB059     0.0\n",
       "UAB060     0.0\n",
       "UAB077     0.0\n",
       "UAB082     0.0\n",
       "UAB096     0.0\n",
       "UAB112     0.0\n",
       "UAB116     0.0\n",
       "UAB127     6.0\n",
       "UAB128    13.0\n",
       "UAB130     7.0\n",
       "UAB135     6.0\n",
       "Name: BV_medication, dtype: float64"
      ]
     },
     "execution_count": 30,
     "metadata": {},
     "output_type": "execute_result"
    }
   ],
   "source": [
    "temp_meta.groupby('subjectID')['BV_medication'].sum()"
   ]
  },
  {
   "cell_type": "code",
   "execution_count": null,
   "id": "83ef7724",
   "metadata": {},
   "outputs": [],
   "source": []
  },
  {
   "cell_type": "code",
   "execution_count": null,
   "id": "a4a8de3f",
   "metadata": {},
   "outputs": [],
   "source": []
  },
  {
   "cell_type": "code",
   "execution_count": null,
   "id": "172485f9",
   "metadata": {},
   "outputs": [],
   "source": []
  },
  {
   "cell_type": "code",
   "execution_count": null,
   "id": "976af0b5",
   "metadata": {},
   "outputs": [],
   "source": []
  },
  {
   "cell_type": "code",
   "execution_count": null,
   "id": "9d066e90",
   "metadata": {},
   "outputs": [],
   "source": []
  },
  {
   "cell_type": "markdown",
   "id": "5f3fefa6",
   "metadata": {},
   "source": [
    "#### Order"
   ]
  },
  {
   "cell_type": "markdown",
   "id": "2461f592",
   "metadata": {},
   "source": [
    "##### BV"
   ]
  },
  {
   "cell_type": "code",
   "execution_count": 41,
   "id": "8bce147d",
   "metadata": {},
   "outputs": [],
   "source": [
    "def flatten_lst(lst):\n",
    "    return [item for items in lst for item in items]\n",
    "\n",
    "def select_df_by_indices(df, idx_lsts, bv_next, predict_group_size = 5):\n",
    "    groups_names = [[i] * (predict_group_size - 1) for i, x in enumerate(idx_lsts)]\n",
    "    flatten_idx_lst = flatten_lst(idx_lsts)\n",
    "    flatten_names_lst = flatten_lst(groups_names)\n",
    "    \n",
    "    new_df = df.iloc[flatten_idx_lst]\n",
    "    new_df['group_name'] = flatten_names_lst\n",
    "    new_df['bv_next'] = bv_next\n",
    "    \n",
    "    return new_df"
   ]
  },
  {
   "cell_type": "code",
   "execution_count": 49,
   "id": "47c06aa3",
   "metadata": {},
   "outputs": [],
   "source": [
    "temp_meta_no = temp_meta.sort_values(['subjectID', 'time'], ascending = [True, True]).reset_index()\n",
    "bv_samples_idx = temp_meta_no[(temp_meta_no['BV_bin'] == 1) & (temp_meta_no['time'] > predict_group_size)].index\n",
    "before_bv_lists = [list(range(num - (predict_group_size - 1), num)) for num in bv_samples_idx]\n",
    "before_bv_df = select_df_by_indices(temp_meta_no, before_bv_lists, 1, predict_group_size)"
   ]
  },
  {
   "cell_type": "markdown",
   "id": "3ff0888b",
   "metadata": {},
   "source": [
    "###### Healthy"
   ]
  },
  {
   "cell_type": "code",
   "execution_count": 43,
   "id": "b04df874",
   "metadata": {},
   "outputs": [],
   "source": [
    "idx = (temp_meta_no['BV_bin'].rolling(window = predict_group_size).min() == 0).to_numpy()"
   ]
  },
  {
   "cell_type": "code",
   "execution_count": null,
   "id": "471ca7ac",
   "metadata": {},
   "outputs": [],
   "source": [
    "filterred_after_med_lists = []\n",
    "for i, lst in enmerate(after_med_lists):\n",
    "    common_set = set(after_med_lists[i]).intersection(after_med_lists[i + 1])\n",
    "    if len(common_set) >= 1:\n",
    "        filterred_after_med_lists.append(after_med_lists[i + 1])"
   ]
  },
  {
   "cell_type": "code",
   "execution_count": 201,
   "id": "a4b471c1",
   "metadata": {},
   "outputs": [
    {
     "data": {
      "text/plain": [
       "[2, 6, 52, 117, 329, 523, 770, 806, 1355, 1402, 1434, 1471, 1534]"
      ]
     },
     "execution_count": 201,
     "metadata": {},
     "output_type": "execute_result"
    }
   ],
   "source": [
    "import functools\n",
    "lis = med_samples_idx\n",
    "result = functools.reduce(lambda x,y : x[:-1]+[x[-1]+[y]] if (x[-1][-1]+1==y) else [*x,[y]], lis[1:] , [[med_samples_idx[0]]] )\n",
    "high_result = [max(lst) for lst in result]\n",
    "high_result"
   ]
  },
  {
   "cell_type": "code",
   "execution_count": 143,
   "id": "71a5bd03",
   "metadata": {},
   "outputs": [
    {
     "name": "stdout",
     "output_type": "stream",
     "text": [
      "Int64Index([   0,    1,    2,    4,    5,    6,   47,   48,   49,   50,   51,\n",
      "              52,  112,  113,  114,  115,  116,  117,  329,  515,  516,  517,\n",
      "             518,  519,  520,  521,  522,  523,  764,  765,  766,  767,  768,\n",
      "             769,  770,  803,  804,  805,  806, 1350, 1351, 1352, 1353, 1354,\n",
      "            1355, 1397, 1398, 1399, 1400, 1401, 1402, 1428, 1429, 1430, 1431,\n",
      "            1432, 1433, 1434, 1465, 1466, 1467, 1468, 1469, 1470, 1471, 1529,\n",
      "            1530, 1531, 1532, 1533, 1534],\n",
      "           dtype='int64')\n",
      "[[0, 1, 2, 3], [1, 2, 3, 4], [2, 3, 4, 5], [4, 5, 6, 7], [5, 6, 7, 8], [6, 7, 8, 9], [47, 48, 49, 50], [48, 49, 50, 51], [49, 50, 51, 52], [50, 51, 52, 53], [51, 52, 53, 54], [52, 53, 54, 55], [112, 113, 114, 115], [113, 114, 115, 116], [114, 115, 116, 117], [115, 116, 117, 118], [116, 117, 118, 119], [117, 118, 119, 120], [329, 330, 331, 332], [515, 516, 517, 518], [516, 517, 518, 519], [517, 518, 519, 520], [518, 519, 520, 521], [519, 520, 521, 522], [520, 521, 522, 523], [521, 522, 523, 524], [522, 523, 524, 525], [523, 524, 525, 526], [764, 765, 766, 767], [765, 766, 767, 768], [766, 767, 768, 769], [767, 768, 769, 770], [768, 769, 770, 771], [769, 770, 771, 772], [770, 771, 772, 773], [803, 804, 805, 806], [804, 805, 806, 807], [805, 806, 807, 808], [806, 807, 808, 809], [1350, 1351, 1352, 1353], [1351, 1352, 1353, 1354], [1352, 1353, 1354, 1355], [1353, 1354, 1355, 1356], [1354, 1355, 1356, 1357], [1355, 1356, 1357, 1358], [1397, 1398, 1399, 1400], [1398, 1399, 1400, 1401], [1399, 1400, 1401, 1402], [1400, 1401, 1402, 1403], [1401, 1402, 1403, 1404], [1402, 1403, 1404, 1405], [1428, 1429, 1430, 1431], [1429, 1430, 1431, 1432], [1430, 1431, 1432, 1433], [1431, 1432, 1433, 1434], [1432, 1433, 1434, 1435], [1433, 1434, 1435, 1436], [1434, 1435, 1436, 1437], [1465, 1466, 1467, 1468], [1466, 1467, 1468, 1469], [1467, 1468, 1469, 1470], [1468, 1469, 1470, 1471], [1469, 1470, 1471, 1472], [1470, 1471, 1472, 1473], [1471, 1472, 1473, 1474], [1529, 1530, 1531, 1532], [1530, 1531, 1532, 1533], [1531, 1532, 1533, 1534], [1532, 1533, 1534, 1535], [1533, 1534, 1535, 1536], [1534, 1535, 1536, 1537]]\n"
     ]
    }
   ],
   "source": [
    "temp_meta_no = temp_meta.sort_values(['subjectID', 'time'], ascending = [True, False]).reset_index()\n",
    "med_samples_idx = temp_meta_no[(temp_meta_no['BV_medication'] == 1) & (temp_meta_no['time'] > predict_group_size)].index\n",
    "after_med_lists = [list(range(num, num + (predict_group_size - 1))) for num in med_samples_idx]\n",
    "after_med_df = select_df_by_indices(temp_meta_no, after_med_lists, 1, predict_group_size)\n",
    "print(med_samples_idx)\n",
    "print(after_med_lists)\n",
    "# print(after_med_df)"
   ]
  },
  {
   "cell_type": "code",
   "execution_count": null,
   "id": "caf8b029",
   "metadata": {},
   "outputs": [],
   "source": [
    "def ps_after(meta, obj_col, high_std_subjects, predict_group_size = 4):\n",
    "    # Order by subjectID and time\n",
    "    temp_meta = meta[(meta['db'] == 'temp_pyro') & meta['subjectID'].isin(high_std_subjects)]\n",
    "    temp_meta_no = temp_meta.sort_values(['subjectID', 'time'], ascending = [True, False]).reset_index()\n",
    "    temp_meta_no['cumcount_time'] = temp_meta_no.groupby(['subjectID']).cumcount().add(1)\n",
    "    \n",
    "    # Get indices of medication and after\n",
    "    med_samples_idx = temp_meta_no[(temp_meta_no[obj_col] == 1) & (temp_meta_no['cumcount_time'] > predict_group_size)].index\n",
    "    \n",
    "    # Filter consecutive indices \n",
    "    filt_after_med_idx = functools.reduce(lambda x,y : x[:-1]+[x[-1]+[y]] if (x[-1][-1]+1==y) else [*x,[y]], med_samples_idx[1:] , [[med_samples_idx[0]]] )\n",
    "    high_after_med_idx = [min(lst) for lst in filt_after_med_idx]\n",
    "    \n",
    "    # Get after samples and filter df\n",
    "    after_med_lists = [list(range(num - 2, num + (predict_group_size))) for num in high_after_med_idx if num > predict_group_size - 1]\n",
    "#     [list(range(num, num + (predict_group_size - 1))) for num in high_after_med_idx]\n",
    "    after_med_df = select_df_by_indices(temp_meta_no, after_med_lists, predict_group_size = predict_group_size)\n",
    "    \n",
    "    return after_med_df, med_samples_idx, high_after_med_idx, after_med_lists"
   ]
  },
  {
   "cell_type": "markdown",
   "id": "5519629c",
   "metadata": {},
   "source": [
    "#### Plot trends"
   ]
  },
  {
   "cell_type": "code",
   "execution_count": null,
   "id": "4221a95b",
   "metadata": {},
   "outputs": [],
   "source": [
    "temp_meta.BV_bin"
   ]
  },
  {
   "cell_type": "code",
   "execution_count": 69,
   "id": "f2f207ac",
   "metadata": {},
   "outputs": [
    {
     "data": {
      "image/png": "[encoded data removed]",
      "text/plain": [
       "<Figure size 432x288 with 1 Axes>"
      ]
     },
     "metadata": {
      "needs_background": "light"
     },
     "output_type": "display_data"
    }
   ],
   "source": [
    "agg_df = temp_meta.groupby('subjectID')['mt_pseudotime'].aggregate(['std'])\n",
    "agg_df.hist(column = 'std')\n",
    "high_std_subjects = agg_df[agg_df['std'] > 0.05].index\n",
    "filt_before_bv_df = before_bv_df[before_bv_df['subjectID'].isin(high_std_subjects)]\n",
    "filt_after_med_df = after_med_df[after_med_df['subjectID'].isin(high_std_subjects)]"
   ]
  },
  {
   "cell_type": "code",
   "execution_count": 70,
   "id": "c51f853e",
   "metadata": {},
   "outputs": [
    {
     "data": {
      "image/png": "[encoded data removed]",
      "text/plain": [
       "<Figure size 576x576 with 12 Axes>"
      ]
     },
     "metadata": {
      "needs_background": "light"
     },
     "output_type": "display_data"
    }
   ],
   "source": [
    "subjects_num = len(filt_before_bv_df.group_name.unique())\n",
    "nrow = 4\n",
    "ncol = subjects_num // nrow\n",
    "fig, axes = plt.subplots(nrow, ncol, figsize=(8, 8), constrained_layout=True)\n",
    "for group, ax in zip(filt_before_bv_df.group_name.unique(), axes.flat):\n",
    "    plot_df = filt_before_bv_df[before_bv_df['group_name'] == group]\n",
    "    subject = plot_df.subjectID.unique()\n",
    "    x = plot_df['time']\n",
    "    y = plot_df['mt_pseudotime']\n",
    "    ax.set_title(subject)\n",
    "    ax.scatter(x, y)\n",
    "    m, b = np.polyfit(x, y, 1)\n",
    "    ax.plot(x, m * x + b, color='red')"
   ]
  },
  {
   "cell_type": "code",
   "execution_count": 24,
   "id": "8965467b",
   "metadata": {},
   "outputs": [
    {
     "data": {
      "text/plain": [
       "16"
      ]
     },
     "execution_count": 24,
     "metadata": {},
     "output_type": "execute_result"
    }
   ],
   "source": [
    "subjects_num = len(filt_after_med_df.group_name.unique())\n",
    "nrow = 4\n",
    "ncol = subjects_num // nrow\n",
    "fig, axes = plt.subplots(nrow, ncol, figsize=(8, 8), constrained_layout=True)\n",
    "for group, ax in zip(filt_after_med_df.group_name.unique(), axes.flat):\n",
    "    plot_df = filt_after_med_df[before_bv_df['group_name'] == group]\n",
    "    subject = plot_df.subjectID.unique()\n",
    "    x = plot_df['time']\n",
    "    y = plot_df['mt_pseudotime']\n",
    "    ax.set_title(subject)\n",
    "    ax.scatter(x, y)\n",
    "    m, b = np.polyfit(x, y, 1)\n",
    "    ax.plot(x, m * x + b, color='red')"
   ]
  },
  {
   "cell_type": "markdown",
   "id": "3a9c1dd0",
   "metadata": {},
   "source": [
    "#### ROC"
   ]
  },
  {
   "cell_type": "code",
   "execution_count": 187,
   "id": "f7ba8483",
   "metadata": {},
   "outputs": [],
   "source": [
    "def add_month(temp_meta):\n",
    "    ord_temp_meta = temp_meta.sort_values(['subjectID', 'time'])\n",
    "    ord_temp_meta = ord_temp_meta.merge(pd.DataFrame(ord_temp_meta.groupby(\"subjectID\")['time'].max()), \n",
    "                        left_on = 'subjectID', right_index = True)\n",
    "    ord_temp_meta.rename(columns = {'time_y':'time_max', 'time_x':'time'}, inplace = True)\n",
    "    ord_temp_meta['time_max'] = ord_temp_meta['time_max'] // 2\n",
    "    ord_temp_meta['monthly_time'] = np.where(ord_temp_meta['time'] < (ord_temp_meta['time_max']), '0', '1')\n",
    "    ord_temp_meta['monthly_subjectID'] = ord_temp_meta['subjectID'] + '_' + ord_temp_meta['monthly_time'].astype(str)\n",
    "    \n",
    "    return ord_temp_meta\n",
    "\n",
    "def add_bv_res(ord_temp_meta, group_col, head):\n",
    "    ord_temp_meta = ord_temp_meta.sort_values([group_col, 'time'])\n",
    "    head_df = ord_temp_meta.groupby(group_col).head(head)\n",
    "    head_df = head_df.groupby(group_col).filter(lambda x: (x.BV_bin == 0).all())\n",
    "    bv_res = ord_temp_meta.groupby(group_col)['BV_bin'].sum().to_frame(name = 'bv_res')\n",
    "    bv_res[bv_res > 1] = 1\n",
    "    grouped_head_df = head_df.groupby(group_col)['mt_pseudotime'].aggregate(['min', 'max', 'mean', 'std', 'median'])\n",
    "    grouped_head_df = grouped_head_df.join(bv_res)\n",
    "    \n",
    "    return grouped_head_df"
   ]
  },
  {
   "cell_type": "code",
   "execution_count": 192,
   "id": "58441706",
   "metadata": {},
   "outputs": [],
   "source": [
    "head = 5\n",
    "ord_temp_meta = add_month(temp_meta)\n",
    "grouped_head_df = add_bv_res(ord_temp_meta, 'monthly_subjectID', head)\n",
    "grouped_head_df = add_bv_res(ord_temp_meta, 'subjectID', head)"
   ]
  },
  {
   "cell_type": "markdown",
   "id": "2308dd9e",
   "metadata": {},
   "source": [
    "#### roc"
   ]
  },
  {
   "cell_type": "code",
   "execution_count": 193,
   "id": "a0b0a898",
   "metadata": {},
   "outputs": [],
   "source": [
    "def all_func(df, n, pred_col, label_col):\n",
    "    filt_df = df[df[label_col].notna()]\n",
    "    pred_arr = filt_df[pred_col]\n",
    "\n",
    "    shuffled_df = get_shuffled_df(filt_df, n, label_col)\n",
    "    final_df = get_roc(shuffled_df, pred_arr)\n",
    "\n",
    "    return final_df, shuffled_df"
   ]
  },
  {
   "cell_type": "code",
   "execution_count": 194,
   "id": "54364469",
   "metadata": {},
   "outputs": [
    {
     "data": {
      "text/plain": [
       "0.7959183673469388"
      ]
     },
     "execution_count": 194,
     "metadata": {},
     "output_type": "execute_result"
    }
   ],
   "source": [
    "pred_df_bv, shuff = all_func(grouped_head_df, 99, 'max', 'bv_res')\n",
    "pred_df_bv.iloc[0, 2]"
   ]
  },
  {
   "cell_type": "code",
   "execution_count": 139,
   "id": "a869370e",
   "metadata": {},
   "outputs": [
    {
     "data": {
      "text/plain": [
       "(14, 6)"
      ]
     },
     "execution_count": 139,
     "metadata": {},
     "output_type": "execute_result"
    }
   ],
   "source": [
    "grouped_head_df.shape"
   ]
  },
  {
   "cell_type": "code",
   "execution_count": 195,
   "id": "45402d99",
   "metadata": {},
   "outputs": [
    {
     "data": {
      "text/plain": [
       "[<matplotlib.lines.Line2D at 0x23e92ab3248>]"
      ]
     },
     "execution_count": 195,
     "metadata": {},
     "output_type": "execute_result"
    },
    {
     "data": {
      "image/png": "[encoded data removed]",
      "text/plain": [
       "<Figure size 432x288 with 1 Axes>"
      ]
     },
     "metadata": {
      "needs_background": "light"
     },
     "output_type": "display_data"
    }
   ],
   "source": [
    "curr_df = pred_df_bv[pred_df_bv['shuff_num'] == 'bv_res']\n",
    "plt.plot(curr_df['fpr'].values, curr_df['tpr'].values, color=\"grey\", label='', lw=0.5, alpha=0.7)"
   ]
  },
  {
   "cell_type": "code",
   "execution_count": 323,
   "id": "c9537874",
   "metadata": {},
   "outputs": [],
   "source": [
    "dict_roc = {'bv': pred_df_bv}\n",
    "roc_path = top_path + str(predict_group_size - 1) + 'first_days_predict_bv.xlsx'\n",
    "paga_res.save_excel(roc_path, dict_roc)\n",
    "print(str(predict_group_size - 1))"
   ]
  },
  {
   "cell_type": "markdown",
   "id": "c991f6cd",
   "metadata": {},
   "source": [
    "#### t-test"
   ]
  },
  {
   "cell_type": "code",
   "execution_count": 302,
   "id": "bee9581d",
   "metadata": {},
   "outputs": [
    {
     "data": {
      "text/plain": [
       "<AxesSubplot:title={'center':'median'}, xlabel='bv_next'>"
      ]
     },
     "execution_count": 302,
     "metadata": {},
     "output_type": "execute_result"
    },
    {
     "data": {
      "image/png": "[encoded data removed]",
      "text/plain": [
       "<Figure size 432x288 with 1 Axes>"
      ]
     },
     "metadata": {
      "needs_background": "light"
     },
     "output_type": "display_data"
    }
   ],
   "source": [
    "agg_df.boxplot(by = 'bv_next', column = 'median')"
   ]
  },
  {
   "cell_type": "code",
   "execution_count": 252,
   "id": "de21f595",
   "metadata": {},
   "outputs": [
    {
     "data": {
      "text/plain": [
       "<AxesSubplot:title={'center':'std'}, xlabel='bv_next'>"
      ]
     },
     "execution_count": 252,
     "metadata": {},
     "output_type": "execute_result"
    },
    {
     "data": {
      "image/png": "[encoded data removed]",
      "text/plain": [
       "<Figure size 432x288 with 1 Axes>"
      ]
     },
     "metadata": {
      "needs_background": "light"
     },
     "output_type": "display_data"
    }
   ],
   "source": [
    "agg_df.boxplot(by = 'bv_next', column = 'std')"
   ]
  }
 ],
 "metadata": {
  "kernelspec": {
   "display_name": "Python 3",
   "language": "python",
   "name": "python3"
  },
  "language_info": {
   "codemirror_mode": {
    "name": "ipython",
    "version": 3
   },
   "file_extension": ".py",
   "mimetype": "text/x-python",
   "name": "python",
   "nbconvert_exporter": "python",
   "pygments_lexer": "ipython3",
   "version": "3.7.10"
  }
 },
 "nbformat": 4,
 "nbformat_minor": 5
}
