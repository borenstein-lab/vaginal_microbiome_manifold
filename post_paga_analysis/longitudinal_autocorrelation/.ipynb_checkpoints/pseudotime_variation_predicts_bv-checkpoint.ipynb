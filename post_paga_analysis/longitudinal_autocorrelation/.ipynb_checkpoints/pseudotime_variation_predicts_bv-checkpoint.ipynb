{
 "cells": [
  {
   "cell_type": "code",
   "execution_count": 1,
   "id": "4365031f",
   "metadata": {},
   "outputs": [],
   "source": [
    "from sklearn.ensemble import RandomForestRegressor\n",
    "from sklearn.model_selection import RepeatedKFold\n",
    "from sklearn.model_selection import cross_val_score\n",
    "from sklearn.model_selection import LeaveOneGroupOut\n",
    "from sklearn.model_selection import GroupKFold\n",
    "from sklearn import metrics\n",
    "import scipy.stats as stats\n",
    "import random\n",
    "from os.path import join\n",
    "import pandas as pd\n",
    "import xlsxwriter\n",
    "import openpyxl\n",
    "import os\n",
    "import numpy as np\n",
    "from pandas import Series, ExcelWriter\n",
    "import plotly.graph_objects as go\n",
    "import plotly.io as pio\n",
    "import plotly.express as px\n",
    "import matplotlib.pyplot as plt\n",
    "import seaborn as sns\n",
    "import scanpy as sc \n",
    "from anndata import AnnData\n",
    "import warnings\n",
    "warnings.filterwarnings('ignore')"
   ]
  },
  {
   "cell_type": "code",
   "execution_count": 2,
   "id": "0c433c84",
   "metadata": {},
   "outputs": [],
   "source": [
    "import sys  \n",
    "sys.path.insert(0, '../../my_packages')\n",
    "import dimen_reduc\n",
    "import meta_ord\n",
    "import paga_res\n",
    "import sliding_window\n",
    "import statistic\n",
    "from roc_ps import all_func"
   ]
  },
  {
   "cell_type": "markdown",
   "id": "19de4949",
   "metadata": {},
   "source": [
    "#### Variables"
   ]
  },
  {
   "cell_type": "code",
   "execution_count": 3,
   "id": "45b12e09",
   "metadata": {},
   "outputs": [],
   "source": [
    "top_path = 'C:/Users/morts/Documents/TAU/Manifold_Project/Data/Serrano_Ravel13_Ravel11_Carter22/ps_res/'\n",
    "\n",
    "file_name = top_path + 'ps_res_16052023.xlsx'\n",
    "nn_file_name = top_path + 'nn_res_30052023.xlsx'\n",
    "\n",
    "sheet_abun = 'abundance'\n",
    "sheet_meta = 'meta'\n",
    "sheet_umap = 'umap'\n",
    "sheet_pcoa = 'pcoa'"
   ]
  },
  {
   "cell_type": "markdown",
   "id": "a6b034f6",
   "metadata": {},
   "source": [
    "#### Load data"
   ]
  },
  {
   "cell_type": "code",
   "execution_count": 4,
   "id": "4a69509f",
   "metadata": {},
   "outputs": [
    {
     "name": "stdout",
     "output_type": "stream",
     "text": [
      "(7842, 31)\n",
      "(514, 35)\n"
     ]
    }
   ],
   "source": [
    "meta = pd.read_excel(file_name, sheet_name = sheet_meta, index_col = 0)\n",
    "nn_meta = pd.read_excel(nn_file_name, sheet_name = sheet_meta, index_col = 0)\n",
    "print(meta.shape)\n",
    "print(nn_meta.shape)"
   ]
  },
  {
   "cell_type": "code",
   "execution_count": 5,
   "id": "3770a86c",
   "metadata": {},
   "outputs": [],
   "source": [
    "both_meta = pd.concat([meta, nn_meta])"
   ]
  },
  {
   "cell_type": "markdown",
   "id": "fec2eae5",
   "metadata": {},
   "source": [
    "#### Separate to two parts"
   ]
  },
  {
   "cell_type": "code",
   "execution_count": 6,
   "id": "e8e79c58",
   "metadata": {},
   "outputs": [],
   "source": [
    "def get_shuffled_df(df, n, label_col):\n",
    "    ## Order df\n",
    "    filt_df = df[[label_col]]\n",
    "    filt_df.reset_index(drop = True, inplace = True)\n",
    "    \n",
    "    ## Permutations\n",
    "    for i in range(n):\n",
    "        shuff_arr = filt_df[label_col].sample(frac = 1).reset_index(drop = True)\n",
    "        colname = 'shuff_' + str(i)\n",
    "        filt_df[colname] = shuff_arr\n",
    "        \n",
    "    return filt_df\n",
    "        \n",
    "def get_roc_auc(label_arr, pred_arr, shuff_num):\n",
    "    fpr, tpr, _ = metrics.roc_curve(label_arr, pred_arr)\n",
    "    auc = metrics.roc_auc_score(label_arr, pred_arr)\n",
    "    res_df = pd.DataFrame({'fpr': fpr, 'tpr': tpr, 'auc': auc})\n",
    "    res_df['shuff_num'] = shuff_num\n",
    "    \n",
    "    return res_df\n",
    "\n",
    "def get_roc(shuffled_df, pred_arr):\n",
    "    ## Create df\n",
    "    final_df = pd.DataFrame(columns = ['fpr', 'tpr', 'auc', 'shuff_num'])\n",
    "    \n",
    "    for col in shuffled_df.columns:\n",
    "        res_df = get_roc_auc(shuffled_df[col], pred_arr, col)\n",
    "        final_df = pd.concat([final_df, res_df])\n",
    "    \n",
    "    return final_df\n",
    "\n",
    "def all_func(df, n, label_col, pred_col):\n",
    "    filt_df = df[df[label_col].notna()]\n",
    "    pred_arr = filt_df[pred_col].to_numpy()\n",
    "    \n",
    "    shuffled_df = get_shuffled_df(filt_df, n, label_col)\n",
    "    final_df = get_roc(shuffled_df, pred_arr)\n",
    "    \n",
    "    return final_df, shuffled_df\n",
    "\n",
    "def get_roc_all(df, long_df, col, pred_col):\n",
    "    new_long_df = long_df[col]\n",
    "    stay_subjects = new_long_df[new_long_df['beginning'] == 0].index\n",
    "    new_df = df.join(new_long_df[['late']]).loc[stay_subjects]\n",
    "    \n",
    "    pred_df, shuff = all_func(new_df, 99, 'late', pred_col)\n",
    "    \n",
    "    return pred_df, shuff"
   ]
  },
  {
   "cell_type": "code",
   "execution_count": 7,
   "id": "ccb880fb",
   "metadata": {},
   "outputs": [],
   "source": [
    "temp_meta = both_meta[both_meta['db'].str.contains('temp')]\n",
    "temp_meta = temp_meta.sort_values(['subjectID', 'time'], ascending = [True, True])\n",
    "# temp_meta['ex_part'] = np.where(temp_meta['time'] < 10, 'beginning', 'late')"
   ]
  },
  {
   "cell_type": "code",
   "execution_count": 8,
   "id": "4361be7a",
   "metadata": {},
   "outputs": [],
   "source": [
    "predict_group_size = 10\n",
    "no_bv_first_index = temp_meta.loc[temp_meta.BV_bin == 0].groupby('subjectID').head(predict_group_size).index\n",
    "temp_meta['ex_part'] = np.where(temp_meta.index.isin(no_bv_first_index), 'beginning', 'late')"
   ]
  },
  {
   "cell_type": "code",
   "execution_count": 17,
   "id": "6c4d09bb",
   "metadata": {},
   "outputs": [],
   "source": [
    "beg_meta = temp_meta[temp_meta['ex_part'] == 'beginning'].groupby('subjectID')['mt_pseudotime'].aggregate(['min', 'max', 'mean', 'std', 'median'])\n",
    "beg_meta['diff'] = beg_meta['max'] - beg_meta['min']\n",
    "bv_meta = temp_meta.groupby(['subjectID', 'ex_part'])['BV_bin', 'nugent_bin', 'ph_bin'].sum().reset_index()\n",
    "long_bv_meta = bv_meta.pivot(index = 'subjectID', columns = 'ex_part', values = ['BV_bin', 'nugent_bin', 'ph_bin'])\n",
    "long_bv_meta[long_bv_meta > 1] = 1"
   ]
  },
  {
   "cell_type": "code",
   "execution_count": 10,
   "id": "738c6ad7",
   "metadata": {},
   "outputs": [
    {
     "data": {
      "text/plain": [
       "ex_part\n",
       "beginning     0.0\n",
       "late         18.0\n",
       "dtype: float64"
      ]
     },
     "execution_count": 10,
     "metadata": {},
     "output_type": "execute_result"
    }
   ],
   "source": [
    "long_bv_meta.BV_bin.sum()"
   ]
  },
  {
   "cell_type": "code",
   "execution_count": 20,
   "id": "c1485664",
   "metadata": {},
   "outputs": [],
   "source": [
    "new_long_df = long_bv_meta['BV_bin']\n",
    "stay_subjects = new_long_df[new_long_df['beginning'] == 0].index\n",
    "new_df = beg_meta.join(new_long_df[['late']]).loc[stay_subjects]"
   ]
  },
  {
   "cell_type": "code",
   "execution_count": 25,
   "id": "ca69ae0b",
   "metadata": {},
   "outputs": [
    {
     "data": {
      "text/plain": [
       "<AxesSubplot:title={'center':'std'}, xlabel='late'>"
      ]
     },
     "execution_count": 25,
     "metadata": {},
     "output_type": "execute_result"
    },
    {
     "data": {
      "image/png": "[encoded data removed]",
      "text/plain": [
       "<Figure size 432x288 with 1 Axes>"
      ]
     },
     "metadata": {
      "needs_background": "light"
     },
     "output_type": "display_data"
    }
   ],
   "source": [
    "new_df.boxplot(by = 'late', column = 'std')"
   ]
  },
  {
   "cell_type": "code",
   "execution_count": 28,
   "id": "0fbadb3e",
   "metadata": {},
   "outputs": [
    {
     "data": {
      "text/plain": [
       "MannwhitneyuResult(statistic=323.0, pvalue=0.0023368825104975004)"
      ]
     },
     "execution_count": 28,
     "metadata": {},
     "output_type": "execute_result"
    }
   ],
   "source": [
    "from scipy.stats import mannwhitneyu\n",
    "\n",
    " \n",
    "group1 = new_df[new_df['late'] == 0]['std']\n",
    "group2 = new_df[new_df['late'] == 1]['std']\n",
    " \n",
    "# conduct the Wilcoxon-Signed Rank Test\n",
    "mannwhitneyu(group1, group2)"
   ]
  },
  {
   "cell_type": "code",
   "execution_count": 26,
   "id": "85615dc4",
   "metadata": {},
   "outputs": [
    {
     "data": {
      "text/plain": [
       "subjectID\n",
       "UAB001    0.097700\n",
       "UAB002    0.153365\n",
       "UAB004    0.248158\n",
       "UAB005    0.149155\n",
       "UAB006    0.048980\n",
       "            ...   \n",
       "UAB124    0.176745\n",
       "UAB125    0.209939\n",
       "UAB129    0.058156\n",
       "UAB132    0.249166\n",
       "UAB133    0.063775\n",
       "Name: std, Length: 64, dtype: float64"
      ]
     },
     "execution_count": 26,
     "metadata": {},
     "output_type": "execute_result"
    }
   ],
   "source": [
    "new_df[new_df['late'] == 0]['std']"
   ]
  },
  {
   "cell_type": "code",
   "execution_count": 18,
   "id": "f601d88d",
   "metadata": {},
   "outputs": [],
   "source": [
    "pred_df_nug, shuff = get_roc_all(beg_meta, long_bv_meta, 'nugent_bin', 'diff')\n",
    "pred_df_ph, shuff = get_roc_all(beg_meta, long_bv_meta, 'ph_bin', 'diff')\n",
    "pred_df_bv, shuff = get_roc_all(beg_meta, long_bv_meta, 'BV_bin', 'diff')"
   ]
  },
  {
   "cell_type": "markdown",
   "id": "3242c296",
   "metadata": {},
   "source": [
    "#### Save"
   ]
  },
  {
   "cell_type": "code",
   "execution_count": 23,
   "id": "501dbb54",
   "metadata": {},
   "outputs": [],
   "source": [
    "dict_roc = {'bv': new_df}\n",
    "roc_path = top_path + '10days_without_bv_diff_04062023.xlsx'\n",
    "paga_res.save_excel(roc_path, dict_roc)"
   ]
  },
  {
   "cell_type": "markdown",
   "id": "0f04d334",
   "metadata": {},
   "source": [
    "#### t-test"
   ]
  },
  {
   "cell_type": "code",
   "execution_count": null,
   "id": "dd4635cc",
   "metadata": {},
   "outputs": [],
   "source": [
    "dict_roc = {'nug': pred_df_nug, 'bv': pred_df_bv, 'ph': pred_df_ph}\n",
    "roc_path = top_path + 'bv_predict_ps_notfirst_mean_01062023.xlsx'\n",
    "paga_res.save_excel(roc_path, dict_roc)"
   ]
  },
  {
   "cell_type": "markdown",
   "id": "056287f7",
   "metadata": {},
   "source": [
    "#### Predict"
   ]
  },
  {
   "cell_type": "code",
   "execution_count": 252,
   "id": "c86d78be",
   "metadata": {},
   "outputs": [],
   "source": [
    "def get_shuffled_df(df, n, label_col):\n",
    "    ## Order df\n",
    "    filt_df = df[[label_col]]\n",
    "    filt_df.reset_index(drop = True, inplace = True)\n",
    "    \n",
    "    ## Permutations\n",
    "    for i in range(n):\n",
    "        shuff_arr = filt_df[label_col].sample(frac = 1).reset_index(drop = True)\n",
    "        colname = 'shuff_' + str(i)\n",
    "        filt_df[colname] = shuff_arr\n",
    "        \n",
    "    return filt_df\n",
    "        \n",
    "def get_roc_auc(label_arr, pred_arr, shuff_num):\n",
    "    fpr, tpr, _ = metrics.roc_curve(label_arr, pred_arr)\n",
    "    auc = metrics.roc_auc_score(label_arr, pred_arr)\n",
    "    res_df = pd.DataFrame({'fpr': fpr, 'tpr': tpr, 'auc': auc})\n",
    "    res_df['shuff_num'] = shuff_num\n",
    "    \n",
    "    return res_df\n",
    "\n",
    "def get_roc(shuffled_df, pred_arr):\n",
    "    ## Create df\n",
    "    final_df = pd.DataFrame(columns = ['fpr', 'tpr', 'auc', 'shuff_num'])\n",
    "    \n",
    "    for col in shuffled_df.columns:\n",
    "        res_df = get_roc_auc(shuffled_df[col], pred_arr, col)\n",
    "        final_df = pd.concat([final_df, res_df])\n",
    "    \n",
    "    return final_df\n",
    "\n",
    "def all_func(df, n, label_col):\n",
    "    filt_df = df[df[label_col].notna()]\n",
    "    pred_arr = filt_df['std'].to_numpy()\n",
    "    \n",
    "    shuffled_df = get_shuffled_df(filt_df, n, label_col)\n",
    "    final_df = get_roc(shuffled_df, pred_arr)\n",
    "    \n",
    "    return final_df, shuffled_df"
   ]
  },
  {
   "cell_type": "code",
   "execution_count": 189,
   "id": "c45144d3",
   "metadata": {},
   "outputs": [],
   "source": [
    "pred_df, shuff = all_func(beg_meta, 99, 'late')"
   ]
  },
  {
   "cell_type": "code",
   "execution_count": 191,
   "id": "74e0c9a1",
   "metadata": {},
   "outputs": [],
   "source": [
    "dict_roc = {'late': pred_df}\n",
    "roc_path = top_path + 'bv_redict_ps_01062023.xlsx'\n",
    "paga_res.save_excel(roc_path, dict_roc)"
   ]
  },
  {
   "cell_type": "code",
   "execution_count": 172,
   "id": "60a44792",
   "metadata": {},
   "outputs": [
    {
     "data": {
      "text/plain": [
       "(         fpr       tpr       auc shuff_num\n",
       " 0   0.000000  0.000000  0.916667      late\n",
       " 1   0.000000  0.333333  0.916667      late\n",
       " 2   0.062500  0.333333  0.916667      late\n",
       " 3   0.062500  0.666667  0.916667      late\n",
       " 4   0.187500  0.666667  0.916667      late\n",
       " ..       ...       ...       ...       ...\n",
       " 4   0.625000  0.333333  0.458333  shuff_98\n",
       " 5   0.625000  0.666667  0.458333  shuff_98\n",
       " 6   0.703125  0.666667  0.458333  shuff_98\n",
       " 7   0.703125  1.000000  0.458333  shuff_98\n",
       " 8   1.000000  1.000000  0.458333  shuff_98\n",
       " \n",
       " [850 rows x 4 columns],\n",
       "     late  shuff_0  shuff_1  shuff_2  shuff_3  shuff_4  shuff_5  shuff_6  \\\n",
       " 0    0.0      0.0      0.0      0.0      0.0      0.0      0.0      0.0   \n",
       " 1    0.0      0.0      0.0      0.0      0.0      0.0      0.0      0.0   \n",
       " 2    0.0      0.0      0.0      0.0      0.0      0.0      0.0      0.0   \n",
       " 3    0.0      0.0      0.0      0.0      0.0      0.0      0.0      0.0   \n",
       " 4    0.0      0.0      0.0      0.0      1.0      0.0      0.0      0.0   \n",
       " ..   ...      ...      ...      ...      ...      ...      ...      ...   \n",
       " 62   0.0      0.0      0.0      0.0      0.0      0.0      0.0      0.0   \n",
       " 63   1.0      0.0      0.0      0.0      0.0      0.0      0.0      0.0   \n",
       " 64   0.0      0.0      1.0      0.0      0.0      0.0      0.0      0.0   \n",
       " 65   0.0      0.0      0.0      0.0      0.0      0.0      0.0      0.0   \n",
       " 66   0.0      0.0      0.0      0.0      0.0      0.0      0.0      0.0   \n",
       " \n",
       "     shuff_7  shuff_8  ...  shuff_89  shuff_90  shuff_91  shuff_92  shuff_93  \\\n",
       " 0       0.0      0.0  ...       0.0       0.0       0.0       0.0       0.0   \n",
       " 1       0.0      0.0  ...       0.0       0.0       0.0       0.0       0.0   \n",
       " 2       0.0      0.0  ...       0.0       0.0       0.0       0.0       0.0   \n",
       " 3       0.0      0.0  ...       0.0       0.0       0.0       0.0       1.0   \n",
       " 4       0.0      0.0  ...       0.0       0.0       0.0       0.0       1.0   \n",
       " ..      ...      ...  ...       ...       ...       ...       ...       ...   \n",
       " 62      0.0      0.0  ...       0.0       0.0       0.0       0.0       0.0   \n",
       " 63      0.0      0.0  ...       0.0       0.0       0.0       0.0       0.0   \n",
       " 64      0.0      0.0  ...       0.0       0.0       0.0       0.0       0.0   \n",
       " 65      0.0      0.0  ...       0.0       0.0       0.0       0.0       0.0   \n",
       " 66      0.0      0.0  ...       0.0       0.0       0.0       0.0       0.0   \n",
       " \n",
       "     shuff_94  shuff_95  shuff_96  shuff_97  shuff_98  \n",
       " 0        0.0       0.0       0.0       0.0       0.0  \n",
       " 1        0.0       1.0       1.0       0.0       0.0  \n",
       " 2        0.0       0.0       0.0       1.0       0.0  \n",
       " 3        0.0       0.0       0.0       0.0       0.0  \n",
       " 4        0.0       0.0       0.0       0.0       0.0  \n",
       " ..       ...       ...       ...       ...       ...  \n",
       " 62       0.0       1.0       0.0       0.0       0.0  \n",
       " 63       0.0       0.0       0.0       0.0       0.0  \n",
       " 64       0.0       0.0       0.0       0.0       0.0  \n",
       " 65       0.0       0.0       0.0       0.0       0.0  \n",
       " 66       0.0       0.0       1.0       0.0       0.0  \n",
       " \n",
       " [67 rows x 100 columns])"
      ]
     },
     "execution_count": 172,
     "metadata": {},
     "output_type": "execute_result"
    }
   ],
   "source": [
    "pred_df"
   ]
  },
  {
   "cell_type": "code",
   "execution_count": 35,
   "id": "66a8ecaa",
   "metadata": {},
   "outputs": [],
   "source": [
    "def get_roc(df, x_col, y_col):\n",
    "    filt_df = df[df[y_col].notna()]\n",
    "    X = filt_df[[x_col]]\n",
    "    y = filt_df[y_col] \n",
    "    \n",
    "    X_train, X_test, y_train, y_test = train_test_split(X, y, test_size = 0.25, random_state = 1) \n",
    "    log_regression = LogisticRegression(penalty = 'l2', random_state = 0)\n",
    "    log_regression.fit(X_train, y_train)    \n",
    "    y_pred_proba = log_regression.predict_proba(X_test)[::,1]\n",
    "    fpr, tpr, _ = metrics.roc_curve(y_test, y_pred_proba)\n",
    "    auc = metrics.roc_auc_score(y_test, y_pred_proba)\n",
    "    \n",
    "    res_df = pd.DataFrame({'fpr': fpr, 'tpr': tpr, 'auc': auc})\n",
    "    \n",
    "    return res_df#, fpr, tpr, auc\n",
    "\n",
    "def roc_plot(res_df):\n",
    "    plt.plot(res_df['fpr'], res_df['tpr'], label = \"AUC = \" + str(res_df.loc[0, 'auc']))\n",
    "    plt.ylabel('True Positive Rate')\n",
    "    plt.xlabel('False Positive Rate')\n",
    "    plt.legend(loc = 4)\n",
    "    plt.show()\n",
    "    return"
   ]
  }
 ],
 "metadata": {
  "kernelspec": {
   "display_name": "Python 3",
   "language": "python",
   "name": "python3"
  },
  "language_info": {
   "codemirror_mode": {
    "name": "ipython",
    "version": 3
   },
   "file_extension": ".py",
   "mimetype": "text/x-python",
   "name": "python",
   "nbconvert_exporter": "python",
   "pygments_lexer": "ipython3",
   "version": "3.7.10"
  }
 },
 "nbformat": 4,
 "nbformat_minor": 5
}
