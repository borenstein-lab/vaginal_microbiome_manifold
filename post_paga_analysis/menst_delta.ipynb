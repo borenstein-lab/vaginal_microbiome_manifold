{
 "cells": [
  {
   "cell_type": "code",
   "execution_count": 1,
   "id": "33b64feb",
   "metadata": {},
   "outputs": [],
   "source": [
    "import pandas as pd\n",
    "import numpy as np\n",
    "from numpy import mean\n",
    "from numpy import absolute\n",
    "from numpy import sqrt\n",
    "import random\n",
    "from sklearn import metrics\n",
    "import matplotlib.pyplot as plt\n",
    "from os.path import join\n",
    "import pandas as pd\n",
    "import xlsxwriter\n",
    "import openpyxl\n",
    "from sklearn.cluster import KMeans\n",
    "from sklearn.preprocessing import StandardScaler, Normalizer\n",
    "from sklearn.decomposition import PCA\n",
    "from sklearn.manifold import MDS\n",
    "from sklearn.manifold import TSNE\n",
    "from sklearn.linear_model import LinearRegression\n",
    "from sklearn.cluster import OPTICS\n",
    "from sklearn.cluster import KMeans\n",
    "from scipy.stats import ks_2samp\n",
    "from scipy.stats import wilcoxon\n",
    "from skbio.diversity import beta_diversity, alpha_diversity\n",
    "from skbio.stats.ordination import pcoa, pcoa_biplot\n",
    "from skbio import DistanceMatrix\n",
    "from dtaidistance import dtw, clustering\n",
    "from tslearn.clustering import TimeSeriesKMeans\n",
    "import os\n",
    "from pandas import Series, ExcelWriter\n",
    "import scipy.stats as stats\n",
    "import plotly.graph_objects as go\n",
    "import plotly.io as pio\n",
    "import plotly.express as px\n",
    "import seaborn as sns\n",
    "import scanpy as sc \n",
    "import csv\n",
    "import matplotlib.pyplot as plt\n",
    "import warnings; warnings.simplefilter('ignore')"
   ]
  },
  {
   "cell_type": "code",
   "execution_count": 3,
   "id": "9b03867b",
   "metadata": {},
   "outputs": [],
   "source": [
    "import sys  \n",
    "sys.path.insert(0, '../my_packages')\n",
    "import dimen_reduc\n",
    "import meta_ord\n",
    "import paga_res\n",
    "import sliding_window\n",
    "import statistic"
   ]
  },
  {
   "cell_type": "code",
   "execution_count": 2,
   "id": "38fc3535",
   "metadata": {},
   "outputs": [],
   "source": [
    "# 1. Add delta from previous pseudotime to each sample\n",
    "# 2. find distribution of deltas in menstruation or in non-menstruation.\n",
    "# 3. Compare between delta's"
   ]
  },
  {
   "cell_type": "markdown",
   "id": "14df890e",
   "metadata": {},
   "source": [
    "#### Varaibles"
   ]
  },
  {
   "cell_type": "code",
   "execution_count": 6,
   "id": "1098643d",
   "metadata": {},
   "outputs": [],
   "source": [
    "file_path = 'C:/Users/morts/Documents/TAU/Manifold_Project/Data/Serrano_Ravel13_Ravel11_Carter22/ps_res/'\n",
    "\n",
    "file_name = file_path + 'ps_res_16052023.xlsx'\n",
    "nn_file_name = file_path + 'nn_res_30052023.xlsx'\n",
    "\n",
    "sheet_abun = 'abundance'\n",
    "sheet_meta = 'meta'\n",
    "sheet_umap = 'umap'\n",
    "sheet_pcoa = 'pcoa'"
   ]
  },
  {
   "cell_type": "markdown",
   "id": "01d22c16",
   "metadata": {},
   "source": [
    "#### Load data"
   ]
  },
  {
   "cell_type": "code",
   "execution_count": 7,
   "id": "db764405",
   "metadata": {},
   "outputs": [
    {
     "name": "stdout",
     "output_type": "stream",
     "text": [
      "(7842, 31)\n",
      "(514, 35)\n"
     ]
    }
   ],
   "source": [
    "meta = pd.read_excel(file_name, sheet_name = sheet_meta, index_col = 0)\n",
    "nn_meta = pd.read_excel(nn_file_name, sheet_name = sheet_meta, index_col = 0)\n",
    "print(meta.shape)\n",
    "print(nn_meta.shape)"
   ]
  },
  {
   "cell_type": "code",
   "execution_count": 8,
   "id": "53b11af2",
   "metadata": {},
   "outputs": [],
   "source": [
    "meta = nn_meta.copy()"
   ]
  },
  {
   "cell_type": "code",
   "execution_count": 9,
   "id": "bfd37a47",
   "metadata": {},
   "outputs": [
    {
     "name": "stdout",
     "output_type": "stream",
     "text": [
      "Temporal samples shape: (484, 35)\n"
     ]
    }
   ],
   "source": [
    "temp_meta = meta[meta['sampleID'].str.contains('UAB')]#meta.loc[~ meta['time'].isnull()]\n",
    "temp_meta['menst'] = np.where(temp_meta['menst'] >= 1 , 1, 0)\n",
    "print('Temporal samples shape: ' + str(temp_meta.shape))"
   ]
  },
  {
   "cell_type": "markdown",
   "id": "f51952e9",
   "metadata": {},
   "source": [
    "#### Delta to previous sample"
   ]
  },
  {
   "cell_type": "code",
   "execution_count": 10,
   "id": "1025b697",
   "metadata": {},
   "outputs": [],
   "source": [
    "temp_meta = temp_meta.sort_values(['subjectID', 'time'])"
   ]
  },
  {
   "cell_type": "code",
   "execution_count": 11,
   "id": "07dd0784",
   "metadata": {},
   "outputs": [],
   "source": [
    "temp_meta['prev_pseudotime'] = temp_meta.groupby('subjectID')['mt_pseudotime'].shift(periods = 1)\n",
    "temp_meta['ps_diff'] = temp_meta['mt_pseudotime'] - temp_meta['prev_pseudotime']\n",
    "temp_meta['ps_diff_abs'] = temp_meta['ps_diff'].abs()"
   ]
  },
  {
   "cell_type": "code",
   "execution_count": 22,
   "id": "66d478f0",
   "metadata": {},
   "outputs": [],
   "source": [
    "tmp = temp_meta[['time', 'subjectID', 'menst']]\n",
    "tmp['prev_menst1'] = tmp.groupby('subjectID')['menst'].shift(periods = -1)\n",
    "tmp['prev_menst2'] = tmp.groupby('subjectID')['menst'].shift(periods = -2)\n",
    "tmp['prev_menst3'] = tmp.groupby('subjectID')['menst'].shift(periods = -3)\n",
    "tmp['next_menst1'] = tmp.groupby('subjectID')['menst'].shift(periods = 1)\n",
    "tmp['next_menst2'] = tmp.groupby('subjectID')['menst'].shift(periods = 2)\n",
    "tmp['next_menst3'] = tmp.groupby('subjectID')['menst'].shift(periods = 3)\n",
    "tmp['sum_all'] = tmp.loc[:,tmp.columns.str.contains('menst')].sum(axis = 1)\n",
    "tmp['sum_all'][tmp['sum_all'] >= 1] = 1\n",
    "\n",
    "tmp.rename(columns = {'menst':'m_orig'}, inplace = True)\n",
    "tmp['sum_without'] = tmp.loc[:,tmp.columns.str.contains('menst')].sum(axis = 1)\n",
    "tmp['sum_without'][tmp['sum_without'] >= 1] = 1\n",
    "\n",
    "tmp['sum_closer_without'] = tmp.loc[:,tmp.columns.str.contains('|'.join(['1', '2']))].sum(axis = 1)\n",
    "tmp['sum_closer_without'][tmp['sum_closer_without'] >= 1] = 1\n",
    "\n",
    "tmp['sum_closer'] = tmp.loc[:,tmp.columns.str.contains('|'.join(['1', '2', 'orig']))].sum(axis = 1)\n",
    "tmp['sum_closer'][tmp['sum_closer'] >= 1] = 1"
   ]
  },
  {
   "cell_type": "code",
   "execution_count": 13,
   "id": "6c03e701",
   "metadata": {},
   "outputs": [],
   "source": [
    "temp_meta = temp_meta.join(tmp[['sum_all', 'sum_without', 'sum_closer_without', 'sum_closer']])"
   ]
  },
  {
   "cell_type": "code",
   "execution_count": 14,
   "id": "115cde09",
   "metadata": {},
   "outputs": [
    {
     "data": {
      "text/html": [
       "<div>\n",
       "<style scoped>\n",
       "    .dataframe tbody tr th:only-of-type {\n",
       "        vertical-align: middle;\n",
       "    }\n",
       "\n",
       "    .dataframe tbody tr th {\n",
       "        vertical-align: top;\n",
       "    }\n",
       "\n",
       "    .dataframe thead th {\n",
       "        text-align: right;\n",
       "    }\n",
       "</style>\n",
       "<table border=\"1\" class=\"dataframe\">\n",
       "  <thead>\n",
       "    <tr style=\"text-align: right;\">\n",
       "      <th></th>\n",
       "      <th>sampleID</th>\n",
       "      <th>subjectID</th>\n",
       "      <th>day</th>\n",
       "      <th>week</th>\n",
       "      <th>time</th>\n",
       "      <th>ph</th>\n",
       "      <th>nugent</th>\n",
       "      <th>menst</th>\n",
       "      <th>subCST</th>\n",
       "      <th>CST</th>\n",
       "      <th>...</th>\n",
       "      <th>closest_subCST</th>\n",
       "      <th>nugent_bin</th>\n",
       "      <th>ph_bin</th>\n",
       "      <th>BV_amsel_bin</th>\n",
       "      <th>prev_pseudotime</th>\n",
       "      <th>ps_diff</th>\n",
       "      <th>ps_diff_abs</th>\n",
       "      <th>sum_all</th>\n",
       "      <th>sum_without</th>\n",
       "      <th>sum_closer_without</th>\n",
       "    </tr>\n",
       "    <tr>\n",
       "      <th>sum_closer</th>\n",
       "      <th></th>\n",
       "      <th></th>\n",
       "      <th></th>\n",
       "      <th></th>\n",
       "      <th></th>\n",
       "      <th></th>\n",
       "      <th></th>\n",
       "      <th></th>\n",
       "      <th></th>\n",
       "      <th></th>\n",
       "      <th></th>\n",
       "      <th></th>\n",
       "      <th></th>\n",
       "      <th></th>\n",
       "      <th></th>\n",
       "      <th></th>\n",
       "      <th></th>\n",
       "      <th></th>\n",
       "      <th></th>\n",
       "      <th></th>\n",
       "      <th></th>\n",
       "    </tr>\n",
       "  </thead>\n",
       "  <tbody>\n",
       "    <tr>\n",
       "      <th>0.0</th>\n",
       "      <td>252</td>\n",
       "      <td>252</td>\n",
       "      <td>252</td>\n",
       "      <td>252</td>\n",
       "      <td>252</td>\n",
       "      <td>247</td>\n",
       "      <td>146</td>\n",
       "      <td>252</td>\n",
       "      <td>252</td>\n",
       "      <td>252</td>\n",
       "      <td>...</td>\n",
       "      <td>252</td>\n",
       "      <td>146</td>\n",
       "      <td>247</td>\n",
       "      <td>100</td>\n",
       "      <td>247</td>\n",
       "      <td>247</td>\n",
       "      <td>247</td>\n",
       "      <td>252</td>\n",
       "      <td>252</td>\n",
       "      <td>252</td>\n",
       "    </tr>\n",
       "    <tr>\n",
       "      <th>1.0</th>\n",
       "      <td>232</td>\n",
       "      <td>232</td>\n",
       "      <td>232</td>\n",
       "      <td>232</td>\n",
       "      <td>232</td>\n",
       "      <td>229</td>\n",
       "      <td>143</td>\n",
       "      <td>232</td>\n",
       "      <td>232</td>\n",
       "      <td>232</td>\n",
       "      <td>...</td>\n",
       "      <td>232</td>\n",
       "      <td>143</td>\n",
       "      <td>229</td>\n",
       "      <td>84</td>\n",
       "      <td>225</td>\n",
       "      <td>225</td>\n",
       "      <td>225</td>\n",
       "      <td>232</td>\n",
       "      <td>232</td>\n",
       "      <td>232</td>\n",
       "    </tr>\n",
       "  </tbody>\n",
       "</table>\n",
       "<p>2 rows × 41 columns</p>\n",
       "</div>"
      ],
      "text/plain": [
       "            sampleID  subjectID  day  week  time   ph  nugent  menst  subCST  \\\n",
       "sum_closer                                                                     \n",
       "0.0              252        252  252   252   252  247     146    252     252   \n",
       "1.0              232        232  232   232   232  229     143    232     232   \n",
       "\n",
       "            CST  ...  closest_subCST  nugent_bin  ph_bin  BV_amsel_bin  \\\n",
       "sum_closer       ...                                                     \n",
       "0.0         252  ...             252         146     247           100   \n",
       "1.0         232  ...             232         143     229            84   \n",
       "\n",
       "            prev_pseudotime  ps_diff  ps_diff_abs  sum_all  sum_without  \\\n",
       "sum_closer                                                                \n",
       "0.0                     247      247          247      252          252   \n",
       "1.0                     225      225          225      232          232   \n",
       "\n",
       "            sum_closer_without  \n",
       "sum_closer                      \n",
       "0.0                        252  \n",
       "1.0                        232  \n",
       "\n",
       "[2 rows x 41 columns]"
      ]
     },
     "execution_count": 14,
     "metadata": {},
     "output_type": "execute_result"
    }
   ],
   "source": [
    "temp_meta.groupby('sum_closer').count()"
   ]
  },
  {
   "cell_type": "markdown",
   "id": "0677784d",
   "metadata": {},
   "source": [
    "#### find distribution in menstruation and non-menstruation"
   ]
  },
  {
   "cell_type": "code",
   "execution_count": 15,
   "id": "642dd3a3",
   "metadata": {},
   "outputs": [
    {
     "data": {
      "text/plain": [
       "12"
      ]
     },
     "metadata": {},
     "output_type": "display_data"
    }
   ],
   "source": [
    "g = temp_meta.groupby('subjectID')['menst'].sum()\n",
    "groups = [index for index in g.index if g.loc[index] > 0]\n",
    "temp_menst_meta = temp_meta.loc[temp_meta['subjectID'].isin(groups)]\n",
    "display(len(temp_menst_meta.subjectID.unique()))"
   ]
  },
  {
   "cell_type": "markdown",
   "id": "b5ea23eb",
   "metadata": {},
   "source": [
    "#### Statistics"
   ]
  },
  {
   "cell_type": "code",
   "execution_count": 107,
   "id": "36405aa5",
   "metadata": {},
   "outputs": [],
   "source": [
    "# temp_menst_meta.menst.unique()\n",
    "# print(statistic.dist_diff(temp_menst_meta, 'sum_rest', 'ps_diff', False))\n",
    "# temp_menst_meta.hist(column = 'mt_pseudotime', by = 'sum_rest', bins = 25)"
   ]
  },
  {
   "cell_type": "markdown",
   "id": "1bc3b838",
   "metadata": {},
   "source": [
    "#### Difference in change"
   ]
  },
  {
   "cell_type": "code",
   "execution_count": 17,
   "id": "4dd606f2",
   "metadata": {},
   "outputs": [],
   "source": [
    "def get_wilcox(df, x, y, alt):\n",
    "    temp_df = df[[x, y]]\n",
    "    group0 = temp_df[y][temp_df[x] == 0].tolist()\n",
    "    group1 = temp_df[y][temp_df[x] == 1].tolist()\n",
    "    \n",
    "    # Check normality\n",
    "    norm_pval0 = stats.kstest(group0, 'norm').pvalue\n",
    "    norm_pval1 = stats.kstest(group1, 'norm').pvalue\n",
    "\n",
    "    # Check difference between distributions\n",
    "    dist_pval = ks_2samp(group0, group1).pvalue\n",
    "    \n",
    "    print('group0 not normal dist (<0.05): ', str(norm_pval0))\n",
    "    print('group1 not normal dist (<0.05): ', str(norm_pval1))\n",
    "    print('not same dist (<0.05): ', str(dist_pval))\n",
    "    \n",
    "    ## groups do not come from the same distribution or not normal\n",
    "    if norm_pval0 < 0.05 or norm_pval1 < 0.05 or dist_pval < 0.05: \n",
    "        p_val = stats.mannwhitneyu(group0, group1, alternative = alt)\n",
    "\n",
    "    ## groups come from the same distribution and normal\n",
    "    else: \n",
    "        p_val = stats.ttest_ind(group0, group1)\n",
    "    print(p_val)\n",
    "    \n",
    "    return p_val[1]\n",
    "\n",
    "def get_box(df, x, y, alt):\n",
    "    fig = px.box(df, x = x, y = y, width = 500, height = 350)\n",
    "    for s in df[x].unique():\n",
    "        fig.add_annotation(x = s,\n",
    "                           y = df[df[x] == s][y].max(),\n",
    "                           text = str(len(df[df[x] == s][x])),\n",
    "                           yshift = 10,\n",
    "                           showarrow = False)\n",
    "#     fig.show()\n",
    "    \n",
    "    results = 0\n",
    "    if len(df[x].unique()) == 2:\n",
    "        results = get_wilcox(df, x, y, alt)\n",
    "    \n",
    "    return fig, results\n",
    "\n",
    "def get_scatter(df, x, y):\n",
    "    fig = px.scatter(df, x = x, y = y, trendline = 'ols', width = 600, height = 400)\n",
    "    fig.show()\n",
    "    \n",
    "    results = px.get_trendline_results(fig)\n",
    "    \n",
    "    display(results.iloc[0][\"px_fit_results\"].params)\n",
    "    display(results.iloc[0][\"px_fit_results\"].summary())\n",
    "\n",
    "    return fig, results\n",
    "\n",
    "def get_plot(df, x, y, nona, func, alt):\n",
    "    if nona:\n",
    "        df_nona = df[df[x].notna()]\n",
    "    else:\n",
    "        df[x] = df[x].fillna(0)\n",
    "        df_nona = df\n",
    "    \n",
    "    fig, results = func(df_nona, x, y, alt)\n",
    "    \n",
    "    return fig, results"
   ]
  },
  {
   "cell_type": "code",
   "execution_count": 14,
   "id": "8cc087f7",
   "metadata": {},
   "outputs": [],
   "source": [
    "# temp_menst_meta[['subjectID', 'menst', 'mt_pseudotime', 'change_menst_status', 'ps_diff_abs']].loc[temp_menst_meta['subjectID'] == 'UAB125']"
   ]
  },
  {
   "cell_type": "code",
   "execution_count": 18,
   "id": "d517b1ba",
   "metadata": {},
   "outputs": [
    {
     "data": {
      "text/plain": [
       "WilcoxonResult(statistic=23008.0, pvalue=1.77326702094048e-22)"
      ]
     },
     "execution_count": 18,
     "metadata": {},
     "output_type": "execute_result"
    }
   ],
   "source": [
    "wilcoxon(temp_menst_meta['sum_closer_without'], temp_menst_meta['ps_diff_abs'])"
   ]
  },
  {
   "cell_type": "code",
   "execution_count": 19,
   "id": "5160aa75",
   "metadata": {},
   "outputs": [
    {
     "name": "stdout",
     "output_type": "stream",
     "text": [
      "***  sum_all ***\n",
      "group0 not normal dist (<0.05):  1.6805504782226417e-37\n",
      "group1 not normal dist (<0.05):  4.0697949780982795e-36\n",
      "not same dist (<0.05):  0.14467428207891686\n",
      "MannwhitneyuResult(statistic=28481.0, pvalue=0.3245035031744802)\n",
      "***  sum_without ***\n",
      "group0 not normal dist (<0.05):  5.792069805686765e-38\n",
      "group1 not normal dist (<0.05):  3.1952587371955633e-35\n",
      "not same dist (<0.05):  0.1535144939750419\n",
      "MannwhitneyuResult(statistic=28651.0, pvalue=0.29273515594501387)\n",
      "***  sum_closer_without ***\n",
      "group0 not normal dist (<0.05):  4.127312821781161e-40\n",
      "group1 not normal dist (<0.05):  4.8126051215722134e-33\n",
      "not same dist (<0.05):  0.27513926711510317\n",
      "MannwhitneyuResult(statistic=28320.0, pvalue=0.3338278040879261)\n",
      "***  sum_closer ***\n",
      "group0 not normal dist (<0.05):  7.21580871694106e-39\n",
      "group1 not normal dist (<0.05):  3.0901348634595117e-34\n",
      "not same dist (<0.05):  0.29332759554769494\n",
      "MannwhitneyuResult(statistic=28251.0, pvalue=0.37705136726064525)\n"
     ]
    }
   ],
   "source": [
    "res_lst = {}\n",
    "for col in ['sum_all', 'sum_without', 'sum_closer_without', 'sum_closer']:\n",
    "    print('*** ', col, '***')\n",
    "    fig, res = get_plot(temp_menst_meta.dropna(subset = ['sum_all', 'ps_diff_abs']), col, 'ps_diff', True, get_box, 'greater') \n",
    "    \n",
    "    res_lst[col] = res\n",
    "    if res < 0.05:\n",
    "        fig.show()"
   ]
  },
  {
   "cell_type": "code",
   "execution_count": null,
   "id": "15d2e150",
   "metadata": {},
   "outputs": [],
   "source": []
  },
  {
   "cell_type": "code",
   "execution_count": 21,
   "id": "89e1db0f",
   "metadata": {},
   "outputs": [],
   "source": [
    "save_cols = ['subjectID', 'CST', 'subCST', 'time', 'day', 'week', 'mt_pseudotime', 'menst', 'ps_diff', 'ps_diff_abs','sum_all', 'sum_without', 'sum_closer_without', 'sum_closer']\n",
    "dict_menst = {'meta': temp_menst_meta[save_cols]}\n",
    "menst_path = file_path + 'nn_menst_statistics_res.xlsx'\n",
    "paga_res.save_excel(menst_path, dict_menst)"
   ]
  }
 ],
 "metadata": {
  "kernelspec": {
   "display_name": "Python 3",
   "language": "python",
   "name": "python3"
  },
  "language_info": {
   "codemirror_mode": {
    "name": "ipython",
    "version": 3
   },
   "file_extension": ".py",
   "mimetype": "text/x-python",
   "name": "python",
   "nbconvert_exporter": "python",
   "pygments_lexer": "ipython3",
   "version": "3.7.10"
  }
 },
 "nbformat": 4,
 "nbformat_minor": 5
}
